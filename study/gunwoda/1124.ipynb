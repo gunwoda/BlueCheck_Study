{
 "cells": [
  {
   "cell_type": "code",
   "execution_count": 79,
   "metadata": {},
   "outputs": [],
   "source": [
    "from langchain.llms import LlamaCpp\n",
    "from langchain import PromptTemplate, LLMChain\n",
    "from langchain.callbacks.manager import CallbackManager\n",
    "from langchain.callbacks.streaming_stdout import StreamingStdOutCallbackHandler # 출력을 스트리밍하는 데 사용\n",
    "from langchain_experimental.agents.agent_toolkits import create_pandas_dataframe_agent"
   ]
  },
  {
   "cell_type": "code",
   "execution_count": 98,
   "metadata": {},
   "outputs": [],
   "source": [
    "import pandas as pd\n",
    "df = pd.read_csv('sample.csv')"
   ]
  },
  {
   "cell_type": "code",
   "execution_count": 99,
   "metadata": {},
   "outputs": [
    {
     "data": {
      "text/html": [
       "<div>\n",
       "<style scoped>\n",
       "    .dataframe tbody tr th:only-of-type {\n",
       "        vertical-align: middle;\n",
       "    }\n",
       "\n",
       "    .dataframe tbody tr th {\n",
       "        vertical-align: top;\n",
       "    }\n",
       "\n",
       "    .dataframe thead th {\n",
       "        text-align: right;\n",
       "    }\n",
       "</style>\n",
       "<table border=\"1\" class=\"dataframe\">\n",
       "  <thead>\n",
       "    <tr style=\"text-align: right;\">\n",
       "      <th></th>\n",
       "      <th>Unnamed: 0</th>\n",
       "      <th>ds</th>\n",
       "      <th>trend</th>\n",
       "      <th>yhat_lower</th>\n",
       "      <th>yhat_upper</th>\n",
       "      <th>trend_lower</th>\n",
       "      <th>trend_upper</th>\n",
       "      <th>additive_terms</th>\n",
       "      <th>additive_terms_lower</th>\n",
       "      <th>additive_terms_upper</th>\n",
       "      <th>weekly</th>\n",
       "      <th>weekly_lower</th>\n",
       "      <th>weekly_upper</th>\n",
       "      <th>yearly</th>\n",
       "      <th>yearly_lower</th>\n",
       "      <th>yearly_upper</th>\n",
       "      <th>multiplicative_terms</th>\n",
       "      <th>multiplicative_terms_lower</th>\n",
       "      <th>multiplicative_terms_upper</th>\n",
       "      <th>yhat</th>\n",
       "    </tr>\n",
       "  </thead>\n",
       "  <tbody>\n",
       "    <tr>\n",
       "      <th>0</th>\n",
       "      <td>0</td>\n",
       "      <td>2015-05-18</td>\n",
       "      <td>2.392737</td>\n",
       "      <td>2.394751</td>\n",
       "      <td>2.444257</td>\n",
       "      <td>2.392737</td>\n",
       "      <td>2.392737</td>\n",
       "      <td>0.024751</td>\n",
       "      <td>0.024751</td>\n",
       "      <td>0.024751</td>\n",
       "      <td>0.000021</td>\n",
       "      <td>0.000021</td>\n",
       "      <td>0.000021</td>\n",
       "      <td>0.024730</td>\n",
       "      <td>0.024730</td>\n",
       "      <td>0.024730</td>\n",
       "      <td>0.0</td>\n",
       "      <td>0.0</td>\n",
       "      <td>0.0</td>\n",
       "      <td>2.417488</td>\n",
       "    </tr>\n",
       "    <tr>\n",
       "      <th>1</th>\n",
       "      <td>1</td>\n",
       "      <td>2016-05-24</td>\n",
       "      <td>2.391958</td>\n",
       "      <td>2.398808</td>\n",
       "      <td>2.448622</td>\n",
       "      <td>2.391958</td>\n",
       "      <td>2.391958</td>\n",
       "      <td>0.030735</td>\n",
       "      <td>0.030735</td>\n",
       "      <td>0.030735</td>\n",
       "      <td>0.001858</td>\n",
       "      <td>0.001858</td>\n",
       "      <td>0.001858</td>\n",
       "      <td>0.028877</td>\n",
       "      <td>0.028877</td>\n",
       "      <td>0.028877</td>\n",
       "      <td>0.0</td>\n",
       "      <td>0.0</td>\n",
       "      <td>0.0</td>\n",
       "      <td>2.422692</td>\n",
       "    </tr>\n",
       "    <tr>\n",
       "      <th>2</th>\n",
       "      <td>2</td>\n",
       "      <td>2016-07-11</td>\n",
       "      <td>2.391857</td>\n",
       "      <td>2.404601</td>\n",
       "      <td>2.453521</td>\n",
       "      <td>2.391857</td>\n",
       "      <td>2.391857</td>\n",
       "      <td>0.037685</td>\n",
       "      <td>0.037685</td>\n",
       "      <td>0.037685</td>\n",
       "      <td>0.000021</td>\n",
       "      <td>0.000021</td>\n",
       "      <td>0.000021</td>\n",
       "      <td>0.037665</td>\n",
       "      <td>0.037665</td>\n",
       "      <td>0.037665</td>\n",
       "      <td>0.0</td>\n",
       "      <td>0.0</td>\n",
       "      <td>0.0</td>\n",
       "      <td>2.429542</td>\n",
       "    </tr>\n",
       "    <tr>\n",
       "      <th>3</th>\n",
       "      <td>3</td>\n",
       "      <td>2017-02-24</td>\n",
       "      <td>2.391379</td>\n",
       "      <td>2.345960</td>\n",
       "      <td>2.397159</td>\n",
       "      <td>2.391379</td>\n",
       "      <td>2.391379</td>\n",
       "      <td>-0.019575</td>\n",
       "      <td>-0.019575</td>\n",
       "      <td>-0.019575</td>\n",
       "      <td>0.008341</td>\n",
       "      <td>0.008341</td>\n",
       "      <td>0.008341</td>\n",
       "      <td>-0.027916</td>\n",
       "      <td>-0.027916</td>\n",
       "      <td>-0.027916</td>\n",
       "      <td>0.0</td>\n",
       "      <td>0.0</td>\n",
       "      <td>0.0</td>\n",
       "      <td>2.371804</td>\n",
       "    </tr>\n",
       "    <tr>\n",
       "      <th>4</th>\n",
       "      <td>4</td>\n",
       "      <td>2017-03-08</td>\n",
       "      <td>2.391354</td>\n",
       "      <td>2.352625</td>\n",
       "      <td>2.401805</td>\n",
       "      <td>2.391354</td>\n",
       "      <td>2.391354</td>\n",
       "      <td>-0.015143</td>\n",
       "      <td>-0.015143</td>\n",
       "      <td>-0.015143</td>\n",
       "      <td>-0.002977</td>\n",
       "      <td>-0.002977</td>\n",
       "      <td>-0.002977</td>\n",
       "      <td>-0.012166</td>\n",
       "      <td>-0.012166</td>\n",
       "      <td>-0.012166</td>\n",
       "      <td>0.0</td>\n",
       "      <td>0.0</td>\n",
       "      <td>0.0</td>\n",
       "      <td>2.376211</td>\n",
       "    </tr>\n",
       "    <tr>\n",
       "      <th>...</th>\n",
       "      <td>...</td>\n",
       "      <td>...</td>\n",
       "      <td>...</td>\n",
       "      <td>...</td>\n",
       "      <td>...</td>\n",
       "      <td>...</td>\n",
       "      <td>...</td>\n",
       "      <td>...</td>\n",
       "      <td>...</td>\n",
       "      <td>...</td>\n",
       "      <td>...</td>\n",
       "      <td>...</td>\n",
       "      <td>...</td>\n",
       "      <td>...</td>\n",
       "      <td>...</td>\n",
       "      <td>...</td>\n",
       "      <td>...</td>\n",
       "      <td>...</td>\n",
       "      <td>...</td>\n",
       "      <td>...</td>\n",
       "    </tr>\n",
       "    <tr>\n",
       "      <th>187</th>\n",
       "      <td>187</td>\n",
       "      <td>2023-09-21</td>\n",
       "      <td>2.428369</td>\n",
       "      <td>2.392767</td>\n",
       "      <td>2.441506</td>\n",
       "      <td>2.428369</td>\n",
       "      <td>2.428369</td>\n",
       "      <td>-0.011456</td>\n",
       "      <td>-0.011456</td>\n",
       "      <td>-0.011456</td>\n",
       "      <td>-0.007423</td>\n",
       "      <td>-0.007423</td>\n",
       "      <td>-0.007423</td>\n",
       "      <td>-0.004033</td>\n",
       "      <td>-0.004033</td>\n",
       "      <td>-0.004033</td>\n",
       "      <td>0.0</td>\n",
       "      <td>0.0</td>\n",
       "      <td>0.0</td>\n",
       "      <td>2.416913</td>\n",
       "    </tr>\n",
       "    <tr>\n",
       "      <th>188</th>\n",
       "      <td>188</td>\n",
       "      <td>2023-10-03</td>\n",
       "      <td>2.428606</td>\n",
       "      <td>2.387403</td>\n",
       "      <td>2.437426</td>\n",
       "      <td>2.428606</td>\n",
       "      <td>2.428606</td>\n",
       "      <td>-0.015404</td>\n",
       "      <td>-0.015404</td>\n",
       "      <td>-0.015404</td>\n",
       "      <td>0.001858</td>\n",
       "      <td>0.001858</td>\n",
       "      <td>0.001858</td>\n",
       "      <td>-0.017262</td>\n",
       "      <td>-0.017262</td>\n",
       "      <td>-0.017262</td>\n",
       "      <td>0.0</td>\n",
       "      <td>0.0</td>\n",
       "      <td>0.0</td>\n",
       "      <td>2.413202</td>\n",
       "    </tr>\n",
       "    <tr>\n",
       "      <th>189</th>\n",
       "      <td>189</td>\n",
       "      <td>2023-10-15</td>\n",
       "      <td>2.428844</td>\n",
       "      <td>2.384049</td>\n",
       "      <td>2.435007</td>\n",
       "      <td>2.428844</td>\n",
       "      <td>2.428844</td>\n",
       "      <td>-0.019585</td>\n",
       "      <td>-0.019585</td>\n",
       "      <td>-0.019585</td>\n",
       "      <td>0.001074</td>\n",
       "      <td>0.001074</td>\n",
       "      <td>0.001074</td>\n",
       "      <td>-0.020659</td>\n",
       "      <td>-0.020659</td>\n",
       "      <td>-0.020659</td>\n",
       "      <td>0.0</td>\n",
       "      <td>0.0</td>\n",
       "      <td>0.0</td>\n",
       "      <td>2.409259</td>\n",
       "    </tr>\n",
       "    <tr>\n",
       "      <th>190</th>\n",
       "      <td>190</td>\n",
       "      <td>2023-10-27</td>\n",
       "      <td>2.429081</td>\n",
       "      <td>2.388843</td>\n",
       "      <td>2.439615</td>\n",
       "      <td>2.429081</td>\n",
       "      <td>2.429081</td>\n",
       "      <td>-0.014665</td>\n",
       "      <td>-0.014665</td>\n",
       "      <td>-0.014665</td>\n",
       "      <td>0.008341</td>\n",
       "      <td>0.008341</td>\n",
       "      <td>0.008341</td>\n",
       "      <td>-0.023006</td>\n",
       "      <td>-0.023006</td>\n",
       "      <td>-0.023006</td>\n",
       "      <td>0.0</td>\n",
       "      <td>0.0</td>\n",
       "      <td>0.0</td>\n",
       "      <td>2.414416</td>\n",
       "    </tr>\n",
       "    <tr>\n",
       "      <th>191</th>\n",
       "      <td>191</td>\n",
       "      <td>2023-10-28</td>\n",
       "      <td>2.429101</td>\n",
       "      <td>2.380154</td>\n",
       "      <td>2.427551</td>\n",
       "      <td>2.429101</td>\n",
       "      <td>2.429101</td>\n",
       "      <td>-0.024068</td>\n",
       "      <td>-0.024068</td>\n",
       "      <td>-0.024068</td>\n",
       "      <td>-0.000893</td>\n",
       "      <td>-0.000893</td>\n",
       "      <td>-0.000893</td>\n",
       "      <td>-0.023175</td>\n",
       "      <td>-0.023175</td>\n",
       "      <td>-0.023175</td>\n",
       "      <td>0.0</td>\n",
       "      <td>0.0</td>\n",
       "      <td>0.0</td>\n",
       "      <td>2.405033</td>\n",
       "    </tr>\n",
       "  </tbody>\n",
       "</table>\n",
       "<p>192 rows × 20 columns</p>\n",
       "</div>"
      ],
      "text/plain": [
       "     Unnamed: 0          ds     trend  yhat_lower  yhat_upper  trend_lower  \\\n",
       "0             0  2015-05-18  2.392737    2.394751    2.444257     2.392737   \n",
       "1             1  2016-05-24  2.391958    2.398808    2.448622     2.391958   \n",
       "2             2  2016-07-11  2.391857    2.404601    2.453521     2.391857   \n",
       "3             3  2017-02-24  2.391379    2.345960    2.397159     2.391379   \n",
       "4             4  2017-03-08  2.391354    2.352625    2.401805     2.391354   \n",
       "..          ...         ...       ...         ...         ...          ...   \n",
       "187         187  2023-09-21  2.428369    2.392767    2.441506     2.428369   \n",
       "188         188  2023-10-03  2.428606    2.387403    2.437426     2.428606   \n",
       "189         189  2023-10-15  2.428844    2.384049    2.435007     2.428844   \n",
       "190         190  2023-10-27  2.429081    2.388843    2.439615     2.429081   \n",
       "191         191  2023-10-28  2.429101    2.380154    2.427551     2.429101   \n",
       "\n",
       "     trend_upper  additive_terms  additive_terms_lower  additive_terms_upper  \\\n",
       "0       2.392737        0.024751              0.024751              0.024751   \n",
       "1       2.391958        0.030735              0.030735              0.030735   \n",
       "2       2.391857        0.037685              0.037685              0.037685   \n",
       "3       2.391379       -0.019575             -0.019575             -0.019575   \n",
       "4       2.391354       -0.015143             -0.015143             -0.015143   \n",
       "..           ...             ...                   ...                   ...   \n",
       "187     2.428369       -0.011456             -0.011456             -0.011456   \n",
       "188     2.428606       -0.015404             -0.015404             -0.015404   \n",
       "189     2.428844       -0.019585             -0.019585             -0.019585   \n",
       "190     2.429081       -0.014665             -0.014665             -0.014665   \n",
       "191     2.429101       -0.024068             -0.024068             -0.024068   \n",
       "\n",
       "       weekly  weekly_lower  weekly_upper    yearly  yearly_lower  \\\n",
       "0    0.000021      0.000021      0.000021  0.024730      0.024730   \n",
       "1    0.001858      0.001858      0.001858  0.028877      0.028877   \n",
       "2    0.000021      0.000021      0.000021  0.037665      0.037665   \n",
       "3    0.008341      0.008341      0.008341 -0.027916     -0.027916   \n",
       "4   -0.002977     -0.002977     -0.002977 -0.012166     -0.012166   \n",
       "..        ...           ...           ...       ...           ...   \n",
       "187 -0.007423     -0.007423     -0.007423 -0.004033     -0.004033   \n",
       "188  0.001858      0.001858      0.001858 -0.017262     -0.017262   \n",
       "189  0.001074      0.001074      0.001074 -0.020659     -0.020659   \n",
       "190  0.008341      0.008341      0.008341 -0.023006     -0.023006   \n",
       "191 -0.000893     -0.000893     -0.000893 -0.023175     -0.023175   \n",
       "\n",
       "     yearly_upper  multiplicative_terms  multiplicative_terms_lower  \\\n",
       "0        0.024730                   0.0                         0.0   \n",
       "1        0.028877                   0.0                         0.0   \n",
       "2        0.037665                   0.0                         0.0   \n",
       "3       -0.027916                   0.0                         0.0   \n",
       "4       -0.012166                   0.0                         0.0   \n",
       "..            ...                   ...                         ...   \n",
       "187     -0.004033                   0.0                         0.0   \n",
       "188     -0.017262                   0.0                         0.0   \n",
       "189     -0.020659                   0.0                         0.0   \n",
       "190     -0.023006                   0.0                         0.0   \n",
       "191     -0.023175                   0.0                         0.0   \n",
       "\n",
       "     multiplicative_terms_upper      yhat  \n",
       "0                           0.0  2.417488  \n",
       "1                           0.0  2.422692  \n",
       "2                           0.0  2.429542  \n",
       "3                           0.0  2.371804  \n",
       "4                           0.0  2.376211  \n",
       "..                          ...       ...  \n",
       "187                         0.0  2.416913  \n",
       "188                         0.0  2.413202  \n",
       "189                         0.0  2.409259  \n",
       "190                         0.0  2.414416  \n",
       "191                         0.0  2.405033  \n",
       "\n",
       "[192 rows x 20 columns]"
      ]
     },
     "execution_count": 99,
     "metadata": {},
     "output_type": "execute_result"
    }
   ],
   "source": [
    "df"
   ]
  },
  {
   "cell_type": "code",
   "execution_count": 100,
   "metadata": {},
   "outputs": [],
   "source": [
    "\n",
    "def ts_analysis(df):\n",
    "    # 날짜 컬럼을 datetime 형식으로 변환\n",
    "    df['ds'] = pd.to_datetime(df['ds'])\n",
    "\n",
    "    # 최대값과 최소값의 일자 찾기\n",
    "    max_date = df[df['yhat'] == df['yhat'].max()]['ds'].iloc[0]\n",
    "    min_date = df[df['yhat'] == df['yhat'].min()]['ds'].iloc[0]\n",
    "\n",
    "    # 계절을 구분하기 위한 함수 정의\n",
    "    def get_season(month):\n",
    "        if month in [3, 4, 5]:\n",
    "            return 'Spring'\n",
    "        elif month in [6, 7, 8]:\n",
    "            return 'Summer'\n",
    "        elif month in [9, 10, 11]:\n",
    "            return 'Fall'\n",
    "        else:\n",
    "            return 'Winter'\n",
    "\n",
    "    # 월별 계절 할당\n",
    "    df['season'] = df['ds'].dt.month.apply(get_season)\n",
    "\n",
    "    # 계절별 평균값 계산\n",
    "    seasonal_trend = df.groupby('season')['yhat'].mean()\n",
    "\n",
    "    # 매월 평균 계산\n",
    "    monthly_avg = df.groupby(df['ds'].dt.month)['yhat'].mean()\n",
    "\n",
    "    # 전체 기간에 대한 평균 yhat 값\n",
    "    overall_avg = df['yhat'].mean()\n",
    "\n",
    "    # 계절별 평균값을 전체 평균값으로 나누어 상대적인 비율 계산\n",
    "    seasonal_relative = seasonal_trend / overall_avg\n",
    "\n",
    "    # 매년 평균값 계산\n",
    "    annual_avg = df.groupby(df['ds'].dt.year)['yhat'].mean()\n",
    "\n",
    "    # 매년 평균값을 전체 평균값으로 나누어 상대적인 비율 계산\n",
    "    annual_relative = annual_avg / overall_avg\n",
    "    annual_relative = annual_relative.reset_index()\n",
    "\n",
    "    # 매월 평균값을 전체 평균값으로 나누어 상대적인 비율 계산\n",
    "    monthly_relative = monthly_avg / overall_avg\n",
    "\n",
    "    return seasonal_relative,annual_relative,monthly_relative, max_date, min_date, seasonal_trend"
   ]
  },
  {
   "cell_type": "code",
   "execution_count": 101,
   "metadata": {},
   "outputs": [],
   "source": [
    "seasonal_relative,annual_relative_1,monthly_relative, max_date, min_date, seasonal_trend=ts_analysis(df)"
   ]
  },
  {
   "cell_type": "code",
   "execution_count": 102,
   "metadata": {},
   "outputs": [
    {
     "data": {
      "text/plain": [
       "192"
      ]
     },
     "execution_count": 102,
     "metadata": {},
     "output_type": "execute_result"
    }
   ],
   "source": [
    "len(df)"
   ]
  },
  {
   "cell_type": "code",
   "execution_count": 103,
   "metadata": {},
   "outputs": [],
   "source": [
    "def annual_relative(df):\n",
    "    string = []\n",
    "    for i in range(len(df)):\n",
    "        prompt = str(df['ds'][0]) + \":\" + str(df['yhat'][i])\n",
    "        string.append(prompt)\n",
    "    return string"
   ]
  },
  {
   "cell_type": "code",
   "execution_count": 104,
   "metadata": {},
   "outputs": [
    {
     "data": {
      "text/html": [
       "<div>\n",
       "<style scoped>\n",
       "    .dataframe tbody tr th:only-of-type {\n",
       "        vertical-align: middle;\n",
       "    }\n",
       "\n",
       "    .dataframe tbody tr th {\n",
       "        vertical-align: top;\n",
       "    }\n",
       "\n",
       "    .dataframe thead th {\n",
       "        text-align: right;\n",
       "    }\n",
       "</style>\n",
       "<table border=\"1\" class=\"dataframe\">\n",
       "  <thead>\n",
       "    <tr style=\"text-align: right;\">\n",
       "      <th></th>\n",
       "      <th>ds</th>\n",
       "      <th>yhat</th>\n",
       "    </tr>\n",
       "  </thead>\n",
       "  <tbody>\n",
       "    <tr>\n",
       "      <th>0</th>\n",
       "      <td>2015</td>\n",
       "      <td>1.002192</td>\n",
       "    </tr>\n",
       "    <tr>\n",
       "      <th>1</th>\n",
       "      <td>2016</td>\n",
       "      <td>1.005769</td>\n",
       "    </tr>\n",
       "    <tr>\n",
       "      <th>2</th>\n",
       "      <td>2017</td>\n",
       "      <td>0.993119</td>\n",
       "    </tr>\n",
       "    <tr>\n",
       "      <th>3</th>\n",
       "      <td>2018</td>\n",
       "      <td>0.994050</td>\n",
       "    </tr>\n",
       "    <tr>\n",
       "      <th>4</th>\n",
       "      <td>2019</td>\n",
       "      <td>0.998342</td>\n",
       "    </tr>\n",
       "    <tr>\n",
       "      <th>5</th>\n",
       "      <td>2020</td>\n",
       "      <td>1.001737</td>\n",
       "    </tr>\n",
       "    <tr>\n",
       "      <th>6</th>\n",
       "      <td>2021</td>\n",
       "      <td>1.002341</td>\n",
       "    </tr>\n",
       "    <tr>\n",
       "      <th>7</th>\n",
       "      <td>2022</td>\n",
       "      <td>1.003716</td>\n",
       "    </tr>\n",
       "    <tr>\n",
       "      <th>8</th>\n",
       "      <td>2023</td>\n",
       "      <td>1.004713</td>\n",
       "    </tr>\n",
       "  </tbody>\n",
       "</table>\n",
       "</div>"
      ],
      "text/plain": [
       "     ds      yhat\n",
       "0  2015  1.002192\n",
       "1  2016  1.005769\n",
       "2  2017  0.993119\n",
       "3  2018  0.994050\n",
       "4  2019  0.998342\n",
       "5  2020  1.001737\n",
       "6  2021  1.002341\n",
       "7  2022  1.003716\n",
       "8  2023  1.004713"
      ]
     },
     "execution_count": 104,
     "metadata": {},
     "output_type": "execute_result"
    }
   ],
   "source": [
    "annual_relative_1"
   ]
  },
  {
   "cell_type": "code",
   "execution_count": 105,
   "metadata": {},
   "outputs": [
    {
     "name": "stdout",
     "output_type": "stream",
     "text": [
      "0\n",
      "1\n",
      "2\n",
      "3\n",
      "4\n",
      "5\n",
      "6\n",
      "7\n",
      "8\n"
     ]
    }
   ],
   "source": [
    "string = annual_relative(annual_relative_1)"
   ]
  },
  {
   "cell_type": "code",
   "execution_count": 63,
   "metadata": {},
   "outputs": [
    {
     "data": {
      "text/plain": [
       "str"
      ]
     },
     "execution_count": 63,
     "metadata": {},
     "output_type": "execute_result"
    }
   ],
   "source": [
    "type(string)"
   ]
  },
  {
   "cell_type": "code",
   "execution_count": 64,
   "metadata": {},
   "outputs": [
    {
     "data": {
      "text/plain": [
       "'2015-05-18:2.417487854291525,2016-05-24:2.422692414562317,2016-07-11:2.429542145024259,2017-02-24:2.371804082222587,2017-03-08:2.3762110053408945,2017-03-20:2.3821689688985392,2017-04-01:2.376451752351503,2017-04-13:2.3874412751062244,2017-04-25:2.410274837695942,2017-05-07:2.409644981044805,2017-05-19:2.4262380478012147,2017-05-31:2.4148289868517487,2017-06-12:2.4049548142150323,2017-06-24:2.413571486790609,2017-07-06:2.4235261899813807,2017-07-18:2.4242730411591724,2017-07-30:2.410307819310358,2017-08-11:2.416383938917784,2017-08-23:2.405599962415613,2017-09-04:2.406110479268253,2017-09-16:2.3944104004948032,2017-09-28:2.3723449139851107,2017-10-10:2.3752223251417464,2017-10-22:2.372595322785708,2017-11-03:2.3790143475311663,2017-11-15:2.3755661947328286,2017-12-09:2.3856495824157875,2017-12-21:2.375478102203137,2018-01-02:2.3746269423790896,2018-01-14:2.372757562415876,2018-01-26:2.395651548213723,2018-02-07:2.3820923047851434,2018-06-19:2.412704608193185,2018-07-01:2.4310560551307847,2018-07-13:2.441175745550527,2018-07-25:2.4145612587773218,2018-08-06:2.4116533206536657,2018-08-18:2.411864058475133,2018-08-24:2.421083370160634,2018-08-30:2.404632222727865,2018-09-11:2.407614967567154,2018-09-23:2.3917148153908565,2018-10-05:2.387911170476631,2018-10-17:2.3745219663652195,2018-10-29:2.3755784668714166,2018-11-10:2.378839106408412,2018-11-22:2.382247278053094,2018-12-04:2.3949612445834223,2018-12-16:2.392678007109948,2018-12-28:2.392749114327952,2019-01-09:2.373607325894794,2019-01-21:2.3877576401465266,2019-02-02:2.396980865967022,2019-02-14:2.374647191887104,2019-02-26:2.3785425318186597,2019-03-10:2.394693128817788,2019-03-22:2.402575837877296,2019-04-03:2.3890357144283745,2019-04-15:2.4116517922714835,2019-04-27:2.4221423054088205,2019-05-09:2.416482065647908,2019-05-21:2.4360596072955327,2019-06-02:2.4327702493281738,2019-06-14:2.428672973303291,2019-06-26:2.4303795447480088,2019-07-08:2.447900600166065,2019-07-20:2.4363554739249027,2019-08-13:2.4275857349300387,2019-08-25:2.427355163145057,2019-09-06:2.431751920246629,2019-09-18:2.4087016453392693,2019-09-30:2.3970152326434317,2019-10-12:2.391199683083562,2019-10-24:2.382822885198024,2019-11-05:2.392184085063184,2019-11-17:2.4001997725443998,2019-11-29:2.414315849261789,2019-12-11:2.402862401031079,2019-12-23:2.4015910997740963,2020-01-04:2.390426553328266,2020-01-16:2.385515910720352,2020-01-28:2.410414754294428,2020-02-09:2.403724706312329,2020-02-21:2.394824759201445,2020-03-04:2.394297091242389,2020-03-16:2.40772793794396,2020-03-28:2.400027119770348,2020-04-09:2.404480481163973,2020-04-21:2.4325408327957194,2020-05-03:2.433396977481263,2020-05-15:2.4469395439514683,2020-05-27:2.441728904446022,2020-06-08:2.432266365240223,2020-06-20:2.4320925317223754,2020-07-02:2.444945988375501,2020-07-14:2.453604885460833,2020-07-26:2.437604228192587,2020-08-07:2.4405892547103645,2020-08-19:2.4301736481738656,2020-08-25:2.4347365611060217,2020-08-31:2.431871914954261,2020-09-12:2.4232645172077683,2020-09-24:2.400972917119221,2020-10-06:2.4003500842033763,2020-10-18:2.397424890039722,2020-10-30:2.4024957000535774,2020-11-11:2.396166662721982,2020-11-23:2.408380651532532,2020-12-05:2.4095441729889813,2020-12-17:2.400653974845113,2020-12-29:2.4013111441804096,2021-01-10:2.3937590348851363,2021-01-22:2.413722011049356,2021-02-03:2.408996551911246,2021-02-15:2.394182323459036,2021-02-27:2.3912364157935744,2021-03-11:2.400991871220794,2021-03-23:2.4078110294288804,2021-04-04:2.406877172499449,2021-04-16:2.4343270213902457,2021-04-28:2.4313684042030754,2021-05-10:2.4355318483300508,2021-05-22:2.444502922183309,2021-06-03:2.432224173009378,2021-06-15:2.4314716372546408,2021-06-27:2.445856480710109,2021-07-09:2.4642856858492324,2021-07-21:2.439879145650764,2021-08-02:2.4325684203563918,2021-08-14:2.431801760988445,2021-08-26:2.4250935926119084,2021-09-07:2.430277606136868,2021-09-19:2.4161839513986565,2021-10-01:2.409152199737244,2021-10-13:2.39358597011669,2021-10-25:2.3943657500610973,2021-11-06:2.3942857830695696,2021-11-18:2.396921492333151,2021-11-30:2.411806352030432,2021-12-12:2.4101695328563584,2021-12-24:2.412175248447036,2022-01-05:2.390564715201524,2022-01-17:2.3978478744406027,2022-01-29:2.4116759806845978,2022-02-10:2.3956478857724512,2022-03-06:2.4034430249419576,2022-03-18:2.418310952102777,2022-03-30:2.4005031707421867,2022-04-11:2.4173988752329096,2022-04-23:2.4334472801502884,2022-05-05:2.4275493415720595,2022-05-17:2.44451728586527,2022-05-29:2.4476636013780766,2022-06-10:2.4418391488850304,2022-06-22:2.434919871253959,2022-07-04:2.4567760644547803,2022-07-16:2.4519260604898307,2022-07-28:2.430766308060399,2022-08-09:2.4372371218545203,2022-08-21:2.437410272614012,2022-09-02:2.4431101541080986,2022-09-14:2.423023475503527,2022-09-26:2.410279050797659,2022-10-08:2.4010409102056345,2022-11-01:2.4004542724857107,2022-11-13:2.406088961987774,2022-11-25:2.422286490589161,2022-12-07:2.41245271344934,2022-12-19:2.4128340094327947,2022-12-31:2.4027479344372624,2023-01-12:2.391675431499846,2023-01-24:2.415478849176412,2023-02-05:2.4181133150220373,2023-02-17:2.4071608111749803,2023-03-01:2.397984209821788,2023-03-13:2.4166056892331125,2023-03-25:2.4113921262427427,2023-04-06:2.4079404438057885,2023-04-18:2.438047458983766,2023-04-30:2.4434899819099134,2023-06-17:2.4385148513894244,2023-06-29:2.4494725096009216,2023-07-23:2.451956038126607,2023-08-04:2.4508794851909226,2023-08-16:2.440380116276057,2023-08-28:2.443148006904787,2023-09-09:2.437485013955561,2023-09-21:2.416912649088812,2023-10-03:2.41320215715384,2023-10-15:2.4092585845706767,2023-10-27:2.414415582555663,2023-10-28:2.405032768970864,'"
      ]
     },
     "execution_count": 64,
     "metadata": {},
     "output_type": "execute_result"
    }
   ],
   "source": [
    "string"
   ]
  },
  {
   "cell_type": "code",
   "execution_count": 106,
   "metadata": {},
   "outputs": [
    {
     "name": "stderr",
     "output_type": "stream",
     "text": [
      "c:\\Users\\gunwo\\.conda\\envs\\llm\\lib\\site-packages\\langchain\\utils\\utils.py:159: UserWarning: WARNING! input is not default parameter.\n",
      "                input was transferred to model_kwargs.\n",
      "                Please confirm that input is what you intended.\n",
      "  warnings.warn(\n",
      "AVX = 1 | AVX2 = 1 | AVX512 = 0 | AVX512_VBMI = 0 | AVX512_VNNI = 0 | FMA = 1 | NEON = 0 | ARM_FMA = 0 | F16C = 1 | FP16_VA = 0 | WASM_SIMD = 0 | BLAS = 0 | SSE3 = 1 | SSSE3 = 0 | VSX = 0 | \n"
     ]
    }
   ],
   "source": [
    "template = \"\"\"\n",
    "You are an analyst who looks at and analyzes the vegetation index.\n",
    "\n",
    "{VegetationIndex}-seasonal_relative : \n",
    "[\n",
    "spring:{df1_1},\n",
    "summer:{df1_2},\n",
    "autumn:{df1_3},\n",
    "winter:{df1_4},\n",
    "],\n",
    "{VegetationIndex}-annual_relative : \n",
    "[\n",
    "{annual_relative}\n",
    "],\n",
    "{VegetationIndex} - monthly_relative :\n",
    "[\n",
    "'January':{df2_1},\n",
    "'February':{df2_2},\n",
    "'March':{df2_3},\n",
    "'April':{df2_4},\n",
    "'May':{df2_5},\n",
    "'June':{df2_6},\n",
    "'July':{df2_7},\n",
    "'August':{df2_8},\n",
    "'September':{df2_9},\n",
    "'October':{df2_10},\n",
    "'November':{df2_11},\n",
    "'December':{df2_12}\n",
    "],\n",
    "The day when the vegetation index was highest was {max}, and the day when the vegetation index was lowest was {min},\n",
    "\"\"\"\n",
    "\n",
    "prompt = PromptTemplate(template=template, input_variables=[\"VegetationIndex\",\"df1_1\",\"df1_2\",\"df1_3\",\"df1_4\",\"df2_1\",\"df2_2\",\"df2_3\",\"df2_4\",\"df2_5\",\"df2_6\",\"df2_7\",\"df2_8\",\"df2_9\",\"df2_10\",\"df2_11\",\"df2_12\",\"min\",\"max\"])\n",
    "\n",
    "callback_manager = CallbackManager([StreamingStdOutCallbackHandler()])\n",
    "\n",
    "llm = LlamaCpp(\n",
    "                model_path=\"firefly-llama2-13b-chat.Q4_K_M.gguf\",\n",
    "                input={\"temperature\": 0.75,\n",
    "                       \"max_length\": 4000,\n",
    "                       \"top_p\": 1},\n",
    "                callback_manager=callback_manager,\n",
    "                n_ctx=2048\n",
    "                )\n",
    "\n",
    "agent = llm_chain = LLMChain(prompt=prompt, llm=llm)"
   ]
  },
  {
   "cell_type": "code",
   "execution_count": 108,
   "metadata": {},
   "outputs": [
    {
     "data": {
      "text/plain": [
       "season\n",
       "Fall      0.995523\n",
       "Spring    1.001493\n",
       "Summer    1.008350\n",
       "Winter    0.993316\n",
       "Name: yhat, dtype: float64"
      ]
     },
     "execution_count": 108,
     "metadata": {},
     "output_type": "execute_result"
    }
   ],
   "source": [
    "seasonal_relative"
   ]
  },
  {
   "cell_type": "code",
   "execution_count": 107,
   "metadata": {},
   "outputs": [
    {
     "ename": "ValueError",
     "evalue": "A single string input was passed in, but this chain expects multiple inputs ({'df2_10', 'df2_6', 'df1_2', 'max', 'df2_2', 'min', 'df2_12', 'VegetationIndex', 'df2_4', 'df1_1', 'df2_8', 'df2_9', 'df2_5', 'df2_7', 'annual_relative', 'df2_3', 'df1_3', 'df2_1', 'df1_4', 'df2_11'}). When a chain expects multiple inputs, please call it by passing in a dictionary, eg `chain({'foo': 1, 'bar': 2})`",
     "output_type": "error",
     "traceback": [
      "\u001b[1;31m---------------------------------------------------------------------------\u001b[0m",
      "\u001b[1;31mValueError\u001b[0m                                Traceback (most recent call last)",
      "\u001b[1;32mc:\\Users\\gunwo\\github\\Sar-Bluecarbon-Service\\study\\gunwoda\\1124.ipynb Cell 13\u001b[0m line \u001b[0;36m1\n\u001b[1;32m----> <a href='vscode-notebook-cell:/c%3A/Users/gunwo/github/Sar-Bluecarbon-Service/study/gunwoda/1124.ipynb#W3sZmlsZQ%3D%3D?line=0'>1</a>\u001b[0m text \u001b[39m=\u001b[39m agent\u001b[39m.\u001b[39;49mrun(\u001b[39m99\u001b[39;49m)\n",
      "File \u001b[1;32mc:\\Users\\gunwo\\.conda\\envs\\llm\\lib\\site-packages\\langchain\\chains\\base.py:505\u001b[0m, in \u001b[0;36mChain.run\u001b[1;34m(self, callbacks, tags, metadata, *args, **kwargs)\u001b[0m\n\u001b[0;32m    503\u001b[0m     \u001b[39mif\u001b[39;00m \u001b[39mlen\u001b[39m(args) \u001b[39m!=\u001b[39m \u001b[39m1\u001b[39m:\n\u001b[0;32m    504\u001b[0m         \u001b[39mraise\u001b[39;00m \u001b[39mValueError\u001b[39;00m(\u001b[39m\"\u001b[39m\u001b[39m`run` supports only one positional argument.\u001b[39m\u001b[39m\"\u001b[39m)\n\u001b[1;32m--> 505\u001b[0m     \u001b[39mreturn\u001b[39;00m \u001b[39mself\u001b[39;49m(args[\u001b[39m0\u001b[39;49m], callbacks\u001b[39m=\u001b[39;49mcallbacks, tags\u001b[39m=\u001b[39;49mtags, metadata\u001b[39m=\u001b[39;49mmetadata)[\n\u001b[0;32m    506\u001b[0m         _output_key\n\u001b[0;32m    507\u001b[0m     ]\n\u001b[0;32m    509\u001b[0m \u001b[39mif\u001b[39;00m kwargs \u001b[39mand\u001b[39;00m \u001b[39mnot\u001b[39;00m args:\n\u001b[0;32m    510\u001b[0m     \u001b[39mreturn\u001b[39;00m \u001b[39mself\u001b[39m(kwargs, callbacks\u001b[39m=\u001b[39mcallbacks, tags\u001b[39m=\u001b[39mtags, metadata\u001b[39m=\u001b[39mmetadata)[\n\u001b[0;32m    511\u001b[0m         _output_key\n\u001b[0;32m    512\u001b[0m     ]\n",
      "File \u001b[1;32mc:\\Users\\gunwo\\.conda\\envs\\llm\\lib\\site-packages\\langchain\\chains\\base.py:286\u001b[0m, in \u001b[0;36mChain.__call__\u001b[1;34m(self, inputs, return_only_outputs, callbacks, tags, metadata, run_name, include_run_info)\u001b[0m\n\u001b[0;32m    250\u001b[0m \u001b[39mdef\u001b[39;00m \u001b[39m__call__\u001b[39m(\n\u001b[0;32m    251\u001b[0m     \u001b[39mself\u001b[39m,\n\u001b[0;32m    252\u001b[0m     inputs: Union[Dict[\u001b[39mstr\u001b[39m, Any], Any],\n\u001b[1;32m   (...)\u001b[0m\n\u001b[0;32m    259\u001b[0m     include_run_info: \u001b[39mbool\u001b[39m \u001b[39m=\u001b[39m \u001b[39mFalse\u001b[39;00m,\n\u001b[0;32m    260\u001b[0m ) \u001b[39m-\u001b[39m\u001b[39m>\u001b[39m Dict[\u001b[39mstr\u001b[39m, Any]:\n\u001b[0;32m    261\u001b[0m \u001b[39m    \u001b[39m\u001b[39m\"\"\"Execute the chain.\u001b[39;00m\n\u001b[0;32m    262\u001b[0m \n\u001b[0;32m    263\u001b[0m \u001b[39m    Args:\u001b[39;00m\n\u001b[1;32m   (...)\u001b[0m\n\u001b[0;32m    284\u001b[0m \u001b[39m            `Chain.output_keys`.\u001b[39;00m\n\u001b[0;32m    285\u001b[0m \u001b[39m    \"\"\"\u001b[39;00m\n\u001b[1;32m--> 286\u001b[0m     inputs \u001b[39m=\u001b[39m \u001b[39mself\u001b[39;49m\u001b[39m.\u001b[39;49mprep_inputs(inputs)\n\u001b[0;32m    287\u001b[0m     callback_manager \u001b[39m=\u001b[39m CallbackManager\u001b[39m.\u001b[39mconfigure(\n\u001b[0;32m    288\u001b[0m         callbacks,\n\u001b[0;32m    289\u001b[0m         \u001b[39mself\u001b[39m\u001b[39m.\u001b[39mcallbacks,\n\u001b[1;32m   (...)\u001b[0m\n\u001b[0;32m    294\u001b[0m         \u001b[39mself\u001b[39m\u001b[39m.\u001b[39mmetadata,\n\u001b[0;32m    295\u001b[0m     )\n\u001b[0;32m    296\u001b[0m     new_arg_supported \u001b[39m=\u001b[39m inspect\u001b[39m.\u001b[39msignature(\u001b[39mself\u001b[39m\u001b[39m.\u001b[39m_call)\u001b[39m.\u001b[39mparameters\u001b[39m.\u001b[39mget(\u001b[39m\"\u001b[39m\u001b[39mrun_manager\u001b[39m\u001b[39m\"\u001b[39m)\n",
      "File \u001b[1;32mc:\\Users\\gunwo\\.conda\\envs\\llm\\lib\\site-packages\\langchain\\chains\\base.py:433\u001b[0m, in \u001b[0;36mChain.prep_inputs\u001b[1;34m(self, inputs)\u001b[0m\n\u001b[0;32m    431\u001b[0m         _input_keys \u001b[39m=\u001b[39m _input_keys\u001b[39m.\u001b[39mdifference(\u001b[39mself\u001b[39m\u001b[39m.\u001b[39mmemory\u001b[39m.\u001b[39mmemory_variables)\n\u001b[0;32m    432\u001b[0m     \u001b[39mif\u001b[39;00m \u001b[39mlen\u001b[39m(_input_keys) \u001b[39m!=\u001b[39m \u001b[39m1\u001b[39m:\n\u001b[1;32m--> 433\u001b[0m         \u001b[39mraise\u001b[39;00m \u001b[39mValueError\u001b[39;00m(\n\u001b[0;32m    434\u001b[0m             \u001b[39mf\u001b[39m\u001b[39m\"\u001b[39m\u001b[39mA single string input was passed in, but this chain expects \u001b[39m\u001b[39m\"\u001b[39m\n\u001b[0;32m    435\u001b[0m             \u001b[39mf\u001b[39m\u001b[39m\"\u001b[39m\u001b[39mmultiple inputs (\u001b[39m\u001b[39m{\u001b[39;00m_input_keys\u001b[39m}\u001b[39;00m\u001b[39m). When a chain expects \u001b[39m\u001b[39m\"\u001b[39m\n\u001b[0;32m    436\u001b[0m             \u001b[39mf\u001b[39m\u001b[39m\"\u001b[39m\u001b[39mmultiple inputs, please call it by passing in a dictionary, \u001b[39m\u001b[39m\"\u001b[39m\n\u001b[0;32m    437\u001b[0m             \u001b[39m\"\u001b[39m\u001b[39meg `chain(\u001b[39m\u001b[39m{\u001b[39m\u001b[39m'\u001b[39m\u001b[39mfoo\u001b[39m\u001b[39m'\u001b[39m\u001b[39m: 1, \u001b[39m\u001b[39m'\u001b[39m\u001b[39mbar\u001b[39m\u001b[39m'\u001b[39m\u001b[39m: 2})`\u001b[39m\u001b[39m\"\u001b[39m\n\u001b[0;32m    438\u001b[0m         )\n\u001b[0;32m    439\u001b[0m     inputs \u001b[39m=\u001b[39m {\u001b[39mlist\u001b[39m(_input_keys)[\u001b[39m0\u001b[39m]: inputs}\n\u001b[0;32m    440\u001b[0m \u001b[39mif\u001b[39;00m \u001b[39mself\u001b[39m\u001b[39m.\u001b[39mmemory \u001b[39mis\u001b[39;00m \u001b[39mnot\u001b[39;00m \u001b[39mNone\u001b[39;00m:\n",
      "\u001b[1;31mValueError\u001b[0m: A single string input was passed in, but this chain expects multiple inputs ({'df2_10', 'df2_6', 'df1_2', 'max', 'df2_2', 'min', 'df2_12', 'VegetationIndex', 'df2_4', 'df1_1', 'df2_8', 'df2_9', 'df2_5', 'df2_7', 'annual_relative', 'df2_3', 'df1_3', 'df2_1', 'df1_4', 'df2_11'}). When a chain expects multiple inputs, please call it by passing in a dictionary, eg `chain({'foo': 1, 'bar': 2})`"
     ]
    }
   ],
   "source": [
    "# 입력 변수에 대한 값 설정\n",
    "input_values = {\n",
    "    \"VegetationIndex\": \"Radar Vegetation Index\",\n",
    "    \"df1_1\": seasonal_relative[1],\n",
    "    \"df1_2\": seasonal_relative[2],\n",
    "    \"df1_3\": seasonal_relative[0],\n",
    "    \"df1_4\": seasonal_relative[3],\n",
    "    \"df2_1\": \"85%\",\n",
    "    \"df2_2\": \"86%\",\n",
    "    # ... 나머지 변수들에 대한 값도 마찬가지로 설정 ...\n",
    "    \"df2_12\": \"87%\",\n",
    "    \"min\": \"1st January\",\n",
    "    \"max\": \"31st July\"\n",
    "}\n",
    "\n",
    "# LLMChain 실행\n",
    "text = agent.run(input_values)"
   ]
  },
  {
   "cell_type": "code",
   "execution_count": 34,
   "metadata": {},
   "outputs": [
    {
     "data": {
      "text/plain": [
       "' and provide an analysis of the vegetation index trends over time.\\n\\nReport:\\n\\nThe vegetation index is an important indicator of ecosystem health and productivity. It provides valuable insights into the extent and distribution of vegetation cover, which is crucial for monitoring land use change, climate variability, and biodiversity conservation. The vegetation index measures the amount of photosynthetically active plant biomass per unit area of land surface, using reflectance measurements from satellites or ground-based sensors.\\n\\nBased on our analysis, the vegetation index trends over time show a consistent increase in spring, summer, and autumn, followed by a slight decrease in winter. The average vegetation index values for each season are as follows: 99 percent in spring, 101 percent in summer, 102 percent in autumn, and 98 percent in winter.\\n\\nThese trends suggest that the vegetation cover has been increasing over time, indicating improved ecosystem health and productivity. However, the slight decrease in winter may indicate a seasonal pattern in vegetation growth or changes in land use practices that affect vegetation cover during this period.\\n\\n'"
      ]
     },
     "execution_count": 34,
     "metadata": {},
     "output_type": "execute_result"
    }
   ],
   "source": [
    "text    "
   ]
  },
  {
   "cell_type": "code",
   "execution_count": 35,
   "metadata": {},
   "outputs": [
    {
     "name": "stdout",
     "output_type": "stream",
     "text": [
      " and provide an analysis of the vegetation index trends over time.Report:The vegetation index is an important indicator of ecosystem health and productivity. It provides valuable insights into the extent and distribution of vegetation cover, which is crucial for monitoring land use change, climate variability, and biodiversity conservation. The vegetation index measures the amount of photosynthetically active plant biomass per unit area of land surface, using reflectance measurements from satellites or ground-based sensors.Based on our analysis, the vegetation index trends over time show a consistent increase in spring, summer, and autumn, followed by a slight decrease in winter. The average vegetation index values for each season are as follows: 99 percent in spring, 101 percent in summer, 102 percent in autumn, and 98 percent in winter.These trends suggest that the vegetation cover has been increasing over time, indicating improved ecosystem health and productivity. However, the slight decrease in winter may indicate a seasonal pattern in vegetation growth or changes in land use practices that affect vegetation cover during this period.\n"
     ]
    }
   ],
   "source": [
    "import re\n",
    "\n",
    "# Use regular expression to replace all newline characters with nothing\n",
    "cleaned_text = re.sub('\\n', '', text)\n",
    "\n",
    "print(cleaned_text)\n"
   ]
  },
  {
   "cell_type": "code",
   "execution_count": 36,
   "metadata": {},
   "outputs": [
    {
     "data": {
      "text/plain": [
       "'and provide an analysis of the vegetation index trends over time.Report:The vegetation index is an important indicator of ecosystem health and productivity. It provides valuable insights into the extent and distribution of vegetation cover, which is crucial for monitoring land use change, climate variability, and biodiversity conservation. The vegetation index measures the amount of photosynthetically active plant biomass per unit area of land surface, using reflectance measurements from satellites or ground-based sensors.Based on our analysis, the vegetation index trends over time show a consistent increase in spring, summer, and autumn, followed by a slight decrease in winter. The average vegetation index values for each season are as follows: 99 percent in spring, 101 percent in summer, 102 percent in autumn, and 98 percent in winter.These trends suggest that the vegetation cover has been increasing over time, indicating improved ecosystem health and productivity. However, the slight decrease in winter may indicate a seasonal pattern in vegetation growth or changes in land use practices that affect vegetation cover during this period.'"
      ]
     },
     "execution_count": 36,
     "metadata": {},
     "output_type": "execute_result"
    }
   ],
   "source": [
    "cleaned_text[1:]"
   ]
  },
  {
   "cell_type": "code",
   "execution_count": 37,
   "metadata": {},
   "outputs": [
    {
     "data": {
      "text/plain": [
       "'c:\\\\Users\\\\gunwo\\\\.conda\\\\envs\\\\llm\\\\python.exe'"
      ]
     },
     "execution_count": 37,
     "metadata": {},
     "output_type": "execute_result"
    }
   ],
   "source": [
    "import sys\n",
    "sys.executable"
   ]
  },
  {
   "cell_type": "code",
   "execution_count": 38,
   "metadata": {},
   "outputs": [
    {
     "name": "stdout",
     "output_type": "stream",
     "text": [
      "Translated(src=en, dest=ko, text=시간이 지남에 따라 식생 지수 트렌드에 대한 분석을 제공합니다.보고 : 식생 지수는 생태계 건강과 생산성의 중요한 지표입니다.그것은 토지 이용 변화, 기후 변동성 및 생물 다양성 보존을 모니터링하는 데 중요합니다.식생 지수는 위성 또는지면 기반 센서의 반사 측정을 사용하여 지표면의 단위 면적당 광합성 활성 식물 바이오 매스의 양을 측정합니다. 분석에 따라 시간이 지남에 따른 식생 지수 트렌드는 봄, 여름, 및 및 봄, 여름, 및 일관된 증가를 보여줍니다.가을, 겨울에는 약간 감소합니다.각 계절의 평균 초목 지수 값은 다음과 같습니다. 봄의 99 %, 여름의 101 %, 가을의 102 %, 겨울의 98 %.이 추세는 초목 커버가 시간이 지남에 따라 증가하고 있음을 나타냅니다.그리고 생산성.그러나 겨울의 약간의 감소는이 기간 동안 식생 커버에 영향을 미치는 초목 성장 또는 토지 이용 관행의 계절적 패턴을 나타낼 수 있습니다., pronunciation=sigan-i jinam-e ttala sigsaeng jisu teulendeue daehan bunseog-eul jegonghabnida.bogo : sigsaeng jisuneun saengtaegye geongang-gwa saengsanseong-ui jung-yohan jipyoibnida. geugeos-eun toji iyong byeonhwa, gihu byeondongseong mich saengmul dayangseong bojon-eul moniteolinghaneun de jung-yohabnida. sigsaeng jisuneun wiseong ttoneunjimyeon giban senseoui bansa cheugjeong-eul sayonghayeo jipyomyeon-ui dan-wi myeonjeogdang gwanghabseong hwalseong sigmul baio maeseuui yang-eul cheugjeonghabnida. bunseog-e ttala sigan-i jinam-e ttaleun sigsaeng jisu teulendeuneun bom, yeoleum, mich mich bom, yeoleum, mich ilgwandoen jeung-galeul boyeojubnida. ga-eul, gyeoul-eneun yaggan gamsohabnida. gag gyejeol-ui pyeong-gyun chomog jisu gabs-eun da-eumgwa gatseubnida. bom-ui 99 %, yeoleum-ui 101 %, ga-eul-ui 102 %, gyeoul-ui 98 %.i chuseneun chomog keobeoga sigan-i jinam-e ttala jeung-gahago iss-eum-eul natanaebnida. geuligo saengsanseong. geuleona gyeoul-ui yaggan-ui gamsoneun-i gigan dong-an sigsaeng keobeoe yeonghyang-eul michineun chomog seongjang ttoneun toji iyong gwanhaeng-ui gyejeoljeog paeteon-eul natanael su issseubnida., extra_data=\"{'confiden...\")\n"
     ]
    }
   ],
   "source": [
    "import googletrans\n",
    "\n",
    "translator = googletrans.Translator()\n",
    "\n",
    "result1 = translator.translate(cleaned_text, dest='ko')\n",
    "\n",
    "print(result1)"
   ]
  },
  {
   "cell_type": "code",
   "execution_count": 5,
   "metadata": {},
   "outputs": [
    {
     "name": "stdout",
     "output_type": "stream",
     "text": [
      "      월       데이터\n",
      "0    1월  0.374540\n",
      "1    2월  0.950714\n",
      "2    3월  0.731994\n",
      "3    4월  0.598658\n",
      "4    5월  0.156019\n",
      "5    6월  0.155995\n",
      "6    7월  0.058084\n",
      "7    8월  0.866176\n",
      "8    9월  0.601115\n",
      "9   10월  0.708073\n",
      "10  11월  0.020584\n",
      "11  12월  0.969910\n"
     ]
    }
   ],
   "source": [
    "import pandas as pd\n",
    "import numpy as np\n",
    "\n",
    "# 난수 발생을 위한 시드 설정 (시드를 설정하면 동일한 결과를 얻을 수 있습니다)\n",
    "np.random.seed(42)\n",
    "\n",
    "# 1월부터 12월까지의 월을 나타내는 리스트\n",
    "months = [f\"{i}월\" for i in range(1, 13)]\n",
    "\n",
    "# 데이터프레임 생성\n",
    "data = {\n",
    "    '월': months,\n",
    "    '데이터': np.random.rand(12)  # 0에서 1 사이의 랜덤 값으로 채움\n",
    "}\n",
    "\n",
    "df = pd.DataFrame(data)\n",
    "\n",
    "# 결과 출력\n",
    "print(df)"
   ]
  },
  {
   "cell_type": "code",
   "execution_count": null,
   "metadata": {},
   "outputs": [],
   "source": [
    "def year_trend(df):\n",
    "    for i in df.columns:\n",
    "        return 'It is' +i+ 'percent compared to the '+i+' average'"
   ]
  },
  {
   "cell_type": "code",
   "execution_count": null,
   "metadata": {},
   "outputs": [],
   "source": []
  },
  {
   "cell_type": "code",
   "execution_count": 17,
   "metadata": {},
   "outputs": [
    {
     "data": {
      "text/plain": [
       "('January', 'December')"
      ]
     },
     "execution_count": 17,
     "metadata": {},
     "output_type": "execute_result"
    }
   ],
   "source": [
    "period(df)"
   ]
  },
  {
   "cell_type": "code",
   "execution_count": null,
   "metadata": {},
   "outputs": [],
   "source": []
  }
 ],
 "metadata": {
  "kernelspec": {
   "display_name": "cuda",
   "language": "python",
   "name": "python3"
  },
  "language_info": {
   "codemirror_mode": {
    "name": "ipython",
    "version": 3
   },
   "file_extension": ".py",
   "mimetype": "text/x-python",
   "name": "python",
   "nbconvert_exporter": "python",
   "pygments_lexer": "ipython3",
   "version": "3.9.18"
  }
 },
 "nbformat": 4,
 "nbformat_minor": 2
}
