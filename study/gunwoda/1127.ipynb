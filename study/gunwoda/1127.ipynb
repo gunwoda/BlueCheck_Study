{
 "cells": [
  {
   "cell_type": "code",
   "execution_count": 1,
   "metadata": {},
   "outputs": [],
   "source": [
    "import geemap\n",
    "import ee"
   ]
  },
  {
   "cell_type": "code",
   "execution_count": 3,
   "metadata": {},
   "outputs": [
    {
     "data": {
      "text/html": [
       "\n",
       "            <style>\n",
       "                .geemap-dark {\n",
       "                    --jp-widgets-color: white;\n",
       "                    --jp-widgets-label-color: white;\n",
       "                    --jp-ui-font-color1: white;\n",
       "                    --jp-layout-color2: #454545;\n",
       "                    background-color: #383838;\n",
       "                }\n",
       "                    \n",
       "                .geemap-dark .jupyter-button {\n",
       "                    --jp-layout-color3: #383838;\n",
       "                }\n",
       "                \n",
       "                .geemap-colab {\n",
       "                    background-color: var(--colab-primary-surface-color, white);\n",
       "                }\n",
       "                    \n",
       "                .geemap-colab .jupyter-button {\n",
       "                    --jp-layout-color3: var(--colab-primary-surface-color, white);\n",
       "                }\n",
       "            </style>\n",
       "            "
      ],
      "text/plain": [
       "<IPython.core.display.HTML object>"
      ]
     },
     "metadata": {},
     "output_type": "display_data"
    }
   ],
   "source": [
    "ee.Initialize()"
   ]
  },
  {
   "cell_type": "code",
   "execution_count": 5,
   "metadata": {},
   "outputs": [
    {
     "data": {
      "text/html": [
       "\n",
       "            <style>\n",
       "                .geemap-dark {\n",
       "                    --jp-widgets-color: white;\n",
       "                    --jp-widgets-label-color: white;\n",
       "                    --jp-ui-font-color1: white;\n",
       "                    --jp-layout-color2: #454545;\n",
       "                    background-color: #383838;\n",
       "                }\n",
       "                    \n",
       "                .geemap-dark .jupyter-button {\n",
       "                    --jp-layout-color3: #383838;\n",
       "                }\n",
       "                \n",
       "                .geemap-colab {\n",
       "                    background-color: var(--colab-primary-surface-color, white);\n",
       "                }\n",
       "                    \n",
       "                .geemap-colab .jupyter-button {\n",
       "                    --jp-layout-color3: var(--colab-primary-surface-color, white);\n",
       "                }\n",
       "            </style>\n",
       "            "
      ],
      "text/plain": [
       "<IPython.core.display.HTML object>"
      ]
     },
     "metadata": {},
     "output_type": "display_data"
    },
    {
     "ename": "NameError",
     "evalue": "name 'sentinel2_timelapse' is not defined",
     "output_type": "error",
     "traceback": [
      "\u001b[1;31m---------------------------------------------------------------------------\u001b[0m",
      "\u001b[1;31mNameError\u001b[0m                                 Traceback (most recent call last)",
      "\u001b[1;32mc:\\Users\\gunwo\\github\\SAR-Bluecarbon-Service\\study\\gunwoda\\1127.ipynb Cell 3\u001b[0m line \u001b[0;36m1\n\u001b[1;32m----> <a href='vscode-notebook-cell:/c%3A/Users/gunwo/github/SAR-Bluecarbon-Service/study/gunwoda/1127.ipynb#W2sZmlsZQ%3D%3D?line=0'>1</a>\u001b[0m sentinel2_timelapse(\n\u001b[0;32m      <a href='vscode-notebook-cell:/c%3A/Users/gunwo/github/SAR-Bluecarbon-Service/study/gunwoda/1127.ipynb#W2sZmlsZQ%3D%3D?line=1'>2</a>\u001b[0m     roi\u001b[39m=\u001b[39m\u001b[39mNone\u001b[39;00m,\n\u001b[0;32m      <a href='vscode-notebook-cell:/c%3A/Users/gunwo/github/SAR-Bluecarbon-Service/study/gunwoda/1127.ipynb#W2sZmlsZQ%3D%3D?line=2'>3</a>\u001b[0m     out_gif\u001b[39m=\u001b[39m\u001b[39mNone\u001b[39;00m,\n\u001b[0;32m      <a href='vscode-notebook-cell:/c%3A/Users/gunwo/github/SAR-Bluecarbon-Service/study/gunwoda/1127.ipynb#W2sZmlsZQ%3D%3D?line=3'>4</a>\u001b[0m     start_year\u001b[39m=\u001b[39m\u001b[39m2015\u001b[39m,\n\u001b[0;32m      <a href='vscode-notebook-cell:/c%3A/Users/gunwo/github/SAR-Bluecarbon-Service/study/gunwoda/1127.ipynb#W2sZmlsZQ%3D%3D?line=4'>5</a>\u001b[0m     end_year\u001b[39m=\u001b[39m\u001b[39mNone\u001b[39;00m,\n\u001b[0;32m      <a href='vscode-notebook-cell:/c%3A/Users/gunwo/github/SAR-Bluecarbon-Service/study/gunwoda/1127.ipynb#W2sZmlsZQ%3D%3D?line=5'>6</a>\u001b[0m     start_date\u001b[39m=\u001b[39m\u001b[39m'\u001b[39m\u001b[39m06-10\u001b[39m\u001b[39m'\u001b[39m,\n\u001b[0;32m      <a href='vscode-notebook-cell:/c%3A/Users/gunwo/github/SAR-Bluecarbon-Service/study/gunwoda/1127.ipynb#W2sZmlsZQ%3D%3D?line=6'>7</a>\u001b[0m     end_date\u001b[39m=\u001b[39m\u001b[39m'\u001b[39m\u001b[39m09-20\u001b[39m\u001b[39m'\u001b[39m,bands\u001b[39m=\u001b[39m[\u001b[39m'\u001b[39m\u001b[39mNIR\u001b[39m\u001b[39m'\u001b[39m, \u001b[39m'\u001b[39m\u001b[39mRed\u001b[39m\u001b[39m'\u001b[39m, \u001b[39m'\u001b[39m\u001b[39mGreen\u001b[39m\u001b[39m'\u001b[39m], vis_params\u001b[39m=\u001b[39m\u001b[39mNone\u001b[39;00m, dimensions\u001b[39m=\u001b[39m\u001b[39m768\u001b[39m, frames_per_second\u001b[39m=\u001b[39m\u001b[39m5\u001b[39m, crs\u001b[39m=\u001b[39m\u001b[39m'\u001b[39m\u001b[39mEPSG:3857\u001b[39m\u001b[39m'\u001b[39m, apply_fmask\u001b[39m=\u001b[39m\u001b[39mTrue\u001b[39;00m, cloud_pct\u001b[39m=\u001b[39m\u001b[39m30\u001b[39m, overlay_data\u001b[39m=\u001b[39m\u001b[39mNone\u001b[39;00m, overlay_color\u001b[39m=\u001b[39m\u001b[39m'\u001b[39m\u001b[39mblack\u001b[39m\u001b[39m'\u001b[39m, overlay_width\u001b[39m=\u001b[39m\u001b[39m1\u001b[39m, overlay_opacity\u001b[39m=\u001b[39m\u001b[39m1.0\u001b[39m, frequency\u001b[39m=\u001b[39m\u001b[39m'\u001b[39m\u001b[39myear\u001b[39m\u001b[39m'\u001b[39m, date_format\u001b[39m=\u001b[39m\u001b[39mNone\u001b[39;00m, title\u001b[39m=\u001b[39m\u001b[39mNone\u001b[39;00m, title_xy\u001b[39m=\u001b[39m(\u001b[39m'\u001b[39m\u001b[39m2\u001b[39m\u001b[39m%\u001b[39m\u001b[39m'\u001b[39m, \u001b[39m'\u001b[39m\u001b[39m90\u001b[39m\u001b[39m%\u001b[39m\u001b[39m'\u001b[39m), add_text\u001b[39m=\u001b[39m\u001b[39mTrue\u001b[39;00m, text_xy\u001b[39m=\u001b[39m(\u001b[39m'\u001b[39m\u001b[39m2\u001b[39m\u001b[39m%\u001b[39m\u001b[39m'\u001b[39m, \u001b[39m'\u001b[39m\u001b[39m2\u001b[39m\u001b[39m%\u001b[39m\u001b[39m'\u001b[39m), text_sequence\u001b[39m=\u001b[39m\u001b[39mNone\u001b[39;00m, font_type\u001b[39m=\u001b[39m\u001b[39m'\u001b[39m\u001b[39marial.ttf\u001b[39m\u001b[39m'\u001b[39m, font_size\u001b[39m=\u001b[39m\u001b[39m20\u001b[39m, font_color\u001b[39m=\u001b[39m\u001b[39m'\u001b[39m\u001b[39mwhite\u001b[39m\u001b[39m'\u001b[39m, add_progress_bar\u001b[39m=\u001b[39m\u001b[39mTrue\u001b[39;00m, progress_bar_color\u001b[39m=\u001b[39m\u001b[39m'\u001b[39m\u001b[39mwhite\u001b[39m\u001b[39m'\u001b[39m, progress_bar_height\u001b[39m=\u001b[39m\u001b[39m5\u001b[39m, loop\u001b[39m=\u001b[39m\u001b[39m0\u001b[39m, mp4\u001b[39m=\u001b[39m\u001b[39mFalse\u001b[39;00m, fading\u001b[39m=\u001b[39m\u001b[39mFalse\u001b[39;00m, step\u001b[39m=\u001b[39m\u001b[39m1\u001b[39m, \u001b[39m*\u001b[39m\u001b[39m*\u001b[39mkwargs)\n",
      "\u001b[1;31mNameError\u001b[0m: name 'sentinel2_timelapse' is not defined"
     ]
    }
   ],
   "source": [
    "sentinel2_timelapse(\n",
    "    roi=None,\n",
    "    out_gif=None,\n",
    "    start_year=2015,\n",
    "    end_year=None,\n",
    "    start_date='06-10',\n",
    "    end_date='09-20',\n",
    "    bands=['NIR', 'Red', 'Green'], vis_params=None, dimensions=768, frames_per_second=5, crs='EPSG:3857', apply_fmask=True, cloud_pct=30, overlay_data=None, overlay_color='black', overlay_width=1, overlay_opacity=1.0, frequency='year', date_format=None, title=None, title_xy=('2%', '90%'), add_text=True, text_xy=('2%', '2%'), text_sequence=None, font_type='arial.ttf', font_size=20, font_color='white', add_progress_bar=True, progress_bar_color='white', progress_bar_height=5, loop=0, mp4=False, fading=False, step=1, **kwargs)"
   ]
  }
 ],
 "metadata": {
  "kernelspec": {
   "display_name": "llm",
   "language": "python",
   "name": "python3"
  },
  "language_info": {
   "codemirror_mode": {
    "name": "ipython",
    "version": 3
   },
   "file_extension": ".py",
   "mimetype": "text/x-python",
   "name": "python",
   "nbconvert_exporter": "python",
   "pygments_lexer": "ipython3",
   "version": "3.9.18"
  }
 },
 "nbformat": 4,
 "nbformat_minor": 2
}
