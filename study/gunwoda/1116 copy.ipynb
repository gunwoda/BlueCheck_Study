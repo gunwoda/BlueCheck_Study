{
 "cells": [
  {
   "cell_type": "code",
   "execution_count": 1,
   "metadata": {},
   "outputs": [],
   "source": [
    "import ee\n",
    "import pandas as pd\n",
    "from prophet import Prophet\n",
    "import streamlit as st\n",
    "import plotly.express as px\n",
    "import plotly.graph_objs as go\n",
    "from plotly.subplots import make_subplots\n",
    "import folium\n",
    "import geemap"
   ]
  },
  {
   "cell_type": "code",
   "execution_count": 2,
   "metadata": {},
   "outputs": [
    {
     "data": {
      "text/html": [
       "\n",
       "            <style>\n",
       "                .geemap-dark {\n",
       "                    --jp-widgets-color: white;\n",
       "                    --jp-widgets-label-color: white;\n",
       "                    --jp-ui-font-color1: white;\n",
       "                    --jp-layout-color2: #454545;\n",
       "                    background-color: #383838;\n",
       "                }\n",
       "                    \n",
       "                .geemap-dark .jupyter-button {\n",
       "                    --jp-layout-color3: #383838;\n",
       "                }\n",
       "                \n",
       "                .geemap-colab {\n",
       "                    background-color: var(--colab-primary-surface-color, white);\n",
       "                }\n",
       "                    \n",
       "                .geemap-colab .jupyter-button {\n",
       "                    --jp-layout-color3: var(--colab-primary-surface-color, white);\n",
       "                }\n",
       "            </style>\n",
       "            "
      ],
      "text/plain": [
       "<IPython.core.display.HTML object>"
      ]
     },
     "metadata": {},
     "output_type": "display_data"
    }
   ],
   "source": [
    "# Earth Engine API 초기화\n",
    "ee.Initialize()"
   ]
  },
  {
   "cell_type": "code",
   "execution_count": 3,
   "metadata": {},
   "outputs": [
    {
     "data": {
      "text/html": [
       "\n",
       "            <style>\n",
       "                .geemap-dark {\n",
       "                    --jp-widgets-color: white;\n",
       "                    --jp-widgets-label-color: white;\n",
       "                    --jp-ui-font-color1: white;\n",
       "                    --jp-layout-color2: #454545;\n",
       "                    background-color: #383838;\n",
       "                }\n",
       "                    \n",
       "                .geemap-dark .jupyter-button {\n",
       "                    --jp-layout-color3: #383838;\n",
       "                }\n",
       "                \n",
       "                .geemap-colab {\n",
       "                    background-color: var(--colab-primary-surface-color, white);\n",
       "                }\n",
       "                    \n",
       "                .geemap-colab .jupyter-button {\n",
       "                    --jp-layout-color3: var(--colab-primary-surface-color, white);\n",
       "                }\n",
       "            </style>\n",
       "            "
      ],
      "text/plain": [
       "<IPython.core.display.HTML object>"
      ]
     },
     "metadata": {},
     "output_type": "display_data"
    }
   ],
   "source": [
    "aoi = ee.Geometry.Polygon(\n",
    "    [[[126.19653266055587, 36.853168924185226],\n",
    "      [126.19653266055587, 36.83836240145186],\n",
    "      [126.21259510596076, 36.83836240145186],\n",
    "      [126.21259510596076, 36.853168924185226],\n",
    "      [126.19653266055587, 36.853168924185226]]]\n",
    ")"
   ]
  },
  {
   "cell_type": "code",
   "execution_count": 4,
   "metadata": {},
   "outputs": [
    {
     "data": {
      "text/html": [
       "\n",
       "            <style>\n",
       "                .geemap-dark {\n",
       "                    --jp-widgets-color: white;\n",
       "                    --jp-widgets-label-color: white;\n",
       "                    --jp-ui-font-color1: white;\n",
       "                    --jp-layout-color2: #454545;\n",
       "                    background-color: #383838;\n",
       "                }\n",
       "                    \n",
       "                .geemap-dark .jupyter-button {\n",
       "                    --jp-layout-color3: #383838;\n",
       "                }\n",
       "                \n",
       "                .geemap-colab {\n",
       "                    background-color: var(--colab-primary-surface-color, white);\n",
       "                }\n",
       "                    \n",
       "                .geemap-colab .jupyter-button {\n",
       "                    --jp-layout-color3: var(--colab-primary-surface-color, white);\n",
       "                }\n",
       "            </style>\n",
       "            "
      ],
      "text/plain": [
       "<IPython.core.display.HTML object>"
      ]
     },
     "metadata": {},
     "output_type": "display_data"
    }
   ],
   "source": [
    "start_date = '2021-01-01'\n",
    "end_date = '2023-10-31'"
   ]
  },
  {
   "cell_type": "code",
   "execution_count": 5,
   "metadata": {},
   "outputs": [
    {
     "data": {
      "text/html": [
       "\n",
       "            <style>\n",
       "                .geemap-dark {\n",
       "                    --jp-widgets-color: white;\n",
       "                    --jp-widgets-label-color: white;\n",
       "                    --jp-ui-font-color1: white;\n",
       "                    --jp-layout-color2: #454545;\n",
       "                    background-color: #383838;\n",
       "                }\n",
       "                    \n",
       "                .geemap-dark .jupyter-button {\n",
       "                    --jp-layout-color3: #383838;\n",
       "                }\n",
       "                \n",
       "                .geemap-colab {\n",
       "                    background-color: var(--colab-primary-surface-color, white);\n",
       "                }\n",
       "                    \n",
       "                .geemap-colab .jupyter-button {\n",
       "                    --jp-layout-color3: var(--colab-primary-surface-color, white);\n",
       "                }\n",
       "            </style>\n",
       "            "
      ],
      "text/plain": [
       "<IPython.core.display.HTML object>"
      ]
     },
     "metadata": {},
     "output_type": "display_data"
    }
   ],
   "source": [
    "sentinel2 = ee.ImageCollection('COPERNICUS/S2_HARMONIZED') \\\n",
    "            .filterBounds(aoi) \\\n",
    "            .filterDate(start_date, end_date) \\\n",
    "            .filter(ee.Filter.lt('CLOUDY_PIXEL_PERCENTAGE', 30)) \\\n",
    "            .first()"
   ]
  },
  {
   "cell_type": "code",
   "execution_count": 6,
   "metadata": {},
   "outputs": [
    {
     "data": {
      "text/html": [
       "\n",
       "            <style>\n",
       "                .geemap-dark {\n",
       "                    --jp-widgets-color: white;\n",
       "                    --jp-widgets-label-color: white;\n",
       "                    --jp-ui-font-color1: white;\n",
       "                    --jp-layout-color2: #454545;\n",
       "                    background-color: #383838;\n",
       "                }\n",
       "                    \n",
       "                .geemap-dark .jupyter-button {\n",
       "                    --jp-layout-color3: #383838;\n",
       "                }\n",
       "                \n",
       "                .geemap-colab {\n",
       "                    background-color: var(--colab-primary-surface-color, white);\n",
       "                }\n",
       "                    \n",
       "                .geemap-colab .jupyter-button {\n",
       "                    --jp-layout-color3: var(--colab-primary-surface-color, white);\n",
       "                }\n",
       "            </style>\n",
       "            "
      ],
      "text/plain": [
       "<IPython.core.display.HTML object>"
      ]
     },
     "metadata": {},
     "output_type": "display_data"
    },
    {
     "data": {
      "application/vnd.jupyter.widget-view+json": {
       "model_id": "7ae06c159e484f06afdb4cb5b1dd7a2e",
       "version_major": 2,
       "version_minor": 0
      },
      "text/plain": [
       "Map(center=[36.84576569399065, 126.2045638832557], controls=(WidgetControl(options=['position', 'transparent_b…"
      ]
     },
     "execution_count": 6,
     "metadata": {},
     "output_type": "execute_result"
    }
   ],
   "source": [
    "def calculate_moisture(img):\n",
    "    moisture = img.normalizedDifference(['B8A', 'B11'])\n",
    "    return img.addBands(moisture.rename('moisture'))\n",
    "\n",
    "def calculate_NDWI(img):\n",
    "    NDWI = img.normalizedDifference(['B3', 'B8'])\n",
    "    return img.addBands(NDWI.rename('NDWI'))\n",
    "\n",
    "def water_bodies_index(img):\n",
    "    moisture = img.select('moisture')\n",
    "    NDWI = img.select('NDWI')\n",
    "    water_bodies = NDWI.subtract(moisture).divide(NDWI.add(moisture))\n",
    "    return img.addBands(water_bodies.rename('water_bodies'))\n",
    "\n",
    "def calculate_water_plants(img):\n",
    "    water_plants = img.normalizedDifference(['B5', 'B4'])\n",
    "    NIR2 = img.expression(\n",
    "        'B4 + (B11 - B4) * ((832.8 - 664.6) / (1613.7 - 664.6))',\n",
    "        {\n",
    "            'B4': img.select('B4'),\n",
    "            'B11': img.select('B11')\n",
    "        }\n",
    "    )\n",
    "    FAI = img.select('B8').subtract(NIR2)\n",
    "    \n",
    "    # # Calculate underwater vegetation index\n",
    "    # UVI = img.normalizedDifference(['B3', 'B5'])\n",
    "    \n",
    "    # return img.addBands(water_plants.rename('water_plants')).addBands(FAI.rename('FAI')).addBands(UVI.rename('UVI'))\n",
    "    return img.addBands(water_plants.rename('water_plants')).addBands(FAI.rename('FAI'))\n",
    "\n",
    "def calculate_wevi(img):\n",
    "    # WEVI 계산: (B3 - B4) / (B3 + B4 - B2)\n",
    "    green = img.select('B3')\n",
    "    red = img.select('B4')\n",
    "    blue = img.select('B2')\n",
    "\n",
    "    wevi = green.subtract(red).divide(green.add(red).subtract(blue))\n",
    "    return img.addBands(wevi.rename('WEVI'))\n",
    "\n",
    "def calculate_wavi(img, alpha=1, beta=0.1):\n",
    "    # WAVI 계산: (B8 - B4) / (B8 + B4 - α * B2 + β)\n",
    "    NIR = img.select('B8')  # Near-Infrared\n",
    "    RED = img.select('B4')  # Red\n",
    "    BLUE = img.select('B2')  # Blue\n",
    "\n",
    "    wavi = NIR.subtract(RED).divide(NIR.add(RED).subtract(BLUE.multiply(alpha)).add(beta)).rename('WAVI')\n",
    "    return img.addBands(wavi)\n",
    "\n",
    "def calculate_ndvi(img):\n",
    "    # NDVI 계산: (B8 - B4) / (B8 + B4)\n",
    "    NIR = img.select('B8')  # Near-Infrared\n",
    "    RED = img.select('B4')  # Red\n",
    "\n",
    "    ndvi = NIR.subtract(RED).divide(NIR.add(RED)).rename('NDVI')\n",
    "    return img.addBands(ndvi)\n",
    "\n",
    "def cloud_mask(img):\n",
    "    bRatio = img.normalizedDifference(['B3', 'B4'])\n",
    "    NDGR = img.normalizedDifference(['B3', 'B4'])\n",
    "    mask = bRatio.gt(1).Or(bRatio.gt(0).And(NDGR.gt(0)))\n",
    "    return img.updateMask(mask.Not())\n",
    "# def mask_water_bodies(img):\n",
    "#     # 'water_bodies' 밴드 선택\n",
    "#     # water_bodies = img.select('water_bodies')\n",
    "#     ndvi = img.select('NDVI')\n",
    "\n",
    "#     # 수역을 나타내는 마스크 생성 (예: 'water_bodies' 값이 0보다 큰 픽셀)\n",
    "#     water_mask = ndvi.lt(0.8)\n",
    "#     # 마스크를 적용하여 수역만을 포함하는 이미지 반환\n",
    "#     return img.updateMask(water_mask)\n",
    "\n",
    "def process_image(img):\n",
    "    img = calculate_moisture(img)\n",
    "    img = calculate_NDWI(img)\n",
    "    img = water_bodies_index(img)\n",
    "    img = calculate_wavi(img)\n",
    "    img = calculate_wevi(img)\n",
    "    img = calculate_ndvi(img)\n",
    "    # img = cloud_mask(img)  # 구름 마스킹은 현재 주석 처리되어 있습니다.\n",
    "    return img\n",
    "# 신두리사구의 좌표를 사용하여 영역을 정의\n",
    "# 신두리사구의 좌표를 사용하여 영역을 정의\n",
    "sinduri_location = ee.Geometry.Polygon([\n",
    "    [128.913574, 35.024936],\n",
    "    [128.913574, 35.090979],\n",
    "    [128.980522, 35.090979],\n",
    "    [128.980522, 35.024936],\n",
    "    [128.913574, 35.024936]\n",
    "])\n",
    "# 예제 이미지에 함수 적용 (이미지 ID는 적절하게 변경해야 함)\n",
    "example_image_collection = ee.ImageCollection('COPERNICUS/S2_SR_HARMONIZED')\\\n",
    "    .filterDate('2020-01-01', '2020-03-30')\\\n",
    "    .filter(ee.Filter.lt('CLOUDY_PIXEL_PERCENTAGE', 10))\\\n",
    "    .filterBounds(aoi)\n",
    "\n",
    "# ImageCollection에서 첫 번째 이미지 선택\n",
    "example_image = example_image_collection.first()  # 첫 번째 이미지를 선택\n",
    "\n",
    "processed_image = process_image(example_image)\n",
    "# 지도 생성 및 시각화\n",
    "# 처리된 이미지에 수역 마스킹 적용\n",
    "processed_image = cloud_mask(processed_image)\n",
    "\n",
    "Map = geemap.Map()\n",
    "Map.centerObject(aoi, 14)  # 신두리사구를 중심으로 설정\n",
    "\n",
    "# 육지를 마스킹하기 위한 조건 설정\n",
    "# water_mask = processed_image.select('UVI').gt(0.5)  # 예시로 0.5보다 큰 값인 픽셀을 수상으로 간주\n",
    "\n",
    "# 처리된 이미지를 지도에 추가 (수중식물 지수 사용) - 수상만 표시\n",
    "uvi_params = {\n",
    "    'bands': ['WEVI'],  # UVI 밴드만 사용\n",
    "    'min': -0.4, # 수중식물 지수의 최소값\n",
    "    'max': 1,   # 수중식물 지수의 최대값\n",
    "    # 'palette': ['purple', 'blue', 'green', 'yellow', 'red']  # 색상 팔레트 설정\n",
    "    'palette': ['red','yellow','green','blue','purple']  # 색상 팔레트 설정\n",
    "}\n",
    "Map.addLayer(processed_image, uvi_params, 'Processed Image (FAI)')\n",
    "\n",
    "# # 다른 밴드도 추가할 경우 (False Color Composite 사용) - 육지 마스킹 적용\n",
    "# false_color_params = {\n",
    "#     'bands': ['B8', 'B4', 'B3'],  # B8, B4, B3 밴드를 사용하여 가짜색 합성\n",
    "#     'min': 0,\n",
    "#     'max': 3000\n",
    "# }\n",
    "# Map.addLayer(processed_image.updateMask(water_mask), false_color_params, 'Processed Image (False Color - Water Only)')\n",
    "\n",
    "# 지도를 화면에 표시\n",
    "Map"
   ]
  },
  {
   "cell_type": "code",
   "execution_count": 8,
   "metadata": {},
   "outputs": [
    {
     "data": {
      "text/html": [
       "\n",
       "            <style>\n",
       "                .geemap-dark {\n",
       "                    --jp-widgets-color: white;\n",
       "                    --jp-widgets-label-color: white;\n",
       "                    --jp-ui-font-color1: white;\n",
       "                    --jp-layout-color2: #454545;\n",
       "                    background-color: #383838;\n",
       "                }\n",
       "                    \n",
       "                .geemap-dark .jupyter-button {\n",
       "                    --jp-layout-color3: #383838;\n",
       "                }\n",
       "                \n",
       "                .geemap-colab {\n",
       "                    background-color: var(--colab-primary-surface-color, white);\n",
       "                }\n",
       "                    \n",
       "                .geemap-colab .jupyter-button {\n",
       "                    --jp-layout-color3: var(--colab-primary-surface-color, white);\n",
       "                }\n",
       "            </style>\n",
       "            "
      ],
      "text/plain": [
       "<IPython.core.display.HTML object>"
      ]
     },
     "metadata": {},
     "output_type": "display_data"
    },
    {
     "data": {
      "application/vnd.jupyter.widget-view+json": {
       "model_id": "4c22b0f2b2dd413e804a5d07aec0db9e",
       "version_major": 2,
       "version_minor": 0
      },
      "text/plain": [
       "Map(center=[36.75349996375475, 126.52550000000431], controls=(WidgetControl(options=['position', 'transparent_…"
      ]
     },
     "execution_count": 8,
     "metadata": {},
     "output_type": "execute_result"
    }
   ],
   "source": [
    "Map"
   ]
  },
  {
   "cell_type": "code",
   "execution_count": 11,
   "metadata": {},
   "outputs": [
    {
     "data": {
      "text/html": [
       "\n",
       "            <style>\n",
       "                .geemap-dark {\n",
       "                    --jp-widgets-color: white;\n",
       "                    --jp-widgets-label-color: white;\n",
       "                    --jp-ui-font-color1: white;\n",
       "                    --jp-layout-color2: #454545;\n",
       "                    background-color: #383838;\n",
       "                }\n",
       "                    \n",
       "                .geemap-dark .jupyter-button {\n",
       "                    --jp-layout-color3: #383838;\n",
       "                }\n",
       "                \n",
       "                .geemap-colab {\n",
       "                    background-color: var(--colab-primary-surface-color, white);\n",
       "                }\n",
       "                    \n",
       "                .geemap-colab .jupyter-button {\n",
       "                    --jp-layout-color3: var(--colab-primary-surface-color, white);\n",
       "                }\n",
       "            </style>\n",
       "            "
      ],
      "text/plain": [
       "<IPython.core.display.HTML object>"
      ]
     },
     "metadata": {},
     "output_type": "display_data"
    }
   ],
   "source": [
    "ee.Initialize()"
   ]
  },
  {
   "cell_type": "code",
   "execution_count": 3,
   "metadata": {},
   "outputs": [
    {
     "ename": "NameError",
     "evalue": "name 'ee' is not defined",
     "output_type": "error",
     "traceback": [
      "\u001b[0;31m---------------------------------------------------------------------------\u001b[0m",
      "\u001b[0;31mNameError\u001b[0m                                 Traceback (most recent call last)",
      "\u001b[1;32m/Users/o_jungii/Desktop/pythonws/bigleader/project/Sar-Bluecarbon-Service/study/gunwoda/1116.ipynb 셀 9\u001b[0m line \u001b[0;36m4\n\u001b[1;32m     <a href='vscode-notebook-cell:/Users/o_jungii/Desktop/pythonws/bigleader/project/Sar-Bluecarbon-Service/study/gunwoda/1116.ipynb#X11sZmlsZQ%3D%3D?line=40'>41</a>\u001b[0m     \u001b[39mreturn\u001b[39;00m final_image\n\u001b[1;32m     <a href='vscode-notebook-cell:/Users/o_jungii/Desktop/pythonws/bigleader/project/Sar-Bluecarbon-Service/study/gunwoda/1116.ipynb#X11sZmlsZQ%3D%3D?line=43'>44</a>\u001b[0m \u001b[39m# 이미지 처리 및 시각화 코드\u001b[39;00m\n\u001b[0;32m---> <a href='vscode-notebook-cell:/Users/o_jungii/Desktop/pythonws/bigleader/project/Sar-Bluecarbon-Service/study/gunwoda/1116.ipynb#X11sZmlsZQ%3D%3D?line=44'>45</a>\u001b[0m sinduri_location \u001b[39m=\u001b[39m ee\u001b[39m.\u001b[39mGeometry\u001b[39m.\u001b[39mRectangle([\u001b[39m126.5105\u001b[39m, \u001b[39m36.7385\u001b[39m, \u001b[39m126.5405\u001b[39m, \u001b[39m36.7685\u001b[39m])\n\u001b[1;32m     <a href='vscode-notebook-cell:/Users/o_jungii/Desktop/pythonws/bigleader/project/Sar-Bluecarbon-Service/study/gunwoda/1116.ipynb#X11sZmlsZQ%3D%3D?line=46'>47</a>\u001b[0m example_image_collection \u001b[39m=\u001b[39m ee\u001b[39m.\u001b[39mImageCollection(\u001b[39m'\u001b[39m\u001b[39mCOPERNICUS/S2_SR_HARMONIZED\u001b[39m\u001b[39m'\u001b[39m)\\\n\u001b[1;32m     <a href='vscode-notebook-cell:/Users/o_jungii/Desktop/pythonws/bigleader/project/Sar-Bluecarbon-Service/study/gunwoda/1116.ipynb#X11sZmlsZQ%3D%3D?line=47'>48</a>\u001b[0m     \u001b[39m.\u001b[39mfilterDate(\u001b[39m'\u001b[39m\u001b[39m2020-01-01\u001b[39m\u001b[39m'\u001b[39m, \u001b[39m'\u001b[39m\u001b[39m2020-03-30\u001b[39m\u001b[39m'\u001b[39m)\\\n\u001b[1;32m     <a href='vscode-notebook-cell:/Users/o_jungii/Desktop/pythonws/bigleader/project/Sar-Bluecarbon-Service/study/gunwoda/1116.ipynb#X11sZmlsZQ%3D%3D?line=48'>49</a>\u001b[0m     \u001b[39m.\u001b[39mfilter(ee\u001b[39m.\u001b[39mFilter\u001b[39m.\u001b[39mlt(\u001b[39m'\u001b[39m\u001b[39mCLOUDY_PIXEL_PERCENTAGE\u001b[39m\u001b[39m'\u001b[39m, \u001b[39m10\u001b[39m))\\\n\u001b[1;32m     <a href='vscode-notebook-cell:/Users/o_jungii/Desktop/pythonws/bigleader/project/Sar-Bluecarbon-Service/study/gunwoda/1116.ipynb#X11sZmlsZQ%3D%3D?line=49'>50</a>\u001b[0m     \u001b[39m.\u001b[39mfilterBounds(sinduri_location)\n\u001b[1;32m     <a href='vscode-notebook-cell:/Users/o_jungii/Desktop/pythonws/bigleader/project/Sar-Bluecarbon-Service/study/gunwoda/1116.ipynb#X11sZmlsZQ%3D%3D?line=51'>52</a>\u001b[0m example_image \u001b[39m=\u001b[39m example_image_collection\u001b[39m.\u001b[39mfirst()\n",
      "\u001b[0;31mNameError\u001b[0m: name 'ee' is not defined"
     ]
    }
   ],
   "source": [
    "def calculate_moisture(img):\n",
    "    moisture = img.normalizedDifference(['B8A', 'B11'])\n",
    "    return img.addBands(moisture.rename('moisture'))\n",
    "\n",
    "def calculate_NDWI(img):\n",
    "    NDWI = img.normalizedDifference(['B3', 'B8'])\n",
    "    return img.addBands(NDWI.rename('NDWI'))\n",
    "\n",
    "def water_bodies_index(img):\n",
    "    moisture = img.select('moisture')\n",
    "    NDWI = img.select('NDWI')\n",
    "    water_bodies = NDWI.subtract(moisture).divide(NDWI.add(moisture))\n",
    "    return img.addBands(water_bodies.rename('water_bodies'))\n",
    "\n",
    "def calculate_water_plants(img):\n",
    "    water_plants = img.normalizedDifference(['B5', 'B4'])\n",
    "    NIR2 = img.expression(\n",
    "        'B4 + (B11 - B4) * ((832.8 - 664.6) / (1613.7 - 664.6))',\n",
    "        {\n",
    "            'B4': img.select('B4'),\n",
    "            'B11': img.select('B11')\n",
    "        }\n",
    "    )\n",
    "    FAI = img.select('B8').subtract(NIR2)\n",
    "    \n",
    "    # # Calculate underwater vegetation index\n",
    "    # UVI = img.normalizedDifference(['B3', 'B5'])\n",
    "    \n",
    "    # return img.addBands(water_plants.rename('water_plants')).addBands(FAI.rename('FAI')).addBands(UVI.rename('UVI'))\n",
    "    return img.addBands(water_plants.rename('water_plants')).addBands(FAI.rename('FAI'))\n",
    "\n",
    "def calculate_wevi(img):\n",
    "    # WEVI 계산: (B3 - B4) / (B3 + B4 - B2)\n",
    "    green = img.select('B3')\n",
    "    red = img.select('B4')\n",
    "    blue = img.select('B2')\n",
    "\n",
    "    wevi = green.subtract(red).divide(green.add(red).subtract(blue))\n",
    "    return img.addBands(wevi.rename('WEVI'))\n",
    "\n",
    "def calculate_wavi(img, alpha=1, beta=0.1):\n",
    "    # WAVI 계산: (B8 - B4) / (B8 + B4 - α * B2 + β)\n",
    "    NIR = img.select('B8')  # Near-Infrared\n",
    "    RED = img.select('B4')  # Red\n",
    "    BLUE = img.select('B2')  # Blue\n",
    "\n",
    "    wavi = NIR.subtract(RED).divide(NIR.add(RED).subtract(BLUE.multiply(alpha)).add(beta)).rename('WAVI')\n",
    "    return img.addBands(wavi)\n",
    "\n",
    "def calculate_ndvi(img):\n",
    "    # NDVI 계산: (B8 - B4) / (B8 + B4)\n",
    "    NIR = img.select('B8')  # Near-Infrared\n",
    "    RED = img.select('B4')  # Red\n",
    "\n",
    "    ndvi = NIR.subtract(RED).divide(NIR.add(RED)).rename('NDVI')\n",
    "    return img.addBands(ndvi)\n",
    "\n",
    "def cloud_mask(img):\n",
    "    bRatio = img.normalizedDifference(['B3', 'B4'])\n",
    "    NDGR = img.normalizedDifference(['B3', 'B4'])\n",
    "    mask = bRatio.gt(1).Or(bRatio.gt(0).And(NDGR.gt(0)))\n",
    "    return img.updateMask(mask.Not())\n",
    "# def mask_water_bodies(img):\n",
    "#     # 'water_bodies' 밴드 선택\n",
    "#     # water_bodies = img.select('water_bodies')\n",
    "#     ndvi = img.select('NDVI')\n",
    "\n",
    "#     # 수역을 나타내는 마스크 생성 (예: 'water_bodies' 값이 0보다 큰 픽셀)\n",
    "#     water_mask = ndvi.lt(0.8)\n",
    "#     # 마스크를 적용하여 수역만을 포함하는 이미지 반환\n",
    "#     return img.updateMask(water_mask)\n",
    "\n",
    "def process_image(img):\n",
    "    img = calculate_moisture(img)\n",
    "    img = calculate_NDWI(img)\n",
    "    img = water_bodies_index(img)\n",
    "    img = calculate_wavi(img)\n",
    "    img = calculate_wevi(img)\n",
    "    img = calculate_ndvi(img)\n",
    "    # img = cloud_mask(img)  # 구름 마스킹은 현재 주석 처리되어 있습니다.\n",
    "    return img\n",
    "# 신두리사구의 좌표를 사용하여 영역을 정의\n",
    "# 신두리사구의 좌표를 사용하여 영역을 정의\n",
    "sinduri_location = ee.Geometry.Polygon([\n",
    "    [128.913574, 35.024936],\n",
    "    [128.913574, 35.090979],\n",
    "    [128.980522, 35.090979],\n",
    "    [128.980522, 35.024936],\n",
    "    [128.913574, 35.024936]\n",
    "])\n",
    "# 예제 이미지에 함수 적용 (이미지 ID는 적절하게 변경해야 함)\n",
    "example_image_collection = ee.ImageCollection('COPERNICUS/S2_SR_HARMONIZED')\\\n",
    "    .filterDate('2020-01-01', '2020-03-30')\\\n",
    "    .filter(ee.Filter.lt('CLOUDY_PIXEL_PERCENTAGE', 10))\\\n",
    "    .filterBounds(aoi)\n",
    "\n",
    "# ImageCollection에서 첫 번째 이미지 선택\n",
    "example_image = example_image_collection.first()  # 첫 번째 이미지를 선택\n",
    "\n",
    "processed_image = process_image(example_image)\n",
    "# 지도 생성 및 시각화\n",
    "# 처리된 이미지에 수역 마스킹 적용\n",
    "processed_image = cloud_mask(processed_image)\n",
    "\n",
    "Map = geemap.Map()\n",
    "Map.centerObject(aoi, 14)  # 신두리사구를 중심으로 설정\n",
    "\n",
    "# 육지를 마스킹하기 위한 조건 설정\n",
    "# water_mask = processed_image.select('UVI').gt(0.5)  # 예시로 0.5보다 큰 값인 픽셀을 수상으로 간주\n",
    "\n",
    "# 처리된 이미지를 지도에 추가 (수중식물 지수 사용) - 수상만 표시\n",
    "uvi_params = {\n",
    "    'bands': ['WEVI'],  # UVI 밴드만 사용\n",
    "    'min': -0.4, # 수중식물 지수의 최소값\n",
    "    'max': 1,   # 수중식물 지수의 최대값\n",
    "    # 'palette': ['purple', 'blue', 'green', 'yellow', 'red']  # 색상 팔레트 설정\n",
    "    'palette': ['red','yellow','green','blue','purple']  # 색상 팔레트 설정\n",
    "}\n",
    "Map.addLayer(processed_image, uvi_params, 'Processed Image (FAI)')\n",
    "\n",
    "# # 다른 밴드도 추가할 경우 (False Color Composite 사용) - 육지 마스킹 적용\n",
    "# false_color_params = {\n",
    "#     'bands': ['B8', 'B4', 'B3'],  # B8, B4, B3 밴드를 사용하여 가짜색 합성\n",
    "#     'min': 0,\n",
    "#     'max': 3000\n",
    "# }\n",
    "# Map.addLayer(processed_image.updateMask(water_mask), false_color_params, 'Processed Image (False Color - Water Only)')\n",
    "\n",
    "# 지도를 화면에 표시\n",
    "Map"
   ]
  },
  {
   "cell_type": "code",
   "execution_count": null,
   "metadata": {},
   "outputs": [],
   "source": []
  }
 ],
 "metadata": {
  "kernelspec": {
   "display_name": "cuda",
   "language": "python",
   "name": "python3"
  },
  "language_info": {
   "codemirror_mode": {
    "name": "ipython",
    "version": 3
   },
   "file_extension": ".py",
   "mimetype": "text/x-python",
   "name": "python",
   "nbconvert_exporter": "python",
   "pygments_lexer": "ipython3",
   "version": "3.8.17"
  }
 },
 "nbformat": 4,
 "nbformat_minor": 2
}
