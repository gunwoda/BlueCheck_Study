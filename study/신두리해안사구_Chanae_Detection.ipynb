{
  "nbformat": 4,
  "nbformat_minor": 0,
  "metadata": {
    "colab": {
      "provenance": []
    },
    "kernelspec": {
      "name": "python3",
      "display_name": "Python 3"
    },
    "language_info": {
      "name": "python"
    }
  },
  "cells": [
    {
      "cell_type": "code",
      "execution_count": null,
      "metadata": {
        "colab": {
          "base_uri": "https://localhost:8080/"
        },
        "id": "oir0cy6yOztp",
        "outputId": "b07be249-76c9-4971-afae-41317225b731"
      },
      "outputs": [
        {
          "output_type": "stream",
          "name": "stdout",
          "text": [
            "To authorize access needed by Earth Engine, open the following URL in a web browser and follow the instructions. If the web browser does not start automatically, please manually browse the URL below.\n",
            "\n",
            "    https://code.earthengine.google.com/client-auth?scopes=https%3A//www.googleapis.com/auth/earthengine%20https%3A//www.googleapis.com/auth/devstorage.full_control&request_id=QIoGSMJ2dIsWvAxuJDRb-7IyXog7i5MPnDbMnKe1d1M&tc=J5vwiFC0ghYTTSB34iM-BvcT3Gbgv8GIMmGh9QF83bo&cc=nrm8fE5Rw3n8cbV5o9rtVJfW7-lzYsUhScrfJOyMJoc\n",
            "\n",
            "The authorization workflow will generate a code, which you should paste in the box below.\n",
            "Enter verification code: 4/1AfJohXnViwH9RR-U65VbZv2UZcNyo2nV8RGH89Kk0yuscFE-RFWQBYX44kQ\n",
            "\n",
            "Successfully saved authorization token.\n"
          ]
        }
      ],
      "source": [
        "import ee\n",
        "\n",
        "# Trigger the authentication flow.\n",
        "ee.Authenticate()\n",
        "\n",
        "# Initialize the library.\n",
        "ee.Initialize()"
      ]
    },
    {
      "cell_type": "code",
      "source": [
        "import matplotlib.pyplot as plt\n",
        "import numpy as np\n",
        "from scipy.stats import norm, gamma, f, chi2\n",
        "import IPython.display as disp\n",
        "%matplotlib inline"
      ],
      "metadata": {
        "id": "2DOhYGHUSfHr"
      },
      "execution_count": null,
      "outputs": []
    },
    {
      "cell_type": "code",
      "source": [
        "# Import the Folium library.\n",
        "import folium\n",
        "\n",
        "# Define a method for displaying Earth Engine image tiles to folium map.\n",
        "def add_ee_layer(self, ee_image_object, vis_params, name):\n",
        "  map_id_dict = ee.Image(ee_image_object).getMapId(vis_params)\n",
        "  folium.raster_layers.TileLayer(\n",
        "    tiles = map_id_dict['tile_fetcher'].url_format,\n",
        "    attr = 'Map Data &copy; <a href=\"https://earthengine.google.com/\">Google Earth Engine</a>',\n",
        "    name = name,\n",
        "    overlay = True,\n",
        "    control = True\n",
        "  ).add_to(self)\n",
        "\n",
        "# Add EE drawing method to folium.\n",
        "folium.Map.add_ee_layer = add_ee_layer"
      ],
      "metadata": {
        "id": "fBqV5sFlSfdN"
      },
      "execution_count": null,
      "outputs": []
    },
    {
      "cell_type": "code",
      "source": [
        "geoJSON = {\n",
        "  \"type\": \"FeatureCollection\",\n",
        "  \"features\": [\n",
        "    {\n",
        "      \"type\": \"Feature\",\n",
        "      \"properties\": {\n",
        "        \"name\": \"Sinduri Coastal Dune\"\n",
        "      },\n",
        "      \"geometry\": {\n",
        "        \"type\": \"Polygon\",\n",
        "        \"coordinates\": [\n",
        "          [\n",
        "            [126.17954, 36.82899],\n",
        "            [126.17954, 36.86899],\n",
        "            [126.21954, 36.86899],\n",
        "            [126.21954, 36.82899],\n",
        "            [126.17954, 36.82899]\n",
        "          ]\n",
        "        ]\n",
        "      }\n",
        "    }\n",
        "  ]\n",
        "}\n"
      ],
      "metadata": {
        "id": "JqezWhwNSkOY"
      },
      "execution_count": null,
      "outputs": []
    },
    {
      "cell_type": "code",
      "source": [
        "\n",
        "\n",
        "coords = geoJSON['features'][0]['geometry']['coordinates']\n",
        "aoi = ee.Geometry.Polygon(coords)"
      ],
      "metadata": {
        "id": "-__WrRDcS0Ui"
      },
      "execution_count": null,
      "outputs": []
    },
    {
      "cell_type": "code",
      "source": [
        "ffa_db = ee.Image(ee.ImageCollection('COPERNICUS/S1_GRD')\n",
        "                       .filterBounds(aoi)\n",
        "                       .filterDate(ee.Date('2020-08-01'), ee.Date('2020-08-31'))\n",
        "                       .first()\n",
        "                       .clip(aoi))\n",
        "ffa_fl = ee.Image(ee.ImageCollection('COPERNICUS/S1_GRD_FLOAT')\n",
        "                       .filterBounds(aoi)\n",
        "                       .filterDate(ee.Date('2020-08-01'), ee.Date('2020-08-31'))\n",
        "                       .first()\n",
        "                       .clip(aoi))"
      ],
      "metadata": {
        "id": "NVlFPAJtS_4F"
      },
      "execution_count": null,
      "outputs": []
    },
    {
      "cell_type": "code",
      "source": [
        "ffa_db.bandNames().getInfo()"
      ],
      "metadata": {
        "colab": {
          "base_uri": "https://localhost:8080/"
        },
        "id": "E0MmdM0_U_Gi",
        "outputId": "6fdaeb32-ee5d-44c3-8760-600e02debbb2"
      },
      "execution_count": null,
      "outputs": [
        {
          "output_type": "execute_result",
          "data": {
            "text/plain": [
              "['VV', 'VH', 'angle']"
            ]
          },
          "metadata": {},
          "execution_count": 52
        }
      ]
    },
    {
      "cell_type": "code",
      "source": [
        "url = ffa_db.select('VV').getThumbURL({\n",
        "    'min': -20,\n",
        "    'max': 0\n",
        "})\n",
        "disp.Image(url=url, width=1000)"
      ],
      "metadata": {
        "colab": {
          "base_uri": "https://localhost:8080/",
          "height": 1000
        },
        "id": "mTY-RtVlVBro",
        "outputId": "2f4f4e6c-5df1-412e-df9a-bd231d63ebfb"
      },
      "execution_count": null,
      "outputs": [
        {
          "output_type": "execute_result",
          "data": {
            "text/html": [
              "<img src=\"https://earthengine.googleapis.com/v1/projects/earthengine-legacy/thumbnails/d687ecf9fde63ee813ecd8e275085802-87be0f3ba772c7ec7b683023c8795690:getPixels\" width=\"1000\"/>"
            ],
            "text/plain": [
              "<IPython.core.display.Image object>"
            ]
          },
          "metadata": {},
          "execution_count": 53
        }
      ]
    },
    {
      "cell_type": "code",
      "source": [
        "location = aoi.centroid().coordinates().getInfo()[::-1]\n",
        "\n",
        "# Make an RGB color composite image (VV,VH,VV/VH).\n",
        "rgb = ee.Image.rgb(ffa_db.select('VV'),\n",
        "                   ffa_db.select('VH'),\n",
        "                   ffa_db.select('VV').divide(ffa_db.select('VH')))\n",
        "\n",
        "# Create the map object.\n",
        "m = folium.Map(location=location, zoom_start=12)\n",
        "\n",
        "# Add the S1 rgb composite to the map object.\n",
        "m.add_ee_layer(rgb, {'min': [-20, -20, 0], 'max': [0, 0, 2]}, 'FFA')\n",
        "\n",
        "# Add a layer control panel to the map.\n",
        "m.add_child(folium.LayerControl())\n",
        "\n",
        "# Display the map.\n",
        "display(m)"
      ],
      "metadata": {
        "colab": {
          "base_uri": "https://localhost:8080/",
          "height": 805
        },
        "id": "MRoVcjwcWQyg",
        "outputId": "8a4b3e62-833b-4843-9169-f149f50b7614"
      },
      "execution_count": null,
      "outputs": [
        {
          "output_type": "display_data",
          "data": {
            "text/plain": [
              "<folium.folium.Map at 0x7bfcd872b0a0>"
            ],
            "text/html": [
              "<div style=\"width:100%;\"><div style=\"position:relative;width:100%;height:0;padding-bottom:60%;\"><span style=\"color:#565656\">Make this Notebook Trusted to load map: File -> Trust Notebook</span><iframe srcdoc=\"&lt;!DOCTYPE html&gt;\n",
              "&lt;html&gt;\n",
              "&lt;head&gt;\n",
              "    \n",
              "    &lt;meta http-equiv=&quot;content-type&quot; content=&quot;text/html; charset=UTF-8&quot; /&gt;\n",
              "    \n",
              "        &lt;script&gt;\n",
              "            L_NO_TOUCH = false;\n",
              "            L_DISABLE_3D = false;\n",
              "        &lt;/script&gt;\n",
              "    \n",
              "    &lt;style&gt;html, body {width: 100%;height: 100%;margin: 0;padding: 0;}&lt;/style&gt;\n",
              "    &lt;style&gt;#map {position:absolute;top:0;bottom:0;right:0;left:0;}&lt;/style&gt;\n",
              "    &lt;script src=&quot;https://cdn.jsdelivr.net/npm/leaflet@1.9.3/dist/leaflet.js&quot;&gt;&lt;/script&gt;\n",
              "    &lt;script src=&quot;https://code.jquery.com/jquery-1.12.4.min.js&quot;&gt;&lt;/script&gt;\n",
              "    &lt;script src=&quot;https://cdn.jsdelivr.net/npm/bootstrap@5.2.2/dist/js/bootstrap.bundle.min.js&quot;&gt;&lt;/script&gt;\n",
              "    &lt;script src=&quot;https://cdnjs.cloudflare.com/ajax/libs/Leaflet.awesome-markers/2.0.2/leaflet.awesome-markers.js&quot;&gt;&lt;/script&gt;\n",
              "    &lt;link rel=&quot;stylesheet&quot; href=&quot;https://cdn.jsdelivr.net/npm/leaflet@1.9.3/dist/leaflet.css&quot;/&gt;\n",
              "    &lt;link rel=&quot;stylesheet&quot; href=&quot;https://cdn.jsdelivr.net/npm/bootstrap@5.2.2/dist/css/bootstrap.min.css&quot;/&gt;\n",
              "    &lt;link rel=&quot;stylesheet&quot; href=&quot;https://netdna.bootstrapcdn.com/bootstrap/3.0.0/css/bootstrap.min.css&quot;/&gt;\n",
              "    &lt;link rel=&quot;stylesheet&quot; href=&quot;https://cdn.jsdelivr.net/npm/@fortawesome/fontawesome-free@6.2.0/css/all.min.css&quot;/&gt;\n",
              "    &lt;link rel=&quot;stylesheet&quot; href=&quot;https://cdnjs.cloudflare.com/ajax/libs/Leaflet.awesome-markers/2.0.2/leaflet.awesome-markers.css&quot;/&gt;\n",
              "    &lt;link rel=&quot;stylesheet&quot; href=&quot;https://cdn.jsdelivr.net/gh/python-visualization/folium/folium/templates/leaflet.awesome.rotate.min.css&quot;/&gt;\n",
              "    \n",
              "            &lt;meta name=&quot;viewport&quot; content=&quot;width=device-width,\n",
              "                initial-scale=1.0, maximum-scale=1.0, user-scalable=no&quot; /&gt;\n",
              "            &lt;style&gt;\n",
              "                #map_d8b03b200ee16c1586933a94813c27c8 {\n",
              "                    position: relative;\n",
              "                    width: 100.0%;\n",
              "                    height: 100.0%;\n",
              "                    left: 0.0%;\n",
              "                    top: 0.0%;\n",
              "                }\n",
              "                .leaflet-container { font-size: 1rem; }\n",
              "            &lt;/style&gt;\n",
              "        \n",
              "&lt;/head&gt;\n",
              "&lt;body&gt;\n",
              "    \n",
              "    \n",
              "            &lt;div class=&quot;folium-map&quot; id=&quot;map_d8b03b200ee16c1586933a94813c27c8&quot; &gt;&lt;/div&gt;\n",
              "        \n",
              "&lt;/body&gt;\n",
              "&lt;script&gt;\n",
              "    \n",
              "    \n",
              "            var map_d8b03b200ee16c1586933a94813c27c8 = L.map(\n",
              "                &quot;map_d8b03b200ee16c1586933a94813c27c8&quot;,\n",
              "                {\n",
              "                    center: [36.848989931147514, 126.1995399999959],\n",
              "                    crs: L.CRS.EPSG3857,\n",
              "                    zoom: 12,\n",
              "                    zoomControl: true,\n",
              "                    preferCanvas: false,\n",
              "                }\n",
              "            );\n",
              "\n",
              "            \n",
              "\n",
              "        \n",
              "    \n",
              "            var tile_layer_674ff0228e11716eefc61cb41ce7f273 = L.tileLayer(\n",
              "                &quot;https://{s}.tile.openstreetmap.org/{z}/{x}/{y}.png&quot;,\n",
              "                {&quot;attribution&quot;: &quot;Data by \\u0026copy; \\u003ca target=\\&quot;_blank\\&quot; href=\\&quot;http://openstreetmap.org\\&quot;\\u003eOpenStreetMap\\u003c/a\\u003e, under \\u003ca target=\\&quot;_blank\\&quot; href=\\&quot;http://www.openstreetmap.org/copyright\\&quot;\\u003eODbL\\u003c/a\\u003e.&quot;, &quot;detectRetina&quot;: false, &quot;maxNativeZoom&quot;: 18, &quot;maxZoom&quot;: 18, &quot;minZoom&quot;: 0, &quot;noWrap&quot;: false, &quot;opacity&quot;: 1, &quot;subdomains&quot;: &quot;abc&quot;, &quot;tms&quot;: false}\n",
              "            ).addTo(map_d8b03b200ee16c1586933a94813c27c8);\n",
              "        \n",
              "    \n",
              "            var tile_layer_fae9e367915505256281f47a556e69e8 = L.tileLayer(\n",
              "                &quot;https://earthengine.googleapis.com/v1/projects/earthengine-legacy/maps/0ee07b60f7b998277f135d32abe26894-47f8da90952900328531ab744344a720/tiles/{z}/{x}/{y}&quot;,\n",
              "                {&quot;attribution&quot;: &quot;Map Data \\u0026copy; \\u003ca href=\\&quot;https://earthengine.google.com/\\&quot;\\u003eGoogle Earth Engine\\u003c/a\\u003e&quot;, &quot;detectRetina&quot;: false, &quot;maxNativeZoom&quot;: 18, &quot;maxZoom&quot;: 18, &quot;minZoom&quot;: 0, &quot;noWrap&quot;: false, &quot;opacity&quot;: 1, &quot;subdomains&quot;: &quot;abc&quot;, &quot;tms&quot;: false}\n",
              "            ).addTo(map_d8b03b200ee16c1586933a94813c27c8);\n",
              "        \n",
              "    \n",
              "            var layer_control_fde95463dd32cfc90012413b96d0691d = {\n",
              "                base_layers : {\n",
              "                    &quot;openstreetmap&quot; : tile_layer_674ff0228e11716eefc61cb41ce7f273,\n",
              "                },\n",
              "                overlays :  {\n",
              "                    &quot;FFA&quot; : tile_layer_fae9e367915505256281f47a556e69e8,\n",
              "                },\n",
              "            };\n",
              "            L.control.layers(\n",
              "                layer_control_fde95463dd32cfc90012413b96d0691d.base_layers,\n",
              "                layer_control_fde95463dd32cfc90012413b96d0691d.overlays,\n",
              "                {&quot;autoZIndex&quot;: true, &quot;collapsed&quot;: true, &quot;position&quot;: &quot;topright&quot;}\n",
              "            ).addTo(map_d8b03b200ee16c1586933a94813c27c8);\n",
              "        \n",
              "&lt;/script&gt;\n",
              "&lt;/html&gt;\" style=\"position:absolute;width:100%;height:100%;left:0;top:0;border:none !important;\" allowfullscreen webkitallowfullscreen mozallowfullscreen></iframe></div></div>"
            ]
          },
          "metadata": {}
        }
      ]
    },
    {
      "cell_type": "code",
      "source": [
        "coords = geoJSON['features'][0]['geometry']['coordinates']\n",
        "aoi_sub = ee.Geometry.Polygon(coords)"
      ],
      "metadata": {
        "id": "qP0OrEvoXXuA"
      },
      "execution_count": null,
      "outputs": []
    },
    {
      "cell_type": "code",
      "source": [
        "geoJSON = {\n",
        "  \"type\": \"FeatureCollection\",\n",
        "  \"features\": [\n",
        "    {\n",
        "      \"type\": \"Feature\",\n",
        "      \"properties\": {\n",
        "        \"name\": \"Sinduri Coastal Dune East\"\n",
        "      },\n",
        "      \"geometry\": {\n",
        "        \"type\": \"Polygon\",\n",
        "        \"coordinates\": [\n",
        "          [\n",
        "            [126.17954 + 0.0225, 36.82899],\n",
        "            [126.17954 + 0.0225, 36.86899],\n",
        "            [126.21954 + 0.0225, 36.86899],\n",
        "            [126.21954 + 0.0225, 36.82899],\n",
        "            [126.17954 + 0.0225, 36.82899]\n",
        "          ]\n",
        "        ]\n",
        "      }\n",
        "    }\n",
        "  ]\n",
        "}\n",
        "coords = geoJSON['features'][0]['geometry']['coordinates']\n",
        "aoi_sub = ee.Geometry.Polygon(coords)"
      ],
      "metadata": {
        "id": "Jqd_8R0QY3Xd"
      },
      "execution_count": null,
      "outputs": []
    },
    {
      "cell_type": "code",
      "source": [
        "hist = ffa_fl.select('VV').reduceRegion(\n",
        "    ee.Reducer.fixedHistogram(0, 0.5, 500),aoi_sub).get('VV').getInfo()\n",
        "mean = ffa_fl.select('VV').reduceRegion(\n",
        "    ee.Reducer.mean(), aoi_sub).get('VV').getInfo()\n",
        "variance = ffa_fl.select('VV').reduceRegion(\n",
        "    ee.Reducer.variance(), aoi_sub).get('VV').getInfo()"
      ],
      "metadata": {
        "id": "4lNf2BZHKVBL"
      },
      "execution_count": null,
      "outputs": []
    },
    {
      "cell_type": "code",
      "source": [
        "a = np.array(hist)\n",
        "x = a[:, 0]                 # array of bucket edge positions\n",
        "y = a[:, 1]/np.sum(a[:, 1]) # normalized array of bucket contents\n",
        "plt.grid()\n",
        "plt.plot(x, y, '.')\n",
        "plt.show()"
      ],
      "metadata": {
        "colab": {
          "base_uri": "https://localhost:8080/",
          "height": 430
        },
        "id": "b0awyzbHKXNA",
        "outputId": "5a59b376-ae39-4ad7-cf05-fdd4b2620647"
      },
      "execution_count": null,
      "outputs": [
        {
          "output_type": "display_data",
          "data": {
            "text/plain": [
              "<Figure size 640x480 with 1 Axes>"
            ],
            "image/png": "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\n"
          },
          "metadata": {}
        }
      ]
    },
    {
      "cell_type": "code",
      "source": [
        "alpha = 5\n",
        "beta = mean/alpha\n",
        "plt.grid()\n",
        "plt.plot(x, y, '.', label='data')\n",
        "plt.plot(x, gamma.pdf(x, alpha, 0, beta)/1000, '-r', label='gamma')\n",
        "plt.legend()\n",
        "plt.show()"
      ],
      "metadata": {
        "colab": {
          "base_uri": "https://localhost:8080/",
          "height": 430
        },
        "id": "FH4r5VscKdPl",
        "outputId": "1b0c51a6-204f-492f-9b89-1f9ba768c3a1"
      },
      "execution_count": null,
      "outputs": [
        {
          "output_type": "display_data",
          "data": {
            "text/plain": [
              "<Figure size 640x480 with 1 Axes>"
            ],
            "image/png": "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\n"
          },
          "metadata": {}
        }
      ]
    },
    {
      "cell_type": "code",
      "source": [
        "def X(n):\n",
        "    return np.sum(np.cos(4*np.pi*(np.random.rand(n)-0.5)))/np.sqrt(n/2)\n",
        "\n",
        "n= 10000\n",
        "Xs = [X(n) for i in range(10000)]\n",
        "y, x = np.histogram(Xs, 100, range=[-5,5])\n",
        "plt.plot(x[:-1], y/1000, 'b.', label='simulated data')\n",
        "plt.plot(x, norm.pdf(x), '-r', label='normal distribution')\n",
        "plt.grid()\n",
        "plt.legend()\n",
        "plt.show()"
      ],
      "metadata": {
        "colab": {
          "base_uri": "https://localhost:8080/",
          "height": 430
        },
        "id": "LVA0ySGHKhBY",
        "outputId": "d3640cc5-1132-4ec2-d7f2-89331e6e2d84"
      },
      "execution_count": null,
      "outputs": [
        {
          "output_type": "display_data",
          "data": {
            "text/plain": [
              "<Figure size 640x480 with 1 Axes>"
            ],
            "image/png": "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\n"
          },
          "metadata": {}
        }
      ]
    },
    {
      "cell_type": "code",
      "source": [
        "import matplotlib.pyplot as plt\n",
        "import numpy as np\n",
        "from scipy.stats import norm, gamma, f, chi2\n",
        "import IPython.display as disp\n",
        "%matplotlib inline"
      ],
      "metadata": {
        "id": "Xq9BcXgE3QqZ"
      },
      "execution_count": null,
      "outputs": []
    },
    {
      "cell_type": "code",
      "source": [
        "# Import the Folium library.\n",
        "import folium\n",
        "\n",
        "# Define a method for displaying Earth Engine image tiles to folium map.\n",
        "def add_ee_layer(self, ee_image_object, vis_params, name):\n",
        "  map_id_dict = ee.Image(ee_image_object).getMapId(vis_params)\n",
        "  folium.raster_layers.TileLayer(\n",
        "    tiles = map_id_dict['tile_fetcher'].url_format,\n",
        "    attr = 'Map Data &copy; <a href=\"https://earthengine.google.com/\">Google Earth Engine</a>',\n",
        "    name = name,\n",
        "    overlay = True,\n",
        "    control = True\n",
        "  ).add_to(self)\n",
        "\n",
        "# Add EE drawing method to folium.\n",
        "folium.Map.add_ee_layer = add_ee_layer"
      ],
      "metadata": {
        "id": "7581EtA03VEU"
      },
      "execution_count": null,
      "outputs": []
    },
    {
      "cell_type": "code",
      "source": [
        "geoJSON = {\n",
        "  \"type\": \"FeatureCollection\",\n",
        "  \"features\": [\n",
        "    {\n",
        "      \"type\": \"Feature\",\n",
        "      \"properties\": {\n",
        "        \"name\": \"Sinduri Coastal Dune\"\n",
        "      },\n",
        "      \"geometry\": {\n",
        "        \"type\": \"Polygon\",\n",
        "        \"coordinates\": [\n",
        "          [\n",
        "            [126.17954, 36.82899],\n",
        "            [126.17954, 36.86899],\n",
        "            [126.21954, 36.86899],\n",
        "            [126.21954, 36.82899],\n",
        "            [126.17954, 36.82899]\n",
        "          ]\n",
        "        ]\n",
        "      }\n",
        "    }\n",
        "  ]\n",
        "}\n",
        "\n",
        "coords = geoJSON['features'][0]['geometry']['coordinates']\n",
        "aoi = ee.Geometry.Polygon(coords)\n",
        "geoJSON = {\n",
        "  \"type\": \"FeatureCollection\",\n",
        "  \"features\": [\n",
        "    {\n",
        "      \"type\": \"Feature\",\n",
        "      \"properties\": {\n",
        "        \"name\": \"Sinduri Coastal Dune East\"\n",
        "      },\n",
        "      \"geometry\": {\n",
        "        \"type\": \"Polygon\",\n",
        "        \"coordinates\": [\n",
        "          [\n",
        "            [126.17954 + 0.0225, 36.82899],\n",
        "            [126.17954 + 0.0225, 36.86899],\n",
        "            [126.21954 + 0.0225, 36.86899],\n",
        "            [126.21954 + 0.0225, 36.82899],\n",
        "            [126.17954 + 0.0225, 36.82899]\n",
        "          ]\n",
        "        ]\n",
        "      }\n",
        "    }\n",
        "  ]\n",
        "}\n",
        "coords = geoJSON['features'][0]['geometry']['coordinates']\n",
        "aoi_sub = ee.Geometry.Polygon(coords)"
      ],
      "metadata": {
        "id": "-EykoVSDMwD3"
      },
      "execution_count": null,
      "outputs": []
    },
    {
      "cell_type": "code",
      "source": [
        "im_coll = (ee.ImageCollection('COPERNICUS/S1_GRD_FLOAT')\n",
        "                .filterBounds(aoi)\n",
        "                .filterDate(ee.Date('2020-08-01'),ee.Date('2020-08-31'))\n",
        "                .filter(ee.Filter.eq('orbitProperties_pass', 'ASCENDING'))\n",
        "                .filter(ee.Filter.eq('relativeOrbitNumber_start', 127))\n",
        "                .sort('system:time_start'))"
      ],
      "metadata": {
        "id": "ZKdEuiDe3AR2"
      },
      "execution_count": null,
      "outputs": []
    },
    {
      "cell_type": "code",
      "source": [
        "import time\n",
        "acq_times = im_coll.aggregate_array('system:time_start').getInfo()\n",
        "[time.strftime('%x', time.gmtime(acq_time/1000)) for acq_time in acq_times]"
      ],
      "metadata": {
        "colab": {
          "base_uri": "https://localhost:8080/"
        },
        "id": "G_uHxktu3Znm",
<<<<<<< HEAD
        "outputId": "7611d787-0f27-4dfa-caae-b13567b971c0"
=======
        "outputId": "464483fe-3f8c-4845-dd48-ad8a0cd6ade5"
>>>>>>> 680a1a38307f154d73e7cf571db4c39b1a966f69
      },
      "execution_count": null,
      "outputs": [
        {
          "output_type": "execute_result",
          "data": {
            "text/plain": [
              "['08/07/20', '08/19/20', '08/25/20']"
            ]
          },
          "metadata": {},
<<<<<<< HEAD
          "execution_count": 153
=======
          "execution_count": 23
>>>>>>> 680a1a38307f154d73e7cf571db4c39b1a966f69
        }
      ]
    },
    {
      "cell_type": "code",
      "source": [
        "im_list = im_coll.toList(im_coll.size())\n",
        "im1 = ee.Image(im_list.get(0)).select('VV').clip(aoi_sub)\n",
        "im2 = ee.Image(im_list.get(1)).select('VV').clip(aoi_sub)"
      ],
      "metadata": {
        "id": "wT2GTie63a3K"
      },
      "execution_count": null,
      "outputs": []
    },
    {
      "cell_type": "code",
      "source": [
        "ratio = im1.divide(im2)\n",
        "url = ratio.getThumbURL({'min': 0, 'max': 10})\n",
        "disp.Image(url=url, width=800)"
      ],
      "metadata": {
        "colab": {
          "base_uri": "https://localhost:8080/",
          "height": 1000
        },
        "id": "2emrbF6238Yf",
<<<<<<< HEAD
        "outputId": "36701a31-2f6d-4968-fe55-3a5071e414bb"
=======
        "outputId": "0ed43734-adf1-409e-e4d5-1cb02db38d71"
>>>>>>> 680a1a38307f154d73e7cf571db4c39b1a966f69
      },
      "execution_count": null,
      "outputs": [
        {
          "output_type": "execute_result",
          "data": {
            "text/html": [
<<<<<<< HEAD
              "<img src=\"https://earthengine.googleapis.com/v1/projects/earthengine-legacy/thumbnails/b445a0a684d0085fb7aef356c0966eb9-5ec1c2d7d129359fe7928a0102485391:getPixels\" width=\"800\"/>"
=======
              "<img src=\"https://earthengine.googleapis.com/v1/projects/earthengine-legacy/thumbnails/b445a0a684d0085fb7aef356c0966eb9-98a70d26ec458bde929ceac6aa9de0e0:getPixels\" width=\"800\"/>"
>>>>>>> 680a1a38307f154d73e7cf571db4c39b1a966f69
            ],
            "text/plain": [
              "<IPython.core.display.Image object>"
            ]
          },
          "metadata": {},
<<<<<<< HEAD
          "execution_count": 155
=======
          "execution_count": 25
>>>>>>> 680a1a38307f154d73e7cf571db4c39b1a966f69
        }
      ]
    },
    {
      "cell_type": "code",
      "source": [
        "hist = ratio.reduceRegion(ee.Reducer.fixedHistogram(0, 5, 500), aoi_sub).get('VV').getInfo()\n",
        "mean = ratio.reduceRegion(ee.Reducer.mean(), aoi_sub).get('VV').getInfo()\n",
        "variance = ratio.reduceRegion(ee.Reducer.variance(), aoi_sub).get('VV').getInfo()"
      ],
      "metadata": {
        "id": "OSWAfKsO4BoW"
      },
      "execution_count": null,
      "outputs": []
    },
    {
      "cell_type": "code",
      "source": [
        "a = np.array(hist)\n",
        "x = a[:, 0]\n",
        "y = a[:, 1] / np.sum(a[:, 1])\n",
        "plt.grid()\n",
        "plt.plot(x, y, '.')\n",
        "plt.show()"
      ],
      "metadata": {
        "colab": {
          "base_uri": "https://localhost:8080/",
          "height": 430
        },
        "id": "Aps-Oacl4HXW",
        "outputId": "bfaa20bf-c89d-4052-9ea1-b029e5de5c62"
      },
      "execution_count": null,
      "outputs": [
        {
          "output_type": "display_data",
          "data": {
            "text/plain": [
              "<Figure size 640x480 with 1 Axes>"
            ],
            "image/png": "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\n"
          },
          "metadata": {}
        }
      ]
    },
    {
      "cell_type": "code",
      "source": [
        "m = 5\n",
        "plt.grid()\n",
        "plt.plot(x, y, '.', label='data')\n",
        "plt.plot(x, f.pdf(x, 2*m, 2*m) / 100, '-r', label='F-dist')\n",
        "plt.legend()\n",
        "plt.show()"
      ],
      "metadata": {
        "colab": {
          "base_uri": "https://localhost:8080/",
          "height": 430
        },
        "id": "dsooN-pJ4dU1",
        "outputId": "e75c3e2c-721a-466a-a9e7-d21801012993"
      },
      "execution_count": null,
      "outputs": [
        {
          "output_type": "display_data",
          "data": {
            "text/plain": [
              "<Figure size 640x480 with 1 Axes>"
            ],
            "image/png": "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\n"
          },
          "metadata": {}
        }
      ]
    },
    {
      "cell_type": "code",
      "source": [
        "print(mean, m/(m-1))\n",
        "print(variance, m*(2*m-1)/(m-1)**2/(m-2))"
      ],
      "metadata": {
        "colab": {
          "base_uri": "https://localhost:8080/"
        },
        "id": "QHY0l_aj4hRN",
        "outputId": "f23a9705-b65a-4adc-8ddf-e8fe8de1a954"
      },
      "execution_count": null,
      "outputs": [
        {
          "output_type": "stream",
          "name": "stdout",
          "text": [
            "1.3255984906152567 1.25\n",
            "0.9622174635438077 0.9375\n"
          ]
        }
      ]
    },
    {
      "cell_type": "code",
      "source": [
        "im1 = ee.Image(im_list.get(0)).select('VV').clip(aoi)\n",
        "im2 = ee.Image(im_list.get(1)).select('VV').clip(aoi)\n",
        "ratio = im1.divide(im2)\n",
        "\n",
        "location = aoi.centroid().coordinates().getInfo()[::-1]\n",
        "mp = folium.Map(location=location, zoom_start=12)\n",
        "mp.add_ee_layer(ratio,\n",
        "                {'min': 0, 'max': 20, 'palette': ['black', 'white']}, 'Ratio')\n",
        "mp.add_child(folium.LayerControl())\n",
        "\n",
        "display(mp)"
      ],
      "metadata": {
        "colab": {
          "base_uri": "https://localhost:8080/",
          "height": 808
        },
        "id": "Xp-xecxh4q99",
        "outputId": "30cd4c08-95b8-4737-fc5e-1ef1677caa81"
      },
      "execution_count": null,
      "outputs": [
        {
          "output_type": "display_data",
          "data": {
            "text/plain": [
              "<folium.folium.Map at 0x7ee6434626e0>"
            ],
            "text/html": [
              "<div style=\"width:100%;\"><div style=\"position:relative;width:100%;height:0;padding-bottom:60%;\"><span style=\"color:#565656\">Make this Notebook Trusted to load map: File -> Trust Notebook</span><iframe srcdoc=\"&lt;!DOCTYPE html&gt;\n",
              "&lt;html&gt;\n",
              "&lt;head&gt;\n",
              "    \n",
              "    &lt;meta http-equiv=&quot;content-type&quot; content=&quot;text/html; charset=UTF-8&quot; /&gt;\n",
              "    \n",
              "        &lt;script&gt;\n",
              "            L_NO_TOUCH = false;\n",
              "            L_DISABLE_3D = false;\n",
              "        &lt;/script&gt;\n",
              "    \n",
              "    &lt;style&gt;html, body {width: 100%;height: 100%;margin: 0;padding: 0;}&lt;/style&gt;\n",
              "    &lt;style&gt;#map {position:absolute;top:0;bottom:0;right:0;left:0;}&lt;/style&gt;\n",
              "    &lt;script src=&quot;https://cdn.jsdelivr.net/npm/leaflet@1.9.3/dist/leaflet.js&quot;&gt;&lt;/script&gt;\n",
              "    &lt;script src=&quot;https://code.jquery.com/jquery-1.12.4.min.js&quot;&gt;&lt;/script&gt;\n",
              "    &lt;script src=&quot;https://cdn.jsdelivr.net/npm/bootstrap@5.2.2/dist/js/bootstrap.bundle.min.js&quot;&gt;&lt;/script&gt;\n",
              "    &lt;script src=&quot;https://cdnjs.cloudflare.com/ajax/libs/Leaflet.awesome-markers/2.0.2/leaflet.awesome-markers.js&quot;&gt;&lt;/script&gt;\n",
              "    &lt;link rel=&quot;stylesheet&quot; href=&quot;https://cdn.jsdelivr.net/npm/leaflet@1.9.3/dist/leaflet.css&quot;/&gt;\n",
              "    &lt;link rel=&quot;stylesheet&quot; href=&quot;https://cdn.jsdelivr.net/npm/bootstrap@5.2.2/dist/css/bootstrap.min.css&quot;/&gt;\n",
              "    &lt;link rel=&quot;stylesheet&quot; href=&quot;https://netdna.bootstrapcdn.com/bootstrap/3.0.0/css/bootstrap.min.css&quot;/&gt;\n",
              "    &lt;link rel=&quot;stylesheet&quot; href=&quot;https://cdn.jsdelivr.net/npm/@fortawesome/fontawesome-free@6.2.0/css/all.min.css&quot;/&gt;\n",
              "    &lt;link rel=&quot;stylesheet&quot; href=&quot;https://cdnjs.cloudflare.com/ajax/libs/Leaflet.awesome-markers/2.0.2/leaflet.awesome-markers.css&quot;/&gt;\n",
              "    &lt;link rel=&quot;stylesheet&quot; href=&quot;https://cdn.jsdelivr.net/gh/python-visualization/folium/folium/templates/leaflet.awesome.rotate.min.css&quot;/&gt;\n",
              "    \n",
              "            &lt;meta name=&quot;viewport&quot; content=&quot;width=device-width,\n",
              "                initial-scale=1.0, maximum-scale=1.0, user-scalable=no&quot; /&gt;\n",
              "            &lt;style&gt;\n",
              "                #map_53bf6b8c8520f77c6551a1a21d7e0735 {\n",
              "                    position: relative;\n",
              "                    width: 100.0%;\n",
              "                    height: 100.0%;\n",
              "                    left: 0.0%;\n",
              "                    top: 0.0%;\n",
              "                }\n",
              "                .leaflet-container { font-size: 1rem; }\n",
              "            &lt;/style&gt;\n",
              "        \n",
              "&lt;/head&gt;\n",
              "&lt;body&gt;\n",
              "    \n",
              "    \n",
              "            &lt;div class=&quot;folium-map&quot; id=&quot;map_53bf6b8c8520f77c6551a1a21d7e0735&quot; &gt;&lt;/div&gt;\n",
              "        \n",
              "&lt;/body&gt;\n",
              "&lt;script&gt;\n",
              "    \n",
              "    \n",
              "            var map_53bf6b8c8520f77c6551a1a21d7e0735 = L.map(\n",
              "                &quot;map_53bf6b8c8520f77c6551a1a21d7e0735&quot;,\n",
              "                {\n",
              "                    center: [36.848989931147514, 126.1995399999959],\n",
              "                    crs: L.CRS.EPSG3857,\n",
              "                    zoom: 12,\n",
              "                    zoomControl: true,\n",
              "                    preferCanvas: false,\n",
              "                }\n",
              "            );\n",
              "\n",
              "            \n",
              "\n",
              "        \n",
              "    \n",
              "            var tile_layer_f7e7f99fe1be431237d9d42ebd19188a = L.tileLayer(\n",
              "                &quot;https://{s}.tile.openstreetmap.org/{z}/{x}/{y}.png&quot;,\n",
              "                {&quot;attribution&quot;: &quot;Data by \\u0026copy; \\u003ca target=\\&quot;_blank\\&quot; href=\\&quot;http://openstreetmap.org\\&quot;\\u003eOpenStreetMap\\u003c/a\\u003e, under \\u003ca target=\\&quot;_blank\\&quot; href=\\&quot;http://www.openstreetmap.org/copyright\\&quot;\\u003eODbL\\u003c/a\\u003e.&quot;, &quot;detectRetina&quot;: false, &quot;maxNativeZoom&quot;: 18, &quot;maxZoom&quot;: 18, &quot;minZoom&quot;: 0, &quot;noWrap&quot;: false, &quot;opacity&quot;: 1, &quot;subdomains&quot;: &quot;abc&quot;, &quot;tms&quot;: false}\n",
              "            ).addTo(map_53bf6b8c8520f77c6551a1a21d7e0735);\n",
              "        \n",
              "    \n",
              "            var tile_layer_f25e698193b87a9a7153e7af68249d08 = L.tileLayer(\n",
              "                &quot;https://earthengine.googleapis.com/v1/projects/earthengine-legacy/maps/ede1a53647d0c8ebf0b85bb1c03daf64-a2ec1b83fbd0f2dfd80d8c080b5e7690/tiles/{z}/{x}/{y}&quot;,\n",
              "                {&quot;attribution&quot;: &quot;Map Data \\u0026copy; \\u003ca href=\\&quot;https://earthengine.google.com/\\&quot;\\u003eGoogle Earth Engine\\u003c/a\\u003e&quot;, &quot;detectRetina&quot;: false, &quot;maxNativeZoom&quot;: 18, &quot;maxZoom&quot;: 18, &quot;minZoom&quot;: 0, &quot;noWrap&quot;: false, &quot;opacity&quot;: 1, &quot;subdomains&quot;: &quot;abc&quot;, &quot;tms&quot;: false}\n",
              "            ).addTo(map_53bf6b8c8520f77c6551a1a21d7e0735);\n",
              "        \n",
              "    \n",
              "            var layer_control_fab0b928880617e10f8b8a937af3e739 = {\n",
              "                base_layers : {\n",
              "                    &quot;openstreetmap&quot; : tile_layer_f7e7f99fe1be431237d9d42ebd19188a,\n",
              "                },\n",
              "                overlays :  {\n",
              "                    &quot;Ratio&quot; : tile_layer_f25e698193b87a9a7153e7af68249d08,\n",
              "                },\n",
              "            };\n",
              "            L.control.layers(\n",
              "                layer_control_fab0b928880617e10f8b8a937af3e739.base_layers,\n",
              "                layer_control_fab0b928880617e10f8b8a937af3e739.overlays,\n",
              "                {&quot;autoZIndex&quot;: true, &quot;collapsed&quot;: true, &quot;position&quot;: &quot;topright&quot;}\n",
              "            ).addTo(map_53bf6b8c8520f77c6551a1a21d7e0735);\n",
              "        \n",
              "&lt;/script&gt;\n",
              "&lt;/html&gt;\" style=\"position:absolute;width:100%;height:100%;left:0;top:0;border:none !important;\" allowfullscreen webkitallowfullscreen mozallowfullscreen></iframe></div></div>"
            ]
          },
          "metadata": {}
        }
      ]
    },
    {
      "cell_type": "code",
      "source": [
        "# Decision threshold alpha/2:\n",
        "dt = f.ppf(0.0005, 2*m, 2*m)\n",
        "\n",
        "# LRT statistics.\n",
        "q1 = im1.divide(im2)\n",
        "q2 = im2.divide(im1)\n",
        "\n",
        "# Change map with 0 = no change, 1 = decrease, 2 = increase in intensity.\n",
        "c_map = im1.multiply(0).where(q2.lt(dt), 1)\n",
        "c_map = c_map.where(q1.lt(dt), 2)\n",
        "\n",
        "# Mask no-change pixels.\n",
        "c_map = c_map.updateMask(c_map.gt(0))\n",
        "\n",
        "# Display map with red for increase and blue for decrease in intensity.\n",
        "location = aoi.centroid().coordinates().getInfo()[::-1]\n",
        "mp = folium.Map(\n",
        "    location=location, tiles='Stamen Toner',\n",
        "    zoom_start=13)\n",
        "folium.TileLayer('OpenStreetMap').add_to(mp)\n",
        "mp.add_ee_layer(ratio,\n",
        "                {'min': 0, 'max': 20, 'palette': ['black', 'white']}, 'Ratio')\n",
        "mp.add_ee_layer(c_map,\n",
        "                {'min': 0, 'max': 2, 'palette': ['black', 'blue', 'red']},\n",
        "                'Change Map')\n",
        "mp.add_child(folium.LayerControl())\n",
        "\n",
        "display(mp)"
      ],
      "metadata": {
        "colab": {
          "base_uri": "https://localhost:8080/",
          "height": 808
        },
        "id": "6yvsi3CC41IJ",
        "outputId": "04721c7a-52b4-4bca-8020-6e313a3ff39f"
      },
      "execution_count": null,
      "outputs": [
        {
          "output_type": "display_data",
          "data": {
            "text/plain": [
              "<folium.folium.Map at 0x7ee6427436a0>"
            ],
            "text/html": [
              "<div style=\"width:100%;\"><div style=\"position:relative;width:100%;height:0;padding-bottom:60%;\"><span style=\"color:#565656\">Make this Notebook Trusted to load map: File -> Trust Notebook</span><iframe srcdoc=\"&lt;!DOCTYPE html&gt;\n",
              "&lt;html&gt;\n",
              "&lt;head&gt;\n",
              "    \n",
              "    &lt;meta http-equiv=&quot;content-type&quot; content=&quot;text/html; charset=UTF-8&quot; /&gt;\n",
              "    \n",
              "        &lt;script&gt;\n",
              "            L_NO_TOUCH = false;\n",
              "            L_DISABLE_3D = false;\n",
              "        &lt;/script&gt;\n",
              "    \n",
              "    &lt;style&gt;html, body {width: 100%;height: 100%;margin: 0;padding: 0;}&lt;/style&gt;\n",
              "    &lt;style&gt;#map {position:absolute;top:0;bottom:0;right:0;left:0;}&lt;/style&gt;\n",
              "    &lt;script src=&quot;https://cdn.jsdelivr.net/npm/leaflet@1.9.3/dist/leaflet.js&quot;&gt;&lt;/script&gt;\n",
              "    &lt;script src=&quot;https://code.jquery.com/jquery-1.12.4.min.js&quot;&gt;&lt;/script&gt;\n",
              "    &lt;script src=&quot;https://cdn.jsdelivr.net/npm/bootstrap@5.2.2/dist/js/bootstrap.bundle.min.js&quot;&gt;&lt;/script&gt;\n",
              "    &lt;script src=&quot;https://cdnjs.cloudflare.com/ajax/libs/Leaflet.awesome-markers/2.0.2/leaflet.awesome-markers.js&quot;&gt;&lt;/script&gt;\n",
              "    &lt;link rel=&quot;stylesheet&quot; href=&quot;https://cdn.jsdelivr.net/npm/leaflet@1.9.3/dist/leaflet.css&quot;/&gt;\n",
              "    &lt;link rel=&quot;stylesheet&quot; href=&quot;https://cdn.jsdelivr.net/npm/bootstrap@5.2.2/dist/css/bootstrap.min.css&quot;/&gt;\n",
              "    &lt;link rel=&quot;stylesheet&quot; href=&quot;https://netdna.bootstrapcdn.com/bootstrap/3.0.0/css/bootstrap.min.css&quot;/&gt;\n",
              "    &lt;link rel=&quot;stylesheet&quot; href=&quot;https://cdn.jsdelivr.net/npm/@fortawesome/fontawesome-free@6.2.0/css/all.min.css&quot;/&gt;\n",
              "    &lt;link rel=&quot;stylesheet&quot; href=&quot;https://cdnjs.cloudflare.com/ajax/libs/Leaflet.awesome-markers/2.0.2/leaflet.awesome-markers.css&quot;/&gt;\n",
              "    &lt;link rel=&quot;stylesheet&quot; href=&quot;https://cdn.jsdelivr.net/gh/python-visualization/folium/folium/templates/leaflet.awesome.rotate.min.css&quot;/&gt;\n",
              "    \n",
              "            &lt;meta name=&quot;viewport&quot; content=&quot;width=device-width,\n",
              "                initial-scale=1.0, maximum-scale=1.0, user-scalable=no&quot; /&gt;\n",
              "            &lt;style&gt;\n",
              "                #map_56cc02860f25678044828c1372067f7e {\n",
              "                    position: relative;\n",
              "                    width: 100.0%;\n",
              "                    height: 100.0%;\n",
              "                    left: 0.0%;\n",
              "                    top: 0.0%;\n",
              "                }\n",
              "                .leaflet-container { font-size: 1rem; }\n",
              "            &lt;/style&gt;\n",
              "        \n",
              "&lt;/head&gt;\n",
              "&lt;body&gt;\n",
              "    \n",
              "    \n",
              "            &lt;div class=&quot;folium-map&quot; id=&quot;map_56cc02860f25678044828c1372067f7e&quot; &gt;&lt;/div&gt;\n",
              "        \n",
              "&lt;/body&gt;\n",
              "&lt;script&gt;\n",
              "    \n",
              "    \n",
              "            var map_56cc02860f25678044828c1372067f7e = L.map(\n",
              "                &quot;map_56cc02860f25678044828c1372067f7e&quot;,\n",
              "                {\n",
              "                    center: [36.848989931147514, 126.1995399999959],\n",
              "                    crs: L.CRS.EPSG3857,\n",
              "                    zoom: 13,\n",
              "                    zoomControl: true,\n",
              "                    preferCanvas: false,\n",
              "                }\n",
              "            );\n",
              "\n",
              "            \n",
              "\n",
              "        \n",
              "    \n",
              "            var tile_layer_6b5a74028ace1e6c1f57599c796d917e = L.tileLayer(\n",
              "                &quot;https://stamen-tiles-{s}.a.ssl.fastly.net/toner/{z}/{x}/{y}.png&quot;,\n",
              "                {&quot;attribution&quot;: &quot;Map tiles by \\u003ca target=\\&quot;_blank\\&quot; href=\\&quot;http://stamen.com\\&quot;\\u003eStamen Design\\u003c/a\\u003e, under \\u003ca target=\\&quot;_blank\\&quot; href=\\&quot;http://creativecommons.org/licenses/by/3.0\\&quot;\\u003eCC BY 3.0\\u003c/a\\u003e. Data by \\u0026copy; \\u003ca target=\\&quot;_blank\\&quot; href=\\&quot;http://openstreetmap.org\\&quot;\\u003eOpenStreetMap\\u003c/a\\u003e, under \\u003ca target=\\&quot;_blank\\&quot; href=\\&quot;http://www.openstreetmap.org/copyright\\&quot;\\u003eODbL\\u003c/a\\u003e.&quot;, &quot;detectRetina&quot;: false, &quot;maxNativeZoom&quot;: 18, &quot;maxZoom&quot;: 18, &quot;minZoom&quot;: 0, &quot;noWrap&quot;: false, &quot;opacity&quot;: 1, &quot;subdomains&quot;: &quot;abc&quot;, &quot;tms&quot;: false}\n",
              "            ).addTo(map_56cc02860f25678044828c1372067f7e);\n",
              "        \n",
              "    \n",
              "            var tile_layer_7fab232595a29c2c6bf2f2edd257c5e4 = L.tileLayer(\n",
              "                &quot;https://{s}.tile.openstreetmap.org/{z}/{x}/{y}.png&quot;,\n",
              "                {&quot;attribution&quot;: &quot;Data by \\u0026copy; \\u003ca target=\\&quot;_blank\\&quot; href=\\&quot;http://openstreetmap.org\\&quot;\\u003eOpenStreetMap\\u003c/a\\u003e, under \\u003ca target=\\&quot;_blank\\&quot; href=\\&quot;http://www.openstreetmap.org/copyright\\&quot;\\u003eODbL\\u003c/a\\u003e.&quot;, &quot;detectRetina&quot;: false, &quot;maxNativeZoom&quot;: 18, &quot;maxZoom&quot;: 18, &quot;minZoom&quot;: 0, &quot;noWrap&quot;: false, &quot;opacity&quot;: 1, &quot;subdomains&quot;: &quot;abc&quot;, &quot;tms&quot;: false}\n",
              "            ).addTo(map_56cc02860f25678044828c1372067f7e);\n",
              "        \n",
              "    \n",
              "            var tile_layer_eee5a09359a13348b403a4d2b12d72d5 = L.tileLayer(\n",
              "                &quot;https://earthengine.googleapis.com/v1/projects/earthengine-legacy/maps/ede1a53647d0c8ebf0b85bb1c03daf64-6449c16ebe6c9cef7173195b2d8ad714/tiles/{z}/{x}/{y}&quot;,\n",
              "                {&quot;attribution&quot;: &quot;Map Data \\u0026copy; \\u003ca href=\\&quot;https://earthengine.google.com/\\&quot;\\u003eGoogle Earth Engine\\u003c/a\\u003e&quot;, &quot;detectRetina&quot;: false, &quot;maxNativeZoom&quot;: 18, &quot;maxZoom&quot;: 18, &quot;minZoom&quot;: 0, &quot;noWrap&quot;: false, &quot;opacity&quot;: 1, &quot;subdomains&quot;: &quot;abc&quot;, &quot;tms&quot;: false}\n",
              "            ).addTo(map_56cc02860f25678044828c1372067f7e);\n",
              "        \n",
              "    \n",
              "            var tile_layer_efe920ef7dce12baf31b14176d7d9fa8 = L.tileLayer(\n",
              "                &quot;https://earthengine.googleapis.com/v1/projects/earthengine-legacy/maps/8606ebc644c1618d9cb93728a4e5dfc3-742a915736a44859257802760af22e77/tiles/{z}/{x}/{y}&quot;,\n",
              "                {&quot;attribution&quot;: &quot;Map Data \\u0026copy; \\u003ca href=\\&quot;https://earthengine.google.com/\\&quot;\\u003eGoogle Earth Engine\\u003c/a\\u003e&quot;, &quot;detectRetina&quot;: false, &quot;maxNativeZoom&quot;: 18, &quot;maxZoom&quot;: 18, &quot;minZoom&quot;: 0, &quot;noWrap&quot;: false, &quot;opacity&quot;: 1, &quot;subdomains&quot;: &quot;abc&quot;, &quot;tms&quot;: false}\n",
              "            ).addTo(map_56cc02860f25678044828c1372067f7e);\n",
              "        \n",
              "    \n",
              "            var layer_control_30795cb50a3d0106b9cb90a208ce0801 = {\n",
              "                base_layers : {\n",
              "                    &quot;stamentoner&quot; : tile_layer_6b5a74028ace1e6c1f57599c796d917e,\n",
              "                    &quot;openstreetmap&quot; : tile_layer_7fab232595a29c2c6bf2f2edd257c5e4,\n",
              "                },\n",
              "                overlays :  {\n",
              "                    &quot;Ratio&quot; : tile_layer_eee5a09359a13348b403a4d2b12d72d5,\n",
              "                    &quot;Change Map&quot; : tile_layer_efe920ef7dce12baf31b14176d7d9fa8,\n",
              "                },\n",
              "            };\n",
              "            L.control.layers(\n",
              "                layer_control_30795cb50a3d0106b9cb90a208ce0801.base_layers,\n",
              "                layer_control_30795cb50a3d0106b9cb90a208ce0801.overlays,\n",
              "                {&quot;autoZIndex&quot;: true, &quot;collapsed&quot;: true, &quot;position&quot;: &quot;topright&quot;}\n",
              "            ).addTo(map_56cc02860f25678044828c1372067f7e);\n",
              "            tile_layer_7fab232595a29c2c6bf2f2edd257c5e4.remove();\n",
              "        \n",
              "&lt;/script&gt;\n",
              "&lt;/html&gt;\" style=\"position:absolute;width:100%;height:100%;left:0;top:0;border:none !important;\" allowfullscreen webkitallowfullscreen mozallowfullscreen></iframe></div></div>"
            ]
          },
          "metadata": {}
        }
      ]
    },
    {
      "cell_type": "code",
      "source": [
        "def det(im):\n",
        "  return im.expression('b(0) * b(1)')\n",
        "\n",
        "# Number of looks.\n",
        "m = 5\n",
        "\n",
        "im1 = ee.Image(im_list.get(0)).select('VV', 'VH').clip(aoi)\n",
        "im2 = ee.Image(im_list.get(1)).select('VV', 'VH').clip(aoi)\n",
        "\n",
        "m2logQ = det(im1).log().add(det(im2).log()).subtract(\n",
        "    det(im1.add(im2)).log().multiply(2)).add(4*np.log(2)).multiply(-2*m)"
      ],
      "metadata": {
        "id": "5PaaypBQ5Dpu"
      },
      "execution_count": null,
      "outputs": []
    },
    {
      "cell_type": "code",
      "source": [
        "hist = m2logQ.reduceRegion(\n",
        "    ee.Reducer.fixedHistogram(0, 20, 200), aoi).get('VV').getInfo()\n",
        "a = np.array(hist)\n",
        "x = a[:, 0]\n",
        "y = a[:, 1] / np.sum(a[:, 1])\n",
        "plt.plot(x, y, '.', label='data')\n",
        "plt.plot(x, chi2.pdf(x, 2)/10, '-r', label='chi square')\n",
        "plt.legend()\n",
        "plt.grid()\n",
        "plt.show()"
      ],
      "metadata": {
        "colab": {
          "base_uri": "https://localhost:8080/",
          "height": 430
        },
        "id": "q5AV3PEg5Mh_",
        "outputId": "3fee0834-e64d-4e67-8a6f-f4560920104f"
      },
      "execution_count": null,
      "outputs": [
        {
          "output_type": "display_data",
          "data": {
            "text/plain": [
              "<Figure size 640x480 with 1 Axes>"
            ],
            "image/png": "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\n"
          },
          "metadata": {}
        }
      ]
    },
    {
      "cell_type": "code",
      "source": [
        "coords = geoJSON['features'][0]['geometry']['coordinates']\n",
        "aoi = ee.Geometry.Polygon(coords)\n",
        "geoJSON = {\n",
        "  \"type\": \"FeatureCollection\",\n",
        "  \"features\": [\n",
        "    {\n",
        "      \"type\": \"Feature\",\n",
        "      \"properties\": {\n",
        "        \"name\": \"Sinduri Coastal Dune East\"\n",
        "      },\n",
        "      \"geometry\": {\n",
        "        \"type\": \"Polygon\",\n",
        "        \"coordinates\": [\n",
        "          [\n",
<<<<<<< HEAD
        "            [126.17954+ 0.0225, 36.82899],\n",
        "            [126.17954+ 0.0225, 36.86899],\n",
        "            [126.21954+ 0.0225, 36.86899],\n",
        "            [126.21954+ 0.0225, 36.82899],\n",
        "            [126.17954+ 0.0225, 36.82899]\n",
=======
        "            [126.17954, 36.82899],\n",
        "            [126.17954, 36.86899],\n",
        "            [126.21954, 36.86899],\n",
        "            [126.21954, 36.82899],\n",
        "            [126.17954, 36.82899]\n",
>>>>>>> 680a1a38307f154d73e7cf571db4c39b1a966f69
        "          ]\n",
        "        ]\n",
        "      }\n",
        "    }\n",
        "  ]\n",
        "}\n",
        "coords = geoJSON['features'][0]['geometry']['coordinates']\n",
        "aoi1 = ee.Geometry.Polygon(coords)"
      ],
      "metadata": {
        "id": "ZNIW4uT37QpK"
      },
      "execution_count": null,
      "outputs": []
    },
    {
      "cell_type": "code",
      "source": [
        "im1 = ee.Image(ee.ImageCollection('COPERNICUS/S1_GRD_FLOAT')\n",
        "                .filterBounds(aoi1)\n",
        "                .filterDate(ee.Date('2017-09-01'), ee.Date('2017-09-30'))\n",
        "                .filter(ee.Filter.eq('orbitProperties_pass', 'ASCENDING'))\n",
        "                .filter(ee.Filter.eq('relativeOrbitNumber_start', 127))\n",
        "                .first()\n",
        "                .clip(aoi1))\n",
        "im2 = ee.Image(ee.ImageCollection('COPERNICUS/S1_GRD_FLOAT').filterBounds(aoi1)\n",
        "                .filterDate(ee.Date('2018-09-01'), ee.Date('2018-09-30'))\n",
        "                .filter(ee.Filter.eq('orbitProperties_pass', 'ASCENDING'))\n",
        "                .filter(ee.Filter.eq('relativeOrbitNumber_start', 127))\n",
        "                .first()\n",
        "                .clip(aoi1))"
      ],
      "metadata": {
        "id": "ZguugXFc5N4j"
      },
      "execution_count": null,
      "outputs": []
    },
    {
      "cell_type": "code",
      "source": [
        "acq_time = im1.get('system:time_start').getInfo()\n",
        "print( time.strftime('%x', time.gmtime(acq_time/1000)) )\n",
        "acq_time = im2.get('system:time_start').getInfo()\n",
        "print( time.strftime('%x', time.gmtime(acq_time/1000)) )"
      ],
      "metadata": {
        "colab": {
          "base_uri": "https://localhost:8080/"
        },
        "id": "gPThjZYr7F95",
<<<<<<< HEAD
        "outputId": "d2e963bd-f5a7-4eb8-8931-cf4e00992cc5"
=======
        "outputId": "6a035701-9c97-49a9-862f-122793f963fd"
>>>>>>> 680a1a38307f154d73e7cf571db4c39b1a966f69
      },
      "execution_count": null,
      "outputs": [
        {
          "output_type": "stream",
          "name": "stdout",
          "text": [
            "09/04/17\n",
            "09/11/18\n"
          ]
        }
      ]
    },
    {
      "cell_type": "code",
      "source": [
        "def chi2cdf(chi2, df):\n",
        "  ''' Chi square cumulative distribution function for df degrees of freedom\n",
        "      using the built-in incomplete gamma function gammainc() '''\n",
        "  return ee.Image(chi2.divide(2)).gammainc(ee.Number(df).divide(2))\n",
        "\n",
        "# The observed test statistic image -2logq.\n",
        "m2logq = det(im1).log().add(det(im2).log()).subtract(\n",
        "    det(im1.add(im2)).log().multiply(2)).add(4*np.log(2)).multiply(-2*m)\n",
        "\n",
        "# The P value image prob(m2logQ > m2logq) = 1 - prob(m2logQ < m2logq).\n",
        "p_value = ee.Image.constant(1).subtract(chi2cdf(m2logq, 2))\n",
        "\n",
        "# Project onto map.\n",
        "location = aoi1.centroid().coordinates().getInfo()[::-1]\n",
        "mp = folium.Map(location=location, zoom_start=12)\n",
        "mp.add_ee_layer(p_value,\n",
        "                {'min': 0,'max': 1, 'palette': ['black', 'white']}, 'P-value')\n",
        "mp.add_child(folium.LayerControl())"
      ],
      "metadata": {
        "colab": {
          "base_uri": "https://localhost:8080/",
          "height": 808
        },
        "id": "kDh2Ka5c7VoT",
<<<<<<< HEAD
        "outputId": "c205e93f-4b19-49e8-8507-6fa6ca4a0e3e"
=======
        "outputId": "4a1e271d-8421-4ba4-bcec-dad9a43921a0"
>>>>>>> 680a1a38307f154d73e7cf571db4c39b1a966f69
      },
      "execution_count": null,
      "outputs": [
        {
          "output_type": "execute_result",
          "data": {
            "text/plain": [
<<<<<<< HEAD
              "<folium.folium.Map at 0x7ee64036c850>"
=======
              "<folium.folium.Map at 0x7ee64036f160>"
>>>>>>> 680a1a38307f154d73e7cf571db4c39b1a966f69
            ],
            "text/html": [
              "<div style=\"width:100%;\"><div style=\"position:relative;width:100%;height:0;padding-bottom:60%;\"><span style=\"color:#565656\">Make this Notebook Trusted to load map: File -> Trust Notebook</span><iframe srcdoc=\"&lt;!DOCTYPE html&gt;\n",
              "&lt;html&gt;\n",
              "&lt;head&gt;\n",
              "    \n",
              "    &lt;meta http-equiv=&quot;content-type&quot; content=&quot;text/html; charset=UTF-8&quot; /&gt;\n",
              "    \n",
              "        &lt;script&gt;\n",
              "            L_NO_TOUCH = false;\n",
              "            L_DISABLE_3D = false;\n",
              "        &lt;/script&gt;\n",
              "    \n",
              "    &lt;style&gt;html, body {width: 100%;height: 100%;margin: 0;padding: 0;}&lt;/style&gt;\n",
              "    &lt;style&gt;#map {position:absolute;top:0;bottom:0;right:0;left:0;}&lt;/style&gt;\n",
              "    &lt;script src=&quot;https://cdn.jsdelivr.net/npm/leaflet@1.9.3/dist/leaflet.js&quot;&gt;&lt;/script&gt;\n",
              "    &lt;script src=&quot;https://code.jquery.com/jquery-1.12.4.min.js&quot;&gt;&lt;/script&gt;\n",
              "    &lt;script src=&quot;https://cdn.jsdelivr.net/npm/bootstrap@5.2.2/dist/js/bootstrap.bundle.min.js&quot;&gt;&lt;/script&gt;\n",
              "    &lt;script src=&quot;https://cdnjs.cloudflare.com/ajax/libs/Leaflet.awesome-markers/2.0.2/leaflet.awesome-markers.js&quot;&gt;&lt;/script&gt;\n",
              "    &lt;link rel=&quot;stylesheet&quot; href=&quot;https://cdn.jsdelivr.net/npm/leaflet@1.9.3/dist/leaflet.css&quot;/&gt;\n",
              "    &lt;link rel=&quot;stylesheet&quot; href=&quot;https://cdn.jsdelivr.net/npm/bootstrap@5.2.2/dist/css/bootstrap.min.css&quot;/&gt;\n",
              "    &lt;link rel=&quot;stylesheet&quot; href=&quot;https://netdna.bootstrapcdn.com/bootstrap/3.0.0/css/bootstrap.min.css&quot;/&gt;\n",
              "    &lt;link rel=&quot;stylesheet&quot; href=&quot;https://cdn.jsdelivr.net/npm/@fortawesome/fontawesome-free@6.2.0/css/all.min.css&quot;/&gt;\n",
              "    &lt;link rel=&quot;stylesheet&quot; href=&quot;https://cdnjs.cloudflare.com/ajax/libs/Leaflet.awesome-markers/2.0.2/leaflet.awesome-markers.css&quot;/&gt;\n",
              "    &lt;link rel=&quot;stylesheet&quot; href=&quot;https://cdn.jsdelivr.net/gh/python-visualization/folium/folium/templates/leaflet.awesome.rotate.min.css&quot;/&gt;\n",
              "    \n",
              "            &lt;meta name=&quot;viewport&quot; content=&quot;width=device-width,\n",
              "                initial-scale=1.0, maximum-scale=1.0, user-scalable=no&quot; /&gt;\n",
              "            &lt;style&gt;\n",
<<<<<<< HEAD
              "                #map_6ad0675ae82001443d77be91c62fcceb {\n",
=======
              "                #map_8204520a30e34bd78262874d701e07ed {\n",
>>>>>>> 680a1a38307f154d73e7cf571db4c39b1a966f69
              "                    position: relative;\n",
              "                    width: 100.0%;\n",
              "                    height: 100.0%;\n",
              "                    left: 0.0%;\n",
              "                    top: 0.0%;\n",
              "                }\n",
              "                .leaflet-container { font-size: 1rem; }\n",
              "            &lt;/style&gt;\n",
              "        \n",
              "&lt;/head&gt;\n",
              "&lt;body&gt;\n",
              "    \n",
              "    \n",
<<<<<<< HEAD
              "            &lt;div class=&quot;folium-map&quot; id=&quot;map_6ad0675ae82001443d77be91c62fcceb&quot; &gt;&lt;/div&gt;\n",
=======
              "            &lt;div class=&quot;folium-map&quot; id=&quot;map_8204520a30e34bd78262874d701e07ed&quot; &gt;&lt;/div&gt;\n",
>>>>>>> 680a1a38307f154d73e7cf571db4c39b1a966f69
              "        \n",
              "&lt;/body&gt;\n",
              "&lt;script&gt;\n",
              "    \n",
              "    \n",
<<<<<<< HEAD
              "            var map_6ad0675ae82001443d77be91c62fcceb = L.map(\n",
              "                &quot;map_6ad0675ae82001443d77be91c62fcceb&quot;,\n",
              "                {\n",
              "                    center: [36.84898993114767, 126.22203999999549],\n",
=======
              "            var map_8204520a30e34bd78262874d701e07ed = L.map(\n",
              "                &quot;map_8204520a30e34bd78262874d701e07ed&quot;,\n",
              "                {\n",
              "                    center: [36.848989931147514, 126.1995399999959],\n",
>>>>>>> 680a1a38307f154d73e7cf571db4c39b1a966f69
              "                    crs: L.CRS.EPSG3857,\n",
              "                    zoom: 12,\n",
              "                    zoomControl: true,\n",
              "                    preferCanvas: false,\n",
              "                }\n",
              "            );\n",
              "\n",
              "            \n",
              "\n",
              "        \n",
              "    \n",
<<<<<<< HEAD
              "            var tile_layer_b8bbffa1eca4ad7cb3fdbc323e3bb60f = L.tileLayer(\n",
              "                &quot;https://{s}.tile.openstreetmap.org/{z}/{x}/{y}.png&quot;,\n",
              "                {&quot;attribution&quot;: &quot;Data by \\u0026copy; \\u003ca target=\\&quot;_blank\\&quot; href=\\&quot;http://openstreetmap.org\\&quot;\\u003eOpenStreetMap\\u003c/a\\u003e, under \\u003ca target=\\&quot;_blank\\&quot; href=\\&quot;http://www.openstreetmap.org/copyright\\&quot;\\u003eODbL\\u003c/a\\u003e.&quot;, &quot;detectRetina&quot;: false, &quot;maxNativeZoom&quot;: 18, &quot;maxZoom&quot;: 18, &quot;minZoom&quot;: 0, &quot;noWrap&quot;: false, &quot;opacity&quot;: 1, &quot;subdomains&quot;: &quot;abc&quot;, &quot;tms&quot;: false}\n",
              "            ).addTo(map_6ad0675ae82001443d77be91c62fcceb);\n",
              "        \n",
              "    \n",
              "            var tile_layer_755a076bebac5a5548ab827335fa2fee = L.tileLayer(\n",
              "                &quot;https://earthengine.googleapis.com/v1/projects/earthengine-legacy/maps/841f30198b94108129e62d5b3fe1e21b-460a5b679ee325e8082e10d103689819/tiles/{z}/{x}/{y}&quot;,\n",
              "                {&quot;attribution&quot;: &quot;Map Data \\u0026copy; \\u003ca href=\\&quot;https://earthengine.google.com/\\&quot;\\u003eGoogle Earth Engine\\u003c/a\\u003e&quot;, &quot;detectRetina&quot;: false, &quot;maxNativeZoom&quot;: 18, &quot;maxZoom&quot;: 18, &quot;minZoom&quot;: 0, &quot;noWrap&quot;: false, &quot;opacity&quot;: 1, &quot;subdomains&quot;: &quot;abc&quot;, &quot;tms&quot;: false}\n",
              "            ).addTo(map_6ad0675ae82001443d77be91c62fcceb);\n",
              "        \n",
              "    \n",
              "            var layer_control_e399aa18e00e070d7bfb80c923a9feb8 = {\n",
              "                base_layers : {\n",
              "                    &quot;openstreetmap&quot; : tile_layer_b8bbffa1eca4ad7cb3fdbc323e3bb60f,\n",
              "                },\n",
              "                overlays :  {\n",
              "                    &quot;P-value&quot; : tile_layer_755a076bebac5a5548ab827335fa2fee,\n",
              "                },\n",
              "            };\n",
              "            L.control.layers(\n",
              "                layer_control_e399aa18e00e070d7bfb80c923a9feb8.base_layers,\n",
              "                layer_control_e399aa18e00e070d7bfb80c923a9feb8.overlays,\n",
              "                {&quot;autoZIndex&quot;: true, &quot;collapsed&quot;: true, &quot;position&quot;: &quot;topright&quot;}\n",
              "            ).addTo(map_6ad0675ae82001443d77be91c62fcceb);\n",
=======
              "            var tile_layer_13c29f4b4f911b25f65aeb2f0d39a201 = L.tileLayer(\n",
              "                &quot;https://{s}.tile.openstreetmap.org/{z}/{x}/{y}.png&quot;,\n",
              "                {&quot;attribution&quot;: &quot;Data by \\u0026copy; \\u003ca target=\\&quot;_blank\\&quot; href=\\&quot;http://openstreetmap.org\\&quot;\\u003eOpenStreetMap\\u003c/a\\u003e, under \\u003ca target=\\&quot;_blank\\&quot; href=\\&quot;http://www.openstreetmap.org/copyright\\&quot;\\u003eODbL\\u003c/a\\u003e.&quot;, &quot;detectRetina&quot;: false, &quot;maxNativeZoom&quot;: 18, &quot;maxZoom&quot;: 18, &quot;minZoom&quot;: 0, &quot;noWrap&quot;: false, &quot;opacity&quot;: 1, &quot;subdomains&quot;: &quot;abc&quot;, &quot;tms&quot;: false}\n",
              "            ).addTo(map_8204520a30e34bd78262874d701e07ed);\n",
              "        \n",
              "    \n",
              "            var tile_layer_99652c27015d028b5f0a5d3c3716d93d = L.tileLayer(\n",
              "                &quot;https://earthengine.googleapis.com/v1/projects/earthengine-legacy/maps/6328f4ddd19c3f2aaf7d8e6a4a6cdcd5-5f5a1c97e0cc9e2bd87ab52b2000b476/tiles/{z}/{x}/{y}&quot;,\n",
              "                {&quot;attribution&quot;: &quot;Map Data \\u0026copy; \\u003ca href=\\&quot;https://earthengine.google.com/\\&quot;\\u003eGoogle Earth Engine\\u003c/a\\u003e&quot;, &quot;detectRetina&quot;: false, &quot;maxNativeZoom&quot;: 18, &quot;maxZoom&quot;: 18, &quot;minZoom&quot;: 0, &quot;noWrap&quot;: false, &quot;opacity&quot;: 1, &quot;subdomains&quot;: &quot;abc&quot;, &quot;tms&quot;: false}\n",
              "            ).addTo(map_8204520a30e34bd78262874d701e07ed);\n",
              "        \n",
              "    \n",
              "            var layer_control_52d7657639b5beebcb5e28172462fdd8 = {\n",
              "                base_layers : {\n",
              "                    &quot;openstreetmap&quot; : tile_layer_13c29f4b4f911b25f65aeb2f0d39a201,\n",
              "                },\n",
              "                overlays :  {\n",
              "                    &quot;P-value&quot; : tile_layer_99652c27015d028b5f0a5d3c3716d93d,\n",
              "                },\n",
              "            };\n",
              "            L.control.layers(\n",
              "                layer_control_52d7657639b5beebcb5e28172462fdd8.base_layers,\n",
              "                layer_control_52d7657639b5beebcb5e28172462fdd8.overlays,\n",
              "                {&quot;autoZIndex&quot;: true, &quot;collapsed&quot;: true, &quot;position&quot;: &quot;topright&quot;}\n",
              "            ).addTo(map_8204520a30e34bd78262874d701e07ed);\n",
>>>>>>> 680a1a38307f154d73e7cf571db4c39b1a966f69
              "        \n",
              "&lt;/script&gt;\n",
              "&lt;/html&gt;\" style=\"position:absolute;width:100%;height:100%;left:0;top:0;border:none !important;\" allowfullscreen webkitallowfullscreen mozallowfullscreen></iframe></div></div>"
            ]
          },
          "metadata": {},
<<<<<<< HEAD
          "execution_count": 122
=======
          "execution_count": 92
>>>>>>> 680a1a38307f154d73e7cf571db4c39b1a966f69
        }
      ]
    },
    {
      "cell_type": "code",
      "source": [
        "c_map = p_value.multiply(0).where(p_value.lt(0.01), 1)\n",
        "\n",
        "crop2018 = (ee.ImageCollection('AAFC/ACI')\n",
        "             .filter(ee.Filter.date('2018-01-01', '2018-12-01'))\n",
        "             .first()\n",
        "             .clip(aoi1))\n",
        "\n",
        "mp = folium.Map(location=location, zoom_start=12)\n",
        "mp.add_ee_layer(crop2018, {min: 0, max: 255}, 'crop2018')\n",
        "mp.add_ee_layer(c_map.updateMask(\n",
        "    c_map.gt(0)), {'min': 0, 'max': 1, 'palette': ['black', 'red']}, 'c_map')\n",
        "mp.add_child(folium.LayerControl())"
      ],
      "metadata": {
        "colab": {
          "base_uri": "https://localhost:8080/",
          "height": 808
        },
        "id": "pQbABAPh7o-m",
<<<<<<< HEAD
        "outputId": "3dcf7149-9338-4db2-dfad-cc799d89dbb1"
=======
        "outputId": "9d6285e7-0c85-4b0d-8a04-7949cd36e533"
>>>>>>> 680a1a38307f154d73e7cf571db4c39b1a966f69
      },
      "execution_count": null,
      "outputs": [
        {
          "output_type": "execute_result",
          "data": {
            "text/plain": [
<<<<<<< HEAD
              "<folium.folium.Map at 0x7ee64037dab0>"
=======
              "<folium.folium.Map at 0x7ee640385b70>"
>>>>>>> 680a1a38307f154d73e7cf571db4c39b1a966f69
            ],
            "text/html": [
              "<div style=\"width:100%;\"><div style=\"position:relative;width:100%;height:0;padding-bottom:60%;\"><span style=\"color:#565656\">Make this Notebook Trusted to load map: File -> Trust Notebook</span><iframe srcdoc=\"&lt;!DOCTYPE html&gt;\n",
              "&lt;html&gt;\n",
              "&lt;head&gt;\n",
              "    \n",
              "    &lt;meta http-equiv=&quot;content-type&quot; content=&quot;text/html; charset=UTF-8&quot; /&gt;\n",
              "    \n",
              "        &lt;script&gt;\n",
              "            L_NO_TOUCH = false;\n",
              "            L_DISABLE_3D = false;\n",
              "        &lt;/script&gt;\n",
              "    \n",
              "    &lt;style&gt;html, body {width: 100%;height: 100%;margin: 0;padding: 0;}&lt;/style&gt;\n",
              "    &lt;style&gt;#map {position:absolute;top:0;bottom:0;right:0;left:0;}&lt;/style&gt;\n",
              "    &lt;script src=&quot;https://cdn.jsdelivr.net/npm/leaflet@1.9.3/dist/leaflet.js&quot;&gt;&lt;/script&gt;\n",
              "    &lt;script src=&quot;https://code.jquery.com/jquery-1.12.4.min.js&quot;&gt;&lt;/script&gt;\n",
              "    &lt;script src=&quot;https://cdn.jsdelivr.net/npm/bootstrap@5.2.2/dist/js/bootstrap.bundle.min.js&quot;&gt;&lt;/script&gt;\n",
              "    &lt;script src=&quot;https://cdnjs.cloudflare.com/ajax/libs/Leaflet.awesome-markers/2.0.2/leaflet.awesome-markers.js&quot;&gt;&lt;/script&gt;\n",
              "    &lt;link rel=&quot;stylesheet&quot; href=&quot;https://cdn.jsdelivr.net/npm/leaflet@1.9.3/dist/leaflet.css&quot;/&gt;\n",
              "    &lt;link rel=&quot;stylesheet&quot; href=&quot;https://cdn.jsdelivr.net/npm/bootstrap@5.2.2/dist/css/bootstrap.min.css&quot;/&gt;\n",
              "    &lt;link rel=&quot;stylesheet&quot; href=&quot;https://netdna.bootstrapcdn.com/bootstrap/3.0.0/css/bootstrap.min.css&quot;/&gt;\n",
              "    &lt;link rel=&quot;stylesheet&quot; href=&quot;https://cdn.jsdelivr.net/npm/@fortawesome/fontawesome-free@6.2.0/css/all.min.css&quot;/&gt;\n",
              "    &lt;link rel=&quot;stylesheet&quot; href=&quot;https://cdnjs.cloudflare.com/ajax/libs/Leaflet.awesome-markers/2.0.2/leaflet.awesome-markers.css&quot;/&gt;\n",
              "    &lt;link rel=&quot;stylesheet&quot; href=&quot;https://cdn.jsdelivr.net/gh/python-visualization/folium/folium/templates/leaflet.awesome.rotate.min.css&quot;/&gt;\n",
              "    \n",
              "            &lt;meta name=&quot;viewport&quot; content=&quot;width=device-width,\n",
              "                initial-scale=1.0, maximum-scale=1.0, user-scalable=no&quot; /&gt;\n",
              "            &lt;style&gt;\n",
<<<<<<< HEAD
              "                #map_d01245adae0dc6407af3a3b99cda61a4 {\n",
=======
              "                #map_9de7fe48c2fe2262fa8c17bcc735393d {\n",
>>>>>>> 680a1a38307f154d73e7cf571db4c39b1a966f69
              "                    position: relative;\n",
              "                    width: 100.0%;\n",
              "                    height: 100.0%;\n",
              "                    left: 0.0%;\n",
              "                    top: 0.0%;\n",
              "                }\n",
              "                .leaflet-container { font-size: 1rem; }\n",
              "            &lt;/style&gt;\n",
              "        \n",
              "&lt;/head&gt;\n",
              "&lt;body&gt;\n",
              "    \n",
              "    \n",
<<<<<<< HEAD
              "            &lt;div class=&quot;folium-map&quot; id=&quot;map_d01245adae0dc6407af3a3b99cda61a4&quot; &gt;&lt;/div&gt;\n",
=======
              "            &lt;div class=&quot;folium-map&quot; id=&quot;map_9de7fe48c2fe2262fa8c17bcc735393d&quot; &gt;&lt;/div&gt;\n",
>>>>>>> 680a1a38307f154d73e7cf571db4c39b1a966f69
              "        \n",
              "&lt;/body&gt;\n",
              "&lt;script&gt;\n",
              "    \n",
              "    \n",
<<<<<<< HEAD
              "            var map_d01245adae0dc6407af3a3b99cda61a4 = L.map(\n",
              "                &quot;map_d01245adae0dc6407af3a3b99cda61a4&quot;,\n",
              "                {\n",
              "                    center: [36.84898993114767, 126.22203999999549],\n",
=======
              "            var map_9de7fe48c2fe2262fa8c17bcc735393d = L.map(\n",
              "                &quot;map_9de7fe48c2fe2262fa8c17bcc735393d&quot;,\n",
              "                {\n",
              "                    center: [36.848989931147514, 126.1995399999959],\n",
>>>>>>> 680a1a38307f154d73e7cf571db4c39b1a966f69
              "                    crs: L.CRS.EPSG3857,\n",
              "                    zoom: 12,\n",
              "                    zoomControl: true,\n",
              "                    preferCanvas: false,\n",
              "                }\n",
              "            );\n",
              "\n",
              "            \n",
              "\n",
              "        \n",
              "    \n",
<<<<<<< HEAD
              "            var tile_layer_ffcd8b7be95d85b53f948989f138f9c1 = L.tileLayer(\n",
              "                &quot;https://{s}.tile.openstreetmap.org/{z}/{x}/{y}.png&quot;,\n",
              "                {&quot;attribution&quot;: &quot;Data by \\u0026copy; \\u003ca target=\\&quot;_blank\\&quot; href=\\&quot;http://openstreetmap.org\\&quot;\\u003eOpenStreetMap\\u003c/a\\u003e, under \\u003ca target=\\&quot;_blank\\&quot; href=\\&quot;http://www.openstreetmap.org/copyright\\&quot;\\u003eODbL\\u003c/a\\u003e.&quot;, &quot;detectRetina&quot;: false, &quot;maxNativeZoom&quot;: 18, &quot;maxZoom&quot;: 18, &quot;minZoom&quot;: 0, &quot;noWrap&quot;: false, &quot;opacity&quot;: 1, &quot;subdomains&quot;: &quot;abc&quot;, &quot;tms&quot;: false}\n",
              "            ).addTo(map_d01245adae0dc6407af3a3b99cda61a4);\n",
              "        \n",
              "    \n",
              "            var tile_layer_dd2d7396ffb8f5d14ce759d11232f73b = L.tileLayer(\n",
              "                &quot;https://earthengine.googleapis.com/v1/projects/earthengine-legacy/maps/a058fb960d1697001499e063e231a643-d1c2768750bdbe81f0c3e0d299758c8d/tiles/{z}/{x}/{y}&quot;,\n",
              "                {&quot;attribution&quot;: &quot;Map Data \\u0026copy; \\u003ca href=\\&quot;https://earthengine.google.com/\\&quot;\\u003eGoogle Earth Engine\\u003c/a\\u003e&quot;, &quot;detectRetina&quot;: false, &quot;maxNativeZoom&quot;: 18, &quot;maxZoom&quot;: 18, &quot;minZoom&quot;: 0, &quot;noWrap&quot;: false, &quot;opacity&quot;: 1, &quot;subdomains&quot;: &quot;abc&quot;, &quot;tms&quot;: false}\n",
              "            ).addTo(map_d01245adae0dc6407af3a3b99cda61a4);\n",
              "        \n",
              "    \n",
              "            var tile_layer_845438d4ddc6f046e757fbdfddc512c0 = L.tileLayer(\n",
              "                &quot;https://earthengine.googleapis.com/v1/projects/earthengine-legacy/maps/caebf7bf76b6752e47c00480973116f3-f28b5acb506478c66e510cfa6bf2b506/tiles/{z}/{x}/{y}&quot;,\n",
              "                {&quot;attribution&quot;: &quot;Map Data \\u0026copy; \\u003ca href=\\&quot;https://earthengine.google.com/\\&quot;\\u003eGoogle Earth Engine\\u003c/a\\u003e&quot;, &quot;detectRetina&quot;: false, &quot;maxNativeZoom&quot;: 18, &quot;maxZoom&quot;: 18, &quot;minZoom&quot;: 0, &quot;noWrap&quot;: false, &quot;opacity&quot;: 1, &quot;subdomains&quot;: &quot;abc&quot;, &quot;tms&quot;: false}\n",
              "            ).addTo(map_d01245adae0dc6407af3a3b99cda61a4);\n",
              "        \n",
              "    \n",
              "            var layer_control_4c3d627a26f4b50a858babd4b1950047 = {\n",
              "                base_layers : {\n",
              "                    &quot;openstreetmap&quot; : tile_layer_ffcd8b7be95d85b53f948989f138f9c1,\n",
              "                },\n",
              "                overlays :  {\n",
              "                    &quot;crop2018&quot; : tile_layer_dd2d7396ffb8f5d14ce759d11232f73b,\n",
              "                    &quot;c_map&quot; : tile_layer_845438d4ddc6f046e757fbdfddc512c0,\n",
              "                },\n",
              "            };\n",
              "            L.control.layers(\n",
              "                layer_control_4c3d627a26f4b50a858babd4b1950047.base_layers,\n",
              "                layer_control_4c3d627a26f4b50a858babd4b1950047.overlays,\n",
              "                {&quot;autoZIndex&quot;: true, &quot;collapsed&quot;: true, &quot;position&quot;: &quot;topright&quot;}\n",
              "            ).addTo(map_d01245adae0dc6407af3a3b99cda61a4);\n",
=======
              "            var tile_layer_fb4ba9e5c0642b51d8bb18b12d2179a4 = L.tileLayer(\n",
              "                &quot;https://{s}.tile.openstreetmap.org/{z}/{x}/{y}.png&quot;,\n",
              "                {&quot;attribution&quot;: &quot;Data by \\u0026copy; \\u003ca target=\\&quot;_blank\\&quot; href=\\&quot;http://openstreetmap.org\\&quot;\\u003eOpenStreetMap\\u003c/a\\u003e, under \\u003ca target=\\&quot;_blank\\&quot; href=\\&quot;http://www.openstreetmap.org/copyright\\&quot;\\u003eODbL\\u003c/a\\u003e.&quot;, &quot;detectRetina&quot;: false, &quot;maxNativeZoom&quot;: 18, &quot;maxZoom&quot;: 18, &quot;minZoom&quot;: 0, &quot;noWrap&quot;: false, &quot;opacity&quot;: 1, &quot;subdomains&quot;: &quot;abc&quot;, &quot;tms&quot;: false}\n",
              "            ).addTo(map_9de7fe48c2fe2262fa8c17bcc735393d);\n",
              "        \n",
              "    \n",
              "            var tile_layer_eeae3c1e25f6394f2749f1594068b722 = L.tileLayer(\n",
              "                &quot;https://earthengine.googleapis.com/v1/projects/earthengine-legacy/maps/9ba8718a61f1e6148620322f810c3f46-95e89463b898fd5820b8d76aeb5c9cc2/tiles/{z}/{x}/{y}&quot;,\n",
              "                {&quot;attribution&quot;: &quot;Map Data \\u0026copy; \\u003ca href=\\&quot;https://earthengine.google.com/\\&quot;\\u003eGoogle Earth Engine\\u003c/a\\u003e&quot;, &quot;detectRetina&quot;: false, &quot;maxNativeZoom&quot;: 18, &quot;maxZoom&quot;: 18, &quot;minZoom&quot;: 0, &quot;noWrap&quot;: false, &quot;opacity&quot;: 1, &quot;subdomains&quot;: &quot;abc&quot;, &quot;tms&quot;: false}\n",
              "            ).addTo(map_9de7fe48c2fe2262fa8c17bcc735393d);\n",
              "        \n",
              "    \n",
              "            var tile_layer_81eb523e71abd8f5b49d704b0e7a4657 = L.tileLayer(\n",
              "                &quot;https://earthengine.googleapis.com/v1/projects/earthengine-legacy/maps/9144c901d7c0a3368f1534ce591b538a-0adc90f158b9c548a5d2af623d6c419a/tiles/{z}/{x}/{y}&quot;,\n",
              "                {&quot;attribution&quot;: &quot;Map Data \\u0026copy; \\u003ca href=\\&quot;https://earthengine.google.com/\\&quot;\\u003eGoogle Earth Engine\\u003c/a\\u003e&quot;, &quot;detectRetina&quot;: false, &quot;maxNativeZoom&quot;: 18, &quot;maxZoom&quot;: 18, &quot;minZoom&quot;: 0, &quot;noWrap&quot;: false, &quot;opacity&quot;: 1, &quot;subdomains&quot;: &quot;abc&quot;, &quot;tms&quot;: false}\n",
              "            ).addTo(map_9de7fe48c2fe2262fa8c17bcc735393d);\n",
              "        \n",
              "    \n",
              "            var layer_control_0c50566305b4777927ee61099a3dd27a = {\n",
              "                base_layers : {\n",
              "                    &quot;openstreetmap&quot; : tile_layer_fb4ba9e5c0642b51d8bb18b12d2179a4,\n",
              "                },\n",
              "                overlays :  {\n",
              "                    &quot;crop2018&quot; : tile_layer_eeae3c1e25f6394f2749f1594068b722,\n",
              "                    &quot;c_map&quot; : tile_layer_81eb523e71abd8f5b49d704b0e7a4657,\n",
              "                },\n",
              "            };\n",
              "            L.control.layers(\n",
              "                layer_control_0c50566305b4777927ee61099a3dd27a.base_layers,\n",
              "                layer_control_0c50566305b4777927ee61099a3dd27a.overlays,\n",
              "                {&quot;autoZIndex&quot;: true, &quot;collapsed&quot;: true, &quot;position&quot;: &quot;topright&quot;}\n",
              "            ).addTo(map_9de7fe48c2fe2262fa8c17bcc735393d);\n",
>>>>>>> 680a1a38307f154d73e7cf571db4c39b1a966f69
              "        \n",
              "&lt;/script&gt;\n",
              "&lt;/html&gt;\" style=\"position:absolute;width:100%;height:100%;left:0;top:0;border:none !important;\" allowfullscreen webkitallowfullscreen mozallowfullscreen></iframe></div></div>"
            ]
          },
          "metadata": {},
<<<<<<< HEAD
          "execution_count": 123
=======
          "execution_count": 93
>>>>>>> 680a1a38307f154d73e7cf571db4c39b1a966f69
        }
      ]
    },
    {
      "cell_type": "code",
      "source": [
        "coords = geoJSON['features'][0]['geometry']['coordinates']\n",
        "aoi1_sub = ee.Geometry.Polygon(coords)\n",
        "hist = p_value.reduceRegion(ee.Reducer.fixedHistogram(0, 1, 100), aoi1_sub).get('constant').getInfo()\n",
        "a = np.array(hist)\n",
        "x = a[:,0]\n",
        "y = a[:,1]/np.sum(a[:,1])\n",
        "plt.plot(x, y, '.b', label='p-value')\n",
        "plt.ylim(0, 0.05)\n",
        "plt.grid()\n",
        "plt.legend()\n",
        "plt.show()"
      ],
      "metadata": {
        "colab": {
          "base_uri": "https://localhost:8080/",
          "height": 435
        },
        "id": "SE3G3_cV7uOb",
<<<<<<< HEAD
        "outputId": "cb42b285-ca98-4f04-d45e-ebb78d047773"
=======
        "outputId": "50acf4c7-c20a-45c8-a221-044827669266"
>>>>>>> 680a1a38307f154d73e7cf571db4c39b1a966f69
      },
      "execution_count": null,
      "outputs": [
        {
          "output_type": "display_data",
          "data": {
            "text/plain": [
              "<Figure size 640x480 with 1 Axes>"
            ],
<<<<<<< HEAD
            "image/png": "iVBORw0KGgoAAAANSUhEUgAAAiwAAAGiCAYAAADEJZ3cAAAAOXRFWHRTb2Z0d2FyZQBNYXRwbG90bGliIHZlcnNpb24zLjcuMSwgaHR0cHM6Ly9tYXRwbG90bGliLm9yZy/bCgiHAAAACXBIWXMAAA9hAAAPYQGoP6dpAAA0w0lEQVR4nO3df3RU5Z3H8c9k8osAAYUlIfwQkCCKSFaQGLRFLRBWW8zZU0SkgCwL/qJF01JBgciiYq0gKGiKgtJzxCBdYV1h0TTCtgpIhVChiMtPI9YE0IUgSDLMPPtHNgOTzCQzk8nwJLxf58wJc+e5d577nSH3k+e5M9dhjDECAACwWMzF7gAAAEB9CCwAAMB6BBYAAGA9AgsAALAegQUAAFiPwAIAAKxHYAEAANYjsAAAAOsRWAAAgPUILAAAwHphBZYlS5aoW7duSkxMVGZmprZt21Zn+9WrV6t3795KTExU3759tX79ep/H7733XjkcDp/b8OHDw+kaAABohkIOLKtWrVJubq7y8vK0Y8cO9evXT9nZ2Tp69Kjf9ps3b9bo0aM1ceJEFRcXKycnRzk5Odq9e7dPu+HDh+vrr7/23t58883w9ggAADQ7jlAvfpiZmakbbrhBixcvliR5PB516dJFP//5zzV9+vRa7UeNGqXTp0/r3Xff9S678cYblZGRofz8fElVIywnTpzQ2rVrG7ArAACguYoNpXFlZaW2b9+uGTNmeJfFxMRoyJAh2rJli991tmzZotzcXJ9l2dnZtcLJpk2b1KFDB1122WW67bbb9OSTT6pdu3Z+t1lRUaGKigrvfY/Ho2+//Vbt2rWTw+EIZZcAAMBFYozRqVOnlJaWppiYuid9Qgosx48fl9vtVkpKis/ylJQU7d271+86paWlftuXlpZ67w8fPlz//M//rO7du+vAgQN67LHH9E//9E/asmWLnE5nrW3OmzdPc+bMCaXrAADAUl9++aU6d+5cZ5uQAktjufvuu73/7tu3r6677jpdeeWV2rRpk370ox/Vaj9jxgyfUZuTJ0+qa9euOnTokFq3bh3RvrlcLm3cuFG33nqr4uLiIrpt+KLW0UOto4daRw+1jp5I1frUqVPq3r17UMfukAJL+/bt5XQ6VVZW5rO8rKxMqampftdJTU0Nqb0k9ejRQ+3bt9f+/fv9BpaEhAQlJCTUWn755ZcrOTk5mF0JmsvlUlJSktq1a8d/gEZGraOHWkcPtY4eah09kap19brBnM4R0qeE4uPj1b9/fxUVFXmXeTweFRUVKSsry+86WVlZPu0lqbCwMGB7STpy5Ii++eYbdezYMZTuAQCAZirkjzXn5ubqlVde0YoVK/TZZ5/pgQce0OnTpzVhwgRJ0rhx43xOyp06dao2bNig+fPna+/evXriiSf0ySefaMqUKZKk7777TtOmTdPWrVt1+PBhFRUV6c4771TPnj2VnZ0dod0EAABNWcjnsIwaNUrHjh3T7NmzVVpaqoyMDG3YsMF7Ym1JSYnPmb6DBg3SypUrNXPmTD322GNKT0/X2rVrde2110qSnE6nPv30U61YsUInTpxQWlqahg0bprlz5/qd9gEAAJeesE66nTJlineEpKZNmzbVWjZy5EiNHDnSb/sWLVrovffeC6cbAAD4ZYzRuXPn5Ha7L3ZXmiWXy6XY2FidPXu23ho7nU7FxsY2+GtHrPiUEAAAkeJyufT3v/9dZ86cudhdabaMMUpNTdWXX34ZVBBJSkpSx44dFR8fH/ZzElgAAM1KSUmJYmNjlZaWpvj4eL5QtBF4PB599913atWqVZ1f+GaMUWVlpY4dO6ZDhw4pPT293i+IC4TAAgBoNmJjY+XxeJSWlqakpKSL3Z1my+PxqLKyUomJifUGkBYtWiguLk5ffPGFd51whBdzAACwWLh/xaNxROL14BUFAADWI7AAAADrEVgAALhEPfHEE8rIyLjY3QgKgQUAAFiPwAIAQABHjkgbN1b9xMVFYAEAwI9ly6QrrpBuu63q57Jljft8t9xyi/eb5Nu0aaP27dtr1qxZMsbUalteXq4WLVrov/7rv3yWr1mzRq1bt/Z+ad6jjz6qXr16KSkpST169NCsWbPkcrnq7MPDDz/ssywnJ0f33nuv935FRYWmTZuma665Rq1bt1ZmZqbfb7mPNAILAAA1HDkiTZ4seTxV9z0e6b77Gn+kZcWKFYqNjdW2bdu0aNEiLViwQK+++mqtdsnJyfrxj3+slStX+ix/4403lJOT4/0OmtatW+v111/Xnj17tGjRIr3yyit6/vnnG9THKVOmaOvWrXr11Ve1c+dOjRw5UsOHD9e+ffsatN368MVxAADUsG/f+bBSze2W9u+XOnduvOft0qWLnn/+eTkcDl111VXatWuXnn/+eU2aNKlW2zFjxmjs2LE6c+aMkpKSVF5ernXr1mnNmjXeNjNnzvT+u1u3bvrVr36lgoIC/frXvw6rfyUlJXrttdd0+PBhtWrVSsnJyfrVr36lDRs26LXXXtPTTz8d1naDwQgLAAA1pKdLNb/rzOmUevZs3Oe98cYbfS4lkJWVpX379umpp55Sq1atvLeSkhLdfvvtiouL0zvvvCNJ+vd//3clJydryJAh3vVXrVqlm266SampqWrVqpVmzpypkpKSsPu3a9cuud1u9e7dW507d1ZycrJatWql//7v/9aBAwfC3/EgMMICAEANnTtLS5dWTQO53VVh5Xe/a9zRlbrcf//9GjVqlPd+WlqaYmNj9dOf/lQrV67U3XffrZUrV2rUqFGKja06tG/ZskVjxozRnDlzlJ2drTZt2qigoEDz588P+DwxMTG1zpm58JyX7777Tk6nU3/5y1/0/fff+1xLqFWrVpHc5VoILAAA+DFxopSdXTUN1LNndMLKxx9/7HN/69atSk9PV7t27dSuXbta7ceMGaOhQ4fqb3/7mz744AM9+eST3sc2b96sK664Qo8//rh32RdffFHn8//DP/yDvv76a+99t9ut3bt369Zbb5Uk/eM//qPcbreOHj2qfv36KTk5OWqXQWBKCACAADp3lm65JXojKyUlJcrNzdXnn3+uN998Uy+++KKmTp0asP0Pf/hDpaamasyYMerevbsyMzO9j6Wnp6ukpEQFBQU6cOCAXnjhBZ/zW/y57bbbtG7dOq1bt0579+7VAw88oBMnTngf79Wrl8aMGaN7771X//mf/6lDhw5p27ZtmjdvntatW9fg/a8LgQUAAEuMGzdO33//vQYOHKiHHnpIU6dO1eTJkwO2dzgcGj16tP76179qzJgxPo+NGDFCjzzyiKZMmaKMjAxt3rxZs2bNqvP5/+Vf/kXjx4/XuHHjNHjwYPXo0cM7ulLttdde09ixYzVz5kxdffXVysnJ0V/+8hd17do1/B0PgsP4+4B3E1NeXq42bdro5MmTSk5Ojui2XS6X1q9f7z25CY2HWkcPtY4eah09LpdL77//vrp3764ePXooMTHxYncpJLfccosyMjK0cOHCi92Venk8HpWXlwc9JXT27FkdOnRI3bt393ldQjl+M8ICAACsR2ABAADW41NCAABYIBpfb9+UMcICAACsR2ABADQ7zeDzJM1KJF4PAgsAoNlwu92S5L1aMexQ/Xo05JNynMMCAGg2jDFKTk7W0aNHJUlJSUk+1+ZBZHg8HlVWVurs2bN1fqzZGKMzZ87o6NGjatu2rZxOZ9jPSWABADQrHTp0kNPp9IYWRJ4xRt9//71atGgRVCBs27atUlNTG/ScBBYAQLPicDjUsWNHdejQwefCfYgcl8ulP/3pT/rhD39Y7zRPXFxcg0ZWqhFYAADNktPpjMiBErU5nU6dO3dOiYmJUfsGZ066BQAA1iOwAAAA6xFYAACA9QgsAADAegQWAABgPQILAACwHoEFAABYj8ACAACsR2ABAADWI7AAAADrEVgAAID1CCwAAMB6BBYAAGA9AgsAALAegQUAAFiPwAIAAKxHYAEAANYjsAAAAOsRWAAAgPUILAAAwHoEFgAAYD0CCwAAsB6BBQAAWI/AAgAArEdgAQAA1iOwAAAA6xFYAACA9QgsAADAegQWAABgPQILAACwHoEFAABYj8ACAACsR2ABAADWI7AAAADrEVgAAID1wgosS5YsUbdu3ZSYmKjMzExt27atzvarV69W7969lZiYqL59+2r9+vUB295///1yOBxauHBhOF0DAADNUMiBZdWqVcrNzVVeXp527Nihfv36KTs7W0ePHvXbfvPmzRo9erQmTpyo4uJi5eTkKCcnR7t3767Vds2aNdq6davS0tJC3xMAANBshRxYFixYoEmTJmnChAm65pprlJ+fr6SkJC1fvtxv+0WLFmn48OGaNm2arr76as2dO1fXX3+9Fi9e7NPuq6++0s9//nO98cYbiouLC29vAABAsxQbSuPKykpt375dM2bM8C6LiYnRkCFDtGXLFr/rbNmyRbm5uT7LsrOztXbtWu99j8ejsWPHatq0aerTp0+9/aioqFBFRYX3fnl5uSTJ5XLJ5XKFskv1qt5epLeL2qh19FDr6KHW0UOtoydStQ5l/ZACy/Hjx+V2u5WSkuKzPCUlRXv37vW7Tmlpqd/2paWl3vu/+c1vFBsbq1/84hdB9WPevHmaM2dOreXvv/++kpKSgtpGqAoLCxtlu6iNWkcPtY4eah091Dp6GlrrM2fOBN02pMDSGLZv365FixZpx44dcjgcQa0zY8YMn1Gb8vJydenSRcOGDVNycnJE++dyuVRYWKihQ4cyVdXIqHX0UOvoodbRQ62jJ1K1rp4hCUZIgaV9+/ZyOp0qKyvzWV5WVqbU1FS/66SmptbZ/s9//rOOHj2qrl27eh93u9365S9/qYULF+rw4cO1tpmQkKCEhIRay+Pi4hrtTdqY24Yvah091Dp6qHX0UOvoaWitQ1k3pJNu4+Pj1b9/fxUVFXmXeTweFRUVKSsry+86WVlZPu2lqiGk6vZjx47Vp59+qp07d3pvaWlpmjZtmt57771QugcAAJqpkKeEcnNzNX78eA0YMEADBw7UwoULdfr0aU2YMEGSNG7cOHXq1Enz5s2TJE2dOlWDBw/W/Pnzdccdd6igoECffPKJli5dKklq166d2rVr5/MccXFxSk1N1VVXXdXQ/QMAAM1AyIFl1KhROnbsmGbPnq3S0lJlZGRow4YN3hNrS0pKFBNzfuBm0KBBWrlypWbOnKnHHntM6enpWrt2ra699trI7QUAAGjWwjrpdsqUKZoyZYrfxzZt2lRr2ciRIzVy5Migt+/vvBUAAHDp4lpCAADAegQWAABgPQILAACwHoEFAABYj8ACAACsR2ABAADWI7AAAADrEVgAAID1CCwAAMB6BJZ6HDki7drVXkeOXOyeAABw6SKw1GHZMqlnz1jNmnWTevaM1bJlF7tHAABcmggsARw5Ik2eLHk8DklVP++7T4y0AABwERBYAti3T/J4fJe53dL+/RenPwAAXMoILAGkp0sxNarjdEo9e16c/gAAcCkjsATQubO0dKnkdBpJVT9/97uq5QAAILoILHWYOFHat++c5s79UPv2ndPEiRe7RwAAXJoILPXo3Fnq2/cbRlYAALiICCwAAMB6BBYAAGA9AgsAALAegQUAAFiPwAIAAKxHYAEAANYjsAAAAOsRWAAAgPUILAAAwHoEFgAAYD0CCwAAsB6BBQAAWI/AAgAArEdgAQAA1iOwAAAA6xFYAACA9QgsAADAegQWAABgPQILAACwHoEFAABYj8ACAACsR2ABAADWI7AAAADrEVgAAID1CCwAAMB6BBYAAGA9AgsAALAegQUAAFiPwAIAAKxHYAEAANYjsAAAAOsRWAAAgPUILAAAwHoEFgAAYD0CCwAAsB6BBQAAWI/AAgAArEdgAQAA1iOwAAAA6xFYAACA9QgsAADAegQWAABgPQILAACwHoEFAABYj8ACAACsR2ABAADWCyuwLFmyRN26dVNiYqIyMzO1bdu2OtuvXr1avXv3VmJiovr27av169f7PP7EE0+od+/eatmypS677DINGTJEH3/8cThdAwAAzVDIgWXVqlXKzc1VXl6eduzYoX79+ik7O1tHjx71237z5s0aPXq0Jk6cqOLiYuXk5CgnJ0e7d+/2tunVq5cWL16sXbt26cMPP1S3bt00bNgwHTt2LPw9AwAAzUbIgWXBggWaNGmSJkyYoGuuuUb5+flKSkrS8uXL/bZftGiRhg8frmnTpunqq6/W3Llzdf3112vx4sXeNvfcc4+GDBmiHj16qE+fPlqwYIHKy8v16aefhr9nAACg2YgNpXFlZaW2b9+uGTNmeJfFxMRoyJAh2rJli991tmzZotzcXJ9l2dnZWrt2bcDnWLp0qdq0aaN+/fr5bVNRUaGKigrv/fLyckmSy+WSy+UKZZfqVb29SG8XtVHr6KHW0UOto4daR0+kah3K+iEFluPHj8vtdislJcVneUpKivbu3et3ndLSUr/tS0tLfZa9++67uvvuu3XmzBl17NhRhYWFat++vd9tzps3T3PmzKm1/P3331dSUlIouxS0wsLCRtkuaqPW0UOto4daRw+1jp6G1vrMmTNBtw0psDSmW2+9VTt37tTx48f1yiuv6K677tLHH3+sDh061Go7Y8YMn1Gb8vJydenSRcOGDVNycnJE++VyuVRYWKihQ4cqLi4uotuGL2odPdQ6eqh19FDr6IlUratnSIIRUmBp3769nE6nysrKfJaXlZUpNTXV7zqpqalBtW/ZsqV69uypnj176sYbb1R6erqWLVvmM/1ULSEhQQkJCbWWx8XFNdqbtDG3DV/UOnqodfRQ6+ih1tHT0FqHsm5IJ93Gx8erf//+Kioq8i7zeDwqKipSVlaW33WysrJ82ktVQ0iB2l+43QvPUwEAAJeukKeEcnNzNX78eA0YMEADBw7UwoULdfr0aU2YMEGSNG7cOHXq1Enz5s2TJE2dOlWDBw/W/Pnzdccdd6igoECffPKJli5dKkk6ffq0nnrqKY0YMUIdO3bU8ePHtWTJEn311VcaOXJkBHcVAAA0VSEHllGjRunYsWOaPXu2SktLlZGRoQ0bNnhPrC0pKVFMzPmBm0GDBmnlypWaOXOmHnvsMaWnp2vt2rW69tprJUlOp1N79+7VihUrdPz4cbVr10433HCD/vznP6tPnz4R2k0AANCUhXXS7ZQpUzRlyhS/j23atKnWspEjRwYcLUlMTNTbb78dTjcAAMAlgmsJAQAA6xFYAACA9QgsAADAegQWAABgPQILAACwHoEFAABYj8ACAACsR2ABAADWI7AAAADrEVgAAID1CCwAAMB6BBYAAGA9AgsAALAegQUAAFiPwAIAAKxHYAEAANYjsAAAAOsRWAAAgPUILAAAwHoEFgAAYD0CCwAAsB6BBQAAWI/AAgAArEdgAQAA1iOwAAAA6xFYAACA9QgsAADAegQWAABgPQILAACwHoEFAABYj8ACAACsR2ABAADWI7AAAADrEVgAAID1CCwAAMB6BBYAAGA9AgsAALAegQUAAFiPwAIAAKxHYAEAANYjsAAAAOsRWAAAgPUILAAAwHoEFgAAYD0CCwAAsB6BBQAAWI/AAgAArEdgAQAA1iOwAAAA6xFYAACA9QgsAADAegQWAABgPQILAACwHoEFAABYj8ACAACsR2ABAADWI7AAAADrEVgAAID1CCwAAMB6BBYAAGA9AgsAALAegQUAAFiPwAIAAKwXVmBZsmSJunXrpsTERGVmZmrbtm11tl+9erV69+6txMRE9e3bV+vXr/c+5nK59Oijj6pv375q2bKl0tLSNG7cOP39738Pp2sAAKAZCjmwrFq1Srm5ucrLy9OOHTvUr18/ZWdn6+jRo37bb968WaNHj9bEiRNVXFysnJwc5eTkaPfu3ZKkM2fOaMeOHZo1a5Z27Niht99+W59//rlGjBjRsD0DAADNRmyoKyxYsECTJk3ShAkTJEn5+flat26dli9frunTp9dqv2jRIg0fPlzTpk2TJM2dO1eFhYVavHix8vPz1aZNGxUWFvqss3jxYg0cOFAlJSXq2rVrrW1WVFSooqLCe7+8vFxS1WiNy+UKdZfqVL29SG8XtVHr6KHW0UOto4daR0+kah3K+iEFlsrKSm3fvl0zZszwLouJidGQIUO0ZcsWv+ts2bJFubm5Psuys7O1du3agM9z8uRJORwOtW3b1u/j8+bN05w5c2otf//995WUlFT/joShZqhC46HW0UOto4daRw+1jp6G1vrMmTNBtw0psBw/flxut1spKSk+y1NSUrR3716/65SWlvptX1pa6rf92bNn9eijj2r06NFKTk7222bGjBk+Iai8vFxdunTRsGHDAq4TLpfLpcLCQg0dOlRxcXER3TZ8UevoodbRQ62jh1pHT6RqXT1DEoyQp4Qak8vl0l133SVjjF5++eWA7RISEpSQkFBreVxcXKO9SRtz2/BFraOHWkcPtY4eah09Da11KOuGFFjat28vp9OpsrIyn+VlZWVKTU31u05qampQ7avDyhdffKEPPvgg4iMlAACg6QrpU0Lx8fHq37+/ioqKvMs8Ho+KioqUlZXld52srCyf9lLVnNeF7avDyr59+/THP/5R7dq1C6VbAACgmQt5Sig3N1fjx4/XgAEDNHDgQC1cuFCnT5/2fmpo3Lhx6tSpk+bNmydJmjp1qgYPHqz58+frjjvuUEFBgT755BMtXbpUUlVY+elPf6odO3bo3Xffldvt9p7fcvnllys+Pj5S+woAAJqokAPLqFGjdOzYMc2ePVulpaXKyMjQhg0bvCfWlpSUKCbm/MDNoEGDtHLlSs2cOVOPPfaY0tPTtXbtWl177bWSpK+++krvvPOOJCkjI8PnuTZu3KhbbrklzF0DAADNRVgn3U6ZMkVTpkzx+9imTZtqLRs5cqRGjhzpt323bt1kjAmnGwAA4BLBtYQAAID1CCwAAMB6BBYAAGA9AgsAALAegQUAAFiPwAIAAKxHYAEAANYjsAAAAOsRWAAAgPUILAAAwHoEFgAAYD0CCwAAsB6BBQAAWI/AAgAArEdgAQAA1iOwAAAA6xFYAACA9QgsAADAegQWAABgPQJLGI4ckTZurPoJAAAaH4ElRMuWSVdcId12W9XPZcsudo8AAGj+CCwhOHJEmjxZ8niq7ns80n33MdICAEBjI7CEYN++82Glmtst7d9/cfoDAMClgsASgvR0KaZGxZxOqWfPi9MfAAAuFQSWEHTuLC1dWhVSpKqfv/td1XIAANB4Yi92B5qaiROl7OyqaaCePQkrAABEA4ElDJ07E1QAAIgmpoQAAID1CCwAAMB6BBYAAGA9AgsAALAegSUCuLYQAACNi8DSQFxbCACAxkdgaQCuLQQAQHQQWBqAawsBABAdBJYG4NpCAABEB4GlAbi2EAAA0cFX8zcQ1xYCAKDxEVgigGsLAQDQuJgSAgAA1iOwAAAA6xFYGgnffgsAQOQQWBoB334LAEBkEVgijG+/BQAg8ggsEca33wIAEHkElgjj228BAIg8AkuEBfr2W4mTcAEACBeBpRFMnCgdPlwVUA4frlrGSbgAAISPwNJIOneWbrml6t+BTsLlo88AAASHwNLIAp2Eu2gRoy4AAASLawk1suqTcC8MLTEx0oIFtUddrrtO+u67qnW4NhEAAOcxwtLI/J2Em5vrf9TlxhsZcQEAwB8CSxTUPAl36tTaH32WOM8FAIBACCxRUn0SbufOtUdd/IWXQOe5EGAAAJciAstFcuGoy9attUOLv/NcJk0K/kTdYIIN4QcA0FQQWC6i6lGXG24I7jwXY4K7RlEwF1/kAo0AgKaEwGKJYM9zuVD1NYouHCkJ5uKLXKARANDUEFgsUt95Lg6Hb3unU/rkE9+RkkWL6r/4YigXaKw5bcQ0EgDgYiCwWOzCUZcvvpBeecV32mjePOnRR31HShYs8H/xxZYtzweNYC/QWHPa6N57mUYCAFwcBBbLXTjqUnPaaMCA2iMlHk/V+S8XBpuf/cz3O17ee8//BRov/LI6f9NGK1bw0WsAwMXBN902MdXTRdVqfouu01l1/svUqVVTPC1bVoWVmkHj8OGq2/79VSMrNb9Z19+0UU3VH72u/jRTTExVEJo4Mbh9OXKk6nn4Zl8AQH0YYWnC/H2LbvVISfXIzHffBT5f5cLRG8l3pMTftFFNgS4x8Je/1D/iwqeUAAChILA0cTWniWqOboR7voq/aaPx4yNziYHG/pRSJKeomO4CADuEFViWLFmibt26KTExUZmZmdq2bVud7VevXq3evXsrMTFRffv21fr1630ef/vttzVs2DC1a9dODodDO3fuDKdbl6yaIyU1HwvnfJX77pOys33D0Ouvh3+JgQsF+pTS1q0O7drVvkHhIJIjN4wCAYA9Qg4sq1atUm5urvLy8rRjxw7169dP2dnZOnr0qN/2mzdv1ujRozVx4kQVFxcrJydHOTk52r17t7fN6dOndfPNN+s3v/lN+HuCgOobhanrY841w1A4lxio+V0x/kZ9HA7pZz9zatasm9SzZ6w3HIQywhHJkZtA2wpmuivQ9qI1UhPuczGaBMBmIZ90u2DBAk2aNEkTJkyQJOXn52vdunVavny5pk+fXqv9okWLNHz4cE2bNk2SNHfuXBUWFmrx4sXKz8+XJI0dO1aSdPjw4aD6UFFRoYqKCu/98vJySZLL5ZLL5Qp1l+pUvb1IbzfaUlKqbpJUc1e6dZNiYmLl8Zz/ohen0+iKK87ValvTuHFVIxAHDjiUlGT0gx/U3s7WrW796EdOeTwOxcQYvfyyWy+/LD34oFNud9Wyqm/xrVrP43HovvuMjh1z6/HHfdcbOtRo/36HevY0tUaUPvvMIY/H9y3tdkt7955TSorxWX7kiAJup65t3Xij8enPhAmm9so1vPaaQw884Ax5vXAE+1w139fR7OOlprn8DmkKqHX0RKrWoazvMMYE/VupsrJSSUlJ+sMf/qCcnBzv8vHjx+vEiRP6j//4j1rrdO3aVbm5uXr44Ye9y/Ly8rR27Vr99a9/9Wl7+PBhde/eXcXFxcrIyAjYjyeeeEJz5syptXzlypVKSkoKdndwgcLCrnr55X7yeGIUE+PRAw/8VUOHljR4O2PH7tHvf99HxpwPMTExHi1dWihJ+vrrljp5MkHPPXdDrW05HMZnPYfDI8khYxxyOIwefHCnhg4t0fHjifr661ZKSHDp0UcH+32u9u3P+vTxpZcyAm6nY8fvJEmTJg3z2ZZkJAXaj6r12rc/W+92YmI8euaZP6miIs67TkOEuv/+1vfXx/rWi0SfI7H/AJquM2fO6J577tHJkyeVnJxcZ9uQRliOHz8ut9utlOo/1f9fSkqK9u7d63ed0tJSv+1LS0tDeWofM2bMUG5urvd+eXm5unTpomHDhtW7w6FyuVwqLCzU0KFDFRcXF9Ft2+T226Vf/tKtAwc8uvJKo86dr5V0bYO3s39/b61Y4fsVvR5PjK644kcaPLgqKx85Ii1YYHxGZmJifO9LkjExF/zbofz8DHXu3NdnFOZnP/No5coYud0OOZ1GL73k0bhxt3lHVFq2NHr55VjvwTnQdl5+2a38fLfPKFDN/ng8MdqzZ4gWLozxrjdmjEdvvHH+/sMPe2qEnqr1pk8fXGs0o+aoT32jQJLvyEjNgHdhratei/PbOnz4nFat2qFRo67X4cNxAderfo2qhdPHuvpc1/43F5fK7xAbhFvr5vrea0yRel9Xz5AExYTgq6++MpLM5s2bfZZPmzbNDBw40O86cXFxZuXKlT7LlixZYjp06FCr7aFDh4wkU1xcHEq3zMmTJ40kc/LkyZDWC0ZlZaVZu3atqaysjPi2LwVffmlMTIwxVZdurLo5nVXLL/Tqq8Y4nZ7/f9xjnn229nr+bv62vW2bMRs3nn+OV189387hCH47X35Zddu4sWqbNdvExNTfx2DaOJ3G/Pa359vFxBgzfrzv/VdfDa62wW/b8//3/dc60GsUah+DfT/U7OOrr1a1/eCD2v2oub1ItAlWONvy9zsk3H6Hs14k99924fy+rvm+DuZ9jMgdG0M5focUWCoqKozT6TRr1qzxWT5u3DgzYsQIv+t06dLFPP/88z7LZs+eba677rpabQkszVNVGDl/cAr0C+HgwUozd+6fzcGDlbXWi4mpHTYCHaw3bjy/zWAO6sFsx99+/OpX9QcqqardhfsRSh/8Bajqg88HH9S9LafTBBX8qgNDzdfowucKNhzVd1Csr8/VN4fD/0Hkwj4Fc6AJ1CacA7+/bQWznar39Yc+7+tw+h3OeuGEyoaKZoisuZ2ata7vuYL9gwq1WR9YjDFm4MCBZsqUKd77brfbdOrUycybN89v+7vuusv8+Mc/9lmWlZVl7rvvvlptCSzNV/VIRV2/CAL9JVq9Xs3AEMzIQLgH9UC/tC7sTygH8fpGaoINPhcefAL1+8IRpkD77y+c1az1hc8VbDi78Hn9jQyEu/81R2EcjtoBtmao8/dcgUZzaqq5//5qHShU1d5O/aNZ27bVHQ79jdQFs144oTKQYEZ8ggl14Qa/+rZTc+QwmJAX6P9HzT9Woi3YQBftEcYLNYnAUlBQYBISEszrr79u9uzZYyZPnmzatm1rSktLjTHGjB071kyfPt3b/qOPPjKxsbHmueeeM5999pnJy8szcXFxZteuXd4233zzjSkuLjbr1q0zkkxBQYEpLi42X3/9dVB9IrA0D8HUumbwqW/0JtBfUP6mjYIZBaqp5nrjx9e/nWCCl7+AFejgG+r+13cQC/aAWV+oCDQyULNG4U7/+btdGOpCnf6rb/+DCVXhbieccBjuesEejOsbzQon1IUS/Op6/ob8n6nvNfI3mhlMjYJtU1/wC3ZUMNxwGO5+1NQkAosxxrz44ouma9euJj4+3gwcONBs3brV+9jgwYPN+PHjfdq/9dZbplevXiY+Pt706dPHrFu3zufx1157zUiqdcvLywuqPwSW5iHcWtc3ehNsGAlmFCiY9YLZTn3Bq+ZBPdDBqObISDD7X7Xt8+cLBftX54VTW/766O8gUtfIQKD9D2X6r77nqi+s1KzjBx8Ys2pVaOsGCgPBTn8Fsx/B7ls4U4uB3jN1jWYF6mMwr1F9bYIZTQt2VNLf7a23ah/Ua/5+iFQYCGaKrr5a+/tDINxwGMy5aYFGvGouazKBxTYEluahMWsdbhiJprqCT0Pn2mtuu+b5QjXb1vVXZ6A+Bjv9VPPA7q+PwYxCORzBhbpgpv+CmW66cDTLX6gKZUqqvnOaaobD6gNbqOv5G/Gr70AbzKhcQwJJtNr4C1V1jebU9X8t2DAQ6hRdMCHT3742pD71nePnr0b+3jMEljARWJoHal23cKet/Kmv1uE8VyjnXgQTtIKZ/gsm1NU3/RdMGPJ3YAvmL/NAo1l1ndMUKByGu16owTeY4BnodQ0m1NXXJpRRmPpGDusbufP3Xgx2/+taHurUXkOeK5R1I/laHzxIYAkLgaV5oNb1i9RIUTjnCwUj0EE8UkGrMab/Av3Sfuut0Kb2AoWBjz4KPJoVSp8jsV4wJ5kG+qs72Ne1vlBXX5twA6Qx/kcOq9sEmuqrOdoX7AhTJEZPAo0CBfPhglDDYbjnuAW6FRa6CCzhILA0D9Q6eqI9/RbNKblQn6uh023VAoWBYH6xR+r8qWDa1zeVYUz9o1mhPH8kzukK9Pw11fW+DuV1DmZkJpypvUBTdPXta6TCYfX9QK91oBEvRlgiiMDSPFDr6KHWviIxChTogBipX+yR4u8k7PrO67gYwnn+SE51hhIGwp2iC2VfI9Gmrk8g1TfVWXMZ57CEicDSPFDr6KHWtUXiAN2Yv9gjKZgDbVPUWFOdwawXyanPxhDKCFMwoepiBJaQr9YMAM1R585q8HVkJk6UsrOl/fulnj2rtmfjhYOr93XjRsnj8X3M7a7qf3O9pk64r3N96/l77W2yb1/wr7W/fY3E/4+GIrAAQATZ8Is9WOnpUkyM74HM6aw64CJ0Nr/2zeG1jqm/CQCgOercWVq6tOrAJVX9/N3v7D3oInzN4bVmhAUALmG2T2Ugcpr6a01gAYBLnM1TGYispvxaMyUEAACsR2ABAADWI7AAAADrEVgAAID1CCwAAMB6BBYAAGA9AgsAALAegQUAAFiPwAIAAKxHYAEAANYjsAAAAOsRWAAAgPUILAAAwHoEFgAAYD0CCwAAsB6BBQAAWI/AAgAArEdgAQAA1iOwAAAA6xFYAACA9QgsAADAegQWAABgPQILAACwHoEFAABYj8ACAACsR2ABAADWI7AAAADrEVgAAID1CCwAAMB6BBYAAGA9AgsAALAegQUAAFiPwAIAAKxHYAEAANYjsAAAAOsRWAAAgPUILAAAwHoEFgAAYD0CCwAAsB6BBQAAWI/AAgAArEdgAQAA1iOwAAAA6xFYAACA9QgsAADAegQWAABgPQILAACwHoEFAABYj8ACAACsR2ABAADWI7AAAADrEVgAAID1CCwAAMB6YQWWJUuWqFu3bkpMTFRmZqa2bdtWZ/vVq1erd+/eSkxMVN++fbV+/Xqfx40xmj17tjp27KgWLVpoyJAh2rdvXzhdAwAAzVDIgWXVqlXKzc1VXl6eduzYoX79+ik7O1tHjx71237z5s0aPXq0Jk6cqOLiYuXk5CgnJ0e7d+/2tnn22Wf1wgsvKD8/Xx9//LFatmyp7OxsnT17Nvw9AwAAzUZsqCssWLBAkyZN0oQJEyRJ+fn5WrdunZYvX67p06fXar9o0SINHz5c06ZNkyTNnTtXhYWFWrx4sfLz82WM0cKFCzVz5kzdeeedkqTf//73SklJ0dq1a3X33XfX2mZFRYUqKiq890+ePClJ+vbbb+VyuULdpTq5XC6dOXNG33zzjeLi4iK6bfii1tFDraOHWkcPtY6eSNX61KlTkqpmWuplQlBRUWGcTqdZs2aNz/Jx48aZESNG+F2nS5cu5vnnn/dZNnv2bHPdddcZY4w5cOCAkWSKi4t92vzwhz80v/jFL/xuMy8vz0jixo0bN27cuDWD25dffllvBglphOX48eNyu91KSUnxWZ6SkqK9e/f6Xae0tNRv+9LSUu/j1csCtalpxowZys3N9d73eDz69ttv1a5dOzkcjlB2qV7l5eXq0qWLvvzySyUnJ0d02/BFraOHWkcPtY4eah09kaq1MUanTp1SWlpavW1DnhKyQUJCghISEnyWtW3btlGfMzk5mf8AUUKto4daRw+1jh5qHT2RqHWbNm2CahfSSbft27eX0+lUWVmZz/KysjKlpqb6XSc1NbXO9tU/Q9kmAAC4tIQUWOLj49W/f38VFRV5l3k8HhUVFSkrK8vvOllZWT7tJamwsNDbvnv37kpNTfVpU15ero8//jjgNgEAwKUl5Cmh3NxcjR8/XgMGDNDAgQO1cOFCnT592vupoXHjxqlTp06aN2+eJGnq1KkaPHiw5s+frzvuuEMFBQX65JNPtHTpUkmSw+HQww8/rCeffFLp6enq3r27Zs2apbS0NOXk5ERuT8OUkJCgvLy8WlNQiDxqHT3UOnqodfRQ6+i5GLV2GBPMZ4l8LV68WL/97W9VWlqqjIwMvfDCC8rMzJQk3XLLLerWrZtef/11b/vVq1dr5syZOnz4sNLT0/Xss8/q9ttv9z5ujFFeXp6WLl2qEydO6Oabb9ZLL72kXr16NXwPAQBAkxdWYAEAAIgmriUEAACsR2ABAADWI7AAAADrEVgAAID1CCySlixZom7duikxMVGZmZnatm1bne1Xr16t3r17KzExUX379tX69euj1NOmL5Rav/LKK/rBD36gyy67TJdddpmGDBlS72uD80J9X1crKCiQw+Gw4msFmopQa33ixAk99NBD6tixoxISEtSrVy9+jwQp1FovXLhQV111lVq0aKEuXbrokUce0dmzZ6PU26brT3/6k37yk58oLS1NDodDa9eurXedTZs26frrr1dCQoJ69uzp82nhiKj3akPNXEFBgYmPjzfLly83f/vb38ykSZNM27ZtTVlZmd/2H330kXE6nebZZ581e/bsMTNnzjRxcXFm165dUe550xNqre+55x6zZMkSU1xcbD777DNz7733mjZt2pgjR45EuedNT6i1rnbo0CHTqVMn84Mf/MDceeed0elsExdqrSsqKsyAAQPM7bffbj788ENz6NAhs2nTJrNz584o97zpCbXWb7zxhklISDBvvPGGOXTokHnvvfdMx44dzSOPPBLlnjc969evN48//rh5++23jaRaFz2u6eDBgyYpKcnk5uaaPXv2mBdffNE4nU6zYcOGiPXpkg8sAwcONA899JD3vtvtNmlpaWbevHl+2991113mjjvu8FmWmZlp7rvvvkbtZ3MQaq1rOnfunGndurVZsWJFY3Wx2Qin1ufOnTODBg0yr776qhk/fjyBJUih1vrll182PXr0MJWVldHqYrMRaq0feughc9ttt/ksy83NNTfddFOj9rO5CSaw/PrXvzZ9+vTxWTZq1CiTnZ0dsX5c0lNClZWV2r59u4YMGeJdFhMToyFDhmjLli1+19myZYtPe0nKzs4O2B5Vwql1TWfOnJHL5dLll1/eWN1sFsKt9b/927+pQ4cOmjhxYjS62SyEU+t33nlHWVlZeuihh5SSkqJrr71WTz/9tNxud7S63SSFU+tBgwZp+/bt3mmjgwcPav369T5fXIrIiMaxsUlerTlSjh8/LrfbrZSUFJ/lKSkp2rt3r991SktL/bYvLS1ttH42B+HUuqZHH31UaWlptf5TwFc4tf7www+1bNky7dy5Mwo9bD7CqfXBgwf1wQcfaMyYMVq/fr3279+vBx98UC6XS3l5edHodpMUTq3vueceHT9+XDfffLOMMTp37pzuv/9+PfbYY9Ho8iUl0LGxvLxc33//vVq0aNHg57ikR1jQdDzzzDMqKCjQmjVrlJiYeLG706ycOnVKY8eO1SuvvKL27dtf7O40ex6PRx06dNDSpUvVv39/jRo1So8//rjy8/MvdteanU2bNunpp5/WSy+9pB07dujtt9/WunXrNHfu3IvdNYThkh5had++vZxOp8rKynyWl5WVKTU11e86qampIbVHlXBqXe25557TM888oz/+8Y+67rrrGrObzUKotT5w4IAOHz6sn/zkJ95lHo9HkhQbG6vPP/9cV155ZeN2uokK533dsWNHxcXFyel0epddffXVKi0tVWVlpeLj4xu1z01VOLWeNWuWxo4dq3/913+VJPXt21enT5/W5MmT9fjjjysmhr/ZIyXQsTE5OTkioyvSJT7CEh8fr/79+6uoqMi7zOPxqKioSFlZWX7XycrK8mkvSYWFhQHbo0o4tZakZ599VnPnztWGDRs0YMCAaHS1yQu11r1799auXbu0c+dO723EiBG69dZbtXPnTnXp0iWa3W9Swnlf33TTTdq/f783FErS//zP/6hjx46ElTqEU+szZ87UCiXVQdFwGb2IisqxMWKn7zZRBQUFJiEhwbz++utmz549ZvLkyaZt27amtLTUGGPM2LFjzfTp073tP/roIxMbG2uee+4589lnn5m8vDw+1hykUGv9zDPPmPj4ePOHP/zBfP31197bqVOnLtYuNBmh1romPiUUvFBrXVJSYlq3bm2mTJliPv/8c/Puu++aDh06mCeffPJi7UKTEWqt8/LyTOvWrc2bb75pDh48aN5//31z5ZVXmrvuuuti7UKTcerUKVNcXGyKi4uNJLNgwQJTXFxsvvjiC2OMMdOnTzdjx471tq/+WPO0adPMZ599ZpYsWcLHmhvDiy++aLp27Wri4+PNwIEDzdatW72PDR482IwfP96n/VtvvWV69epl4uPjTZ8+fcy6deui3OOmK5RaX3HFFUZSrVteXl70O94Ehfq+vhCBJTSh1nrz5s0mMzPTJCQkmB49epinnnrKnDt3Lsq9bppCqbXL5TJPPPGEufLKK01iYqLp0qWLefDBB83//u//Rr/jTczGjRv9/v6tru/48ePN4MGDa62TkZFh4uPjTY8ePcxrr70W0T45jGFcDAAA2O2SPocFAAA0DQQWAABgPQILAACwHoEFAABYj8ACAACsR2ABAADWI7AAAADrEVgAAID1CCwAAMB6BBYAAGA9AgsAALDe/wEeXNL0D1MCPQAAAABJRU5ErkJggg==\n"
=======
            "image/png": "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\n"
>>>>>>> 680a1a38307f154d73e7cf571db4c39b1a966f69
          },
          "metadata": {}
        }
      ]
    },
    {
      "cell_type": "code",
      "source": [
        "c_map = p_value.multiply(0).where(p_value.lt(0.01), 1)\n",
        "diff = im2.subtract(im1)\n",
        "d_map = c_map.multiply(0)                    # Initialize the direction map to zero.\n",
        "d_map = d_map.where(det(diff).gt(0), 2)      # All pos or neg def diffs are now labeled 2.\n",
        "d_map = d_map.where(diff.select(0).gt(0), 3) # Re-label pos def (and label some indef) to 3.\n",
        "d_map = d_map.where(det(diff).lt(0), 1)      # Label all indef to 1.\n",
        "c_map = c_map.multiply(d_map)                # Re-label the c_map, 0*X = 0, 1*1 = 1, 1*2= 2, 1*3 = 3."
      ],
      "metadata": {
        "id": "DJTO3Xwp758y"
      },
      "execution_count": null,
      "outputs": []
    },
    {
      "cell_type": "code",
      "source": [
        "mp = folium.Map(location=location, zoom_start=12)\n",
        "mp.add_ee_layer(crop2018, {min: 0, max: 255}, 'crop2018')\n",
        "mp.add_ee_layer(\n",
        "    c_map.updateMask(c_map.gt(0)), {\n",
        "        'min': 0,\n",
        "        'max': 3,\n",
        "        'palette': ['black', 'yellow', 'blue', 'red']\n",
        "    }, 'c_map')\n",
        "mp.add_child(folium.LayerControl())"
      ],
      "metadata": {
        "colab": {
          "base_uri": "https://localhost:8080/",
          "height": 808
        },
        "id": "84YnPxOy7-N9",
<<<<<<< HEAD
        "outputId": "cdfc4518-df0e-40c2-d5cc-6cbd5e6bf58b"
=======
        "outputId": "030e57c1-6e25-4819-e354-04a08354bd25"
>>>>>>> 680a1a38307f154d73e7cf571db4c39b1a966f69
      },
      "execution_count": null,
      "outputs": [
        {
          "output_type": "execute_result",
          "data": {
            "text/plain": [
<<<<<<< HEAD
              "<folium.folium.Map at 0x7ee64034a530>"
=======
              "<folium.folium.Map at 0x7ee640387010>"
>>>>>>> 680a1a38307f154d73e7cf571db4c39b1a966f69
            ],
            "text/html": [
              "<div style=\"width:100%;\"><div style=\"position:relative;width:100%;height:0;padding-bottom:60%;\"><span style=\"color:#565656\">Make this Notebook Trusted to load map: File -> Trust Notebook</span><iframe srcdoc=\"&lt;!DOCTYPE html&gt;\n",
              "&lt;html&gt;\n",
              "&lt;head&gt;\n",
              "    \n",
              "    &lt;meta http-equiv=&quot;content-type&quot; content=&quot;text/html; charset=UTF-8&quot; /&gt;\n",
              "    \n",
              "        &lt;script&gt;\n",
              "            L_NO_TOUCH = false;\n",
              "            L_DISABLE_3D = false;\n",
              "        &lt;/script&gt;\n",
              "    \n",
              "    &lt;style&gt;html, body {width: 100%;height: 100%;margin: 0;padding: 0;}&lt;/style&gt;\n",
              "    &lt;style&gt;#map {position:absolute;top:0;bottom:0;right:0;left:0;}&lt;/style&gt;\n",
              "    &lt;script src=&quot;https://cdn.jsdelivr.net/npm/leaflet@1.9.3/dist/leaflet.js&quot;&gt;&lt;/script&gt;\n",
              "    &lt;script src=&quot;https://code.jquery.com/jquery-1.12.4.min.js&quot;&gt;&lt;/script&gt;\n",
              "    &lt;script src=&quot;https://cdn.jsdelivr.net/npm/bootstrap@5.2.2/dist/js/bootstrap.bundle.min.js&quot;&gt;&lt;/script&gt;\n",
              "    &lt;script src=&quot;https://cdnjs.cloudflare.com/ajax/libs/Leaflet.awesome-markers/2.0.2/leaflet.awesome-markers.js&quot;&gt;&lt;/script&gt;\n",
              "    &lt;link rel=&quot;stylesheet&quot; href=&quot;https://cdn.jsdelivr.net/npm/leaflet@1.9.3/dist/leaflet.css&quot;/&gt;\n",
              "    &lt;link rel=&quot;stylesheet&quot; href=&quot;https://cdn.jsdelivr.net/npm/bootstrap@5.2.2/dist/css/bootstrap.min.css&quot;/&gt;\n",
              "    &lt;link rel=&quot;stylesheet&quot; href=&quot;https://netdna.bootstrapcdn.com/bootstrap/3.0.0/css/bootstrap.min.css&quot;/&gt;\n",
              "    &lt;link rel=&quot;stylesheet&quot; href=&quot;https://cdn.jsdelivr.net/npm/@fortawesome/fontawesome-free@6.2.0/css/all.min.css&quot;/&gt;\n",
              "    &lt;link rel=&quot;stylesheet&quot; href=&quot;https://cdnjs.cloudflare.com/ajax/libs/Leaflet.awesome-markers/2.0.2/leaflet.awesome-markers.css&quot;/&gt;\n",
              "    &lt;link rel=&quot;stylesheet&quot; href=&quot;https://cdn.jsdelivr.net/gh/python-visualization/folium/folium/templates/leaflet.awesome.rotate.min.css&quot;/&gt;\n",
              "    \n",
              "            &lt;meta name=&quot;viewport&quot; content=&quot;width=device-width,\n",
              "                initial-scale=1.0, maximum-scale=1.0, user-scalable=no&quot; /&gt;\n",
              "            &lt;style&gt;\n",
<<<<<<< HEAD
              "                #map_2b51cff710aaca529e2dac274efbbed7 {\n",
=======
              "                #map_55fa0d97ac1a3f72d11bb0aec7db90fe {\n",
>>>>>>> 680a1a38307f154d73e7cf571db4c39b1a966f69
              "                    position: relative;\n",
              "                    width: 100.0%;\n",
              "                    height: 100.0%;\n",
              "                    left: 0.0%;\n",
              "                    top: 0.0%;\n",
              "                }\n",
              "                .leaflet-container { font-size: 1rem; }\n",
              "            &lt;/style&gt;\n",
              "        \n",
              "&lt;/head&gt;\n",
              "&lt;body&gt;\n",
              "    \n",
              "    \n",
<<<<<<< HEAD
              "            &lt;div class=&quot;folium-map&quot; id=&quot;map_2b51cff710aaca529e2dac274efbbed7&quot; &gt;&lt;/div&gt;\n",
=======
              "            &lt;div class=&quot;folium-map&quot; id=&quot;map_55fa0d97ac1a3f72d11bb0aec7db90fe&quot; &gt;&lt;/div&gt;\n",
>>>>>>> 680a1a38307f154d73e7cf571db4c39b1a966f69
              "        \n",
              "&lt;/body&gt;\n",
              "&lt;script&gt;\n",
              "    \n",
              "    \n",
<<<<<<< HEAD
              "            var map_2b51cff710aaca529e2dac274efbbed7 = L.map(\n",
              "                &quot;map_2b51cff710aaca529e2dac274efbbed7&quot;,\n",
              "                {\n",
              "                    center: [36.84898993114767, 126.22203999999549],\n",
=======
              "            var map_55fa0d97ac1a3f72d11bb0aec7db90fe = L.map(\n",
              "                &quot;map_55fa0d97ac1a3f72d11bb0aec7db90fe&quot;,\n",
              "                {\n",
              "                    center: [36.848989931147514, 126.1995399999959],\n",
>>>>>>> 680a1a38307f154d73e7cf571db4c39b1a966f69
              "                    crs: L.CRS.EPSG3857,\n",
              "                    zoom: 12,\n",
              "                    zoomControl: true,\n",
              "                    preferCanvas: false,\n",
              "                }\n",
              "            );\n",
              "\n",
              "            \n",
              "\n",
              "        \n",
              "    \n",
<<<<<<< HEAD
              "            var tile_layer_e2fd92b908f9356626b991901a185e99 = L.tileLayer(\n",
              "                &quot;https://{s}.tile.openstreetmap.org/{z}/{x}/{y}.png&quot;,\n",
              "                {&quot;attribution&quot;: &quot;Data by \\u0026copy; \\u003ca target=\\&quot;_blank\\&quot; href=\\&quot;http://openstreetmap.org\\&quot;\\u003eOpenStreetMap\\u003c/a\\u003e, under \\u003ca target=\\&quot;_blank\\&quot; href=\\&quot;http://www.openstreetmap.org/copyright\\&quot;\\u003eODbL\\u003c/a\\u003e.&quot;, &quot;detectRetina&quot;: false, &quot;maxNativeZoom&quot;: 18, &quot;maxZoom&quot;: 18, &quot;minZoom&quot;: 0, &quot;noWrap&quot;: false, &quot;opacity&quot;: 1, &quot;subdomains&quot;: &quot;abc&quot;, &quot;tms&quot;: false}\n",
              "            ).addTo(map_2b51cff710aaca529e2dac274efbbed7);\n",
              "        \n",
              "    \n",
              "            var tile_layer_7543b9b10354fb0c378c81f1a5d95cab = L.tileLayer(\n",
              "                &quot;https://earthengine.googleapis.com/v1/projects/earthengine-legacy/maps/a058fb960d1697001499e063e231a643-4b2fb6bf34d6de2a828979273911a92a/tiles/{z}/{x}/{y}&quot;,\n",
              "                {&quot;attribution&quot;: &quot;Map Data \\u0026copy; \\u003ca href=\\&quot;https://earthengine.google.com/\\&quot;\\u003eGoogle Earth Engine\\u003c/a\\u003e&quot;, &quot;detectRetina&quot;: false, &quot;maxNativeZoom&quot;: 18, &quot;maxZoom&quot;: 18, &quot;minZoom&quot;: 0, &quot;noWrap&quot;: false, &quot;opacity&quot;: 1, &quot;subdomains&quot;: &quot;abc&quot;, &quot;tms&quot;: false}\n",
              "            ).addTo(map_2b51cff710aaca529e2dac274efbbed7);\n",
              "        \n",
              "    \n",
              "            var tile_layer_0e242bf9819c30c746e17cff33b9cf3f = L.tileLayer(\n",
              "                &quot;https://earthengine.googleapis.com/v1/projects/earthengine-legacy/maps/bc60663e8b164e74de49adf77f4e3f4f-664a84cc67591ccffbdb4f339b2061b8/tiles/{z}/{x}/{y}&quot;,\n",
              "                {&quot;attribution&quot;: &quot;Map Data \\u0026copy; \\u003ca href=\\&quot;https://earthengine.google.com/\\&quot;\\u003eGoogle Earth Engine\\u003c/a\\u003e&quot;, &quot;detectRetina&quot;: false, &quot;maxNativeZoom&quot;: 18, &quot;maxZoom&quot;: 18, &quot;minZoom&quot;: 0, &quot;noWrap&quot;: false, &quot;opacity&quot;: 1, &quot;subdomains&quot;: &quot;abc&quot;, &quot;tms&quot;: false}\n",
              "            ).addTo(map_2b51cff710aaca529e2dac274efbbed7);\n",
              "        \n",
              "    \n",
              "            var layer_control_258d14775e34c9c08f40d847ae8b762c = {\n",
              "                base_layers : {\n",
              "                    &quot;openstreetmap&quot; : tile_layer_e2fd92b908f9356626b991901a185e99,\n",
              "                },\n",
              "                overlays :  {\n",
              "                    &quot;crop2018&quot; : tile_layer_7543b9b10354fb0c378c81f1a5d95cab,\n",
              "                    &quot;c_map&quot; : tile_layer_0e242bf9819c30c746e17cff33b9cf3f,\n",
              "                },\n",
              "            };\n",
              "            L.control.layers(\n",
              "                layer_control_258d14775e34c9c08f40d847ae8b762c.base_layers,\n",
              "                layer_control_258d14775e34c9c08f40d847ae8b762c.overlays,\n",
              "                {&quot;autoZIndex&quot;: true, &quot;collapsed&quot;: true, &quot;position&quot;: &quot;topright&quot;}\n",
              "            ).addTo(map_2b51cff710aaca529e2dac274efbbed7);\n",
=======
              "            var tile_layer_7d5e0964895c4b5c261c2b27ba98fb88 = L.tileLayer(\n",
              "                &quot;https://{s}.tile.openstreetmap.org/{z}/{x}/{y}.png&quot;,\n",
              "                {&quot;attribution&quot;: &quot;Data by \\u0026copy; \\u003ca target=\\&quot;_blank\\&quot; href=\\&quot;http://openstreetmap.org\\&quot;\\u003eOpenStreetMap\\u003c/a\\u003e, under \\u003ca target=\\&quot;_blank\\&quot; href=\\&quot;http://www.openstreetmap.org/copyright\\&quot;\\u003eODbL\\u003c/a\\u003e.&quot;, &quot;detectRetina&quot;: false, &quot;maxNativeZoom&quot;: 18, &quot;maxZoom&quot;: 18, &quot;minZoom&quot;: 0, &quot;noWrap&quot;: false, &quot;opacity&quot;: 1, &quot;subdomains&quot;: &quot;abc&quot;, &quot;tms&quot;: false}\n",
              "            ).addTo(map_55fa0d97ac1a3f72d11bb0aec7db90fe);\n",
              "        \n",
              "    \n",
              "            var tile_layer_9a4925a18ed46fa64e36a710828a3390 = L.tileLayer(\n",
              "                &quot;https://earthengine.googleapis.com/v1/projects/earthengine-legacy/maps/9ba8718a61f1e6148620322f810c3f46-102ac208c3c8e80a10d7ab6ffd7bae37/tiles/{z}/{x}/{y}&quot;,\n",
              "                {&quot;attribution&quot;: &quot;Map Data \\u0026copy; \\u003ca href=\\&quot;https://earthengine.google.com/\\&quot;\\u003eGoogle Earth Engine\\u003c/a\\u003e&quot;, &quot;detectRetina&quot;: false, &quot;maxNativeZoom&quot;: 18, &quot;maxZoom&quot;: 18, &quot;minZoom&quot;: 0, &quot;noWrap&quot;: false, &quot;opacity&quot;: 1, &quot;subdomains&quot;: &quot;abc&quot;, &quot;tms&quot;: false}\n",
              "            ).addTo(map_55fa0d97ac1a3f72d11bb0aec7db90fe);\n",
              "        \n",
              "    \n",
              "            var tile_layer_45ba0dc0fa7993f52e2ec9747cc7cf4f = L.tileLayer(\n",
              "                &quot;https://earthengine.googleapis.com/v1/projects/earthengine-legacy/maps/9a799f14309f1b4aefd9d4cd6b35e5b1-a02914da824b0d920417adafe6ee5096/tiles/{z}/{x}/{y}&quot;,\n",
              "                {&quot;attribution&quot;: &quot;Map Data \\u0026copy; \\u003ca href=\\&quot;https://earthengine.google.com/\\&quot;\\u003eGoogle Earth Engine\\u003c/a\\u003e&quot;, &quot;detectRetina&quot;: false, &quot;maxNativeZoom&quot;: 18, &quot;maxZoom&quot;: 18, &quot;minZoom&quot;: 0, &quot;noWrap&quot;: false, &quot;opacity&quot;: 1, &quot;subdomains&quot;: &quot;abc&quot;, &quot;tms&quot;: false}\n",
              "            ).addTo(map_55fa0d97ac1a3f72d11bb0aec7db90fe);\n",
              "        \n",
              "    \n",
              "            var layer_control_925aeedacca37cce7e57620cf5b696e8 = {\n",
              "                base_layers : {\n",
              "                    &quot;openstreetmap&quot; : tile_layer_7d5e0964895c4b5c261c2b27ba98fb88,\n",
              "                },\n",
              "                overlays :  {\n",
              "                    &quot;crop2018&quot; : tile_layer_9a4925a18ed46fa64e36a710828a3390,\n",
              "                    &quot;c_map&quot; : tile_layer_45ba0dc0fa7993f52e2ec9747cc7cf4f,\n",
              "                },\n",
              "            };\n",
              "            L.control.layers(\n",
              "                layer_control_925aeedacca37cce7e57620cf5b696e8.base_layers,\n",
              "                layer_control_925aeedacca37cce7e57620cf5b696e8.overlays,\n",
              "                {&quot;autoZIndex&quot;: true, &quot;collapsed&quot;: true, &quot;position&quot;: &quot;topright&quot;}\n",
              "            ).addTo(map_55fa0d97ac1a3f72d11bb0aec7db90fe);\n",
>>>>>>> 680a1a38307f154d73e7cf571db4c39b1a966f69
              "        \n",
              "&lt;/script&gt;\n",
              "&lt;/html&gt;\" style=\"position:absolute;width:100%;height:100%;left:0;top:0;border:none !important;\" allowfullscreen webkitallowfullscreen mozallowfullscreen></iframe></div></div>"
            ]
          },
          "metadata": {},
<<<<<<< HEAD
          "execution_count": 126
=======
          "execution_count": 96
>>>>>>> 680a1a38307f154d73e7cf571db4c39b1a966f69
        }
      ]
    },
    {
      "cell_type": "code",
      "source": [
        "def chi2cdf(chi2, df):\n",
        "    \"\"\"Calculates Chi square cumulative distribution function for\n",
        "       df degrees of freedom using the built-in incomplete gamma\n",
        "       function gammainc().\n",
        "    \"\"\"\n",
        "    return ee.Image(chi2.divide(2)).gammainc(ee.Number(df).divide(2))\n",
        "\n",
        "def det(im):\n",
        "    \"\"\"Calculates determinant of 2x2 diagonal covariance matrix.\"\"\"\n",
        "    return im.expression('b(0)*b(1)')"
      ],
      "metadata": {
        "id": "9p-P72WI7_04"
      },
      "execution_count": null,
      "outputs": []
    },
    {
      "cell_type": "code",
      "source": [
        "import folium\n",
        "\n",
        "def add_ee_layer(self, ee_image_object, vis_params, name):\n",
        "    \"\"\"Adds Earth Engine layers to a folium map.\"\"\"\n",
        "    map_id_dict = ee.Image(ee_image_object).getMapId(vis_params)\n",
        "    folium.raster_layers.TileLayer(\n",
        "        tiles = map_id_dict['tile_fetcher'].url_format,\n",
        "        attr = 'Map Data &copy; <a href=\"https://earthengine.google.com/\">Google Earth Engine</a>',\n",
        "        name = name,\n",
        "        overlay = True,\n",
        "        control = True).add_to(self)\n",
        "\n",
        "# Add EE drawing method to folium.\n",
        "folium.Map.add_ee_layer = add_ee_layer"
      ],
      "metadata": {
        "id": "EsnzQf2O8Rl6"
      },
      "execution_count": null,
      "outputs": []
    },
    {
      "cell_type": "code",
      "source": [
        "coords = geoJSON['features'][0]['geometry']['coordinates']\n",
        "aoi = ee.Geometry.Polygon(coords)"
      ],
      "metadata": {
        "id": "V7qE1zxQ8TGB"
      },
      "execution_count": null,
      "outputs": []
    },
    {
      "cell_type": "code",
      "source": [
        "im_coll = (ee.ImageCollection('COPERNICUS/S1_GRD_FLOAT')\n",
        "           .filterBounds(aoi)\n",
        "           .filterDate(ee.Date('2022-03-01'),ee.Date('2022-09-30'))\n",
        "           .filter(ee.Filter.eq('orbitProperties_pass', 'ASCENDING'))\n",
        "           .filter(ee.Filter.eq('relativeOrbitNumber_start', 127))\n",
        "           .map(lambda img: img.set('date', ee.Date(img.date()).format('YYYYMMdd')))\n",
        "           .sort('date'))\n",
        "\n",
        "timestamplist = (im_coll.aggregate_array('date')\n",
        "                 .map(lambda d: ee.String('T').cat(ee.String(d)))\n",
        "                 .getInfo())\n",
        "timestamplist"
      ],
      "metadata": {
        "colab": {
          "base_uri": "https://localhost:8080/"
        },
        "id": "tQn3xbDK8XCR",
<<<<<<< HEAD
        "outputId": "7ef0ed23-5588-49c8-dc89-42027d9f58a4"
=======
        "outputId": "f1040d7e-1575-4679-f3da-fbcc889fe74c"
>>>>>>> 680a1a38307f154d73e7cf571db4c39b1a966f69
      },
      "execution_count": null,
      "outputs": [
        {
          "output_type": "execute_result",
          "data": {
            "text/plain": [
              "['T20220306',\n",
              " 'T20220318',\n",
              " 'T20220330',\n",
              " 'T20220411',\n",
              " 'T20220423',\n",
              " 'T20220505',\n",
              " 'T20220517',\n",
              " 'T20220529',\n",
              " 'T20220610',\n",
              " 'T20220622',\n",
              " 'T20220704',\n",
              " 'T20220716',\n",
              " 'T20220728',\n",
              " 'T20220809',\n",
              " 'T20220821',\n",
              " 'T20220902',\n",
              " 'T20220914',\n",
              " 'T20220926']"
            ]
          },
          "metadata": {},
<<<<<<< HEAD
          "execution_count": 130
=======
          "execution_count": 100
>>>>>>> 680a1a38307f154d73e7cf571db4c39b1a966f69
        }
      ]
    },
    {
      "cell_type": "code",
      "source": [
        "def clip_img(img):\n",
        "    \"\"\"Clips a list of images.\"\"\"\n",
        "    return ee.Image(img).clip(aoi)\n",
        "\n",
        "im_list = im_coll.toList(im_coll.size())\n",
        "im_list = ee.List(im_list.map(clip_img))\n",
        "\n",
        "im_list.length().getInfo()"
      ],
      "metadata": {
        "colab": {
          "base_uri": "https://localhost:8080/"
        },
        "id": "91QYcZRO8gdQ",
<<<<<<< HEAD
        "outputId": "b0f0f7d8-85ec-413b-8f73-0807f6be47bc"
=======
        "outputId": "fab8709b-6b97-42fd-a211-ae730931c437"
>>>>>>> 680a1a38307f154d73e7cf571db4c39b1a966f69
      },
      "execution_count": null,
      "outputs": [
        {
          "output_type": "execute_result",
          "data": {
            "text/plain": [
              "18"
            ]
          },
          "metadata": {},
<<<<<<< HEAD
          "execution_count": 131
=======
          "execution_count": 101
>>>>>>> 680a1a38307f154d73e7cf571db4c39b1a966f69
        }
      ]
    },
    {
      "cell_type": "code",
      "source": [
        "def selectvv(current):\n",
        "    return ee.Image(current).select('VV')\n",
        "\n",
        "vv_list = im_list.map(selectvv)\n",
        "\n",
        "location = aoi.centroid().coordinates().getInfo()[::-1]\n",
        "mp = folium.Map(location=location, zoom_start=11)\n",
        "rgb_images = (ee.Image.rgb(vv_list.get(10), vv_list.get(11), vv_list.get(12))\n",
        "              .log10().multiply(10))\n",
        "mp.add_ee_layer(rgb_images, {'min': -20,'max': 0}, 'rgb composite')\n",
        "mp.add_child(folium.LayerControl())"
      ],
      "metadata": {
        "colab": {
          "base_uri": "https://localhost:8080/",
          "height": 808
        },
        "id": "LpWrzWrI8kwX",
<<<<<<< HEAD
        "outputId": "65eda325-2350-44db-d8fa-95bb9fd23e84"
=======
        "outputId": "662c6bc0-723d-4dad-d6a3-f2b28bbf6ccf"
>>>>>>> 680a1a38307f154d73e7cf571db4c39b1a966f69
      },
      "execution_count": null,
      "outputs": [
        {
          "output_type": "execute_result",
          "data": {
            "text/plain": [
<<<<<<< HEAD
              "<folium.folium.Map at 0x7ee64036fc10>"
=======
              "<folium.folium.Map at 0x7ee6402bf940>"
>>>>>>> 680a1a38307f154d73e7cf571db4c39b1a966f69
            ],
            "text/html": [
              "<div style=\"width:100%;\"><div style=\"position:relative;width:100%;height:0;padding-bottom:60%;\"><span style=\"color:#565656\">Make this Notebook Trusted to load map: File -> Trust Notebook</span><iframe srcdoc=\"&lt;!DOCTYPE html&gt;\n",
              "&lt;html&gt;\n",
              "&lt;head&gt;\n",
              "    \n",
              "    &lt;meta http-equiv=&quot;content-type&quot; content=&quot;text/html; charset=UTF-8&quot; /&gt;\n",
              "    \n",
              "        &lt;script&gt;\n",
              "            L_NO_TOUCH = false;\n",
              "            L_DISABLE_3D = false;\n",
              "        &lt;/script&gt;\n",
              "    \n",
              "    &lt;style&gt;html, body {width: 100%;height: 100%;margin: 0;padding: 0;}&lt;/style&gt;\n",
              "    &lt;style&gt;#map {position:absolute;top:0;bottom:0;right:0;left:0;}&lt;/style&gt;\n",
              "    &lt;script src=&quot;https://cdn.jsdelivr.net/npm/leaflet@1.9.3/dist/leaflet.js&quot;&gt;&lt;/script&gt;\n",
              "    &lt;script src=&quot;https://code.jquery.com/jquery-1.12.4.min.js&quot;&gt;&lt;/script&gt;\n",
              "    &lt;script src=&quot;https://cdn.jsdelivr.net/npm/bootstrap@5.2.2/dist/js/bootstrap.bundle.min.js&quot;&gt;&lt;/script&gt;\n",
              "    &lt;script src=&quot;https://cdnjs.cloudflare.com/ajax/libs/Leaflet.awesome-markers/2.0.2/leaflet.awesome-markers.js&quot;&gt;&lt;/script&gt;\n",
              "    &lt;link rel=&quot;stylesheet&quot; href=&quot;https://cdn.jsdelivr.net/npm/leaflet@1.9.3/dist/leaflet.css&quot;/&gt;\n",
              "    &lt;link rel=&quot;stylesheet&quot; href=&quot;https://cdn.jsdelivr.net/npm/bootstrap@5.2.2/dist/css/bootstrap.min.css&quot;/&gt;\n",
              "    &lt;link rel=&quot;stylesheet&quot; href=&quot;https://netdna.bootstrapcdn.com/bootstrap/3.0.0/css/bootstrap.min.css&quot;/&gt;\n",
              "    &lt;link rel=&quot;stylesheet&quot; href=&quot;https://cdn.jsdelivr.net/npm/@fortawesome/fontawesome-free@6.2.0/css/all.min.css&quot;/&gt;\n",
              "    &lt;link rel=&quot;stylesheet&quot; href=&quot;https://cdnjs.cloudflare.com/ajax/libs/Leaflet.awesome-markers/2.0.2/leaflet.awesome-markers.css&quot;/&gt;\n",
              "    &lt;link rel=&quot;stylesheet&quot; href=&quot;https://cdn.jsdelivr.net/gh/python-visualization/folium/folium/templates/leaflet.awesome.rotate.min.css&quot;/&gt;\n",
              "    \n",
              "            &lt;meta name=&quot;viewport&quot; content=&quot;width=device-width,\n",
              "                initial-scale=1.0, maximum-scale=1.0, user-scalable=no&quot; /&gt;\n",
              "            &lt;style&gt;\n",
<<<<<<< HEAD
              "                #map_f694c66b253cba931ffdaf9bccb447a4 {\n",
=======
              "                #map_c3bd9e3267db5dbe411e7e4a4086a1ae {\n",
>>>>>>> 680a1a38307f154d73e7cf571db4c39b1a966f69
              "                    position: relative;\n",
              "                    width: 100.0%;\n",
              "                    height: 100.0%;\n",
              "                    left: 0.0%;\n",
              "                    top: 0.0%;\n",
              "                }\n",
              "                .leaflet-container { font-size: 1rem; }\n",
              "            &lt;/style&gt;\n",
              "        \n",
              "&lt;/head&gt;\n",
              "&lt;body&gt;\n",
              "    \n",
              "    \n",
<<<<<<< HEAD
              "            &lt;div class=&quot;folium-map&quot; id=&quot;map_f694c66b253cba931ffdaf9bccb447a4&quot; &gt;&lt;/div&gt;\n",
=======
              "            &lt;div class=&quot;folium-map&quot; id=&quot;map_c3bd9e3267db5dbe411e7e4a4086a1ae&quot; &gt;&lt;/div&gt;\n",
>>>>>>> 680a1a38307f154d73e7cf571db4c39b1a966f69
              "        \n",
              "&lt;/body&gt;\n",
              "&lt;script&gt;\n",
              "    \n",
              "    \n",
<<<<<<< HEAD
              "            var map_f694c66b253cba931ffdaf9bccb447a4 = L.map(\n",
              "                &quot;map_f694c66b253cba931ffdaf9bccb447a4&quot;,\n",
              "                {\n",
              "                    center: [36.84898993114767, 126.22203999999549],\n",
=======
              "            var map_c3bd9e3267db5dbe411e7e4a4086a1ae = L.map(\n",
              "                &quot;map_c3bd9e3267db5dbe411e7e4a4086a1ae&quot;,\n",
              "                {\n",
              "                    center: [36.848989931147514, 126.1995399999959],\n",
>>>>>>> 680a1a38307f154d73e7cf571db4c39b1a966f69
              "                    crs: L.CRS.EPSG3857,\n",
              "                    zoom: 11,\n",
              "                    zoomControl: true,\n",
              "                    preferCanvas: false,\n",
              "                }\n",
              "            );\n",
              "\n",
              "            \n",
              "\n",
              "        \n",
              "    \n",
<<<<<<< HEAD
              "            var tile_layer_a30962359a03994eec296d0a066de3b0 = L.tileLayer(\n",
              "                &quot;https://{s}.tile.openstreetmap.org/{z}/{x}/{y}.png&quot;,\n",
              "                {&quot;attribution&quot;: &quot;Data by \\u0026copy; \\u003ca target=\\&quot;_blank\\&quot; href=\\&quot;http://openstreetmap.org\\&quot;\\u003eOpenStreetMap\\u003c/a\\u003e, under \\u003ca target=\\&quot;_blank\\&quot; href=\\&quot;http://www.openstreetmap.org/copyright\\&quot;\\u003eODbL\\u003c/a\\u003e.&quot;, &quot;detectRetina&quot;: false, &quot;maxNativeZoom&quot;: 18, &quot;maxZoom&quot;: 18, &quot;minZoom&quot;: 0, &quot;noWrap&quot;: false, &quot;opacity&quot;: 1, &quot;subdomains&quot;: &quot;abc&quot;, &quot;tms&quot;: false}\n",
              "            ).addTo(map_f694c66b253cba931ffdaf9bccb447a4);\n",
              "        \n",
              "    \n",
              "            var tile_layer_e4d5efd48d3a95c86ed01a58dd4fb4e6 = L.tileLayer(\n",
              "                &quot;https://earthengine.googleapis.com/v1/projects/earthengine-legacy/maps/147cbfffa6e0b43bf6c1ccb64416d657-29f55dddd1c60e580f584945500eebd5/tiles/{z}/{x}/{y}&quot;,\n",
              "                {&quot;attribution&quot;: &quot;Map Data \\u0026copy; \\u003ca href=\\&quot;https://earthengine.google.com/\\&quot;\\u003eGoogle Earth Engine\\u003c/a\\u003e&quot;, &quot;detectRetina&quot;: false, &quot;maxNativeZoom&quot;: 18, &quot;maxZoom&quot;: 18, &quot;minZoom&quot;: 0, &quot;noWrap&quot;: false, &quot;opacity&quot;: 1, &quot;subdomains&quot;: &quot;abc&quot;, &quot;tms&quot;: false}\n",
              "            ).addTo(map_f694c66b253cba931ffdaf9bccb447a4);\n",
              "        \n",
              "    \n",
              "            var layer_control_093bed3750077c8bf5189e8de7f7d4f2 = {\n",
              "                base_layers : {\n",
              "                    &quot;openstreetmap&quot; : tile_layer_a30962359a03994eec296d0a066de3b0,\n",
              "                },\n",
              "                overlays :  {\n",
              "                    &quot;rgb composite&quot; : tile_layer_e4d5efd48d3a95c86ed01a58dd4fb4e6,\n",
              "                },\n",
              "            };\n",
              "            L.control.layers(\n",
              "                layer_control_093bed3750077c8bf5189e8de7f7d4f2.base_layers,\n",
              "                layer_control_093bed3750077c8bf5189e8de7f7d4f2.overlays,\n",
              "                {&quot;autoZIndex&quot;: true, &quot;collapsed&quot;: true, &quot;position&quot;: &quot;topright&quot;}\n",
              "            ).addTo(map_f694c66b253cba931ffdaf9bccb447a4);\n",
=======
              "            var tile_layer_04fc98f6d7d29fa6a5f26a7f11bbc48d = L.tileLayer(\n",
              "                &quot;https://{s}.tile.openstreetmap.org/{z}/{x}/{y}.png&quot;,\n",
              "                {&quot;attribution&quot;: &quot;Data by \\u0026copy; \\u003ca target=\\&quot;_blank\\&quot; href=\\&quot;http://openstreetmap.org\\&quot;\\u003eOpenStreetMap\\u003c/a\\u003e, under \\u003ca target=\\&quot;_blank\\&quot; href=\\&quot;http://www.openstreetmap.org/copyright\\&quot;\\u003eODbL\\u003c/a\\u003e.&quot;, &quot;detectRetina&quot;: false, &quot;maxNativeZoom&quot;: 18, &quot;maxZoom&quot;: 18, &quot;minZoom&quot;: 0, &quot;noWrap&quot;: false, &quot;opacity&quot;: 1, &quot;subdomains&quot;: &quot;abc&quot;, &quot;tms&quot;: false}\n",
              "            ).addTo(map_c3bd9e3267db5dbe411e7e4a4086a1ae);\n",
              "        \n",
              "    \n",
              "            var tile_layer_1b949007d022b69c29f51b5496bc4907 = L.tileLayer(\n",
              "                &quot;https://earthengine.googleapis.com/v1/projects/earthengine-legacy/maps/75b0377bad8198cbca3c441386091324-24e541b244efe138d7ebad0ac64bba7f/tiles/{z}/{x}/{y}&quot;,\n",
              "                {&quot;attribution&quot;: &quot;Map Data \\u0026copy; \\u003ca href=\\&quot;https://earthengine.google.com/\\&quot;\\u003eGoogle Earth Engine\\u003c/a\\u003e&quot;, &quot;detectRetina&quot;: false, &quot;maxNativeZoom&quot;: 18, &quot;maxZoom&quot;: 18, &quot;minZoom&quot;: 0, &quot;noWrap&quot;: false, &quot;opacity&quot;: 1, &quot;subdomains&quot;: &quot;abc&quot;, &quot;tms&quot;: false}\n",
              "            ).addTo(map_c3bd9e3267db5dbe411e7e4a4086a1ae);\n",
              "        \n",
              "    \n",
              "            var layer_control_be7374b2fbcf08a81dbbb809fd015073 = {\n",
              "                base_layers : {\n",
              "                    &quot;openstreetmap&quot; : tile_layer_04fc98f6d7d29fa6a5f26a7f11bbc48d,\n",
              "                },\n",
              "                overlays :  {\n",
              "                    &quot;rgb composite&quot; : tile_layer_1b949007d022b69c29f51b5496bc4907,\n",
              "                },\n",
              "            };\n",
              "            L.control.layers(\n",
              "                layer_control_be7374b2fbcf08a81dbbb809fd015073.base_layers,\n",
              "                layer_control_be7374b2fbcf08a81dbbb809fd015073.overlays,\n",
              "                {&quot;autoZIndex&quot;: true, &quot;collapsed&quot;: true, &quot;position&quot;: &quot;topright&quot;}\n",
              "            ).addTo(map_c3bd9e3267db5dbe411e7e4a4086a1ae);\n",
>>>>>>> 680a1a38307f154d73e7cf571db4c39b1a966f69
              "        \n",
              "&lt;/script&gt;\n",
              "&lt;/html&gt;\" style=\"position:absolute;width:100%;height:100%;left:0;top:0;border:none !important;\" allowfullscreen webkitallowfullscreen mozallowfullscreen></iframe></div></div>"
            ]
          },
          "metadata": {},
<<<<<<< HEAD
          "execution_count": 132
=======
          "execution_count": 102
>>>>>>> 680a1a38307f154d73e7cf571db4c39b1a966f69
        }
      ]
    },
    {
      "cell_type": "code",
      "source": [
        "alpha = 0.01\n",
        "1-(1-alpha)**18"
      ],
      "metadata": {
        "colab": {
          "base_uri": "https://localhost:8080/"
        },
        "id": "udPb5NPI8npf",
<<<<<<< HEAD
        "outputId": "0a89df51-81d2-4075-9905-001fe7ca292c"
=======
        "outputId": "0dd6d725-c3ae-4696-d4a5-390031a61198"
>>>>>>> 680a1a38307f154d73e7cf571db4c39b1a966f69
      },
      "execution_count": null,
      "outputs": [
        {
          "output_type": "execute_result",
          "data": {
            "text/plain": [
              "0.1654862385499125"
            ]
          },
          "metadata": {},
<<<<<<< HEAD
          "execution_count": 133
=======
          "execution_count": 103
>>>>>>> 680a1a38307f154d73e7cf571db4c39b1a966f69
        }
      ]
    },
    {
      "cell_type": "code",
      "source": [
        "def omnibus(im_list, m = 4.4):\n",
        "    \"\"\"Calculates the omnibus test statistic, monovariate case.\"\"\"\n",
        "    def log(current):\n",
        "        return ee.Image(current).log()\n",
        "\n",
        "    im_list = ee.List(im_list)\n",
        "    k = im_list.length()\n",
        "    klogk = k.multiply(k.log())\n",
        "    klogk = ee.Image.constant(klogk)\n",
        "    sumlogs = ee.ImageCollection(im_list.map(log)).reduce(ee.Reducer.sum())\n",
        "    logsum = ee.ImageCollection(im_list).reduce(ee.Reducer.sum()).log()\n",
        "    return klogk.add(sumlogs).subtract(logsum.multiply(k)).multiply(-2*m)"
      ],
      "metadata": {
        "id": "3zNL9ZkL9DgM"
      },
      "execution_count": null,
      "outputs": []
    },
    {
      "cell_type": "code",
      "source": [
        "coords = geoJSON['features'][0]['geometry']['coordinates']\n",
        "aoi_sub = ee.Geometry.Polygon(coords)\n",
        "\n",
        "location = aoi.centroid().coordinates().getInfo()[::-1]\n",
        "mp = folium.Map(location=location, zoom_start=11)\n",
        "mp.add_ee_layer(rgb_images.clip(aoi_sub), {'min': -20, 'max': 0}, 'aoi_sub rgb composite')\n",
        "mp.add_child(folium.LayerControl())"
      ],
      "metadata": {
        "colab": {
          "base_uri": "https://localhost:8080/",
          "height": 808
        },
        "id": "Y9O_8vbc9PE8",
<<<<<<< HEAD
        "outputId": "20cdb234-8722-4557-d4d3-6285b1639338"
=======
        "outputId": "e112db5c-aa66-4a6f-e34e-4d631077967d"
>>>>>>> 680a1a38307f154d73e7cf571db4c39b1a966f69
      },
      "execution_count": null,
      "outputs": [
        {
          "output_type": "execute_result",
          "data": {
            "text/plain": [
<<<<<<< HEAD
              "<folium.folium.Map at 0x7ee6401aab60>"
=======
              "<folium.folium.Map at 0x7ee640383c40>"
>>>>>>> 680a1a38307f154d73e7cf571db4c39b1a966f69
            ],
            "text/html": [
              "<div style=\"width:100%;\"><div style=\"position:relative;width:100%;height:0;padding-bottom:60%;\"><span style=\"color:#565656\">Make this Notebook Trusted to load map: File -> Trust Notebook</span><iframe srcdoc=\"&lt;!DOCTYPE html&gt;\n",
              "&lt;html&gt;\n",
              "&lt;head&gt;\n",
              "    \n",
              "    &lt;meta http-equiv=&quot;content-type&quot; content=&quot;text/html; charset=UTF-8&quot; /&gt;\n",
              "    \n",
              "        &lt;script&gt;\n",
              "            L_NO_TOUCH = false;\n",
              "            L_DISABLE_3D = false;\n",
              "        &lt;/script&gt;\n",
              "    \n",
              "    &lt;style&gt;html, body {width: 100%;height: 100%;margin: 0;padding: 0;}&lt;/style&gt;\n",
              "    &lt;style&gt;#map {position:absolute;top:0;bottom:0;right:0;left:0;}&lt;/style&gt;\n",
              "    &lt;script src=&quot;https://cdn.jsdelivr.net/npm/leaflet@1.9.3/dist/leaflet.js&quot;&gt;&lt;/script&gt;\n",
              "    &lt;script src=&quot;https://code.jquery.com/jquery-1.12.4.min.js&quot;&gt;&lt;/script&gt;\n",
              "    &lt;script src=&quot;https://cdn.jsdelivr.net/npm/bootstrap@5.2.2/dist/js/bootstrap.bundle.min.js&quot;&gt;&lt;/script&gt;\n",
              "    &lt;script src=&quot;https://cdnjs.cloudflare.com/ajax/libs/Leaflet.awesome-markers/2.0.2/leaflet.awesome-markers.js&quot;&gt;&lt;/script&gt;\n",
              "    &lt;link rel=&quot;stylesheet&quot; href=&quot;https://cdn.jsdelivr.net/npm/leaflet@1.9.3/dist/leaflet.css&quot;/&gt;\n",
              "    &lt;link rel=&quot;stylesheet&quot; href=&quot;https://cdn.jsdelivr.net/npm/bootstrap@5.2.2/dist/css/bootstrap.min.css&quot;/&gt;\n",
              "    &lt;link rel=&quot;stylesheet&quot; href=&quot;https://netdna.bootstrapcdn.com/bootstrap/3.0.0/css/bootstrap.min.css&quot;/&gt;\n",
              "    &lt;link rel=&quot;stylesheet&quot; href=&quot;https://cdn.jsdelivr.net/npm/@fortawesome/fontawesome-free@6.2.0/css/all.min.css&quot;/&gt;\n",
              "    &lt;link rel=&quot;stylesheet&quot; href=&quot;https://cdnjs.cloudflare.com/ajax/libs/Leaflet.awesome-markers/2.0.2/leaflet.awesome-markers.css&quot;/&gt;\n",
              "    &lt;link rel=&quot;stylesheet&quot; href=&quot;https://cdn.jsdelivr.net/gh/python-visualization/folium/folium/templates/leaflet.awesome.rotate.min.css&quot;/&gt;\n",
              "    \n",
              "            &lt;meta name=&quot;viewport&quot; content=&quot;width=device-width,\n",
              "                initial-scale=1.0, maximum-scale=1.0, user-scalable=no&quot; /&gt;\n",
              "            &lt;style&gt;\n",
<<<<<<< HEAD
              "                #map_391d189300ba858622c4350be7706e9a {\n",
=======
              "                #map_fa2d60c6a06cf7e09e2d22c1b1500f1d {\n",
>>>>>>> 680a1a38307f154d73e7cf571db4c39b1a966f69
              "                    position: relative;\n",
              "                    width: 100.0%;\n",
              "                    height: 100.0%;\n",
              "                    left: 0.0%;\n",
              "                    top: 0.0%;\n",
              "                }\n",
              "                .leaflet-container { font-size: 1rem; }\n",
              "            &lt;/style&gt;\n",
              "        \n",
              "&lt;/head&gt;\n",
              "&lt;body&gt;\n",
              "    \n",
              "    \n",
<<<<<<< HEAD
              "            &lt;div class=&quot;folium-map&quot; id=&quot;map_391d189300ba858622c4350be7706e9a&quot; &gt;&lt;/div&gt;\n",
=======
              "            &lt;div class=&quot;folium-map&quot; id=&quot;map_fa2d60c6a06cf7e09e2d22c1b1500f1d&quot; &gt;&lt;/div&gt;\n",
>>>>>>> 680a1a38307f154d73e7cf571db4c39b1a966f69
              "        \n",
              "&lt;/body&gt;\n",
              "&lt;script&gt;\n",
              "    \n",
              "    \n",
<<<<<<< HEAD
              "            var map_391d189300ba858622c4350be7706e9a = L.map(\n",
              "                &quot;map_391d189300ba858622c4350be7706e9a&quot;,\n",
              "                {\n",
              "                    center: [36.84898993114767, 126.22203999999549],\n",
=======
              "            var map_fa2d60c6a06cf7e09e2d22c1b1500f1d = L.map(\n",
              "                &quot;map_fa2d60c6a06cf7e09e2d22c1b1500f1d&quot;,\n",
              "                {\n",
              "                    center: [36.848989931147514, 126.1995399999959],\n",
>>>>>>> 680a1a38307f154d73e7cf571db4c39b1a966f69
              "                    crs: L.CRS.EPSG3857,\n",
              "                    zoom: 11,\n",
              "                    zoomControl: true,\n",
              "                    preferCanvas: false,\n",
              "                }\n",
              "            );\n",
              "\n",
              "            \n",
              "\n",
              "        \n",
              "    \n",
<<<<<<< HEAD
              "            var tile_layer_ec6ecb42623a2c2edb41a550d3d98ded = L.tileLayer(\n",
              "                &quot;https://{s}.tile.openstreetmap.org/{z}/{x}/{y}.png&quot;,\n",
              "                {&quot;attribution&quot;: &quot;Data by \\u0026copy; \\u003ca target=\\&quot;_blank\\&quot; href=\\&quot;http://openstreetmap.org\\&quot;\\u003eOpenStreetMap\\u003c/a\\u003e, under \\u003ca target=\\&quot;_blank\\&quot; href=\\&quot;http://www.openstreetmap.org/copyright\\&quot;\\u003eODbL\\u003c/a\\u003e.&quot;, &quot;detectRetina&quot;: false, &quot;maxNativeZoom&quot;: 18, &quot;maxZoom&quot;: 18, &quot;minZoom&quot;: 0, &quot;noWrap&quot;: false, &quot;opacity&quot;: 1, &quot;subdomains&quot;: &quot;abc&quot;, &quot;tms&quot;: false}\n",
              "            ).addTo(map_391d189300ba858622c4350be7706e9a);\n",
              "        \n",
              "    \n",
              "            var tile_layer_da688622d6514fbf68575845ff2298d3 = L.tileLayer(\n",
              "                &quot;https://earthengine.googleapis.com/v1/projects/earthengine-legacy/maps/5df2bdfd3f228de0b8bfd6567f9cab00-20b8ed7fcdb86f4043ee0009488f2525/tiles/{z}/{x}/{y}&quot;,\n",
              "                {&quot;attribution&quot;: &quot;Map Data \\u0026copy; \\u003ca href=\\&quot;https://earthengine.google.com/\\&quot;\\u003eGoogle Earth Engine\\u003c/a\\u003e&quot;, &quot;detectRetina&quot;: false, &quot;maxNativeZoom&quot;: 18, &quot;maxZoom&quot;: 18, &quot;minZoom&quot;: 0, &quot;noWrap&quot;: false, &quot;opacity&quot;: 1, &quot;subdomains&quot;: &quot;abc&quot;, &quot;tms&quot;: false}\n",
              "            ).addTo(map_391d189300ba858622c4350be7706e9a);\n",
              "        \n",
              "    \n",
              "            var layer_control_14b6e36e39b56ff7f62e9170eb2986d3 = {\n",
              "                base_layers : {\n",
              "                    &quot;openstreetmap&quot; : tile_layer_ec6ecb42623a2c2edb41a550d3d98ded,\n",
              "                },\n",
              "                overlays :  {\n",
              "                    &quot;aoi_sub rgb composite&quot; : tile_layer_da688622d6514fbf68575845ff2298d3,\n",
              "                },\n",
              "            };\n",
              "            L.control.layers(\n",
              "                layer_control_14b6e36e39b56ff7f62e9170eb2986d3.base_layers,\n",
              "                layer_control_14b6e36e39b56ff7f62e9170eb2986d3.overlays,\n",
              "                {&quot;autoZIndex&quot;: true, &quot;collapsed&quot;: true, &quot;position&quot;: &quot;topright&quot;}\n",
              "            ).addTo(map_391d189300ba858622c4350be7706e9a);\n",
=======
              "            var tile_layer_fcba0b158747c86476151baafe1019ee = L.tileLayer(\n",
              "                &quot;https://{s}.tile.openstreetmap.org/{z}/{x}/{y}.png&quot;,\n",
              "                {&quot;attribution&quot;: &quot;Data by \\u0026copy; \\u003ca target=\\&quot;_blank\\&quot; href=\\&quot;http://openstreetmap.org\\&quot;\\u003eOpenStreetMap\\u003c/a\\u003e, under \\u003ca target=\\&quot;_blank\\&quot; href=\\&quot;http://www.openstreetmap.org/copyright\\&quot;\\u003eODbL\\u003c/a\\u003e.&quot;, &quot;detectRetina&quot;: false, &quot;maxNativeZoom&quot;: 18, &quot;maxZoom&quot;: 18, &quot;minZoom&quot;: 0, &quot;noWrap&quot;: false, &quot;opacity&quot;: 1, &quot;subdomains&quot;: &quot;abc&quot;, &quot;tms&quot;: false}\n",
              "            ).addTo(map_fa2d60c6a06cf7e09e2d22c1b1500f1d);\n",
              "        \n",
              "    \n",
              "            var tile_layer_fffe0c8fa752b7d5300c718205a9e450 = L.tileLayer(\n",
              "                &quot;https://earthengine.googleapis.com/v1/projects/earthengine-legacy/maps/daa75082f33ca2d295ec85b31d2b329a-9c061a54417efaaeaa3e30f4f72e22b4/tiles/{z}/{x}/{y}&quot;,\n",
              "                {&quot;attribution&quot;: &quot;Map Data \\u0026copy; \\u003ca href=\\&quot;https://earthengine.google.com/\\&quot;\\u003eGoogle Earth Engine\\u003c/a\\u003e&quot;, &quot;detectRetina&quot;: false, &quot;maxNativeZoom&quot;: 18, &quot;maxZoom&quot;: 18, &quot;minZoom&quot;: 0, &quot;noWrap&quot;: false, &quot;opacity&quot;: 1, &quot;subdomains&quot;: &quot;abc&quot;, &quot;tms&quot;: false}\n",
              "            ).addTo(map_fa2d60c6a06cf7e09e2d22c1b1500f1d);\n",
              "        \n",
              "    \n",
              "            var layer_control_dc9e8ea39f052a0023d088ec9d5f88a2 = {\n",
              "                base_layers : {\n",
              "                    &quot;openstreetmap&quot; : tile_layer_fcba0b158747c86476151baafe1019ee,\n",
              "                },\n",
              "                overlays :  {\n",
              "                    &quot;aoi_sub rgb composite&quot; : tile_layer_fffe0c8fa752b7d5300c718205a9e450,\n",
              "                },\n",
              "            };\n",
              "            L.control.layers(\n",
              "                layer_control_dc9e8ea39f052a0023d088ec9d5f88a2.base_layers,\n",
              "                layer_control_dc9e8ea39f052a0023d088ec9d5f88a2.overlays,\n",
              "                {&quot;autoZIndex&quot;: true, &quot;collapsed&quot;: true, &quot;position&quot;: &quot;topright&quot;}\n",
              "            ).addTo(map_fa2d60c6a06cf7e09e2d22c1b1500f1d);\n",
>>>>>>> 680a1a38307f154d73e7cf571db4c39b1a966f69
              "        \n",
              "&lt;/script&gt;\n",
              "&lt;/html&gt;\" style=\"position:absolute;width:100%;height:100%;left:0;top:0;border:none !important;\" allowfullscreen webkitallowfullscreen mozallowfullscreen></iframe></div></div>"
            ]
          },
          "metadata": {},
<<<<<<< HEAD
          "execution_count": 135
=======
          "execution_count": 105
>>>>>>> 680a1a38307f154d73e7cf571db4c39b1a966f69
        }
      ]
    },
    {
      "cell_type": "code",
      "source": [
        "k = 10\n",
        "hist = (omnibus(vv_list.slice(0,k))\n",
        "        .reduceRegion(ee.Reducer.fixedHistogram(0, 40, 200), geometry=aoi_sub, scale=10)\n",
        "        .get('constant')\n",
        "        .getInfo())\n",
        "\n",
        "a = np.array(hist)\n",
        "x = a[:,0]\n",
        "y = a[:,1]/np.sum(a[:,1])\n",
        "plt.plot(x, y, '.', label='data')\n",
        "plt.plot(x, chi2.pdf(x, k-1)/5, '-r', label='chi square')\n",
        "plt.legend()\n",
        "plt.grid()\n",
        "plt.show()"
      ],
      "metadata": {
        "colab": {
          "base_uri": "https://localhost:8080/",
          "height": 430
        },
        "id": "Dv26LnXN9Rn7",
<<<<<<< HEAD
        "outputId": "76b6cd6b-801c-4f1a-b2c9-a46db48c786f"
=======
        "outputId": "a4e8d343-5fcb-49a5-f1bd-f44eaae5e517"
>>>>>>> 680a1a38307f154d73e7cf571db4c39b1a966f69
      },
      "execution_count": null,
      "outputs": [
        {
          "output_type": "display_data",
          "data": {
            "text/plain": [
              "<Figure size 640x480 with 1 Axes>"
            ],
<<<<<<< HEAD
            "image/png": "iVBORw0KGgoAAAANSUhEUgAAAjUAAAGdCAYAAADqsoKGAAAAOXRFWHRTb2Z0d2FyZQBNYXRwbG90bGliIHZlcnNpb24zLjcuMSwgaHR0cHM6Ly9tYXRwbG90bGliLm9yZy/bCgiHAAAACXBIWXMAAA9hAAAPYQGoP6dpAABwHUlEQVR4nO3deVxU9f7H8dcMsrrgggoqKO6aW66hZpnmknUzzUz7tXhL763sVt4WbfO23LT1tnmvV8u2m2mW2WYmaVrmkqKmZu4YlqCSCQoqyJzfH8cZGZhBBgZm4f18PKYZzpw58/kyBB8/381iGIaBiIiISICz+joAEREREW9QUiMiIiJBQUmNiIiIBAUlNSIiIhIUlNSIiIhIUFBSIyIiIkFBSY2IiIgEBSU1IiIiEhSq+TqAymKz2Th48CA1a9bEYrH4OhwREREpBcMwOH78OI0aNcJqLbkWU2WSmoMHDxIfH+/rMERERKQMDhw4QJMmTUo8p8okNTVr1gTMb0qtWrW8eu38/HyWLl3KoEGDCA0N9eq1/UGwtw/UxmAQ7O0DtTEYBHv7wPttzM7OJj4+3vF3vCRVJqmxdznVqlWrQpKaqKgoatWqFZQ/pMHePlAbg0Gwtw/UxmAQ7O2DimtjaYaOaKCwiIiIBAUlNSIiIhIUlNSIiIhIUKgyY2pERCRwGYbBmTNnKCgo8HUo5ZKfn0+1atU4depUwLfFHU/bGBISQrVq1byy3IqSGhER8Wt5eXmkp6eTm5vr61DKzTAMYmNjOXDgQNCumVaWNkZFRREXF0dYWFi53ltJjYiI+C2bzUZqaiohISE0atSIsLCwgE4GbDYbJ06coEaNGuddSC5QedJGwzDIy8vjyJEjpKam0qpVq3J9X5TUiIiI38rLy8NmsxEfH09UVJSvwyk3m81GXl4eERERQZ3UeNLGyMhIQkND+eWXXxyvK6vg/I6KiEhQCdYEQEze+nz1UyIiIiJBQUmNiIiIBAUlNSIiIpXksssuY8qUKb4OI2gpqREREfFDK1aswGKxcOzYMV+HEjA0+0l8IycH1q+HH36AU6egWzfo1QtiYnwdmYgEsfSsk6Rm5pAYU5246EhfhyNepkqNVC6bDWbMgNhY6N8fHnwQpk6FK680j919N2Rl+TpKEQlC89en0Wf6csbOXkef6cuZvz6tQt8vJyeHm266iRo1ahAXF8cLL7zg9Py7775L9+7dqVmzJrGxsYwdO5bDhw8DsH//fvr37w9AnTp1sFgs3HLLLQAsWbKEvn37Urt2berVq8eVV17J3r17K7QtgUJJjVSegwfhsstg4kQ4cQIaN4Zrr4Ubb4S2baGgAF55xXy8dKmvoxWRIJKedZIpC7diM8yvbQY8tHAb6VknK+w977//flauXMknn3zC0qVLWbFiBRs3bnQ8n5+fz5NPPsmPP/7IokWL2L9/vyNxiY+P56OPPgJg586dpKen8/LLLwNmsjRp0iQ2bNjAsmXLsFqtXHPNNdhstgprS6BQ95NUjqwsGDwYtm2D6tXhmWfg9tuh8NoEX38Nd94Ju3bBVVfBggXwpz/5LmYRCRqpmTmOhMauwDDYn5lbId1QJ06c4I033uB///sfAwYMAODtt9+mSZMmjnP+/Oc/Ox43b96cV155hR49ejhW461bty4ADRo0oHbt2o5zR44c6fRec+bMoX79+mzfvp0OHTp4vS2BRJUaqXinT8M115gJTVwcbNpkJi9FF1saOBC2bDGrN3l5MHIkLFzom5hFJKgkxlTHWmR3hRCLhWYxFbNK8d69e8nLy6NXr16OY3Xr1qVNmzaOr1NSUrjqqqtISEigZs2aXHLJJQCkpZXcLbZ7927GjBlD8+bNqVWrFs2aNSvV66oCJTVS8e66C775BmrWhMWLoVUr9+eGh8P778OYMXDmDNxwg5noiIiUQ1x0JNNGdCTk7L5RIRYLT4/o4LPBwjk5OQwePJhatWrx3nvvsX79ej7++GPA3BqiJFdddRVHjx5l9uzZrFu3jnXr1pXqdVWBup+kYq1cCbNng8UCH34IXbqc/zXVqsG778KxY/Dll2blZsMGqFWroqMVkSA2ukcC/VrXZ39mLs1ioio0oWnRogWhoaGsW7eOhIQEAP744w927drFRRddxI4dO/j999+ZPn068fHxAGzYsMHpGvYdqwsKChzHfv/9d3bu3Mns2bO5+OKLAVi1alWFtSPQqFIjFScvzxw3A/CXv8CgQaV/bUgIvPMONGkCu3fDhAlgGOd/nYhICeKiI0lqUa/CKzQ1atTg1ltv5f7772f58uVs27aNW265xbHHUUJCAmFhYbz66qvs27ePTz/9lCeffNLpGk2bNsVisfD5559z5MgRTpw4QZ06dahXrx6zZs1iz549LF++nEmTJlVoWwKJkhqpOM8/Dz//DA0awLRpnr8+JgbmzzcrN/Pnm5UeEZEA8dxzz3HxxRdz1VVXMXDgQPr27Uu3bt0AqF+/Pm+99RYLFiygffv2TJ8+neeff97p9Y0bN+bxxx9n8uTJNGzYkIkTJ2K1Wpk3bx4pKSl06NCBe++9l+eee84XzfNL6n6SinHoEDz1lPn4X/+CQiP3PdK7Nzz0EDzxBNx7LwwZYo7NERHxczVq1ODdd9/l3XffdRz7+9//TnZ2NgBjxoxhzJgxTq8xilSkH330UR599FGnYwMHDmT79u0lvq6qUqVGKsbLL8PJk9CzpznotzwmT4bmzeG33+Dxx70Tn4iIBJ0yJTUzZsygWbNmRERE0KtXL3744YcSz1+wYAFt27YlIiKCjh07snjxYsdz+fn5PPjgg3Ts2JHq1avTqFEjbrrpJg4ePOh0jaNHj3LDDTdQq1Ytateuza233sqJEyfKEr5UtKwsc9VgMKssFkvJ559PZCS8+qr5+KWXzKnhIiIiRXic1MyfP59JkyYxdepUNm7cSOfOnRk8eLBjaeeiVq9ezZgxY7j11lvZtGkTw4cPZ/jw4Ww7+4cpNzeXjRs38uijj7Jx40YWLlzIzp07+VORRdduuOEGfvrpJ5KTk/n888/59ttvmTBhQhmaLBXuP/+B7Gxo395cRM8brrgChg83Vx1+6CHvXFNERIKKx0nNiy++yPjx4xk3bhzt27dn5syZREVFMWfOHJfnv/zyywwZMoT777+fdu3a8eSTT9K1a1dee+01AKKjo0lOTua6666jTZs2XHTRRbz22mukpKQ4FhL6+eefWbJkCa+//jq9evWib9++vPrqq8ybN69YRUd87ORJs5oC5r5ORRfYK4/p083rffYZnF2XQURExM6jgcJ5eXmkpKQwZcoUxzGr1crAgQNZs2aNy9esWbOm2HSzwYMHs2jRIrfvk5WVhcVicSwLvWbNGmrXrk337t0d5wwcOBCr1cq6deu45ppril3j9OnTnD592vG1fWBWfn4++fn5522rJ+zX8/Z1/YUn7bPMnUu1Q4cwEhI4c+214M3vSfPmhPzf/2F95x1sjzxCQaFuzPIK9s8Qgr+Nwd4+qJptzM/PxzAMbDZbUOxtZB/Qa29TMCpLG202G4ZhkJ+fT0hIiNNznvy8e5TUZGZmUlBQQMOGDZ2ON2zYkB07drh8TUZGhsvzMzIyXJ5/6tQpHnzwQcaMGUOts4utZWRk0KBBA+fAq1Wjbt26bq8zbdo0HncxqHTp0qVERVXMstjJyckVcl1/UZr29fnXv4gBfr74YnZXwPcjqk8fBsydi/Xrr1n97LP87uV9ToL9M4Tgb2Owtw+qVhurVatGbGwsJ06cCKoVc48fP+7rECqcJ23My8vj5MmTfPvtt5w5c8bpudzc3FJfx6+mdOfn53PddddhGAb/+c9/ynWtKVOmOFWIsrOziY+PZ9CgQY5kyVvy8/NJTk7m8ssvJzQ01KvX9gelbt/evYT+9BOG1UqrJ5+kVaGN27zJ2LgR/vtfen/9NQUPPOCVawb7ZwjB38Zgbx9UzTaeOnWKAwcOUKNGDSIiInwdXrkZhsHx48epWbMmlvJOovBTZWnjqVOniIyMpF+/fsU+Z3tPS2l4lNTExMQQEhLCoUOHnI4fOnSI2NhYl6+JjY0t1fn2hOaXX35h+fLlTolHbGxssYHIZ86c4ejRo27fNzw8nPDw8GLHQ0NDK+yXQUVe2x+ct33vvQeA5fLLCU1MrLhAHn4Y3ngD64oVWLdsgbOLWXlDsH+GEPxtDPb2QdVqY0FBARaLBavV6liNN5DZu2PsbQpGZWmj1WrFYrG4/Nn25Gfdo+9oWFgY3bp1Y9myZY5jNpuNZcuWkZSU5PI1SUlJTueDWVYsfL49odm9ezdff/019erVK3aNY8eOkZKS4ji2fPlybDab0w6o4kMFBfD22+bjceMq9r3i42H0aPNxkRU4RUQCwf79+7FYLGzevNntOW+99ZZjbKmUjsdp4qRJk5g9ezZvv/02P//8M7fffjs5OTmMO/uH7KabbnIaSHz33XezZMkSXnjhBXbs2ME//vEPNmzYwMSJEwEzobn22mvZsGED7733HgUFBWRkZJCRkeHoP23Xrh1Dhgxh/Pjx/PDDD3z//fdMnDiR66+/nkaNGnnj+yDltWwZHDgAderA1VdX/Pvdd595v2AB7N9f8e8nIlLJRo8eza5du3wdRkDxOKkZPXo0zz//PI899hhdunRh8+bNLFmyxDEYOC0tjfT0dMf5vXv3Zu7cucyaNYvOnTvz4YcfsmjRIjqcHeD522+/8emnn/Lrr7/SpUsX4uLiHLfVq1c7rvPee+/Rtm1bBgwYwBVXXEHfvn2ZNWtWedsv3nK264kxY6Ay+r27dIGBA80KkX0KuYhIEImMjCw2SSYQ+HJAd5k69CZOnMgvv/zC6dOnWbdunVMX0IoVK3jrrbeczh81ahQ7d+7k9OnTbNu2jSuuuMLxXLNmzTAMw+Xt0ksvdZxXt25d5s6dy/Hjx8nKymLOnDnUqFGjLOGLt+Xnm2vHwLluocpgr9a8/rq52J+IiB+x2Ww8++yztGzZkvDwcBISEnj66aedztm3bx/9+/cnKiqKzp07Oy2Pcr7up7y8PCZOnEhcXBwRERE0bdqUaYU2D969e7dj4G379u1JTk7GYrE4llRZsWIFFouFY8eOOV6zefNmLBYL+89WwH///XfGjBlD48aNiYqKomPHjrz//vtOcVx66aVMnDiRe+65h5iYGIYOHQrAtm3bGDp0KDVq1KBhw4bceOONZGZmluE7WXrBOUpJKte338Iff0D9+tCnT4mnpmedZPXeTNKzTpb/fQcNgrZtIScH/ve/8l9PRAKDYZj/3/vi5sHGkVOmTGH69Ok8+uijbN++nblz5xarvDz88MPcd999bN68mdatWzNmzJhiU5rdeeWVV/j000/54IMP2LlzJ++99x7NmjUDzIRqxIgRhIWFsW7dOmbOnMmDDz5Y6tjtTp06Rbdu3fjiiy/Ytm0bEyZM4MYbbyy2PdLbb79NWFgY33//Pf/+97/Jyspi4MCBXHjhhWzYsIElS5Zw6NAhrrvuOo9j8IRfTemWAPXxxwAcunQQthN5xEVHujxt/vo0pizcis0AqwWmjejI6B4JZX9fiwX++le45x5za4bbby//PlMi4v9yc8FXlfoTJ6B69fOedvz4cV5++WVee+01br75ZgBatGhB7969naYo33fffQwbNgyAxx9/nAsuuIA9e/bQtm3b875HWloarVq1om/fvlgsFpo2bep47uuvv2bHjh189dVXjrGnTz/9tKOKUlqNGzfmPntVHLjrrrv46quv+OCDD+jZs6fjeKtWrXj22WcBM6GyD1EpXJmaM2cO8fHx7Nq1i9atW3sUR2mpUiPlY7OR+8GHAEw2WtJn+nLmr08rdlp61klHQgNgM+ChhdvKX7G5+WZzw8tt2+D778t3LRERL/n55585ffo0AwYMKPG8Tp06OR7HxcUBuN1LsahbbrmFzZs306ZNG/72t7+xdOlSp/ePj493mkzjbpZySQoKCnjyySfp2LEjdevWpUaNGnz11VeObYzsuhVZWmPbtm2sWLGCGjVqOG72RG3v3r0ex1FaqtRIuez+fBmtjhziRFgkq5t2diQr/VrXByA1M4fEmOqkZuY4Ehq7AsNgf2au28pOqdSubQ5OnjPHrNb07Vv2a4lIYIiKMismvnrvUoiMLN3vtcJrsNgXqivt1gJdu3YlNTWVL7/8kq+//prrrruOgQMH8uGHH5bq9fY1ZIxCXWpFtyR47rnnePnll3nppZfo2LEj1atX55577ik2GLh6kerViRMnuPLKKx3Vm8LsyVtFUFIjZTZ/fRpHn55FK2BF8+6crhYGmMnKU5//zJfb0rEZYAHG9IzHasEpsQmxWGgW44UtK26/3UxqPvzQnAlVv375ryki/stiKVUXkC+1atWKyMhIli1bxm233VZh71OrVi1Gjx7N6NGjufbaaxkyZAhHjx6lXbt2HDhwgPT0dEcSsXbtWqfX1j/7uzI9PZ06deoAFFs35/vvv+fqq6/m//7v/wAz4dq1axft27cvMa7OnTvzxRdf0KxZM6pVq7xUQ91PUib27qSBe8zdsr9qdZHT819sTXckMAYw94cDGMa5IS8hFgtPj+hQviqNXffu5i0v79zUchERH4qIiODBBx/kgQce4J133mHv3r2sXbuWN954w2vv8eKLL/L++++zY8cOdu3axYIFC4iNjaV27doMHDiQ1q1bc/PNN/Pjjz/y3Xff8fDDDzu9vmXLlsTHx/OPf/yD3bt388UXX/DCCy84ndOqVSuSk5NZvXo1P//8M3/5y1+K7RLgym233cbRo0cZM2YM69evZ+/evXz11VeMGzeOgoICr30PilJSI2WSmplDw6wjtPr9AAUWKyubn3+rAgOwGDBj7IWsmty/fIOEi/rzn837N9/0aHaCiEhFefTRR/n73//OY489Rrt27Rg9ejRHjhzx2vVr1qzJs88+S/fu3enRowf79+9n8eLFji0lPv74Y06ePEnPnj257bbb+Oc//+n0+tDQUEdS1KlTJ5555hmeeuopp3MeeeQRunbtyuDBg7n00kuJjY1l+PDh540tLi6O7777joKCAgYNGkTHjh255557qF27doVuD6HuJymTxJjq9Nu/CYAtsa3IjqiBBTNxKYkNqFs93DsVmsKuvx7uvRe2bIFNm6BrV+9eX0TEQ1arlYcfftipQmKz2cjOznas0VZY7dq1nY7dcsst3HLLLW6vP378eMaPH+/2+datW/Pdd9+VGGOfPn3YsmWL07HCMdStW9exro07K1ascHm8VatWLFy4sMTXepsqNVImcdGR3FGwH4BvEy8kxGJh8tC2WM8zo9pr42iKqlMH7P96ePNN719fRET8npIaKRubjaYbzW0sBtx1A6sm9+cvl7Rg2oiOhJwdOGMF+rWKcSQ6Xh1H44p9I825c+H06Yp5DxER8VvqfpKy2bwZMjOhRg06jBwMZ6clju6RQL/W9dmfmUuzmCjioiNJzzrp9HWFGTgQGjeG334zt2249tqKey8RkQBUtMsr2KhSI2WS/ekXAJzq28+R0NjFRUeS1KKeI4Ep+nWFCQmBG280H2vbBBGRKkdJjXhs/vo0tr1lLu40rSDe5QrCPnN2LQUWLzb3oxIRkSpDSY14JD3rJI/PX0+3X7cD8F3TC8u03YFXN7Ys7IILoFMnc+fwUq6qKSL+L9i7Tao6b32+SmrEI6mZOXT+bSfhBWdIr1GPfXUbO7Y7KK3569PoM305Y2evc7tXVLmMHWvez53r3euKSKWzbyOQm1v63zESeOyfb2iR4Qye0kBh8UhiTHV6nq3SrI+/ACwWj6Zpu9vYsl/r+t4bc3P99TB5MqxcCb/+Ck2aeOe6IlLpQkJCqF27tmOTx6ioKMceSYHIZrORl5fHqVOnKnQROl/ypI2GYZCbm8vhw4epXbs2ISEh5XpvJTXisatP7APghyYXeDxNu8I2tiysaVO4+GL47juYPx/+/nfvXFdEfCI2NhYo/e7V/swwDE6ePElkZGRAJ2clKUsba9eu7ficy0NJjZTagpRfmfrxVjb/ZK4k3HT4IFbd0N+jZCQxpnrFbWxZ2NixZlLz/vtKakQCnMViIS4ujgYNGhTbRTrQ5Ofn8+2339KvX79yd7X4K0/bGBoaWu4KjZ2SGnErPeskqZk5NIkO59hpePyT7XTI2Ev1/FMci6jBM2nVuNLDa8ZFRzJtREceWriNAsOouAX5Ro6EO++ElBTYvx+aNfPu9UWk0oWEhHjtj5+vhISEcObMGSIiIoI2qfFlG5XUiEvz16c5xr5YLXBJrAWbAT0O/ATAhsbtOIOlTN1Grhbo87r69eGSS+Cbb+Cjj1StERGpAoJzlJKUi6vBvN+kW7FaoOevZlKzPv6CcnUbVcqCfCNHmvcffVRx7yEiIn5DSY0U42owL1j4c+8Eup+d+ZQS38Gr3UaF163x2ho211xj3q9ZY86CEhGRoKbuJynG1WBeMBgecZx6J7MpiIjk1RduI65+dLnfKz3rJHNWpfLGqlRsBtjHyRuY3V7TRnRkdI+Esl28USPo0we+/x4+/hjuuqvc8YqIiP9SpUaKsQ/mDXGaimfhf/+aB0BIr55eSWjmr0+j97TlzP4u1ZFAGWdvcG4Nm3JVbOxdUFpdWEQk6CmpEZdG90hg4R1JFM5rOh3cBcCJrj3KfX37uJ3zLYzt6WrFxdiTmu++g0OHyn4dERHxe0pqxK2cvAIKb8dx4cGdAPzWqmO5r+163E5x5V7DJiEBevQAwzC7oEREJGgpqRG37GNrACLzTtE609yjqfalvb167cIs4KgOeW0NG82CEhGpEjRQWNyyj62ZsnArHQ7tIcSwkdsglobtWnrt2vZF+KzAbf0SGdcnEcC7a9iMHGnuBfXNN/D771CvXvmvKSIifkdJjZRodI8EkhLrsO8us8oR1SfJq9d2twifV9evadkSOneGH3+ETz6BP//Ze9cWERG/oe4nOa+46AhapZnjaejZ08vXroRF+ACuvda8VxeUiEjQUlIjpVJn927zgZeTmkpjH1eTnAzHjvk0FBERqRhKauT8Dh0i6sgRDIsFunf3dTRl066decvPhy++8HU0IiJSAZTUyHlZNmwwH7RtC7Vq+TaY8hg+3Lz/7DOfhiEiIhVDSY2cl+WHHwAwepR/0T2fuuoq837JEsjL820sIiLidUpq5LwsmzYBYHTr5uNIyqlnT2jQALKyzBWGRUQkqCipkfNyJDUXXuiT9/fart0hITBsmPlYXVAiIkFHSY2ULD0dy6FDGFYrRsfyb4/g0VtnneSfX2ynz/TljJ29jj7TlzN/fVr5LvqnP5n3n36K0x4QIiIS8JTUSMnOVmlONGoE1atX2tu62sHbK7t2X345hIdDaips3+6dYEVExC8oqZGSnU1qjjVvXmlvWdIO3uXetbt6dRgwwHz86adlv46IiPgdJTVSsrNJTVYlJjUl7eBd7l274VwXlMbViIgEFSU1UjJ7UpOYWGlv6W4Hb6sF7+zafeWV5v3atXD4cPmuJSIifkNJjRRjn22U8Us67NsHVG6lxr6Dd4jFzGyswIR+iXx8R2/i60aVfxZU48bQrZs5UFirC4uIBA3t0i0O6VknmbMqlTdWmYNzk9K28D5gNG1Kfs2alRpL0R28v911hGv+vRqbYVZspo3oyOgeCWV/g6uugpQUc1zNuHHeC1xERHxGlRoBXM82an/IrNKcvKByp3Lb2XfwBpiycKt3Z0HZx9UsXQqnTpUzUhER8QdKasTtbKP2h/YCcKRFu8oPqhBXA4fLPQuqSxdo0gRyc2H58nLFJyIi/kFJjbidbXTB2UpNVC/f7sztauBwuWdBWSzn9oLSLCgRkaCgpEZcJg2hBfm0OPorALWTfJvUFB04HGKxeGcWlD2p+fxzrS4sIhIENFBYHEnDQwu3UWAYWIEHmhmE2gogOtrsptm61acxFh04XO6EBuDSSyEyEn79FbZtK//1RETEp5TUCOAiafh8oflEx45mV40fiIuO9E4yYxcZCf37w+LFWL/6Ctq39961RUSk0qn7SRzss43ioiPPVWYqeRPLSnfFFQBYlizxcSAiIlJeSmrEtaqS1AwdCoBl9Wqq5eT4OBgRESkPJTXi2pYt5n2wJzXNm0ObNljOnKH+jz/6OhoRESkHJTVS3B9/mINnATp08G0sleFsF1TDlBQfByIiIuWhpEaKs88Eio+H2rV9GkqlONsF1XDjRk3tFhEJYEpqpLiqMp7Grl8/jKgoIv74A9QFJSISsJTUSHEBkNTYdxL/8cAfrN6bWb59oMLDMfr3BzCndouISEDSOjVSnJ8nNfPXpzltcAnl37nbGDoUvvjCnNr9yCNeilRERCqTKjVVnL3i4ah0GMa5MTV+mNTYN98suldVeXfutg0eDIBlzRpzoLSIiAQcVWqqsMIVD0eloyGQlQXVqkHbtr4OsRh3m2/CuZ27y7TqcNOmZMfHU+vAAUhOhuuuK1+gIiJS6VSpqaKKVjzslY6j6zeZB1q3hrAw3wXohqvNN+3Ku3P3oW7dzAeLF5f5GiIi4jtKaqooVxWPAsMgO+Xsont+ug9S0R277byxc/fhrl3NB0uWgM1WnjBFRMQH1P1URdkrHoUTmxCLhQa/7jW/8NOkBpw334wKs5KbZyMqzEpOXgHpWSfLnNj83q4dRo0aWA4dgk2bwF65ERGRgKBKTRVVtOJhr3RE7d1tnuDHSQ2c23yzc3wd0o7mcM2/VzN29jr6TF/O/PVpZbqmERqKcdll5hdffunFaEVEpDKoUlOFFa54NIuJIq5WBGzfbj7p50mNnbuxQf1a1y9TxcY2dCjWTz81x9VoareISEBRUlPFxUVHnvvjn54Ox46B1WoOFA4A7sYGlXUWlHF2ajdr18Lvv0O9el6IUkREKoO6n+Qce5WmRQsID/dtLKXkajZUuWZBNWlirs9jGLB0afkDFBGRSqOkRs75+WfzPkC6nsD92KDyzIKy79qtqd0iIoFF3U9yToCNp7ErNjaoPAkNmLt2P/PMuandVuX+IiKBQL+tq6hi2yNAwCY1cG42VLkTGoDevaFWLcjMhA0byn89ERGpFGVKambMmEGzZs2IiIigV69e/PDDDyWev2DBAtq2bUtERAQdO3ZkcZGy/sKFCxk0aBD16tXDYrGwefPmYte49NJLsVgsTre//vWvZQm/ypu/Po0+05cXnwIdwEmNV4WGwuWXm4/VBSUiEjA8Tmrmz5/PpEmTmDp1Khs3bqRz584MHjyYw4cPuzx/9erVjBkzhltvvZVNmzYxfPhwhg8fzjb7polATk4Offv25ZlnninxvcePH096errj9uyzz3oafpXnbgp0xr4DcOQIWCx+uedTpRs61LxfssS3cYiISKl5nNS8+OKLjB8/nnHjxtG+fXtmzpxJVFQUc+bMcXn+yy+/zJAhQ7j//vtp164dTz75JF27duW1115znHPjjTfy2GOPMXDgwBLfOyoqitjYWMetVq1anoZf5bmbAp35w4/mF02bQlTZ90/yNZfdamUxZIh5/8MPZjeUiIj4PY8GCufl5ZGSksKUKVMcx6xWKwMHDmTNmjUuX7NmzRomTZrkdGzw4MEsWrTI42Dfe+89/ve//xEbG8tVV13Fo48+SpSbP8CnT5/m9OnTjq+zs7MByM/PJz8/3+P3Lon9et6+bkVoEh1ebHsEqwUa/WZuj2Br25aCIu0IlPYtSPmVRz7Z7th1/Kmr2zOqW5NSvbZYGxs0oFrHjli2buXMl19iXH99RYVdaQLlcyyrYG8fqI3BINjbB95voyfX8SipyczMpKCggIYNGzodb9iwITt27HD5moyMDJfnZ2RkePLWjB07lqZNm9KoUSO2bNnCgw8+yM6dO1m4cKHL86dNm8bjjz9e7PjSpUvdJkLllZycXCHX9bbrEi3M32fFwIIFg+sSbfzx+TLqAvvCwvjJzTgSf27fsdPwj40hGJhTu20GPLzoJ/LTtlDbgyV3CrexfcuWtNq6lfQ5c9gYRFVBf/4cvSHY2wdqYzAI9vaB99qYm5tb6nMDZkr3hAkTHI87duxIXFwcAwYMYO/evbRo0aLY+VOmTHGqEGVnZxMfH8+gQYO83m2Vn59PcnIyl19+OaGhoV69dkW4Argj6xRpR3NJqBtFXHQEIR//B4BmQ4bQ1L5Oy1mB0L61+45ibHSeqWRgoUWXi+iVWPe8r3fVRkv16vDxxzTZvp3YIUMCfmp3IHyO5RHs7QO1MRgEe/vA+22097SUhkdJTUxMDCEhIRw6dMjp+KFDh4iNjXX5mtjYWI/OL61evXoBsGfPHpdJTXh4OOEuVsUNDQ2tsB+kiry2tyXEhJIQU/PcgV27AKh2wQXm7B8X/Ll9LWNrudx1vEXDWh7F7NTGfv2gRg0shw8Tum1b0Oza7c+fozcEe/tAbQwGwd4+8F4bPbmGR//0DAsLo1u3bixbtsxxzGazsWzZMpKSkly+Jikpyel8MEtS7s4vLfu077i4uHJdR4BTpyA11Xzcpo1vYykjVysLPzCkDamZOWUfNBwWBgMGmI81C0pExO953P00adIkbr75Zrp3707Pnj156aWXyMnJYdy4cQDcdNNNNG7cmGnTpgFw9913c8kll/DCCy8wbNgw5s2bx4YNG5g1a5bjmkePHiUtLY2DBw8CsHPnTgDHLKe9e/cyd+5crrjiCurVq8eWLVu499576devH506dSr3N6HK27PH3OsoOhoaNPB1NGVWeGXhLb8d45kvdzgGDU8b0ZHRPRI8v+jQofDJJ/Dll/Dww94PWkREvMbjpGb06NEcOXKExx57jIyMDLp06cKSJUscg4HT0tKwFhp70Lt3b+bOncsjjzzCQw89RKtWrVi0aBEdOnRwnPPpp586kiKA68/ONJk6dSr/+Mc/CAsL4+uvv3YkUPHx8YwcOZJHHnmkzA2XQs4mkbRpY65TE8DsKwrf8PraYmvx9Gtd3/MVh+1Tu9esgT/+gDp1vBitiIh4U5kGCk+cOJGJEye6fG7FihXFjo0aNYpRo0a5vd4tt9zCLbfc4vb5+Ph4Vq5c6WmYUlqFk5og4G4tnv2ZuZ4nNU2bQrt25mafX38NJfwci4iIbwX2dA7xDvt0/CBJahJjqmMtUnAKsVhoFlPGqfz2ao3G1YiI+DUlNXKuUhMk2yO4GjT89IgOZd/ssvCWCYZR8rkiIuIzAbNOjVQQwwi67idwHjTcLCaqfLt3X3yxuXXEwYOwdStocLqIiF9SpaaqO3wYsrLMAcItW/o6Gq+Ki44kqUW98iU0ABER0L+/+fjLL8sfmIiIVAglNVWdfTxNs2bmH+8g5JVNLjWuRkTE76n7qaoLwq6nwuavT2PKwq3eWa8GYNUqyM6GINoLSkQkWKhSU8UUq1oE2SDhwtKzTjoSGji3Xk2ZKjYtWpjdc2fOwPLl3g1URES8QklNFTJ/fRp9pi9n7Ox19Jm+nPnr084lNa1b+za4ClDSejVlYq/WaFyNiIhfUlJTRbirWpzZtds8EIRJTYWuV6Op3SIifkdJTRXhqmpBwRms+89uZBlkM5+gAtarufRSCA+HtLRzA6xFRMRvaKBwFWGvWhRObJocz8San2/+oY6P911wFcir69VERcEll8DSpWYXVLt23gtURETKTZWaKsJV1eLx9mHmk82bgzV4fxS8tl4NOK8uLCIifkWVmioiPesk8XWjWHhHErl5NrNq8d6b5pOtWvk2uEAyZAjcey+sXAk5OVC9uq8jEhGRs5TUVAGu1mpJalEPdp8dJByE42kqTJs25kKF+/fDihUwbJiPAxIREbvg7XMQ4DxrtezZYx5Upab0LJZzs6A0tVtExK8oqQlyJa7VokpN2WhcjYiIX1JSE+TcrtVSJxz27TMPqFLjmf79ITQU9u49lxiKiIjPKakJcm7Xask6Avn5EBYGTZr4OMrK4ZWNLQFq1oSLLzYfq1ojIuI3NFC4CnC5VktysvlkixYQEuLbACuB1za2tBsyxNwD6ssv4a67vBeoiIiUmSo1VUSxtVrsg4SrwHgar25saWcfV7NiBZwsZ+VHRES8QklNVWUfC1IFxtN4fWNLgAsugMaNzYTm22/LF6CIiHiFkpqqqgpVary+sSU4T+3WuBoREb+gpKaqqkKVGleDpR8Y0obUzBzvdEFpvRoREb+ggcJVUUHBuencVaBSA86Dpbf8doxnvtzhNGh4RJc4zy86YIA5yHrnTkhNhcRE7wcuIiKlpkpNVXTgAOTlmdO5g3R3blfioiNpFhPlSGig8KDhU55fsHZt6N3bfKwuKBERn1NSUxXZx9M0b14lpnMX5m7QcNrRMg4a1rgaERG/oaSmKqrC2yO4GzScULeMg4bt42qWLYPTp8sXnIiIlIuSmqqoCm9k6XaF5eiIsl2wc2do2BBycuD7770YqYiIeEoDhauiKlypAdcrLOfn55ftYlar2QX19tvmLKjLLvNusCIiUmqq1FRFVbhSY1dsheXy0LgaERG/oKSmqikoMHeXhipbqfG6yy83KzbbtsGvv/o6GhGRKktJTVXz66/mdO7QUEgox4aOck69etCzp/lY1RoREZ9RUhPE0rNOsnpvpvOquVV4OneFss+CUlIjIuIzSmqC1Pz1afSZvpyxs9fRZ/py5q9PM5+oQtsjVCr7uJrkZCjroGMRESkXJTVBKD3rJFMWbnWxau7JKrWRZaXq3h1iYiA7G9au9XU0IiJVkpKaIORu1dz9mbmq1FQUqxUGDTIfa4NLERGfUFIThNytmtssJkqVGjfSs06xO8tStj2g7DSuRkTEp5TUBCG3q+bWDD83nVuVGsDsqvvnF9u59IVveW17CJe+8O258UeesldqNm2C9HTvBSkiIqWiFYWDlKtVc0lLM/cnCg2tUrtzuzN/fRqTP9pK4Z46+/ijfq3re74wX4MG5tiaDRvMas24cV6NV0RESqZKTRArtmquvespMRGqVe181j6Y2nDxXIFhkLL/j7Jd+MorzfvPPy9zbCIiUjZKaqqSffvM+xYtfBuHH3A1mLqwv83bVLZuKHtSs3Spdu0WEalkSmqqEntS07y5b+PwA64GUxfmNA3eExdeCHFxcOIEfPtt+YIUERGPKKmpSuyDhFWpKTaY2hXHNHhPWK0wbJj5WF1QIiKVSklNVaJKjZPRPRJYNbk/74+/iA//0gtLkRE2jmnwnrJ3QX32GRgl9HGJiIhXKampSpTUFGMfTN25STSjm9scXVKOafCezoACGDAAwsIgNRV27PBuwCIi4lbVngJTlRw7BkePmo8TE30air9Kamhwx4h+/JaVd24afFnUqAH9+8NXX5ldUO3aeTdQERFxSZWaqsJepWnY0PyjKy7FRUc4T4MvK03tFhGpdEpqqgp1PVUu+2Dh778/VyETEZEKpaQmCKVnnWT13kzn6cj2mU9KaipHYiJccAEUFJjdUCIiUuGU1ASZ+evT6DN9OWNnr6PP9OXnFpDTwnuVT11QIiKVSklNELEv/W9fKddpATl1P1U+e1Lz5Zdw5oxvYxERqQKU1AQRV0v/OxaQU/dTmbnsziuNiy6CunXhjz9gzZqKCU5ERBw0pTuI2Jf+L5zYhFgsNIsONXfoBnU/eSA96yRzVqXyxqpUbAZYLTBtREdG90go3QWqVYOhQ+G99+CLL+Diiys2YBGRKk6VmiBSdOl/xwJy2ZnmgNWICIiN9XGUgWH++jR6T1vO7O9SXXfnlZbG1YiIVBpVaoLM6B4J9Gtdn/2ZuecWkEtONp9MTDT3JpIS2ccmudrgwN6dV+p1bAYPhpAQ+Oknc4VhLXwoIlJh9BcuCNmX/nf84dUgYY+4Gptk5/F+UHXqQJ8+5uMvvih/cCIi4paSmqpA07k9Yh+bVJTVQtn2g1IXlIhIpVBSUxWoUuORomOTrMCEfol8P/my0g8SLsye1HzzDZw44b1ARUTEicbUVAWazu0xl2OTyqptW/N7v28ffP01DB/utThFROQcVWqCnWGcS2rU/eSRYmOTyspiUReUiEglUFIT7P74A7KzzcfNmvk0lCrNntR88QXYbL6NRUQkSCmpCXb2Kk1cHER5MGtHvKtfP6hZEzIyYP16X0cjIhKUlNQEOw0S9g/h4ebqwgCLFvk0FBGRYKWkJthpOrf/sA8Q/uQTn4YhIhKslNQEO8188h9XXAGhofDzz7Bzp6+jEREJOkpqgp26n/xHdDRceqn5WNUaERGvU1IT7NT95F/sXVAaVyMi4nVKaoJZXh4cOGA+VqXGP/zpT+b92rXmTCgREfEaJTXB7JdfzDVRoqKgYUNfRxPw0rNOsnpvJulZJ8t+kSZNoEcPc1HEzz7zXnAiIqKkJqgVHk9jcbFDo5Ta/PVp9Jm+nLGz19Fn+nLmr08r+8XUBSUiUiHKlNTMmDGDZs2aERERQa9evfjhhx9KPH/BggW0bduWiIgIOnbsyOLFi52eX7hwIYMGDaJevXpYLBY2b95c7BqnTp3izjvvpF69etSoUYORI0dy6NChsoQftIpVEjTzySvSs04yZeFWbIb5tc2AhxZuK3vF5uqrzfuvv4bjx70TpIiIeJ7UzJ8/n0mTJjF16lQ2btxI586dGTx4MIcPH3Z5/urVqxkzZgy33normzZtYvjw4QwfPpxt27Y5zsnJyaFv374888wzbt/33nvv5bPPPmPBggWsXLmSgwcPMmLECE/DD1ouKwma+eQVqZk5joTGrsAw2J+ZW7YLtm8PLVuaY56++qr8AYqICFCGpObFF19k/PjxjBs3jvbt2zNz5kyioqKYM2eOy/NffvllhgwZwv3330+7du148skn6dq1K6+99prjnBtvvJHHHnuMgQMHurxGVlYWb7zxBi+++CKXXXYZ3bp1480332T16tWsXbvW0yYEHXeVhFM7d5sHlNSUS2JMdaxFeu+sQFRYGXtvLRZ1QYmIVIBqnpycl5dHSkoKU6ZMcRyzWq0MHDiQNWvWuHzNmjVrmDRpktOxwYMHs8iDX+YpKSnk5+c7JT1t27YlISGBNWvWcNFFFxV7zenTpzl9+rTj6+yzmzrm5+eTn59f6vcuDfv1vH3d0tqTke2yknBmj9n9dCYhAaMcsfm6fZWhpDbGRFXjqavb88gn288ljsA1/17NU1e3Z1S3Jh6/n+XKK6n2/PMYn3/Omdxcc1G+Chbsn2Owtw/UxmAQ7O0D77fRk+t4lNRkZmZSUFBAwyIzaRo2bMiOHTtcviYjI8Pl+RkeTGfNyMggLCyM2rVrl/o606ZN4/HHHy92fOnSpURV0MaOycnJFXLd8zl2GiyEYHCunGAxbIT9YnY/rfz1V04UGcdUFr5qX2Vy18bqwD0XwL+2nfs+2wx4eNFP5KdtoXa4h29UUMDg6GgisrJY//zzHOncuXyBeyDYP8dgbx+ojcEg2NsH3mtjbm7pu/o9SmoCyZQpU5wqRNnZ2cTHxzNo0CBq1arl1ffKz88nOTmZyy+/nNBK+Be3K6EJvzoqCVYLPHdpI8KeNQey9rvpJoiIKPO1/aF9Fa00bVy77yjGtg1OxwwstOhyEb0S63r8niEjRsCbb9IrPR1boepnRQn2zzHY2wdqYzAI9vaB99to72kpDY+SmpiYGEJCQorNOjp06BCxsbEuXxMbG+vR+e6ukZeXx7Fjx5yqNSVdJzw8nPDw4v98Dg0NrbAfpIq89vmMvSiR/u1i2Z+ZS7OYKOJ2bjWfaNyY0Jo1vfIevmxfZSmpjS1ja2G14NTVF2Kx0KJhrbJ9X669Ft58k5BFiwiZMQOslbPCQrB/jsHePlAbg0Gwtw+810ZPruHRb9GwsDC6devGsmXLHMdsNhvLli0jKSnJ5WuSkpKczgezJOXufFe6detGaGio03V27txJWlqaR9cJdnHRkSS1qEdcdKRmPlWAuOhIpo3oSMjZNX9CLBYeGNKG1Mycsk3vHjDA3A8qIwNWr/ZytCIiVY/H3U+TJk3i5ptvpnv37vTs2ZOXXnqJnJwcxo0bB8BNN91E48aNmTZtGgB33303l1xyCS+88ALDhg1j3rx5bNiwgVmzZjmuefToUdLS0jh48CBgJixgVmhiY2OJjo7m1ltvZdKkSdStW5datWpx1113kZSU5HKQcFWSnnWS1MwcEmOqm8mMnT2pSUz0TWBBanSPBPq1rs/+zFy2/HaMZ77c4ejymzaiI6N7JJT+YuHh5rYJ774LH30EfftWXOAiIlWAx/Xu0aNH8/zzz/PYY4/RpUsXNm/ezJIlSxyDgdPS0khPT3ec37t3b+bOncusWbPo3LkzH374IYsWLaJDhw6Ocz799FMuvPBChg0bBsD111/PhRdeyMyZMx3n/Otf/+LKK69k5MiR9OvXj9jYWBYuXFjmhgeDEle5VaWmwsRFR9IsJsqR0EA5FuS79lrz/sMPzS0tRESkzMo0UHjixIlMnDjR5XMrVqwodmzUqFGMGjXK7fVuueUWbrnllhLfMyIighkzZjBjxgxPQg1a7tam6de6vrqfKkFJC/I5VczOZ9AgqFEDfv0V1q+HXr28G6iISBWivZ8C1HlXuVVSU6G8tiBfRARceaX5+KOPvBKbiEhVpaQmQLn6oxpisdAsJspcfv/AAfOgkpoKUXTQMJxbkM/jzS4Ld0EZRsnnioiIW0pqApSrmThPj+hgdn2kpZnjMyIiwIOp8+KZ0T0SWHhHktMG6GUaWzN0KERFQWoqbNrk/UBFRKqIoF18ryooPBOnWUzUubEchbueLBb3F5Byy8krKFZc8XhsTVSUmdh89JFZrena1fuBiohUAarUBDintWnsNJ6m0pTYDegJdUGJiJSbkppglJpq3iupqXAldgN6Ytgwc92a3bth27YKiFREJPip+ykYqVJTqdx2A3qiZk0YMgQ++cSs1nTs6P1ARUSCnCo1wUhJTaVz2Q3oqZEjzXtN7RYRKRMlNcFISU1guuoqCA2Fn34ybyIi4hElNcHmjz/g2DHzsfZ9Ciy1a5tdUADz5vk0FBGRQKSkJtjYqzSxseZUYfGJ9KyTrN6b6fleUGPGmPfz5mkWlIiIhzRQONio68mn0rNOMmdVKm+sSi3b7t1XXQWRkbBnD6SkQPfuFRuwiEgQUaUm2NiTGnU9Vbr569PoPW05s79LLfvu3TVqwJ/+ZD5+//2KCVREJEgpqQlQbrs3VKnxCfuu6a46jJw2Gi0NexfU/PnmdhciIlIq6n4KQPPXpzFl4VbX3RtKanzC1a7pdh6vMDxkCERHw2+/wapV0K+fd4IUEQlyqtQEGHtFwG33hpIan3C1XQKYSecDQ9qQmplT+i6o8HAYMcJ8rC4oEZFSU1ITYFxVBBzdG2fOwC+/mAeV1FSqotslWIEJ/RJ5cGhbnlmyg7Gz19Fn+nLmr08r3QXtXVAffgj5+RUTtIhIkFH3U4CxVwQKJzaO7o0DB6CgAMLCoFEj3wVZRRXdLgGgz/Tlxapq/VrXP//Kw/37Q4MGcPgwLFt2bv0aERFxS5WaAFPiBoqFZz5Z9dH6QuHtEkqsqp1PtWowapT5WF1QIiKlokpNAHK7gaLG0/iVEqtqpTFmDMyYAR9/DP/9L0REVEygIiJBQv+cD1AuN1BUUuNXSqyqlUZSEsTHw/HjsHhxBUYqIhIcVKkJJkpq/I7bqlppWK1w/fXw3HPw3nvnZkSJiIhLqtQEk9RU815JjV9xWVUrrf/7P/P+88/h6FHvBiYiEmSU1AQTVWqCT6dO0Lkz5OWZKwyLiIhbSmqCRVYW/P67+Vj7PgWXm2827995x7dxiIj4OSU1wcLe9VS/PtSs6dtYxLvGjIGQEFi7Fnbt8nU0IiJ+S0lNsFDXU/CKjYXBg83HqtaIiLilpCZYKKkJbvYuqHff1c7dIiJuaEp3sCi8mrD4pfSsk6Rm5lA9LIScvAISY6qXfkbUn/5k7tydlgYrV5rbKIiIiBMlNcFClRq/Nn99mtPu6mDu4D1tREdG90g4/wUiImD0aJg1y+yCUlIjIlKMup+ChZIav5WedbJYQgPnNrhMzzpZugvddJN5/+GHkJPj3SBFRIKAkpoAk551ktV7M53/EBYUwP795mMlNX7H1caWdqXe4BKgd29o0QJOnDD3gxIRESdKagLI/PVp9Jm+nLGz19Fn+nLmr08zn/jtN8jPN3d2btLEt0FKMfaNLV3xaINLi+VctUazoEREilFSEyCKdmE4dV3Yu56aNTPXMxG/UnRjSzuPN7iEc9smfP01HDjgxShFRAKfBgoHCFddGPauiziNp/F7hTe2jAqzkptn83yDSzA/40suMWdAvfkmPPZYxQQsIhKAVKkJEK66MBxdF0pqAoJ9Y8vO8XXKvsElwPjx5v0bb5jjqUREBFBSEzCKdmE4dV0oqalaRo6EOnXMNWuSk30djYiI31D3UwAp3IXh1HWhpKZqiYiAG2+EV16B2bNhyBBfRyQi4hdUqQkw9i4Mp64LJTUBy+UU/dKwd0F9+ikcOuT9wEREApCSmkB34gQcOWI+VlITUNxO0S+NDh3goovgzBl4660Ki1FEJJAoqQl0qanmfd265t5AEhBKnKJfWvZqzeuva5NLERGU1AQ+dT0FJHdT9FP2/1H67qjRo6FmTdizB1asqJA4RUQCiZKaQKekJiC5mqJvAf42b1Ppu6OqV4exY83Hs2dXSJwiIoFESU2g27vXvE9M9G0c4pGiU/Tt/yN63B1l74JauBAyMysmWBGRAKGkJtDt2WPet2rl2zjEY6N7JLBqcn/eH38Rr4y9kKJ7Xtq7o0rUrRtceCHk5cG771ZYrCIigUBJTaCzJzUtW/o2DikT+xT9+DqRWFxsevm3eZvO3w1lr9bMnKkBwyJSpSmpCWT5+bB/v/lYSU3Amr8+jWv+vRqjaKmGUnZD/d//mQOGd+3SCsMiUqUpqQlk+/ebe/9ERkJcnK+jkTIoOrXbFfvGpW7VrAnjxpmPX33VuwGKiAQQJTWBrHDXk1UfZSByNbW7KMfGpSW5807zfvHic4PHRUSqGP0lDGQaTxPw3E3tth9z2ri0JK1bm3tAGQb8+98VEquIiL9TUhPIdu8275XUBCxXu69PH9mR7ydfxvvjL2LV5P6M7pFQuotNnGjez5kDOTkVFLGIiP/SLt2BTNO5g4K73dfPW50pauhQaNHC7H763//gL3+pgGhFRPyXKjWBTN1PQcPl7uueslrPja159VVcTqcSEQliSmoCRHrWSec9gc6cObeZpZIasRs3DqKi4KeftB+UiFQ56n4KAPPXpzmm/VotMG1ER0bXzTcTm4gIaNzY1yGKv6hdG266yVyI77XXoH9/X0ckIlJpVKnxc0XXMbEvxvb7jz+ZB1q00HTuIFesSnc+9i6oRYvgl18qLC4REX+jv4Z+ztU6JgWGQdaWHeYX6noKavPXp9Fn+vLS79wN0KEDDBhgbpnw0ksVHqOIiL9QUuPnXK1jEmKx0ODwAfMLJTVBy12V7scDf5y/cnP//eb97Nlw9GjFBysi4geU1Pg5V+uYPD2iAzXSzg4S1nTuoOWuSjf836vPX7kZNAg6dTLXq/nPfyo+WBERP6CBwgHA5Tomms4d9OxVuqKJjVGkctOvdf3iU8EtFnjgAXOzy1degb//HUJCKidwEREfUaUmQDitY1JQAPv2mU8oqQlaRat0rv5nLXGzy+uug4QEOHwY3nmn4gIVEfETSmoC0YEDkJ8P4eEQH+/raKQCje6RwKrJ/Xl//EXMvrkbFhfjq9xudhkaCpMmmY+ff95MhkVEgpiSmkBk3/OpeXNN564C4qIjSTuaw/h3UpwWCS7VZpe33gp16sDu3Vg+/bTigxUR8SH9RQxEGk9TpRSdBQXm/7gL70g6/2aXNWrAHXeYr3nhBW2dICJBTUlNINJGllWKq1lQNiA3z1a6C9x1F4SHY/3hB+pu3+71+ERE/IWSmkBk735SpaZKcLdWkduxNEU1bAi33AJA648+8m5wIiJ+RElNIFL3U5Xibq0ij3b0vu8+jJAQGm7ciGXDhgqKVETEt7ROTaApKIC9e83HSmqqDJdrFXmiZUuMsWOxvPsu1qeegi++qJhARUR8SElNoPntN8jLM6frJpxnkKgElbjoSKdkJj3rJKmZOSTGVAfMsTfVw0LIySsgMaZ6scSnYMoUeO89rIsXw/r10KNHpcYvIlLRlNQEmsLTubVCbJU1f32aY0aUfbhN4bHEVgtMG9HReXZUy5b8esklJHzzDTz+OHz+eWWGLCJS4co0pmbGjBk0a9aMiIgIevXqxQ8//FDi+QsWLKBt27ZERETQsWNHFi9e7PS8YRg89thjxMXFERkZycCBA9lt/+N9VrNmzbBYLE636dOnlyX8wKbxNFVe0SneBs4JDZzbQqHoppe7rrsOIyTE7H5av75S4hURqSweJzXz589n0qRJTJ06lY0bN9K5c2cGDx7M4cOHXZ6/evVqxowZw6233sqmTZsYPnw4w4cPZ9u2bY5znn32WV555RVmzpzJunXrqF69OoMHD+bUqVNO13riiSdIT0933O666y5Pww98ms5d5bma4u2Kqy0UcuLiMMaONb94/PEKiE5ExHc8TmpefPFFxo8fz7hx42jfvj0zZ84kKiqKOXPmuDz/5ZdfZsiQIdx///20a9eOJ598kq5du/Laa68BZpXmpZde4pFHHuHqq6+mU6dOvPPOOxw8eJBFixY5XatmzZrExsY6btWrV/e8xYFOlZoqz9UUb1fcTfsumDLF7LpUtUZEgoxHY2ry8vJISUlhypQpjmNWq5WBAweyZs0al69Zs2YNk+z7z5w1ePBgR8KSmppKRkYGAwcOdDwfHR1Nr169WLNmDddff73j+PTp03nyySdJSEhg7Nix3HvvvVSr5roJp0+f5vTp046vs7OzAcjPzyc/P9+TZp+X/Xrevq4r1XbtwgKcadYMoxLeDyq3fb4SSG2MiarGU1e355FPtp8bU2NxXizYaoEnr25HTFS1Ym3Lb9qUkLFjsb77LrZ//IOCIv94CFSB9BmWldoY+IK9feD9NnpyHY+SmszMTAoKCmjYsKHT8YYNG7Jjxw6Xr8nIyHB5fkZGhuN5+zF35wD87W9/o2vXrtStW5fVq1czZcoU0tPTefHFF12+77Rp03jcRXl96dKlREWVctEyDyUnJ3v1esdOw5FTFupHGNQOB2w2rtyzhxDgmwMHyC0yNqmiebt9/ihQ2lgdmHrhuZ8PMB+HWQ3ybOax6oe2sHjxlmKvTU5Opnrv3lx2dibUqpde4o/WrSu5BRUnUD7D8lAbA1+wtw+818bc3Nzzn3RWwMx+Klzt6dSpE2FhYfzlL39h2rRphIeHFzt/ypQpTq/Jzs4mPj6eQYMGUatWLa/Glp+fT3JyMpdffjmhoaFeueaClF95/Oy/xK0WeOrq9oxqYBCSl4dRrRqX3nwzuKlSeVtFtM/fVMk2rl0Lb79N388+o+Drrym2BXiAqZKfYRAK9jYGe/vA+22097SUhkd/FWNiYggJCeHQoUNOxw8dOkRsbKzL18TGxpZ4vv3+0KFDxMXFOZ3TpUsXt7H06tWLM2fOsH//ftq0aVPs+fDwcJfJTmhoaIX9IHnr2ulZJx1dC2DOZHn0k58Z3MtGPcDSsiWhkR4uvuYFFfm98xfB0sbCa9gUXa/G0cYnn4T587F+9x3WpUvhyit9FK13BctnWBK1MfAFe/vAe2305BoeDRQOCwujW7duLFu2zHHMZrOxbNkykpKSXL4mKSnJ6XwwS1L28xMTE4mNjXU6Jzs7m3Xr1rm9JsDmzZuxWq00aNDAkyYEBFezWwoMg+xNP5lftG1b+UFJwJi/Po0+05czdvY6+kxfzvz1aa5PjI+Hu+82Hz/4IJw5U3lBiohUAI9nP02aNInZs2fz9ttv8/PPP3P77beTk5PDuHHjALjpppucBhLffffdLFmyhBdeeIEdO3bwj3/8gw0bNjBx4kQALBYL99xzD0899RSffvopW7du5aabbqJRo0YMHz4cMAcbv/TSS/z444/s27eP9957j3vvvZf/+7//o06dOl74NvgXdxsYNkhPNb9QUiNuFF3DpvB6NelZp9idZSE9q9BSCZMnQ926sH07vPWWT2IWEfEWj5Oa0aNH8/zzz/PYY4/RpUsXNm/ezJIlSxwDfdPS0khPT3ec37t3b+bOncusWbPo3LkzH374IYsWLaJDhw6Ocx544AHuuusuJkyYQI8ePThx4gRLliwhIiICMLuS5s2bxyWXXMIFF1zAP//5T+69915mzZpV3vb7JXcbGFbfd3Y6t4vuNhFwX+V7c9V+Ln3hW17bHsKlL3x7rnpTuzY88oj5eOpUyMmp1HhFRLypTCNNJ06c6Ki0FLVixYpix0aNGsWoUaPcXs9isfDEE0/wxBNPuHy+a9eurF27tiyhBiyXGxju3Gk+qUqNuGGv8hVObKzA66v2Fave9Gtd3/y5uuMOeOUV2L8fXnoJHn7YB5GLiJRfmbZJkMoRFx1JUot65h+e48fh11/NJ1SpETeKVvmswBUdY11WbxyrDYeHwz//aT5+5hk4cqTyAhYR8SIlNYFi1y7zvkEDCMJxROI9o3sksGpyfyZc3Bws8PnWjGLnFFtt+PrroWtXM3l2UzEVEfF3SmoChX1xQ3U9SSkV7nIqzGqBp0d0cJ7qbbXCc8+Zj//zH9i6tXKCFBHxIiU1gULjacQD7ja9HN60gA8m9CK+blSxHby57DIYMQIKCuDOO533XRARCQBKagKFvVKj8TRSCq6WBbAPIL5u1jr3a9j8618QGQnffQdz51ZewCIiXqCkJlCo+0k84GpZgPsHteKzNKvLNWwcEhLOTfG+7z7wYHlyERFfC5i9n6qSYkvcFxTA7t3mk0pqpJSKLguwJyMbA+fyTeFZUI6fub//3VyIb/duePxxeOEFH0QvIuI5JTV+Zv76NMeKsFYLTBvRkdExBXDqlDn1tmlTX4coASQuOtIxIDg//wwWDKfExgp8v+cIN7y+F5sBFmD8xYn8ddpz1L12OLz8Mvz5z3DBBT6JX0TEE+p+8iPulrg/mvKjeaBVKwgJ8V2AEtDioiMY3dzmNNbGBrz2zV7Hz5wBzPoule4bqvHrJYPNKuHEiRo0LCIBQUmNH3G7kWXKFvOLdu0qPygJKkkNDT6Y0AuLpeTzbAaMbTcaIyICVqyA//2vUuITESkPJTV+xO1GlgfO7vmkLgDxgpN5BaUqvKRFN+DAHX83v7j7bsgovoifiIg/UVLjR9xtZBm1++waNUpqxAua1osqljy7EmKxEDrlAbjwQvjjD7MbSkTEj2mgsJ8ptpFlzXDYvt18UkmNeEFcdATTRnTkoYXbKDAMQiwWHhjSht9P5DlWIbYn1HExtWDOHOjRAz76CD78EK691tdNEBFxSUmNHyo8Y4X9++HECQgNhZYtfRqXBA+Xu8AD4/o2K3aMLl1gyhR48kny/noHR7v2IrZ5vO+CFxFxQ0mNv/vpJ/O+TRszsRHxEqfkucix9KyTrN6bSfWwEHLyCvip3/X0i3mbNplprP3TTZx+821G90jwUeQiIq4pqfF39qSmQwffxiFVRuG1kgr7fOjdLPzf/Qz/aQXjn3mDfm9MLpYUiYj4kgYK+zt7UqPxNFIJiq6VVNiPjdowu8dwAP655FW2btxTucGJiJyHkhp/p6RGKpG73b3t/tX3BnbVS6BBzh9UG38r83/4pfKCExE5DyU1/sxm08wnqVSu1koq7HRoOHdd/QCnQ0K5bO96dj48zXlDTBERH1JS489SU+HkSXPPpxYtfB2NVAFF10qyC7FYGNvTnPG0s34znrrsVgAe/OYNdi/5jtV7M5XciIjPaaCwP7N3PbVtqz2fpNIUnu4dFWYlN89Gs5goAOatP4DNgHcvHEa/1E1cvmcdje68latueonT4eb6N5oVJSK+okqNH7FPo3X8i1fjacRH4qIjSWpRj87xdUhqUc8x1dtRxbFYeHDo38ioUZeWv//KY8tmOTZgVcVGRHxFSY2fmL8+jT7TlzN29jr6TF/O/PVpsG2b+aSSGvETo3sksGpyfyZc3Jw/oqK598r7sGFhzJal/Gn7CgoMgy+2pCuxERGfUFLjB4pOo7X/izd/4ybzQJcuPotNxJXXV+3DANY07cRrSdcB8MyXr9L+0D6e+uLnc4m5iEglUlLjB1xNow3NO0m1XWc3srzwwsoPSsSNoj+vL/UdyzfNuxF55jSzFj5FndwsdUWJiE8oqfEDrqbRtstMw2KzQYMGEBvrm8BEXCj682qzhnDPVfezv3YcTbIP89qnzxBiK6DAMEjZ/8d5r1dsLJmISBkpqfEDRafRhlgsPNT4tPlkly5gKWHhEJFK5urn9Y5ruvOXkY+QExpBn1+2MOWbOQD8bd6mEruhXI4lExEpI03p9hPFdk2e8rn5hLqexA+52uW7dtSV3Pf7b/xn0dPctuETtsW2ZNEF/Xlo4Tb6ta5fbJ8od2PJXJ0rIlIaqtT4Efs02rjoSNikQcLi35x+XjETnWGP38mrSaMBeObLV+h5YFuxbih7d1PKL38UG0tWYBjsz8yttDaISHBRpcYfFRTAli3mYyU1EkC6Na3D3f1uoNXvaQzZtYbZHz3JtTc8y13vw5Zfj1GvZjjPfLkDmwEWzFvhvCbEYnEs9Cci4ilVavxAsYGSe/ZAbi5ERUGrVr4NTsQDcdGRPD2yM/deeR8bGrcj+nQOby+YSsPsTGZ9l8q0xTsc1Rl7MmMfdBxisfD0iA7qehKRMlOlxsfmr09zjCuwWjCXmd+32XyyUydtjyABZ3SPBKqHV+O2M4/y0f8eoMXRX3lrwVSuu+EZsiNqOJ1rAIYBE/olMq5PohIaESkXVWp8yN1AyRPrNpgH1PUkAapb0zpkR9Xi5use53D1OrTN/IX/fvxPws7kuzz/je/2O32tad4iUhZKanzI1aJ7BYbBmQ0bzS+U1EiAsk/7PhjdkFtGPc7xsEiS0rYy45PphBYUT2zsg4lX783kv9/u1TRvESkTdT/5kH0Rs8KJTQhQ8+et5heazi0BzD7t+81Vzbn91MO8seBxLt+zjsXfv8YVfe8i33ru148Fc02bokm+pnmLiCdUqfEhV4uYvXxRNCGZRyAsDDp39nGEIuUTFx3JQ8Pa8dzMSeyd/R5GeDit1ixj+YaZhNsKgHO/hIomNHYFhsHX2w85uqPUNSUi7qhS42PFFjFbvMh8oksXCA/3ZWgiXhMXHUncuFEQWwOGDyf+myVsrhXJj9P/TWaejYlzN5X4+kc/+QkwKzpgDjC2AOMvTmRYpzhy8gpoEq3/X0SqOiU1fiAuOvJcaX3dOvO+Vy/fBSRSUYYOhYUL4ZpriPzkYy4Kq0b6jNnFumHdMYo8nvVdKrO+SwXM2YPXJVq4AnOgcWpmDokx1dVtJVKFqPvJ39iTmosu8m0cIhVl2DD46CMIDYUFC4i7YRTPDU506oYd2zPe48vaDJi/z8rsVakaaCxSRalS409On4aNZ2c+qVIjweyqq+Czz2DkSEhOZuTRm+g77yP2WWo4VhSet/5Aqao3hRlYeO6r3Y6KjgYai1QtqtT4kx9/hLw8iImB5s19HY1IxRo8GL75xvx5T0mh4dCBJFmzHd2xhQfR25Vmv/qieZD2kxKpOlSp8Sdr15r3vXqBpTS/vkUCXI8e8P33MGiQuT1I797w+efQrZvTIPqoMCu5eTZHFefNVft5fdW+UlVyrEBuXj6r92ZSPSyEnLwCjbURCVJKavyJBglLVdS6NaxebQ4i3rIF+vaFOXNgzBjnQfSFPDSsHeP6NmN/Zi57Dh93zI5yxQbc+naK0zHHliQ9ErzdGhHxIXU/+ZPClRqRqqRRI/j2W7jiCjh1CsaOhQceMHesdyMuOpKkFvUY2L6hY1NMO/sO4O7YDJjy0VY+33KQHw/84bTujdbBEQlcqtT4SLEpp0eOwL595pM9e/o2OBFfiI6GTz+FRx+FadPguefMys3770OdOm5fZh9/U3hj2Nv6JjqmertjA6f1cawWuObCxny86TfnDWZ7JGiKuEiAUFLjAy535v7lB/PJCy6A2rV9Gp+Iz4SEwNNPm6tpjxsHX30F3bvDvHnm+Bs3RvdIICmxDh8s/obrruhPaGg1Xl+V6tHsKZsBH238zenrhxZu49jJfJ75ckexREdE/I+6nyqZu525c5YsNQ8MGOC74ET8xejR5jibpk3NCmbv3vDss2CzuX1JXHQEraIN4qIj3M6e8lSBYTB98Y5i/7+WtF2Dq+Pq0hKpHKrUVDJ3O3Nbv/nG/OKyyyo/KBF/1KULbNoEEybAhx/Cgw9CcjK88w7ExZ335a5mT0WFWTlw9KTLzTPdcTVF/NVle5i3Pg2bcW67hnF9E/l215FiVVigeGXWi5UedY2JnKOkppK52pm70Ynfidy3B6xWuOQS3wUn4m/q1IEPPoA33oC//Q2+/ho6dYL//hdGjDjvy13NnuocX4ecvDM8tHAbBYaHq/udNfeHc6sUF96uwQJOC/9N+WgrFPr/vbyLAaZnnWJ3loX0rFMkxIS67spW15hUYep+qmSuduZ+scFR88lu3TSeRqQoiwVuuw1SUsyxNpmZ5krEI0dCenqZLjm6RwKrJvfn/fEX8cbN3YotC1XWTquiKZKN4ntaFRgGKfv/cHsNd11V89encekL3/La9hAufeFb/rtyr8uubG91canLTAKRKjU+UGxn7nsWmE+o60nEvXbtzGUPnnzSHF+zcCEsWwbPPw+33urx5QpXcaaP6Oio3IRYLDwwpA3PLNnh8TYNRRXeVbywv83bRE7eGaeZVdXDQvh8SzpvnB3gXLhb63D2KSYv3IpRKIGZ/uUOl11jKfv/oG6N0nVHueu6UgVIApWSGh9x/EI1DFi+3DyopEakZBER8M9/wnXXmYlMSgqMHw/vvWcmN2VU7B8a0ZHUjgp1JDpWzMTEkxzHXUID57qmDhzN5d8r9rpMnuzdWrO/S3V5DVfHLOAYL+QqGSmcxLga/2NPslxVgLR/lgQCJTW+tm8fpKWZOxb36ePraEQCQ+fOZtXm5ZfNdW1WrKBaz550uvxycwp448YeX7Lo+Juiic63u44Uq+b8fiKP2d/tK5ZgWM7+p6QhOzbgtW/2njeu0iZS9iSqcDIy5aOttI2tSYNaEcxZlepUBSp8bfu51cOrOV3Dzr5/lv3748ngZA1klsqkpKaSFfsfPDnZfOKii6B6dd8GJxJIqlWDv//dHFvzwANYFiwg8auvMNq3NxOdu+6C8PByvUXhRMdVNQdgXN9mTntRhVgs3Nq32XkX//OmKzvG8cXWdJdjeq6esbrY+S6rR5xbjNBS5JwQi4VmMVGkZ50slhzZu8iAYslL0W6sB4e0pWOT6GIJTuHfizFR+rMkZaefnkrksp/644/NJ6+4wrfBiQSqZs3ggw84s3w5J8aPp/a+fXD//fDKK/DII3DLLRAW5pW3cjWbKi460mkvKvumm0UX/yupO8ozBoWHMluBxduKJzTlfQe7EIuFp0d04NtdR5j80Van5wp3kdm/tv9uaxtbs9g4oGlf7jBjPntOv9b1nZIkqwWeuro9hf95V3jMUWk2I/X0fHevgeJJmvg/JTWVxFU/9fS5a7hu+XLz11MppqeKiHvGxRez8rnnGHb0KNUeewwOHIC//MXccuHRR+HGG81u3gpSNOGZVmTw8dMjOtA2tibD/726xG4pK9C3VQyr9mSe6yo625VltUC3egYpv1sqpSpkBRbekUSDWhH0mb7cbeJU+LjNoFjyU5S7c2wGPPLJdqZeaH5d+B+CjphKGLjs6vzC1aSiyUnRylPh19jbZX/9sE5xxZKkopX30nS1FZ2WL96lpKaSuFp0r//udVjOnIEOHcydikWkfEJCMG6+GW64AWbNMhOa/fvNQcVPPQX33mtuv1CjRoWH4q67ytVMq05NajsWCLSfm5510qnysz8zl8bRYWz6fjkv3HIpv2Xlua0KeaKk8T824MDRk/yw/6hH1y/Nqe7OsRmw6XcLsTsOO1V6Cj9vH/8TXyeSnLwCqoeFkHY0t1hCY38fezWpcHIzf32a2+TLVTXKnji6W1Sx8L5hrhIp5wQqhH///K1Hs8pKSqAAl9WpqjieSUlNJXG16N7QnWf7ukeO9E1QIsEqMhLuvtucGTVzJkyfDqmp5gJ+U6eaFZy77jJ3B69Arrqr3CU753ttXHQk+fn5bMLcEiIhpqbjuaJVoeEXNmLRpoMUGIZT0lJ0rAxnv57Qtzmvf7ePoptQFJ5NVZkW/RLCol82u32+6GakpWFPTl5flcrtl7Tg3yv3lqnLzl5lKpwIFt03rPB7PTikLZknTvN6kVlsrpIzV8mHq3FMFxet5OH8uRY9xxubswZKgqSkppLYF92z/+KpmX+Ky9I2m0+q60mkYkRFwaRJ8Ne/wltvwb/+BXv2mEnOCy+Y/6CYMAEuvZRiK/BVIFfJTnm4SpTuG9ymWKUnKszKNf9e7ZSkhFgsjOvbrNiAZ/s0dlcJjasuspISBCtwR/8W/PubvcUSp8pmM2DGivPPOiuJ4fjP+d/LPo7I5fM4J2dFu7q2/pbF9MU7ilWOvt2d6RyLi/gKn2NPoH78NYt5P6S5TXTslZ6iFZ9AWrdISU0lKvyLp+13XxKSdxpatoSOHX0dmkhwi4qCO+4wKzSffWYmNKtWmbt/z5tn/n94223moOKGDX0dbZm4quwU/Rpcj/WxP1d4wPPvOaddVkMeHdaOKzrFFesiO5x9yuV4ocJ/BC9v39DlORZgWKdYPt+S4Z1vRjmdL0mrKEW7urzJBsxdd257j9KslWSfsVZ4IcrCSwV0jq/jdxUcJTWVzPGL5oGzs55GjKjUfyGKVGkhITB8uHlLSYHZs2HuXLN6M3kyPPwwDBoEY8aY59SseZ4LBp7zdX/Zf0elZ50s1mUeYrE4EprC59ofFx4vZAVu65fIuD7nxpV0jq/j9hyAxVsz3FaGZt/cjZN5tvN2h1mBV8deSJM6kXyxJcPlOkJFWYDx/RIZ1jHOMa4JcKpcBaPzrZXkbuVqGzD836sZUWgcUeEp+02iy7eUQnkoqakkTtls1hH45BPziRtv9G1gIlVVt27m7fnnYf58M8FZtw6+/NK8RUTAVVfBqFEwZEhQJTil6f4q2mVetKrjSmnGC5V0zrQRHYsN9rW/74B2sQAlbkZqP3dYJ3OsVOf4OsW61YqyAh/f2ZvO8XWKPVe4cpWbl89t76Q4VZncjWexWFx329mfv6hBAeuOhHglWSrNQo/l4XbGW5FxREWn7F+XaMEXC5UoqakERfsjP09fTPuCAujf35z5JCK+U6OGOTvq1lth1y54/32zerNrFyxYYN7CwsxtTK6+2kx0yrBicSAq7aDmwkqbMLlLeJIS6/DB4m+49OLe5Nssxd63cEz2GWNFZ44Vfa/CycmW347x7Jc7nRI1VwmNq1iLzlx7eoT5+7voMXt8hd/LXpX6v57xbPp+OVf1bs+jn/xc6p3ii45jKlrlsn8/vtiS4TQu6vpe8cz74UClVptsBszfZ+UOH0xbV1JTwYquTxOad5rYD/5nfvG3v/kuMBEprnVrc3bUY4/Bpk3meJtFi2D3bliyxLzdfrv5j5HLLzdv/foF9Wrg3h7UfP73i6BVtEHnJtGEullXqCwx2V+T1KIef+rcyKNEzc5dkufqmLv3ss9gG9WtCf3bxbpMRuwKT/l3NdXf1Zgpe3Wq8Dmdm9R2JF7lWQTSk7FGBhbSjuY6zdKrDEpqKljR9Wn+9PNK6p7M5lTjeCKuusp3gYmIexYLdO1q3p55BnbsgE8/NbuN166FbdvM27/+ZVZxevY0927r0wd694Z69XzdAilBeRI1d6tKl3ZqvrvnCicj56s8eVoJK80+ZoXXSnLV1RZisfDA0DY8s3hHqWawWTBIqBtVijO9S0lNBaseFoLFvhqorYA/b/gUgLwJfyEiJMTH0YnIeVks0K6deXvwQfj9d1i+HJYuNW9paeZMqlWrzr2mbdtzSU737ubXFbiasQSHiqyKlWYfs8JcdbWN7pHARYl1i81gs0/Z/8+KfWZXmwWuS7QRFx1RIW0piZKaCmQfS2P/8MduXkK7I/vJq16TWnf+1bfBiUjZ1KtnDh4eNcr818qePfDdd7B6NXz/vVnVsd/eeMN8TXi42WXVpQtceKF536lTUA0+lsByvgTKXeJTdAZb4YTnhouaOq187QtKaipI0bE09U/8wYMr3wYgbPrTKk+LBAOLBVq1Mm9//rN5LDMT1qwxE5zVq2HzZjh+3JxCnpLi/Pr4eGjTxqzktGlz7nGTJlrqQXyupAHd7sYRFR435AtKaipAetZJPt9y0GkszcPfvE7NvFxOdOhMjdtv911wIlKxYmLMGVL2MXM2m7n/1KZNZoKzebP5+LffzE03DxyAr792vkZkpLn7eJGbJT6e8D/+gIICdWeJT1X2APLSKlNSM2PGDJ577jkyMjLo3Lkzr776Kj179nR7/oIFC3j00UfZv38/rVq14plnnuGKK87NYDcMg6lTpzJ79myOHTtGnz59+M9//kOrVq0c5xw9epS77rqLzz77DKvVysiRI3n55ZepUQkb03nC1S6xf17/CcO3r6TAYuXkazOoobE0IlWH1QrNm5u3wvu8HT0KO3eaN3t31c6dZnfWyZPw88/mrZBqwBDAuO02c+XjuDhz/6qi9w0bmtXgevWgVi1VfaTK8DipmT9/PpMmTWLmzJn06tWLl156icGDB7Nz504aNGhQ7PzVq1czZswYpk2bxpVXXsncuXMZPnw4GzdupMPZNVqeffZZXnnlFd5++20SExN59NFHGTx4MNu3byciwhxodMMNN5Cenk5ycjL5+fmMGzeOCRMmMHfu3HJ+C8rPvpX8che7yt72w0Ie+WYOANsn3EPHS/r4KEoR8St160JSknkrLD8ffvnFvO3fb95SU2H/fozUVMjIwFJQAAcPmreiXVpFVatmvpc9yYmJMe/r1jUTnpJuNWua09Wt1or6Loh4lcdJzYsvvsj48eMZN24cADNnzuSLL75gzpw5TJ48udj5L7/8MkOGDOH+++8H4MknnyQ5OZnXXnuNmTNnYhgGL730Eo888ghXX301AO+88w4NGzZk0aJFXH/99fz8888sWbKE9evX0717dwBeffVVrrjiCp5//nkaVfBOuyU5V5kJge2bHccvyNjD31bPY/DutQAcf2AKHaf/00dRikjACA0196Jq2bLYU2fy8/nys88Y2q0boZmZZlKTnm7e7I8PHoTDh81ZWrm5cOaM+fXhw2WLx2IxFyiMijJvkZHn7s/3OCLCbE9YmHkr/Ljo1/bHFguRhw6Z7ahe3TweGmpucWG/qfIkbniU1OTl5ZGSksKUKVMcx6xWKwMHDmTNmjUuX7NmzRomTZrkdGzw4MEsWrQIgNTUVDIyMhg4cKDj+ejoaHr16sWaNWu4/vrrWbNmDbVr13YkNAADBw7EarWybt06rrnmmmLve/r0aU6fPu34Ojs7G4D8/Hzy8/M9abZb6VmneH3WYh7Z9CUhRgGhBQXUzzlKq8wDNDuWDoANC9mTH6L6E1PJP3PGK+9b2ezfL2993/yR2hj4gr19YLbNCAkhv359s5upU6eSX3DqlJncZGZiOXoUfv/dcc8ff2A5fhyys82BzNnZWAo9JjvbrAgZhnns+PFKaWMoMOg85xgWi1k9KpzonO9msRQ7ZoSEmNexWNzfzvd84XPgvOdZgG6HDmH53/+w2eNydbMrmsB58vV5zjXK8Vq357ZtS/5ttwHe+3/Rk+t4lNRkZmZSUFBAwyK72DZs2JAdO1xvr56RkeHy/IyMDMfz9mMlnVO0a6tatWrUrVvXcU5R06ZN4/HHHy92fOnSpURFeWdBoN1ZFuKyDvPnlE+LPVdgsfJZu37sve5aWnZpAosXe+U9fSk5OdnXIVQ4tTHwBXv7oBxttFdbmjQ5/7mGQUheHtVyc6mWm0tIXp55O33a6d5qf1zkeMjp01jz87GeOYP1zBksBQWOx9YzZ7CcOYPVfiw/3+l5i/08m+tl3iyGYQ6WLigo2/fBfp1yvbpsrEApvvsB69CFF7K2aVPAe/8v5ubmlvrcoJ39NGXKFKcKUXZ2NvHx8QwaNIhatWp55T3Ss07xxepDzLhoFGesIZyxhnAssiZ76sWzq34z/nvvIIY1ifbKe/lSfn4+ycnJXH755W6XLQ90amPgC/b2QRVsY0iIOcYoP/9cEmO/2WzFjxV53lKa8202sxrl7na+5+2DKF2cZ3FxbkF+Pjt37KBN69aEWK3urwfFd6n05OvKem2R5+o1b87ll1/u1Z9Te09LaXiU1MTExBASEsKhQ4ecjh86dIjY2FiXr4mNjS3xfPv9oUOHiIuLczqnS5cujnMOF+kPPnPmDEePHnX7vuHh4YSHF9/+PDQ01Gu/DBJiQvnrrYOZsrCRy11luyfGeOV9/IU3v3f+Sm0MfMHePqhibXTxezyQ2fLz2bd4MW2vuIKQIP0MjbPdRd76OfXkGh4NaQ8LC6Nbt24sW7bMccxms7Fs2TKSio7gPyspKcnpfDBLUvbzExMTiY2NdTonOzubdevWOc5JSkri2LFjpBQa5b98+XJsNhu9evXypAleN7pHAiv+3o+J7Qv48C+9eH/8Raya3J/RPRJ8GpeIiEhV43H306RJk7j55pvp3r07PXv25KWXXiInJ8cxG+qmm26icePGTJs2DYC7776bSy65hBdeeIFhw4Yxb948NmzYwKxZswCwWCzcc889PPXUU7Rq1coxpbtRo0YMHz4cgHbt2jFkyBDGjx/PzJkzyc/PZ+LEiVx//fU+nflkV5pdZUVERKRieZzUjB49miNHjvDYY4+RkZFBly5dWLJkiWOgb1paGtZCaxr07t2buXPn8sgjj/DQQw/RqlUrFi1a5FijBuCBBx4gJyeHCRMmcOzYMfr27cuSJUsca9QAvPfee0ycOJEBAwY4Ft975ZVXytN2ERERCSJlGig8ceJEJk6c6PK5FStWFDs2atQoRo0a5fZ6FouFJ554gieeeMLtOXXr1vWLhfZERETEP2mZSBEREQkKSmpEREQkKCipERERkaCgpEZERESCgpIaERERCQpKakRERCQoKKkRERGRoKCkRkRERIKCkhoREREJCmVaUTgQGWe3R/dkC/PSys/PJzc3l+zs7KDc+ynY2wdqYzAI9vaB2hgMgr194P022v9u2/+Ol6TKJDXHjx8HID4+3seRiIiIiKeOHz9OdHR0iedYjNKkPkHAZrNx8OBBatasicVi8eq1s7OziY+P58CBA9SqVcur1/YHwd4+UBuDQbC3D9TGYBDs7QPvt9EwDI4fP06jRo2cNsx2pcpUaqxWK02aNKnQ96hVq1bQ/pBC8LcP1MZgEOztA7UxGAR7+8C7bTxfhcZOA4VFREQkKCipERERkaCgpMYLwsPDmTp1KuHh4b4OpUIEe/tAbQwGwd4+UBuDQbC3D3zbxiozUFhERESCmyo1IiIiEhSU1IiIiEhQUFIjIiIiQUFJjYiIiAQFJTXlNGPGDJo1a0ZERAS9evXihx9+8HVIXvOPf/wDi8XidGvbtq2vwyqXb7/9lquuuopGjRphsVhYtGiR0/OGYfDYY48RFxdHZGQkAwcOZPfu3b4JtgzO175bbrml2Gc6ZMgQ3wRbRtOmTaNHjx7UrFmTBg0aMHz4cHbu3Ol0zqlTp7jzzjupV68eNWrUYOTIkRw6dMhHEXumNO279NJLi32Of/3rX30Usef+85//0KlTJ8fibElJSXz55ZeO5wP587M7XxsD/TMsavr06VgsFu655x7HMV98jkpqymH+/PlMmjSJqVOnsnHjRjp37szgwYM5fPiwr0PzmgsuuID09HTHbdWqVb4OqVxycnLo3LkzM2bMcPn8s88+yyuvvMLMmTNZt24d1atXZ/DgwZw6daqSIy2b87UPYMiQIU6f6fvvv1+JEZbfypUrufPOO1m7di3Jycnk5+czaNAgcnJyHOfce++9fPbZZyxYsICVK1dy8OBBRowY4cOoS6807QMYP3680+f47LPP+ihizzVp0oTp06eTkpLChg0buOyyy7j66qv56aefgMD+/OzO10YI7M+wsPXr1/Pf//6XTp06OR33yedoSJn17NnTuPPOOx1fFxQUGI0aNTKmTZvmw6i8Z+rUqUbnzp19HUaFAYyPP/7Y8bXNZjNiY2ON5557znHs2LFjRnh4uPH+++/7IMLyKdo+wzCMm2++2bj66qt9Ek9FOXz4sAEYK1euNAzD/MxCQ0ONBQsWOM75+eefDcBYs2aNr8Iss6LtMwzDuOSSS4y7777bd0FVgDp16hivv/560H1+hdnbaBjB8xkeP37caNWqlZGcnOzUJl99jqrUlFFeXh4pKSkMHDjQccxqtTJw4EDWrFnjw8i8a/fu3TRq1IjmzZtzww03kJaW5uuQKkxqaioZGRlOn2l0dDS9evUKqs90xYoVNGjQgDZt2nD77bfz+++/+zqkcsnKygKgbt26AKSkpJCfn+/0ObZt25aEhISA/ByLts/uvffeIyYmhg4dOjBlyhRyc3N9EV65FRQUMG/ePHJyckhKSgq6zw+Kt9EuGD7DO++8k2HDhjl9XuC7/w+rzIaW3paZmUlBQQENGzZ0Ot6wYUN27Njho6i8q1evXrz11lu0adOG9PR0Hn/8cS6++GK2bdtGzZo1fR2e12VkZAC4/EztzwW6IUOGMGLECBITE9m7dy8PPfQQQ4cOZc2aNYSEhPg6PI/ZbDbuuece+vTpQ4cOHQDzcwwLC6N27dpO5wbi5+iqfQBjx46ladOmNGrUiC1btvDggw+yc+dOFi5c6MNoPbN161aSkpI4deoUNWrU4OOPP6Z9+/Zs3rw5aD4/d22E4PgM582bx8aNG1m/fn2x53z1/6GSGnFr6NChjsedOnWiV69eNG3alA8++IBbb73Vh5FJWV1//fWOxx07dqRTp060aNGCFStWMGDAAB9GVjZ33nkn27ZtC/ixXu64a9+ECRMcjzt27EhcXBwDBgxg7969tGjRorLDLJM2bdqwefNmsrKy+PDDD7n55ptZuXKlr8PyKndtbN++fcB/hgcOHODuu+8mOTmZiIgIX4fjoO6nMoqJiSEkJKTYSO5Dhw4RGxvro6gqVu3atWndujV79uzxdSgVwv65VaXPtHnz5sTExATkZzpx4kQ+//xzvvnmG5o0aeI4HhsbS15eHseOHXM6P9A+R3ftc6VXr14AAfU5hoWF0bJlS7p168a0adPo3LkzL7/8ctB8fuC+ja4E2meYkpLC4cOH6dq1K9WqVaNatWqsXLmSV155hWrVqtGwYUOffI5KasooLCyMbt26sWzZMscxm83GsmXLnPpMg8mJEyfYu3cvcXFxvg6lQiQmJhIbG+v0mWZnZ7Nu3bqg/Ux//fVXfv/994D6TA3DYOLEiXz88ccsX76cxMREp+e7detGaGio0+e4c+dO0tLSAuJzPF/7XNm8eTNAQH2ORdlsNk6fPh3wn19J7G10JdA+wwEDBrB161Y2b97suHXv3p0bbrjB8dgnn2OFDUGuAubNm2eEh4cbb731lrF9+3ZjwoQJRu3atY2MjAxfh+YVf//7340VK1YYqampxvfff28MHDjQiImJMQ4fPuzr0Mrs+PHjxqZNm4xNmzYZgPHiiy8amzZtMn755RfDMAxj+vTpRu3atY1PPvnE2LJli3H11VcbiYmJxsmTJ30ceemU1L7jx48b9913n7FmzRojNTXV+Prrr42uXbsarVq1Mk6dOuXr0Evt9ttvN6Kjo40VK1YY6enpjltubq7jnL/+9a9GQkKCsXz5cmPDhg1GUlKSkZSU5MOoS+987duzZ4/xxBNPGBs2bDBSU1ONTz75xGjevLnRr18/H0deepMnTzZWrlxppKamGlu2bDEmT55sWCwWY+nSpYZhBPbnZ1dSG4PhM3Sl6IwuX3yOSmrK6dVXXzUSEhKMsLAwo2fPnsbatWt9HZLXjB492oiLizPCwsKMxo0bG6NHjzb27Nnj67DK5ZtvvjGAYrebb77ZMAxzWvejjz5qNGzY0AgPDzcGDBhg7Ny507dBe6Ck9uXm5hqDBg0y6tevb4SGhhpNmzY1xo8fH3BJuKv2Acabb77pOOfkyZPGHXfcYdSpU8eIiooyrrnmGiM9Pd13QXvgfO1LS0sz+vXrZ9StW9cIDw83WrZsadx///1GVlaWbwP3wJ///GejadOmRlhYmFG/fn1jwIABjoTGMAL787MrqY3B8Bm6UjSp8cXnaDEMw6i4OpCIiIhI5dCYGhEREQkKSmpEREQkKCipERERkaCgpEZERESCgpIaERERCQpKakRERCQoKKkRERGRoKCkRkRERIKCkhoREREJCkpqREREJCgoqREREZGgoKRGREREgsL/A/7OXc0J15IEAAAAAElFTkSuQmCC\n"
=======
            "image/png": "iVBORw0KGgoAAAANSUhEUgAAAjUAAAGdCAYAAADqsoKGAAAAOXRFWHRTb2Z0d2FyZQBNYXRwbG90bGliIHZlcnNpb24zLjcuMSwgaHR0cHM6Ly9tYXRwbG90bGliLm9yZy/bCgiHAAAACXBIWXMAAA9hAAAPYQGoP6dpAABwkUlEQVR4nO3deVxU9frA8c+ZYXcBFQVUEFTcciu3ULNMc+9mmqF2y/yZ3VvZrbwtWmmL3bQ9Lcur7d1Ms9QWzUTNLdFcU3NJDcMSUFxAQQSZ8/vjOCMDM8DADGfm8Lxfr2kOZ86c8/3Owebhuz2KqqoqQgghhBA+zqR3AYQQQggh3EGCGiGEEEIYggQ1QgghhDAECWqEEEIIYQgS1AghhBDCECSoEUIIIYQhSFAjhBBCCEOQoEYIIYQQhuCndwGqisVi4fjx49SqVQtFUfQujhBCCCHKQVVVzp07R8OGDTGZSm+LqTZBzfHjx4mOjta7GEIIIYSogGPHjtG4ceNSj6k2QU2tWrUA7UOpXbu2W89dUFDAypUr6devH/7+/m49tzcwev1A6mgERq8fSB2NwOj1A/fXMTs7m+joaNv3eGmqTVBj7XKqXbu2R4KakJAQateubchfUqPXD6SORmD0+oHU0QiMXj/wXB3LM3REBgoLIYQQwhAkqBFCCCGEIUhQI4QQQghDqDZjaoQQQvguVVW5dOkShYWFehelUgoKCvDz8yMvL8/n6+KMq3U0m834+fm5ZbkVCWqEEEJ4tfz8fNLS0sjNzdW7KJWmqiqRkZEcO3bMsGumVaSOISEhREVFERAQUKlrS1AjhBDCa1ksFlJSUjCbzTRs2JCAgACfDgYsFgvnz5+nZs2aZS4k56tcqaOqquTn53Py5ElSUlKIj4+v1OciQY0QQgivlZ+fj8ViITo6mpCQEL2LU2kWi4X8/HyCgoIMHdS4Usfg4GD8/f35448/bO+rKGN+okIIIQzFqAGA0Ljr/spviRBCCCEMQYIaIYQQQhiCBDVCCCFEFbnxxhuZPHmy3sUwLAlqhBBCCC+0du1aFEXh7NmzehfFZ8jsJ6GPnBzYuhV+/hny8qBTJ+jWDcLD9S6ZEMLA0rIukJKZQ1x4DaJCg/UujnAzaakRVctigdmzITISeveGJ56AZ56BIUO0fQ89BFlZepdSCGFAC7em0mPGGkbP20KPGWtYuDXVo9fLycnhrrvuombNmkRFRfHaa6/Zvf7pp5/SuXNnatWqRWRkJKNHj+bEiRMAHD16lN69ewNQp04dFEXh7rvvBmDFihX07NmTsLAw6tWrx5AhQzhy5IhH6+IrJKgRVef4cbjxRpgwAc6fh0aN4Lbb4M47oVUrKCyEWbO07ZUr9S6tEMJA0rIuMHnxHiyq9rNFhScX7yUt64LHrvnYY4+xbt06vv76a1auXMnatWvZsWOH7fWCggKmTZvGL7/8wtKlSzl69KgtcImOjuarr74C4ODBg6SlpTFz5kxAC5YmTpzItm3bWL16NSaTiVtvvRWLxeKxuvgK6X4SVSMrC/r3h717oUYNeOkluO8+KLo2wapV8MAD8NtvcPPNsGgR/O1v+pVZCGEYKZk5toDGqlBVOZqZ65FuqPPnz/P+++/zv//9jz59+gDw8ccf07hxY9sx//d//2fbbtq0KbNmzaJLly621Xjr1q0LQIMGDQgLC7MdO3z4cLtrffDBB9SvX599+/bRtm1bt9fFl0hLjfC8ixfh1lu1gCYqCnbu1IKX4ost9e0Lu3drrTf5+TB8OCxerE+ZhRCGEhdeA1Ox7ApmRSE23DOrFB85coT8/Hy6detm21e3bl1atmxp+3n79u3cfPPNxMTEUKtWLa6//noAUlNL7xY7dOgQo0aNomnTptSuXZvY2Nhyva86kKBGeN6DD8KPP0KtWrB8OcTHOz82MBA+/xxGjYJLl+COO7RARwghKiEqNJjpw9phvpw3yqwovDisrW6DhXNycujfvz+1a9fms88+Y+vWrSxZsgTQUkOU5uabb+b06dPMmzePLVu2sGXLlnK9rzqQ7ifhWevWwbx5oCjw5ZfQsWPZ7/Hzg08/hbNn4fvvtZabbdugdm1Pl1YIYWCJXWLo1aI+RzNziQ0P8WhA06xZM/z9/dmyZQsxMTEAnDlzht9++41rr72WAwcOcOrUKWbMmEF0dDQA27ZtszuHNWN1YWGhbd+pU6c4ePAg8+bN47rrrgNg48aNHquHr5GWGuE5+fnauBmAf/wD+vUr/3vNZvjkE2jcGA4dgnvvBVUt+31CCFGKqNBgEprV83gLTc2aNRk3bhyPPfYYa9asYe/evdx99922HEcxMTEEBATw1ltv8fvvv/PNN98wbdo0u3M0adIERVH47rvvOHnyJOfPn6dOnTrUq1ePuXPncvjwYdasWcPEiRM9WhdfIkGN8JxXX4X9+6FBA5g+3fX3h4fDwoVay83ChVpLjxBC+IhXXnmF6667jptvvpm+ffvSs2dPOnXqBED9+vX56KOPWLRoEW3atGHGjBm8+uqrdu9v1KgRzz33HJMmTSIiIoIJEyZgMplYsGAB27dvp23btjzyyCO88sorelTPK0n3k/CMjAx44QVt+403oMjIfZd07w5PPgnPPw+PPAIDBmhjc4QQwsvVrFmTTz/9lE8//dS279///jfZ2dkAjBo1ilGjRtm9Ry3WIj1lyhSmTJlit69v377s27ev1PdVV9JSIzxj5ky4cAG6dtUG/VbGpEnQtCn89Rc895x7yieEEMJwKhTUzJ49m9jYWIKCgujWrRs///xzqccvWrSIVq1aERQURLt27Vi+fLnttYKCAp544gnatWtHjRo1aNiwIXfddRfHjx+3O8fp06e54447qF27NmFhYYwbN47z589XpPjC07KytFWDQWtlUZTSjy9LcDC89Za2/eab2tRwIYQQohiXg5qFCxcyceJEnnnmGXbs2EGHDh3o37+/bWnn4jZt2sSoUaMYN24cO3fuZOjQoQwdOpS9l7+YcnNz2bFjB1OmTGHHjh0sXryYgwcP8rdii67dcccd/PrrryQlJfHdd9+xfv167r333gpUWXjcu+9Cdja0aaMtoucOgwbB0KHaqsNPPumecwohhDAUl4Oa119/nfHjxzN27FjatGnDnDlzCAkJ4YMPPnB4/MyZMxkwYACPPfYYrVu3Ztq0aVxzzTW8/fbbAISGhpKUlMTtt99Oy5Ytufbaa3n77bfZvn27bSGh/fv3s2LFCt577z26detGz549eeutt1iwYEGJFh2hswsXtNYU0PI6FV9grzJmzNDO9+23cHldBiGEEMLKpYHC+fn5bN++ncmTJ9v2mUwm+vbtS3JyssP3JCcnl5hu1r9/f5YuXer0OllZWSiKYlsWOjk5mbCwMDp37mw7pm/fvphMJrZs2cKtt95a4hwXL17k4sWLtp+tA7MKCgooKCgos66usJ7P3ef1Fq7UT5k/H7+MDNSYGC7ddhu48zNp2hTz3/+O6ZNPsDz9NIVFujEry+j3EIxfR6PXD6pnHQsKClBVFYvFYojcRtYBvdY6GVFF6mixWFBVlYKCAsxms91rrvy+uxTUZGZmUlhYSEREhN3+iIgIDhw44PA96enpDo9PT093eHxeXh5PPPEEo0aNovblxdbS09Np0KCBfcH9/Khbt67T80yfPp3nHAwqXblyJSEhnlkWOykpySPn9RblqV+PN94gHNh/3XUc8sDnEdKjB33mz8e0ahWbXn6ZU27Oc2L0ewjGr6PR6wfVq45+fn5ERkZy/vx5Q62Ye+7cOb2L4HGu1DE/P58LFy6wfv16Ll26ZPdabm5uuc/jVVO6CwoKuP3221FVlXfffbdS55o8ebJdC1F2djbR0dH069fPFiy5S0FBAUlJSdx00034+/u79dzeoNz1O3IE/19/RTWZiJ82jfgiidvcSd2xA/77X7qvWkXh44+75ZxGv4dg/DoavX5QPeuYl5fHsWPHqFmzJkFBQXoXr9JUVeXcuXPUqlULpbKTKLxUReqYl5dHcHAwvXr1KnGfrT0t5eFSUBMeHo7ZbCYjI8Nuf0ZGBpGRkQ7fExkZWa7jrQHNH3/8wZo1a+wCj8jIyBIDkS9dusTp06edXjcwMJDAwMAS+/39/T32PwNPntsblFm/zz4DQLnpJvzj4jxXkKeegvffx7R2Labdu+HyYlbuYPR7CMavo9HrB9WrjoWFhSiKgslksq3G68us3THWOhlRRepoMplQFMXh77Yrv+sufaIBAQF06tSJ1atX2/ZZLBZWr15NQkKCw/ckJCTYHQ9as2LR460BzaFDh1i1ahX16tUrcY6zZ8+yfft22741a9ZgsVjsMqAKHRUWwscfa9tjx3r2WtHRkJiobRdbgVMIIXzB0aNHURSFXbt2OT3mo48+so0tFeXjcpg4ceJE5s2bx8cff8z+/fu57777yMnJYezlL7K77rrLbiDxQw89xIoVK3jttdc4cOAAzz77LNu2bWPChAmAFtDcdtttbNu2jc8++4zCwkLS09NJT0+39Z+2bt2aAQMGMH78eH7++Wd++uknJkyYwMiRI2nYsKE7PgdRWatXw7FjUKcO3HKL56/36KPa86JFcPSo568nhBBVLDExkd9++03vYvgUl4OaxMREXn31VaZOnUrHjh3ZtWsXK1assA0GTk1NJS0tzXZ89+7dmT9/PnPnzqVDhw58+eWXLF26lLaXB3j+9ddffPPNN/z555907NiRqKgo22PTpk2283z22We0atWKPn36MGjQIHr27MncuXMrW3/hLpe7nhg1Cqqi37tjR+jbV2shsk4hF0IIAwkODi4xScYX6Dmgu0IdehMmTOCPP/7g4sWLbNmyxa4LaO3atXz00Ud2x48YMYKDBw9y8eJF9u7dy6BBg2yvxcbGoqqqw8cNN9xgO65u3brMnz+fc+fOkZWVxQcffEDNmjUrUnzhbgUF2toxcKVbqCpYW2vee09b7E8IIbyIxWLh5Zdfpnnz5gQGBhITE8OLL75od8zvv/9O7969CQkJoUOHDnbLo5TV/ZSfn8+ECROIiooiKCiIJk2aML1I8uBDhw7ZBt62adOGpKQkFEWxLamydu1aFEXh7Nmztvfs2rULRVE4erkF/NSpU4waNYpGjRoREhJCu3bt+Pzzz+3KccMNNzBhwgQefvhhwsPDGThwIAB79+5l4MCB1KxZk4iICO68804yMzMr8EmWnzFHKYmqtX49nDkD9etDjx5Vd91+/aBVK8jJgf/9r+quK4TQl6pq/+71eLiQOHLy5MnMmDGDKVOmsG/fPubPn1+i5eWpp57i0UcfZdeuXbRo0YJRo0aVmNLszKxZs/jmm2/44osvOHjwIJ999hmxsbGAFlANGzaMgIAAtmzZwpw5c3jiiSfKXXarvLw8OnXqxLJly9i7dy/33nsvd955Z4n0SB9//DEBAQH89NNPvPPOO2RlZdG3b1+uvvpqtm3bxooVK8jIyOD22293uQyu8Kop3cJHLVmiPf/tb1Bs0SSPUhT45z/h4Ye11Az33Vf5PFNCCO+Xmwt6tdSfPw81apR52Llz55g5cyZvv/02Y8aMAaBZs2Z0797dboryo48+yuDBgwF47rnnuOqqqzh8+DCtWrUq8xqpqanEx8fTs2dPFEWhSZMmttdWrVrFgQMH+OGHH2xjT1988UVbK0p5NWrUiEetreLAgw8+yA8//MAXX3xB165dbfvj4+N5+eWXAS2gsg5RKdoy9cEHHxAdHc1vv/1GixYtXCpHeUlLjagci+VKUONgZWePGzNGS3i5dy/89FPVX18IIRzYv38/Fy9epE+fPqUe1759e9t2VFQUgNNcisXdfffd7Nq1i5YtW/Kvf/2LlStX2l0/OjrabjKNs1nKpSksLGTatGm0a9eOunXrUrNmTX744QdbGiOrTsWW1ti7dy9r166lZs2atoc1UDty5IjL5SgvaakRlbN1Kxw/rv3VVMY/Xo8IC9MGJ3/wgdZa07Nn1ZdBCFG1QkK0FhO9rl0OwcHB5Tqu6Bos1oXqypta4JprriElJYXvv/+eVatWcfvtt9O3b1++/PLLcr3fuoaMWqRLrXhKgldeeYWZM2fy5ptv0q5dO2rUqMHDDz9cYjBwjWKtV+fPn2fIkCG21puirMGbJ0hQIyrH2kozaFDVzHpy5L77tKDmyy+1mVD16+tTDiFE1VCUcnUB6Sk+Pp7g4GBWr17NPffc47Hr1K5dm8TERBITE7ntttsYMGAAp0+fpnXr1hw7doy0tDRbELF582a799a//P/KtLQ06tSpA1Bi3ZyffvqJW265hb///e+AFnD99ttvtGnTptRydejQgWXLlhEbG4ufX9WFGtL9JCrnm2+0Zz26nqw6d9Ye+flXppYLIYSOgoKCeOKJJ3j88cf55JNPOHLkCJs3b+b999932zVef/11Pv/8cw4cOMBvv/3GokWLiIyMJCwsjL59+9KiRQvGjBnDL7/8woYNG3jqqafs3t+8eXOio6N59tlnOXToEMuWLeO1116zOyY+Pp6kpCQ2bdrE/v37+cc//lEiS4Aj99xzD6dPn2bUqFFs3bqVI0eO8MMPPzB27FgKCwvd9hkUJ0GNqLhjx2D/fjCZoH9/fcvyf/+nPX/4oUuzE4QQwlOmTJnCv//9b6ZOnUrr1q1JTEzk5MmTbjt/rVq1ePnll+ncuTNdunTh6NGjLF++3JZSYsmSJVy4cIGuXbtyzz338J///Mfu/f7+/ragqH379rz00ku88MILdsc8/fTTXHPNNfTv358bbriByMhIhg4dWmbZoqKi2LBhA4WFhfTr14927drx8MMPExYW5tH0ENL9JCrOmim4SxdtJWE9jRwJjzwCu3fDzp1wzTX6lkcIUe2ZTCaeeuopuxYSi8VCdna2bY22osLCwuz23X333dx9991Ozz9+/HjGjx/v9PUWLVqwYcOGUsvYo0cPdu/ebbevaBnq1q1rW9fGmbVr1zrcHx8fz+LFi0t9r7tJS42oOGtQ06+fvuUALaiy/vXw4Ye6FkUIIYQ+JKgRFWOxwKpV2vZNN+lbFitrIs358+HiRX3LIoQQospJ95OomF27IDNTm8p97bV6l0bTty80agR//aWlbbjtNr1LJIQQXqV4l5fRSEuNqBjrIk+9e0ORdRZ0ZTbDnXdq25I2QQghqh0JakTFeNN4mqIur6XA8uVaPiohhBDVhgQ1wnW5ubBxo7btLeNprK66Ctq31zKHl3NVTSGE9zN6t0l15677K0GNcN3mzdpCd40agYeSklXK6NHa8/z5+pZDCFFp1jQCubm5OpdEeJL1/vpXcjiDDBQWrrO20lx3nXdmxR45EiZNgnXr4M8/oXFjvUskhKggs9lMWFiYLcljSEiILUeSL7JYLOTn55OXl+fRRej05EodVVUlNzeXEydOEBYWhtlsrtS1JagRrrMu5nTddfqWw5kmTbSybdgACxfCv/+td4mEEJUQGRkJlD97tTdTVZULFy4QHBzs08FZaSpSx7CwMNt9rgwJaoRrLl2C5GRt21uDGtC6oDZsgM8/l6BGCB+nKApRUVE0aNCgRBZpX1NQUMD69evp1atXpbtavJWrdfT39690C42VBDXCNTt3Qk6OtoLvVVfpXRrnhg+HBx6A7dvh6FGIjdW7REKISjKbzW778tOL2Wzm0qVLBAUFGTao0bOOxuzQE55j7Xrq0UNLZOmt6teH66/Xtr/6St+yCCGEqBJe/K0kvJK3j6cpavhw7VmCGiGEqBYkqBHlp6r2M5+83a23as/JydosKCGEEIYmQY0ovwMHtHxPwcHQqZPepSlbw4ZaNxnAkiX6lkUIIYTHSVAjyk2xznrq2hUCAvQtTHlZu6BkdWEhhDA8CWpEuZm2btU2EhL0LYgrrEHNhg2QkaFvWYQQQniUBDWi3JSff9Y2unbVtyCuiImBLl208UDSBSWEEIYmQY0oF3NeHvz6q/aDLwU1ILOghBCimpCgRpRL6JEjKBaLlsSyUSO9i+Maa1Dz449w6pS+ZRFCCOExEtSIcqlz6JC24WutNADNm0OHDlBYCF9/rXdphBBCeIgENaJc6vz2m7bhi0ENwG23ac/SBSWEEIYlQY0oF59uqYErXVBJSXD2rK5FEUII4RkS1IiyZWQQcvIkqqJA5856l6ZiWrfWHgUFsGyZ3qURQgjhARLUiDIp27ZpG61aQe3a+hamMoYO1Z6//VbXYgghhPAMCWpEmazr06hduuhckkq6+WbtecUKyM/XtyxCCCHcToIaUSZl504AVF/I91Sarl2hQQPIyrqSbVwIIYRhSFAjymQLaq6+WueSVJLZDIMHa9vSBSWEEIYjQY0oXVoaSkYGqsmE2q6d3qWpvL/9TXv+5hstdYIQQgjDkKBGlO5yK835hg2hRg2dC+MGN90EgYGQkgL79uldGiGEEG4kQY0o3eWg5mzTpjoXxE1q1IA+fbTtb77RtyxCCCHcSoIaUbrLQU2WUYIauNIFJeNqhBDCUCSoEaWzBjVxcToXxI2GDNGeN2+GEyf0LYsQQgi3kaBGOHf2LPz+O2CwlppGjaBTJ22gsKwuLIQQhiFBjXBu1y4A1CZNKKhVS9+yuJt1IT4ZVyOEEIYhQY1wzro+TYcOOhfEA6zjalauhLw8fcsihBDCLSSoEc5Zg5qOHfUthyd07AiNG0NuLqxZo3dphBBCuIEENcI5Iwc1inKlC0pmQQkhhCFIUCMcy8+HAwcAg3Y/wZWg5rvvZHVhIYQwAAlqhGMHDsClSxAaqnXTGNENN0BwMPz5J+zdq3dphBBCVJIENcKxPXu053bttK4aIwoOht69ATD98IPOhRFCCFFZEtQIx4oGNUY2aBAAyooVOhdECCFEZUlQIxyrLkHNwIEAKJs24ZeTo3NhhBBCVIYENcKx3bu1Z6MHNU2bQsuWKJcuUf+XX/QujRBCiEqQoEaUdOaMNngWoG1bfctSFS53QUVs365zQYQQQlSGBDWiJOtMoOhoCAvTtShV4nIXVMSOHTK1WwghfJgENaIkN4+nScu6wKYjmaRlXXDL+dyuVy/UkBCCzpwB6YISQgifJUGNKMmNQc3Cran0mLGG0fO20GPGGhZuTa30Od0uMBBVpnYLIYTPk6BGlFTJoMbaMrN6fzqTFu/BcrlHx6LC5K/28N3u417XaqNaZ0HJ1G4hhPBZfnoXQHgZVb0ypqYCQc3CralMLhLIFGcBJszfiUmB6cPakdglpuJldSNL//6YASU5WRsoXaeO3kUSQgjhImmpEfaOHYOsLPDzg1atyjy86HiZtKwLpQY0RVlUeHLxXu9psWnShOzoaBSLBZKS9C6NEEKICpCWGmFv3z7tuUULCAgo9dCirTImBe7pGVeugMaqUFU5mplLVGhwJQrsPhmdOlH72DFYvhxuv13v4gghhHCRtNQIe9agpk2bUg8r3ipjUeG9DSmYnKSJUiiZQsqsKMSGh1SuvG504pprtI0VK8Bi0bcwQgghXCZBjbBXzqBm+x9nSrTKWICRXWIwF4tezIrCjOHtmDGsne01s6Lw4rC2XtNKA3CqdWvUmjUhIwN27tS7OEIIIVwk3U/C3v792nMpQc3CralM+mqPw9cWbE3liQGtaN84jJAAE7n5FmLDQ2zBS68W9TmamWu3z1uo/v6oN96I8s038P330KmT3kUSQgjhAmmpEVeoapktNdZuJ2dDZywqvLziILHhIXSIrkNCs3p2wUtUaHCJfd7EcnlqN8uX61sQIYQQLpOgRlyRng5nz4LJpA0UdiAlM6fMwcDWAcC+SO3fX9vYvBlOndK3MEIIIVwiQY24wtpK06wZBAY6PCQuvIbTwcBW3jYA2CWNG2vr86gqrFypd2mEEEK4QIIacUU5xtNEhQYzvdiA3+HXNPLqAcAuu5y1W7qghBDCt8hAYXFFOWc+JXaJKTHg99H+Lb12ALDLBg6El166MrXbJLG/EEL4AglqxBXlDGpAa7EpPgDYlWAmLesCKZk5xIXX8L4gqHt3qF0bMjNh2zbo2lXvEgkhhCiHCv0JOnv2bGJjYwkKCqJbt278/PPPpR6/aNEiWrVqRVBQEO3atWN5sWb9xYsX069fP+rVq4eiKOzatavEOW644QYURbF7/POf/6xI8YUzLgQ1lVE0c3f36Wt4cdk+u3QJRVMv6MLfH266SduWLighhPAZLgc1CxcuZOLEiTzzzDPs2LGDDh060L9/f06cOOHw+E2bNjFq1CjGjRvHzp07GTp0KEOHDmWvNWkikJOTQ8+ePXnppZdKvfb48eNJS0uzPV5++WVXiy+cycyEkye1ZX/LkfOpooqvRKwCczek2IKb/64/Ygt4esxYw8KtqR4rS6msU7sla7cQQvgMl7ufXn/9dcaPH8/YsWMBmDNnDsuWLeODDz5g0qRJJY6fOXMmAwYM4LHHHgNg2rRpJCUl8fbbbzNnzhwA7rzzTgCOHj1a6rVDQkKIjIx0tciiPKyDhJs0gRD7mUtpWXkcylJIy8ojJty/UpdxNiXcGtwUZU162atF/arvohowQHv++Wct4AsPr9rrCyGEcJlLQU1+fj7bt29n8uTJtn0mk4m+ffuSnJzs8D3JyclMnDjRbl///v1ZunSpy4X97LPP+N///kdkZCQ333wzU6ZMISTE8dThixcvcvHiRdvP2dnZABQUFFBQUODytUtjPZ+7z1uVTHv2YAYsrVpRWKQei7b/ydNf78Oimnln/3oe6xdP24ahNKkXQlRokMvXaRwaiEmh3IkvC1WVIxnZhId4dvhXiXvYoAF+7dqh7NnDpe+/Rx050qPXrwpG+D0tjdHrB1JHIzB6/cD9dXTlPC59U2RmZlJYWEhERITd/oiICA4cOODwPenp6Q6PT09Pd+XSjB49miZNmtCwYUN2797NE088wcGDB1m8eLHD46dPn85zzz1XYv/KlSudBkKVlZSU5JHzVoW2K1bQDPg9IIBfL48j+eMcvLHXjIo2Xduiwks//AYoKKgkNrWQEOFCWu7Lbo9TWPC7CShjwRtAQeXIrs2c2u/yZSqk6D1s07w58Xv2kPbBB+yoXbtqClAFfPn3tDyMXj+QOhqB0esH7qtjbm75F3P1mdlP9957r227Xbt2REVF0adPH44cOUKzZs1KHD958mS7FqLs7Gyio6Pp168ftd38BVVQUEBSUhI33XQT/v6V657Ri/lyV2DsgAE0GTSIRdv/5I3kfQ7SIWiBiIrCFylm7h/Wy+UWm0HA/Vl5fLL5D97f+IfTlAsmBV645SpGdGrs0vkrwtE9VGrUgCVLaLxvH5EDBvj81G4j/J6Wxuj1A6mjERi9fuD+Olp7WsrDpaAmPDwcs9lMRkaG3f6MjAynY10iIyNdOr68unXrBsDhw4cdBjWBgYEEOlgV19/f32O/SJ48t8f99hsAflddRVruJZ7+2lFAY8+iwl9Z+cSE13L5cjHh/jw9pC3jrmvGhxuP8t7G37Go2uJ9jw9oSfvGYbqseWN3D3v1gpo1UU6cwH/vXsMkuPTp39NyMHr9QOpoBEavH7ivjq6cw6U/PQMCAujUqROrV6+27bNYLKxevZqEhASH70lISLA7HrQmKWfHl5d12ndUVFSlziOAvDxIuTxIt2XLcuV3AvekQ4gKDebJwa35adKNfD7+WjZO6s0/rm9GQrN6APpO7Q4IgD59tG2ZBSWEEF7P5e6niRMnMmbMGDp37kzXrl158803ycnJsc2Guuuuu2jUqBHTp08H4KGHHuL666/ntddeY/DgwSxYsIBt27Yxd+5c2zlPnz5Namoqx48fB+DgwYOA1soTGRnJkSNHmD9/PoMGDaJevXrs3r2bRx55hF69etG+fftKfwjV3uHDWq6j0FBo0IC4oDwHg3lV7ru+KXPXH6VQVd2eDqH44n0Lt6bapn6bFJg+rB2JXWLcci2XDBwIX38N338PTz1V9dcXQghRbi4HNYmJiZw8eZKpU6eSnp5Ox44dWbFihW0wcGpqKqYiYw+6d+/O/Pnzefrpp3nyySeJj49n6dKltG3b1nbMN998YwuKAEZenmnyzDPP8OyzzxIQEMCqVatsAVR0dDTDhw/n6aefrnDFRRGXg0hatgRFseV3enLxXgpVFZMCt8dZmNg3nru6x3k8HULxtWy8Ymp3cjKcOQN16lTt9YUQQpRbhQYKT5gwgQkTJjh8be3atSX2jRgxghEjRjg93913383dd9/t9PXo6GjWrVvnajFFeRUNai4rmt+pUWgAO39aA7ieDqEiHHV/FaoqRzNzqz6oadIEWrfW1vFZtQpK+T0WQgihL9+eziHcwzodv0hQA1oAk9CsXoXWo6mMuPAamIrN9nbH+J0Ks7bWyLgaIYTwahLUiCstNR5Mj+AKa/eXWdEiG3eP33FZ0ZQJquvr8gghhKgaPrNOjfAQVS3R/eQNGbSLdn/pMbXbznXXaakjjh+HPXtABqcLIYRXkqCmujtxArKytESWzZs7nHU0rKM+0+arYvxOuQQFQe/esGyZNgtKghohhPBK0v1U3VnH08TGknZRdTjrKC0rT7/yeQsZVyOEEF5PgprqrkjXk7NZR6mny593w5PSsi7otxifdVzNxo3gwpLdQgghqo4ENdVdkUHCzmYdxdTVadZREQu3ptJjxhpGz9tCjxlrWLg1tWoL0KwZNG8Oly7BmjVVe20hhBDlIkFNdWcNalq0AGBczzhbYHNl1lHVTukuztlifFXeYmNtrfn++6q9rhBCiHKRgcLV3eHDAPxoCWXcjDVYVC0P97294hjbI46o0GAKCgp0LaLXLMY3YAC89daVqd2KUvZ7hBBCVBlpqanOLl2C338HYMqvF22Bgwq8v+GobsUqzmsW47vhBggMhNTUKwOshRBCeA0JaqqzY8egoABLQCB/1Qq3e8naEuINvGYxvpAQuP56bVu6oIQQwutI91N1dugQAIVxcSgmk91iubqmJXDAaxbjGzgQVq7UuqAmTtSnDEIIIRySlprq7PJ4Gv+WLbyjJaQMV3JR6Vgu63o169ZBTo5+5RBCCFGCtNRUZ5dbamje3HtaQhzwhrQNNi1bQmwsHD0Ka9fC4MH6lkcIIYSNtNRUZ5dbaoiPB7ykJaQY3denKU5RrrTWyLgaIYTwKhLUVGdFWmq8kdesT1Nc0azdQgghvIYENdVVYaFtOre1pcbblLY+ja4pE3r3Bn9/OHLkSmAohBBCdzKmprpKTYWCAggIgMaN9S6NQ9b1aSzFZmXt/ussd7y32S6TeGKXmKorWK1acN11WrqEFSu8NigUQojqRlpqqivreJpmzcBs1rcsTjhan+bxAS156fsD+ndJybgaIYTwOtJSU11ZgxovHU9jVXxWltekTBg4EB5/XJsBdeECBHvP4GohhKiupKWmuro8FuR8TJx+Y1PKqeisLK9JmXDVVdCokRbQrF9ftdcWQgjhkAQ11dXllpqXDl3ynunS5eAsZQJQtcFZ0andMgtKCCG8gnQ/VVOXDv6GH/B7nYbAlbEpvVrU96p1ahwp3iW1/reT9LicYbxKBw4PHAjvv6+Nq3njDc9fTwghRKmkpaY6KizElJICwB91oq7s9qIklmWxdkmdyM5jkl5r2fTpow2yPngQLn+eQggh9CNBTXV07Bimgnwumv04XiQ7t7clsSzLwq2pDJ29yS4RJ1RhcBYWBt27a9vSBSWEELqToKY6ujye5mJ0ExSz1gPprUksnbGuNqw6eK1KgzMZVyOEEF5DxtRUR5dnPtVu25qNk3p7ZRLLsjia2g2gAON6xlZdQQYOhKeegtWr4eJFCAysumsLIYSwIy011VGRRJbemMSyPBxN7VYu/2fuhpSqm83VoQNEREBODvz0k+evJ4QQwikJaqojL09kWR7Fp3Zbf5HVqh4wbDLJ6sJCCOElJKipjoq01PiyxC4xbJzUm8/HX8us0VeXGF9TZQOGZVyNEEJ4BRlTU90UFmrZpcGnW2qsokKDiQoNJi3rgsPkl7HhIaRlXSAlM4e48Bqe6Wa76SatxWbvXvjzT69NECqEEEYnLTXVzZ9/Qn4++PtDTBVmtvYwZysNWxfm8+iqyfXqQdeu2ra01gghhG6kpaa6sXY9NW3qtdm5K6r4SsOAbaVh8PCqyQMHwubNWlBzzz3uPbcQQohykZaa6sY6SNjHx9M4U3Q2V2kZvd3OOq4mKQkKCtx/fiGEEGWSoKaaOf/rAQBORjT2+uzclVWlGb07d4bwcMjO1lpshBBCVDkJaqqRhVtTSV6hfeHOTFV8Kjt3RTgbZ+ORwcImE/Trp23L1G4hhNCFjKmpJqxpBVacSQOuJLL0pezcFVF8nI1H6zhwIMyfr42refFFz11HCCGEQxLUVBMpmTmoFgtNzmpBTUqdhrbXrONMjBjUwJVp3x5nbanZuRPS0iAqqvTjhRBCuJV0P1UTceE1aHQuk8DCAvJNfqTVrm97zdeyc5dXWtaFqh031KCBNrYGZGq3EELoQIKaaiIqNJhpbYMAOBYWQaFJm87ta9m5y2vh1lTPr0/jyJAh2vN331XN9YQQQthI91M10jsgB4C67Vrz9QPdyc23+Fx27vKwjh+qkvVpihsyBJ59FlaulKzdQghRxaSlpjr5/XcA6rRtSYfoOj6Znbs8qnR9muKuvlobS3P+PKxf7/nrCSGEsJGgpjqx5nxq1kzfcnhYla5PU5zJBIMHa9vSBSWEEFVKgprq5HJLDU2b6lsOD6vS9WkcsY6r+fZbUIvnDhdCCOEpMqamOqkmQQ1U8fo0xfXpAwEBkJICBw5A69ZVd20hhKjGpKWmujh7Fk6f1rbj4nQtSlUpmgeqStWsCb17a9vSBSWEEFVGgppq4uQv+wAobNBA+9IVniVTu4UQospJUFMNLNyayrNvfgvALv+6hs315FWsg4V/+ulKC5kQQgiPkqDG4KxrtkSfSQcgNTSSJxfvNXR2bq8QFwdXXQWFhfDDD3qXRgghqgUJagzOumZLzNnLQU1YVNWt2eJlqjxtgnRBCSFElZLZTwZnXbMl2hbURBo211NpFm5Nta0ybFLgiQGtaNc4lLjwGp4bSDxkCLz0Enz/PVy6BH7yz00IITxJ/i9rcNY1W5q8q2Xn/rNOpCFzPZXGUdqE6d8fALQAZ/qwdgzr6IGM2tdeC3XramNqkpPhuuvcfw0hhBA20v1UDSR2jCL6fCYAs54eTmKXGJ1LVLUcpU2wsuaFSsvKc/+F/fxg4EBte9ky959fCCGEHQlqqoNjx1AKCyEoiIgW1WONmqIcpU0oqlBVST3toTFGMq5GCCGqjAQ11YE151NcnJabqJopnjahOLOiEFPXQ2OM+vcHsxl+/VVbYVgIIYTHVL9vuOqoGqVHcCaxSwwbJ/Xm8/HXMnlQKwd5oYI8c+E6daBHD21buqCEEMKjZKBwdWANagyenbssUaHBttQJf+vQ0C4vVEFBgecuPGQIrF+vdUFNmOC56wghRDUnLTXVgbTUlFCleaGs42p+/BHOn/f89YQQopqSoKY6sI6pkaBGH61aaZ99fj6sWqV3aYQQwrAkqDE6Vb0S1FTz7ifdKIrMghJCiCogQY3RnTkD2dnadmysrkWp1qxBzbJlYLHoWxYhhDAoCWqMztpKExUFIdUrNYJX6dULatWC9HTYulXv0gghhCFJUGN0MkjYOwQGXlldeOlSXYsihBBGJUGN0cl0bu8xdKj2/PXXuhZDCCGMSoIao5OZT+WSlpXHoSzFMzmgrAYNAn9/2L8fDh703HWEEKKakqDG6KT7qUwLt6Zyw2vreXufmRteW8/CrameuVBoKNxwg7YtrTVCCOF2EtQYnXQ/lSot6wKTF++xZfG+krX7gmcuaO2CknE1QgjhdhLUGFl+Phw7pm1LS41DKZk5toDGqlBVOZrpoazdf/ub9rx5szYTSgghhNtIUGNkf/yhrYkSEgIREXqXxivVCDBTPHm3CQgJ8NA/jcaNoUsXbVHEb7/1zDWEEKKakqDGyIqOpyn+zS1YuDWVW9/ZhFqspcYC3PrOJs+NrZEuKCGE8IgKBTWzZ88mNjaWoKAgunXrxs8//1zq8YsWLaJVq1YEBQXRrl07li9fbvf64sWL6devH/Xq1UNRFHbt2lXiHHl5eTzwwAPUq1ePmjVrMnz4cDIyMipS/Goja+9+APKim+hcEu9TfCyN5soPHh1bc8st2vOqVXDunPvPL4QQ1ZTLQc3ChQuZOHEizzzzDDt27KBDhw7079+fEydOODx+06ZNjBo1inHjxrFz506GDh3K0KFD2bt3r+2YnJwcevbsyUsvveT0uo888gjffvstixYtYt26dRw/fpxhw4a5WvxqIS3rAv9Zto8vvlgPwPyTfp5rdfBRjsbSgH1rlsfG1rRpA82ba2OefvjB/ecXQohqyuWg5vXXX2f8+PGMHTuWNm3aMGfOHEJCQvjggw8cHj9z5kwGDBjAY489RuvWrZk2bRrXXHMNb7/9tu2YO++8k6lTp9K3b1+H58jKyuL999/n9ddf58Ybb6RTp058+OGHbNq0ic2bN7taBUNbuDWV7tPXMG9DCtFntYGof4RFenZGjw+KC6+BqUSPnH2UY1YUYsM9kFpCUaQLSgghPMDPlYPz8/PZvn07kydPtu0zmUz07duX5ORkh+9JTk5m4sSJdvv69+/PUhf+Z759+3YKCgrsgp5WrVoRExNDcnIy1157bYn3XLx4kYsXL9p+zr6c1LGgoICCgoJyX7s8rOdz93ldlZaVx+TFe2xfzTGXg5rUsEgKVZUjGdmEh7h0ywHvqZ87hYf48cItbXj6631YVDAp0KmeyvZTiu3nabe0JjzEzyP1VoYMwe/VV1G/+45LubnaonweZsT7WJTR6wdSRyMwev3A/XV05TwufcNlZmZSWFhIRLGZNBERERw4cMDhe9LT0x0en+7CdNb09HQCAgIICwsr93mmT5/Oc889V2L/ypUrCfFQYsekpCSPnLe8DmUpWFSz9oOq2lpqUsMiUVA5smszp/ZX/Px618/dagDPXA0n8xTqB6mEBcKQGIvt5xoZu1m+fLdnLl5YSP/QUIKystj66quc7NDBM9dxwGj3sTij1w+kjkZg9PqB++qYm1v+YQCu/9nuIyZPnmzXQpSdnU10dDT9+vWjdu3abr1WQUEBSUlJ3HTTTfhXwV/czqRl5fHO/vVYVKhzIZta+Vp3019hEfxn6FWM6NS4Quf1lvp5krWOI4ZUXR3Nw4bBhx/SLS0NS5HWT08x+n00ev1A6mgERq8fuL+O1p6W8nApqAkPD8dsNpeYdZSRkUFkZKTD90RGRrp0vLNz5Ofnc/bsWbvWmtLOExgYSGBgYIn9/v7+HvtF8uS5yyMm3J/pw9rx5OK9tq6n7HoR/Pj0AKJCgyt9fr3rVxWqtI633QYffoh56VLMs2eDqWpWWDD6fTR6/UDqaARGrx+4r46unMOl/4sGBATQqVMnVq9ebdtnsVhYvXo1CQkJDt+TkJBgdzxoTVLOjnekU6dO+Pv7253n4MGDpKamunSe6iCxSwwbJ/XmlU61AKjdpoVbAprqKC3rApuOZPLLsTNsOpLp/oHWffpo+aDS02HTJveeWwghqiGXu58mTpzImDFj6Ny5M127duXNN98kJyeHsWPHAnDXXXfRqFEjpk+fDsBDDz3E9ddfz2uvvcbgwYNZsGAB27ZtY+7cubZznj59mtTUVI4fPw5oAQtoLTSRkZGEhoYybtw4Jk6cSN26dalduzYPPvggCQkJDgcJV3dRocFE5ZzUfoiL07cwPmrh1tQS69iYFJg+rB2JXWLcc5HAQC1twqefwldfQc+e7jmvEEJUUy63dycmJvLqq68ydepUOnbsyK5du1ixYoVtMHBqaippaWm247t37878+fOZO3cuHTp04Msvv2Tp0qW0bdvWdsw333zD1VdfzeDBgwEYOXIkV199NXPmzLEd88YbbzBkyBCGDx9Or169iIyMZPHixRWuuOFJdu4Kc7wwn4cW5LvtNu35yy+1lBZCCCEqrEIDhSdMmMCECRMcvrZ27doS+0aMGMGIESOcnu/uu+/m7rvvLvWaQUFBzJ49m9mzZ7tS1OpLgpoKc7wwn8a6IJ/buvT69YOaNeHPP2HrVujWzT3nFUKIakhyPxmVBDUV5nhhPo3bF+QLCoIhQ7Ttr75y33mFEKIakqDGiPLz4dgxbVuCGpdFhQYzfVg7zMWSgJoVhReHtXX/wOuiXVDFs2sKIYQoN8OuU1OtpaZq4zOCgsCFqfPiisQuMfRqUZ+jmbmEBJjIzbcQGx7imZlkAwdCSAikpMDOnXDNNe6/hhBCVAMS1BhR0a4nxUk/iihTVGhw1UyHDwnRApuvvtJaaySoEUKICpHuJyOS8TS+R7qghBCi0iSoMaKUFO1ZghrfMXiwtm7NoUOwd6/epRFCCJ8kQY0RSUuN76lVCwYM0La//FLfsgghhI+SoMaIJKjxTcOHa88ytVsIISpEghojkqDGN918M/j7w6+/ag8hhBAukaDGaM6cgbNntW3J++RbwsKudEEtWKBrUYQQwhdJUGM01laayEhtqrDwLaNGac8LFsgsKCGEcJEENUYjXU++7eabITgYDh+G7dv1Lo0QQvgUCWoMJC3rAn9s3aP9IF1PbpeWdYFNRzLdm6W7uJo14W9/07Y//9xz1xFCCAOSoMYgFm5NpceMNfy0cisAvwbV07lExmL9fEfP20KPGWtYuDXVcxezdkEtXKiluxBCCFEuEtT4uLSsC3z7y19MXrwHiwrRZ9MB+DjN5NkWhWokLeuC7fMFsKjw5OK9nvt8BwyA0FD46y/YuNEz1xBCCAOSoMaHWVsPHvx8l+0LNyZLC2qOhkVyNDNXx9IZR0pmju3ztSpUVc99voGBMGyYti1dUEIIUW4S1Pio4q0HAGZLIY2yTgDwV1gUseEy+8kd4sJrYCqWF9SsKJ79fK1dUF9+CQUFnruOEEIYiAQ1PspR60FU9kn8VAsXzX78665eVZNhuhqICg1m+rB2mC9nPDcrCi8Oa+vZz7d3b2jQADIzYfVqz11HCCEMxE/vAoiKsbYeFA1sYi+PpzE3bUpit1h9CmZQiV1i6NWiPkczc4kND/F8wOjnByNGwOzZWheUdVE+IYQQTklLjY9y1HrwUDMtRvVr3kzPohlWVGgwCc3qVV0LmLULaskSyMurmmsKIYQPk5YaH1ai9WDGBu0FWXjPo9KyLpCSmUNceA3PBjgJCRAdDceOwfLlVwYPCyGEcEiCGh8XFRp85YtVVhP2uIVbU20DtE0KPDGgFe0ah3omwDGZYORIeOUV+OwzCWqEEKIM0v1kJCkp2rMENR7haL2a6d8f8OyCfH//u/b83Xdw+rT7zy+EEAYiQY2RSEuNRzmacWblsQX52reHDh0gP19bYVgIIYRTEtQYRVYWnDqlbUveJ49wtF5NUR5bkG/MGO35k0/cf24hhDAQCWqMwtr1VL8+1Kqlb1kMqviMs+I8tiDfqFFgNsPmzfDbb+4/vxBCGIQENUYhXU9VIrFLDBsn9ebz8dcyeVArW4BjAsb1jPXMRSMjoX9/bVtaa4QQwikJaoxCgpoqY12v5h+9mrFxUm/uva4pKDB3Qwrdp6/hxWX73D+2xtoF9emnkrlbCCGckKDGKKxBjYynqXLvbfzdNoBYRQtu3D4b6m9/0zJ3p6bCunXuO68QQhiIBDVGIS01unA2I8rts6GCgiAxUduWLighhHBIghqjkKBGF6XNiHL7bKi77tKev/wScnLcd14hhDAICWqMoLAQjh7VtiWoqVLWGVGO/iG5fTZU9+7QrBmcP6/lgxJCCGFHghoflZZ1gU1HMrXujb/+goICLbNz48Z6F63aSewSw0+Tb+Te65raWm3MisKLw9oSFRpsf68qQ1GutNZIF5QQQpQguZ98UPH8Q+81Oc+NALGx2nomospFhQbz5ODWjO0ZeyXBaGhwiXs1fVg7ErvEVPxCf/87PPMMrFqlJbqMjnZfJYQQwsdJS42PcZR/6IdvkrUfpOtJd9bp3tYWmuL3qtKDh5s2heuvB1WFDz90T6GFEMIgJKjxMY5m2zQ+m65tSFDjNdKyLvDd7uMl7pVbBg+PH689v/++Np5KCCEEIEGNz3E026ZJlgQ13mTh1lR6zFjDf5YdKPGaWwYPDx8Odepoa9YkJVXuXEIIYSAS1PiY4vmHzIpCD1O29qIENbor3uVUVNHBw5USFAR33qltz5tXuXMJIYSByEBhH5TYJYZeLerbBqTWe/9P7QUJanTnbDG+KYNbM6h9VOUDGqvx42HWLPjmG8jIgIgI95xXCCF8mLTU+CjbgFRzIZw8qe2UoEZ3jroHzYri3oAGoG1buPZauHQJPvrIfecVQggfJkGNr0tJ0Z7r1tVyAwldOeoedEuXkyPWAcPvvSdJLoUQAul+8n2SHsHrFO8e9EhAA1ouqIcfhsOHYe1auPFGz1xHCCF8hLTU+DoJarxS0fVqPKZGDRg9WtuWAcNCCCFBjc87ckR7jovTtxyiTG5Ll1CUtQtq8WLIzHTfeYUQwgdJUONjSnwxHj6sPcfH61coUSbr2jWj522hx4w1LNya6p4Td+oEV18N+fnw6afuOacQQvgoCWp8iMMvRmtQ07y5voUTTnkkXUJR1taaOXNkwLAQolqToMZHOPpinLpoF+rRo9oOCWq8lqO1awpVle1Hz7jnAn//O9SqBb/9JisMCyGqNQlqfISjL8aos+kohYUQHAxRUfoUTJTJ0do1AP9asNM93VC1asHYsdr2W29V/nxCCOGjJKjxEY6+GJtaE1k2bw4muZXeyrp2TfE75NZuqAce0J6XL78yeFwIIaoZ+Sb0EY4WdZsQc7npRrqevF5ilxhmjb66xP5CVWXZ7rTKBzYtWsCAAaCq8M47lTuXEEL4KAlqfEhilxg2TurN5+OvZeOk3lyTf0p7QYIan9CpSR2H3VAvLNvvnhlREyZozx98ADk5lTuXEEL4IAlqfIzdom4yndunFG9tK8otXVEDB0KzZnD2LPzvfxU/jxBC+CgJanyZTOf2OdbWtqcHty7xWqGqcjQzt+InN5mujK156y2tK0oIIaoRCWp81aVLV5JZSlDjU6JCgxncPsphNu/Y8JDKnXzsWAgJgV9/1fJBCSFENSJBja/64w8tsAkKgkaN9C6NcJHHsnmHhcFdd2nbb79duXMJIYSPkSzdvsra9dSsmUzn9lEey+b9wAPa6sJLl2rBb5Mm7jmvEEJ4Ofk29FUynsYQPJLNu21b6NNHS5nw5pvuO68QQng5CWp8lQQ1huS2TN6PPaY9z5sHp09XvmBCCOEDpPvJVx06pD3LdG7DWLg11ZbfSwHGXxfH2J5xFWvF6dcP2reH3bvh3XfhqafcXl4hhPA20lLjq6SlxlCKJyxVgbkbUiq+KJ+iwOOPa9uzZkFentvKKoQQ3kqCGl9UWAi//65tS1BjCNv/OFMiYSlUclG+22+HmBg4cQI++aTyhRRCCC8nQY0vOnYMCgogMBCio/UujaikhVtTeXD+TqevV3hRPn9/mDhR2371VS0YFkIIA5OgxkfYDSC1jqdp2lSmc/s4a7dTaWv/VmpRvnHjoE4dOHQI5ZtvKnYOIYTwEfKN6AMWbk2lx4w1jJ63hR4z1rBt1c/aC9L15PNSMnMcdjtZVxuu9KJ8NWvC/fdr53ztNUmdIIQwNJn95OWKDyC1qLDrx+10Bpn5ZABx4TUwKdgFNmZFYfH9CeTmW2wtNJuOZBIXXqNiwc2DD8Krr2L6+Wfq7tsHgwe7qfRCCOFdpKXGyzn6S77Jmb+0DWmp8XnO0iV0iK5DQrN6rP/tpF0r3cKtqa6vZRMRAXffDUCLr77yUE2EEEJ/0lLj5Rz9JR97Jk3bkKDGEJylS3DUSjfpqz2gaL1IJgWmD2tHYpeYsi/y6KOo771HxI4dXNq2DRISPFgjIYTQh7TUeLnif8n7qxaaZmdoL0pQYxiO0iU4aqVTuTIsxqXp3s2bo44eDYDphRfcVGohhPAuEtT4gMQuMWyc1JvPx1/LxjtbYi7I16brxpTjL3Ths6ytdKVxZbp34eTJWEwmTMuXw9atbiihEEJ4FwlqfIT1L/mIjGPajqZNwWzWt1DCo6ytdKX9I3Vpunfz5vx5/fXa9nPPVbp8QgjhbSoU1MyePZvY2FiCgoLo1q0bP//8c6nHL1q0iFatWhEUFES7du1Yvny53euqqjJ16lSioqIIDg6mb9++HLKuxXJZbGwsiqLYPWbMmFGR4vs2SY9QrSR2iWHJA91RHLTYmBRcnu792+23o5rNsGyZtNYIIQzH5aBm4cKFTJw4kWeeeYYdO3bQoUMH+vfvz4kTJxwev2nTJkaNGsW4cePYuXMnQ4cOZejQoezdu9d2zMsvv8ysWbOYM2cOW7ZsoUaNGvTv35+8Yvlqnn/+edLS0myPBx980NXi+z5rUCPTuauNDtF1mFFkXJUJuLdXHD9NutE2SLi8M6JyoqJsY2uktUYIYTQuz356/fXXGT9+PGPHjgVgzpw5LFu2jA8++IBJkyaVOH7mzJkMGDCAxx57DIBp06aRlJTE22+/zZw5c1BVlTfffJOnn36aW265BYBPPvmEiIgIli5dysiRI23nqlWrFpGRkRWqqGFIS0215GyGFLie3btw8mRM8+dfaa3p0qWKaiGEEJ7lUlCTn5/P9u3bmTx5sm2fyWSib9++JCcnO3xPcnIyE635Zy7r378/S5cuBSAlJYX09HT69u1rez00NJRu3bqRnJxsF9TMmDGDadOmERMTw+jRo3nkkUfw83NchYsXL3Lx4kXbz9nZ2QAUFBRQUFDgSrXLZD2fu8/riN9vv6EAl2JjUavgelC19dOLL9QxPMSP8JjagFbOtKw8dqaedZjd+72NKbxwSxtGdGpse7+tjk2aYB49GtOnn2J59lkKL/9b9HW+cA8rS+ro+4xeP3B/HV05j0tBTWZmJoWFhURERNjtj4iI4MCBAw7fk56e7vD49PR02+vWfc6OAfjXv/7FNddcQ926ddm0aROTJ08mLS2N119/3eF1p0+fznMOmtdXrlxJSEgF8+iUISkpySPntbFYGHL4MGbgx2PHyC02NsnTPF4/L+ArdUzOUFj4uwkVx9OjLCo8tfRXClJ3ExZo/1pSUhI1unfnxs8+w7R8ORvffJMzLVpUQamrhq/cw8qQOvo+o9cP3FfH3NzyJ/T1mcX3irb2tG/fnoCAAP7xj38wffp0AgMDSxw/efJku/dkZ2cTHR1Nv379qF27tlvLVlBQQFJSEjfddBP+/v5uPbedY8cw5+ej+vlxw5gx4KSVyt2qrH468qU6pmXl8chr60tNggmgotCs47V0i6sLOKjj5s3w8cf0/PZbCletwuFoZB/iS/ewoqSOvs/o9QP319Ha01IeLn0rhoeHYzabycjIsNufkZHhdKxLZGRkqcdbnzMyMoiKirI7pmPHjk7L0q1bNy5dusTRo0dp2bJlidcDAwMdBjv+/v4e+0Vy97nTsi6QkplzJefPkSMAKM2b4x9cwQSHleDJz85b+EId/8zKcpgEszizotAsonaJ+tjqOG0aLFyIacMGTCtXwpAhHipx1fKFe1hZUkffZ/T6gfvq6Mo5XJr9FBAQQKdOnVi9erVtn8ViYfXq1SQ4WXY9ISHB7njQmqSsx8fFxREZGWl3THZ2Nlu2bHF6ToBdu3ZhMplo0KCBK1XwGcUzcy/cmgoHD2ovtmqlb+GErhwtymcC7ugW41p27+hoeOghbfuJJ+DSJY+UVwghqorL/RcTJ05kzJgxdO7cma5du/Lmm2+Sk5Njmw1111130ahRI6ZPnw7AQw89xPXXX89rr73G4MGDWbBgAdu2bWPu3LkAKIrCww8/zAsvvEB8fDxxcXFMmTKFhg0bMnToUEAbbLxlyxZ69+5NrVq1SE5O5pFHHuHvf/87derUcdNH4T0c5fx5cvFehpzaSw2QoKaasy7K9+TivRSqqi2ASewSw4QbmzucIQVat9WhLIW0rDxiwi//5TNpEsybB/v2wUcfwT33VH2FhBDCTVwOahITEzl58iRTp04lPT2djh07smLFCttA39TUVEymKw1A3bt3Z/78+Tz99NM8+eSTxMfHs3TpUtq2bWs75vHHHycnJ4d7772Xs2fP0rNnT1asWEFQUBCgdSUtWLCAZ599losXLxIXF8cjjzxSYlaVUTjK+VOoqhT8ul/7wUF3m6henE3xjgoNdtg6c2Xat5l39q+/kggzLAyefhomToRnnoFRo6BGjSqujRBCuEeFRppOmDCBCRMmOHxt7dq1JfaNGDGCESNGOD2foig8//zzPP/88w5fv+aaa9i8eXNFiuqTHGXmNisKtf7QxtRIS40A5wEMXBmPVSPATOrpXIctf71a1Nfef//9MGsWHD0Kb74JTz1VZXUQQgh3ktxPXqh4Zm6zovBy/1jMf/2lHSAtNaIURcdj3TJ7Ew9+vsthy58tEWZgIPznP9r2Sy/ByZNVW2AhhHATn5nSXd2U6F44vE97oUEDMOA4IuEexcdjOVMiEebIkfDaa7BjBzz/PLz1lmcLKoQQHiAtNV7Mmpk7KjQYrIsbSteTKIWj8VjFOUyEaTLBK69o2+++C3v2eK6QQgjhIRLU+AqZzi3KwdF0bysFuDu+kLX/7mVLhGnnxhth2DAoLIQHHgC1HIvhCCGEF5GgxldYW2pkPI0oRfHxWFZmReE/Q9twdbhKVGiQ8xO88QYEB8OGDTB/vodLK4QQ7iVjanyFdD+Jcio6HiskwERuvoXY8BDCQ/xYvnx36W+OidGmeD/1FDz6KNx8M7g5rYgQQniKtNT4gsJCOHRI25agRpSDdTxWh+g6V8Zllde//w3x8ZCeDg6SwgohhLeSoMYXpKZCXp429bZJE71LI3xcWlYem45kkpZ1wfEBgYHaujUAM2fCr79WXeGEEKISpPvJF1i7nuLjwWzWtyzCpyVnKDzy2nosqjZwePx1cYztGQdgnzx1wAAYOhSWLoUJE2DNGp/P4i2EMD4JarxQiezc+y6vUdO6tb4FEz4tLSuPhb+bsM5pUoG5G1KYtyHF9nPRQCfqjTdgxQpYuxb+9z+48059Ci6EEOUk3U9exmF2bmvz/1VX6Vs44dP+OJWLSsnWFvXyw7o9d0OK9rt30gRTpmgvPPSQNsZGCCG8mAQ1XsRZdu783ZcXQpOgRlRCk3ohKJRv7Rnr717avRPg6qvhzBmtG0oIIbyYBDVexNFqsBZLIeYDl7NzS1AjKiEqNIjEphYHbTWOFaoqR7MK4IMPwM8PvvoKvvzSo2UUQojKkKDGizhaDTY6OxNzTg74+0Pz5voUTBhGQoTKukd7ce91TW2/a86CHBMQEmCCjh1h8mRt5wMPQGZmFZRUCCFcJ0GNF3GUnfuFFpdfbNlSC2yEqKSo0CCeHNyanybdyOfjr2XT5BtJnnyjXaADYAFufWeTNq7rqae0lsITJ+Dhh/UquhBClEpmP3mZEtm5/3s5W3LbtvoWTBhOVGiw3aJ8Tw5uzeD2kQx9Z5Mt7ZNFhclf7aFVZC0azXqHejf1RvnsM/b3GkhY4jDXFvUTQggPk5YaL2SXnVtmPokqlJNfWCKPpQW4ZfYmuqw8x387DwWg3sQHuXnqEq0VRwghvIQENd5OghpRhUrL8q0Cb/S8g9/qxdAg5wwvLXuTJ7/aY7cycVrWhdJXKxZCCA+SoMabWSxXFt6ToEZUAeu4Lmf/Y7joH8iDtzzORbM/fY5s5c5t37BqXwabjmTy3/VHSq6xJIQQVUiCGm+WkgIXLmi5eJo107s0oppI7BLDkge6O82KcLB+LC/cOA6AyWs/4PO53zJ63hamLz9QYo0labERQlQlCWq8mbXrqVUryfkkqlSH6DrMKDITT8E+9dOnVw8mqXk3AgsvMeublwnOzytxjkJV5WhmbhWVWAghZPaTd5PxNEJHxWfiARzNzOXwiXNM+fpXHh/4L77/8EGan/6TqavnMnngv+zeb1YUQgJMbDqSeSWPmRBCeJC01HizvXu1ZwlqhE6KzsSzbvdtE4FJgTMhoTwy5FEsKIzavZK/7Vtre59ZURh6dUNufWcTo+dtofv0Nby4bJ90RwkhPEqCGi9SYubIrl3ac8eOehVJiBKKLhKZ3KQ9byfcDsBL37/Fq80tfD7+Whbfn8CSnX/ZxtjYJcosNoBYZkwJIdxFup+8xMKtqbZkliYFXh7UnNsOHNBevPpqfQsnRDFFu6ZC/tmNM3efos66Vdz2woMwdBubsgpL5DGDK4v51Qj0I7pOMN/tTuP9jSm23/vpw9qR2CWm6iskhDAECWq8gKPs3J+9t5zbLBZo0AAiI/UtoBAO2K1IvOQL6NIFjhyBxERqvLcARaHEQn6gLeY3Yf7Okvsvz5jq1aK+jL/RQVrWBVIyc2T8k/Bp0v3kBRxl526V8bu20bEjTufWCuEt6tSBr7+GGjVgzRq2JY53GNCUxdmMqdK6qK68VnIGliifhVtTZY0hYQjSUuMFrKu4Fg1srjpxOaiRrifhK666ijPvzqPOXaMZt/Vr9kQ0Z+lVvW3TwR11RxVnywxeRPGuWWsXVVrWBT7YmGLXfXV7nMIgj1Su6lR1i4mjlmJpMRO+SlpqvICj7NwDCtK0F2WQsPAh+7vfxFsJiQC89P0suh7biwrMGnk1b4+62mkKBiu7zODAL8fOMKnYF+7kr/bw5JI9dJ++hnkbUuxeW/i7yWGLTXkGIzs6pvg+Tw9q9nSLiaPyO2opLu8aQzLIW3gbaanxAmlZF4iuG8Li+xPIzbcQWyeQ8FkHtRclqBE+JC68Bnf2uoP4U6kM+C2ZeV9NI/Hvr9Ap9kaiQoPJyb/Ek4v3Ulikb8oa51j3WAOXX/7M4vMtqRRv4LEA87c4/rJXUUg9nUtMeC0Ah605xQcjFz9GAcZfF0e9WoG89P0B2/tuvbqRbUZXRQc1l9YK4+kWE2ctXo5aih21mJV1vicGtKJd41Bb3ax1rRFgJie/sNSWp6KfS3hI5b6WZGxQ9SZBjc4c/Y8m4VIm5OZCSAjEx+tdRCHKLSo0mBeHd2DipccIX/AUnf/az+JvpxHy7M0Q2th+1lSAidx8C6dyLpYYOFxa4FI6lSB/sy1QeW9Dil1QVDxQWLg1lUlf7bE7xjr9nGLv+2rHX07PUx7Oggqr0lpMKvvl7ChgmvzVHlpF1qJDdB2mD2tnF2xaW8ymD2tHrxb1bUGCtZw1Aswlzjf9e222ZvEA0MpZIFj8c3nhljbUqGA9y/qMS/t8JBAyBglqdOTsL7N+LU5RB6B9e0mPIHyONXD5c2RbLo0eQsih32DgQNiwAcLC7GdNof07KN5SUHEKI/67pUTrTlFFu1YmL95T6rGlcSXgKE8rjKMWE7Oi2FZz1s6Tx6EshV/+zCLfQrlbPxwFTBZg6DubmHH5i79VZC2GvrPJNsDbosKkr/bYxkMVb1FzpngAWHS/tc7gPDh6auk+xsQrXJ2VR0y4v8P6WN9ftFVo29HTpQZuzlQ0EBLeSYIaHTn7yyx3y3YtqJGuJ+GjokKDieocDyt/gIQEbXXsW2+FFSu0BK3Fji3eUuCIcvk/jg5RuPJlW9aXrrVrxdG/P1cUDzhKs/2PM6WOW7F+wY/rGWfrBjMrCi8Oa2sLWq58+Zp5e98WrS4Oun3sj9WOue/6Zg6n2KtFvvhz8gtLvs6V97gj5ixUVT7ceJT3Nv7u9LNXgY8OmfnktfW2AKNofYoGV85ahayKBm7lbXGSQdK+TYIaHTn7y6ze4cs5nySoEb4uNha+/x569YK1a+H222HRIggIsDvM2rqz/egZ/rVgZ4kvKOtf0IAt+DEB9/SKo33jMIfr3jhj7Vpx9kVfHiYFHh/QkpTMHE5k59mNGSneomDtBivOrCjs/ussd7y32a6+CnBvrzjG9oizfbEWb+mx1aVIt491LFC3pnWZtHiPXYvL7LVHSv08hr6ziUkDWrmxxcwxBZi34fdyBUjWACO8ZoBdfYp3JzpqFSpKLaXFqWgwbFU82CzeGiZdVd5NghodFf8L1awovHjrVQS9/4t2gEznFkbQsSMsWQKDB8M330BiInzxBfj72x0WFRrMkA72g4mtgUvRL/iiSTatQUR5voyLfoE5+qI3AT3jw9l4ONPWUpLYpTHzfz5W4lwju8Tw0ooDJYKR64q839EXZtFjE7s0tg1ELkoF3t9wlMHtomxfno5aeoqzjgUqPh6oPFQVXl5xkCcGtuKl5QewuPj+0V1jWLj1WJktba7GS4WqyriPt7v4rpKctTg5Kk/xYNMaLA5uH1ViBWxrK1l5BkOLqiFBjc6KZ0KOOp0OJ09qf8l26KB38YRwjz59tMX5brkFli6FkSNhwYISgQ04+DdR7Eui+Jgc6x8Hdt0Tl1tgytuaYwKWPNCdDtF1SMu6YJeZfMHWYyVmBi3YmuowGFl/KNPu59I4CpasClXVNr6lIsFAWZy1ULRvFMas0Vc7/KyclcOsKDzYpzmJXRrbjckB7bOaN6YTF/It/GvBzjJbxdxR1/KO/SnKGhSbKBlsOgsWi7aSFT1PVY3JkRYjxySo8QJ2/5Nevll77tixxNgDIXxa//5ai83QobB4MYweDfPnOwxsigcuZUnsEkNCXB2+WP4jtw/qjb+/n0utORYgN9/i8NrFW1PH9YytUGtIUeX5wnXnWJaizIrC3Luu4Z5PttsFGdYxQrHhIQ6neC95oDsNagfZjYkpOu4nJTOnRNBiAUIC/AkOUMtsaTIrCo8PbOmw9aqo0sZWWcsDlDlGq2jd5t3ViS2/n+G9jb+XGmyWxdplZh2j5HjqvjbYO63YQOiyFA1i1v92UgY3OyFBjbfZog0ApFs3fcshhCcMHKgFNLfeCl9+qS01/L//lRhjUxFRoUHEh6pEhQbh7+/vsDXH2RddaYN+i7ccAby3MaVCY0/K0xJhgjK7f567uRUtIsPY/dfZUruLTMD9vZvx7trfr3RxD2tLn9aRzCje9V1kUHKJbvFhbW0ziJ4c3JqxPWNLtKSVNXur+GtFV5q2XiOxSwydokMZ8d/NqLY2F/v6LHmgO4DDVqHF9yfYyll8NlfR6xYNiizAPZe7uNw1GNp6XecrYJt5Z//6cq3tA5RYR6loWYsmie3UpE61H/8jQY23sQY1116rbzmE8JTBg+Grr2D4cG3Q8Nmz2s+1ann0skWDk91/neXl7w86/EJ3pLTWG2ccdYMNbhfFre9sKtEK8tboq2lcJ5jcfAshAaYSx9ifV6V3ywbEhNcioVk9/tahocMZRUUDhTuubVIiCCmtm8/VLkDrPkfBUGmBkqNrXMgvdBzQXA4QOkTXYdORTIetQtbWNsDhbC6At0ZdTXTdYLuAx92tYUUHaTtbSLI8a/s4CoIdldWaJLZoEFVaehEjBzoS1HiTixdhxw5tW1pqhJHdfDN8+60W2CQlQe/esHy5lpXeg6xfxtZgwNmXdlmKLyK4bHe6LagoOrgZKHENR1/ug9s3tDt/0WPsgiMFbo+zEBUaZFenoq0n1kUNi17TWXdead18rnYBFv9cyhsoFb9Gk3ohKKh2gY0JWHJ/d1srTHnW9HF2TKfYOg67yoozAaO6xfD5z6klgtB7esVRr2agLTAuTXkWknQ2i8vVYKto95ejNXt++TOLBZfrY9RuKwlqvMkvv0B+PoSHQ9OmepdGCM/q3x9+/BEGDYLt26FHD1i5EuLiquTyFfnSdvb+DtF1HHbJWI8rqqxWEEfHgBYcNQoNYOdPazxSH3epbKAUFRpEYlMLX6SY7bqmii6gV1arUHmOKW932IQbmzsNFq2BcW5+QYkxSnopVFWW7jzucLHFosGVUdfkkaDGm2y+PEi4WzftX5cQRtelC/z0E/TrB4cPQ/fu8N130KmT3iVzmStBRfm+3EvO8iooKMD5HC7jSIhQuX9YL/7Kyi934OfKMc4CHmfHlhWkOeoOqwrOBk1/uOloud5ffFVsI3RNSVCjE4e/PDJIWFRHLVrApk3aIOLdu6FnT/jgAxg1Su+SCR1FhQbZEpM6P8b14NCqvN1h5eGoq8tZwKEAN0QV0qV9K1794VCpg8KLnsPZ+Jp7ezblvQ2/u7y2ENgnLi0rXYSvBDwS1OjA6S9P0ZYaIaqThg1h/Xptmvfy5drzzp0wfbrkPxMe464uO2ctP1ByBey/d41m509rGNQzjh7N6ztd2yckwN+u69HRAHKzojC2Zyzto0NLXYfJ2ay7oqtrv7PuiN0A5+KJX8szhdwa+DQO1W85EglqqpizxHY31IWI33/Xdnbtql8BhdBLaKi24vCUKVow88orWsvN559DHecJCYXwBs5aforvK9qF2CG6jsOp9X1aR9qdu7RB5lGhwXRqUnKMkJV1/R/roGZHU8IdpdEoVFW2Hz2DSslEoUUDHmsgs+evLNsaQ9qAdoVBlfxMK0KCmirmLInl2e9XEwFw1VUQFqZDyYTwAmYzvPiitpr22LHwww/QubO2+nCXLnqXTohSOZvqXlprUHnGBpV1rLN1mIoOeLYOaj6Vc7FcudIU4EEnq0BbA56c/JNOc5It/N3E/S4uMOgOEtRUMWfTDBvvStZ+6NNHn4IJ4U0SE6FlS2314d9/1wYQ/+c/8OijYDLpXToh3Modg8yLLzPgbFp/eXOlqbb/ODbh852lLiapopB6OrfMcVHuJv93qGLWiNp8eXaTNZKusXG9dsCNN+pYOiG8SMeO2ria226DS5fgiSe0aeBpaXqXTAivZF2DqUN0HRKa1XO6NlHR76DKKC0uUlCJqet4lW5PkpYaHZRoQjx/Gg4e1P4Cvf56vYsnhPeoU0fL6P3++/Cvf8GqVdC+Pfz3vzBsmN6lE8InOVtdu7QUHa4kG3W0SGRVkaCmihWdFpfQrJ6289sftedOnWQ8jRDFKQrcc4+2ON+oUdoilcOHa0HN229DVJTeJRTC5zhaXdtZig6TAk8MaMVLK5wnG7Ue075xWKmLRHqaBDVVyOm0uNWrtQOk60kI51q31pY9mDYNXn5ZS4y5ejW8+iqMG6d36YTwWUXH6RQdcFw05UdUaDBhIf5M/mpPidac4mks9FwkUoKaKuJsKnev+HCi1lyOaCWoEaJ0QUHagOHbb9cCme3bYfx4+OwzLbgRQlRKefJ3FU2g6iiNhZ4kqKkizqZyp+3YR1RqKvj7a83rQoiydeigtdrMnKmta7N2LX5du9L+ppu0KeCNGuldQiF8VlmpIYomUK1IQlhPktlPVcQ6lbsos6LQ7JdN2g/XXgs1alR9wYTwVX5+8O9/w759MGIEisVC3A8/4NemjdZqc/Gi3iUUwrCs43G8KaABCWqqjLOp3KErlmkHDNJj7UUhDCA2Fr74gkurV3O2aVOU7Gx47DGIj4e5c7XM90KIakG6n6pQib5KSx5Yx9PI9FQhKkW97jrWvfIKg0+fxm/qVDh2DP7xDy3lwpQpcOedWjevEMKwpKWmitk12X37rbaoWNu2WqZiIUTlmM2oY8bAkSPw5psQEQFHj2qDilu2hLfegvPn9S6lEMJDJKipImlZF9h0JJO0rAtXdn71lfY8fLg+hRLCqIKD4aGHtBQLr70G9etDSoq2gF9MDEyeDMeP611KIYSbSVBTBRZuTaXHjDWMnreFHjPWsHBrqvbX4g8/aAdI15MQnhESAhMnaq01s2dD8+Zw5gzMmKGNxRk1Cn78EYdZ+4QQPkeCGg9ztj7NmS+XarMzmjeHdu10LaMQhhcSAvffDwcOwJIl0LMnFBRo2b9vvFHr/n3pJcjI0LukQohKkKDGw5ytT2NZsFD7YdgwbRl4IYTnmc1a5u8NG2DbNm0gca1acPgwTJqkrW8zaBB8+imcO6d3aYUQLpKgxsMcrU/TOPskdVd9r/1w551VXyghhJZrbc4cbWzNe+9Bt25QWAjffw933QUNGmgrFy9aJAGOED5CghoPc7Q+zdzcrSiFhdC7tzbzSQihn5o1tdlRmzfDwYPw7LNad1RenhbQ3H47hIfDwIFaEPTXX3qXWAjhhKxT42FpWReIrhvC4vsTyM23EFtDIartXdqL//qXvoUTQthr0QKeeQamToWdO7UxN0uXwqFDsGKF9rjvPu2PkZtu0h69eslq4EJ4CQlqPMhRVu6Edavg1Clo0gRuvlnvIgohHFEUuOYa7fHSS9oA42++ga+/1lp09u7VHm+8AQEB0LWrlrutRw/o3h3q1dO7BkJUSxLUeIijWU9Pf/kLw757A3/QZmKYzXoWUQhRHooCrVtrjyee0P4oWbMGVq7UHqmpsHGj9rBq1epKkNO5s/azrGYshMdJUOMBaVkX+G738RKznhJ3fo//vr1Qu7bWhy+E8D316sGIEdpDVbWZUxs2wKZN8NNPWquO9fH++9p7AgO1LquOHeHqq7Xn9u21mVdCCLeRoMbNinY5FVX//BmeWP+x9sN//iPN00IYgaJoiTPj4+H//k/bl5kJyclagLNpE+zapc2e2r5dexQVHa2lb2jVSnu2bjduLEs9CFEBEtS4UVpWnsOABuDpH9+n1sVcbRrpffdVfeGEEFUjPFwbL2cdM2exaCsa79ypBTi7dmnbf/2lJd08dgxWrbI/R3CwtuJxsYcSHU3gmTPa1HPpzhKihAoFNbNnz+aVV14hPT2dDh068NZbb9G1a1enxy9atIgpU6Zw9OhR4uPjeemllxg0aJDtdVVVeeaZZ5g3bx5nz56lR48evPvuu8THx9uOOX36NA8++CDffvstJpOJ4cOHM3PmTGrWrFmRKnjEjtSzDgOaBTmbuXbfWjCZ4L//lbE0QlQnJhM0bao9iuZ5O31am0J+8OCV7qqDB7XurAsXYP9+7VGEHzAAUO+5R0vWGRUFDRuWfI6I0FqD69XTurul1UdUEy4HNQsXLmTixInMmTOHbt268eabb9K/f38OHjxIgwYNShy/adMmRo0axfTp0xkyZAjz589n6NCh7Nixg7aX12h5+eWXmTVrFh9//DFxcXFMmTKF/v37s2/fPoKCggC44447SEtLIykpiYKCAsaOHcu9997L/PnzK/kRVF5aVh5fHzXxY/LuEq/d+/MSrv3xcr/6s89qLTVCCFG3LiQkaI+iCgrgjz+0x9Gj2iMlBY4eRU1JgfR0bZ2r48e1R/EureL8/LRrWYOc8HDtuW5dLeAp7VGrljZd3SRLmgnf4HJQ8/rrrzN+/HjGjh0LwJw5c1i2bBkffPABkyZNKnH8zJkzGTBgAI899hgA06ZNIykpibfffps5c+agqipvvvkmTz/9NLfccgsAn3zyCRERESxdupSRI0eyf/9+VqxYwdatW+ncuTMAb731FoMGDeLVV1+lYcOGFf4AKmvh1lQmfbUHtdg6hlelH+ZfmxbQ/9BmbcfUqfD00zqUUAjhU/z9tZxwzZuXeOlSQQHff/stAzt1wj8zUwtq0tK0h3X7+HE4cUKbpZWbC5cuaT+fOFGx8iiKtkBhSIj2CA6+8lzWdlCQVp+AAO1RdLv4z9ZtRSE4I0OrR40a2n5/f62F2/qQlifhhEtBTX5+Ptu3b2fy5Mm2fSaTib59+5KcnOzwPcnJyUycONFuX//+/Vm6dCkAKSkppKen07dvX9vroaGhdOvWjeTkZEaOHElycjJhYWG2gAagb9++mEwmtmzZwq233lriuhcvXuTixYu2n7OzswEoKCigoKDAlWo7lZaVx3tzlzNl5/eY1UL8Cwupn3Oa+MxjxJ5NA0BVFCxTp2J56intfy4+yPp5uetz80ZSR99n9PqBVjfVbKagfn2tm6l9+9LfkJenBTeZmSinT8OpU7ZnzpxBOXcOsrO1gczZ2ShFtsnO1lqEVFXbV0WpIvyBfmUcoyqK1npUNNAp66EoJfapZrN2HkVx/ijr9aLHQJnHKUCnjAyU//0Pi7Vcjh5WxQM4V34u41i1Eu91emyrVhTccw/gvn+LrpzHpaAmMzOTwsJCIiIi7PZHRERw4MABh+9JT093eHx6errtdeu+0o4p3rXl5+dH3bp1bccUN336dJ577rkS+1euXElISIizKrrkUJZCVNYJ/m/7NyVeK1RMHO1xHUcTb+N8dDQsX+6Wa+opKSlJ7yJ4nNTR9xm9flCJOlpbWxo3LvtYVcWcn49fbi5+ubmY8/O1x8WLds8m63ax/eaLFzEVFGC6dAnTpUsohYW2bdOlSyiXLmGy7isosHtdsR5nsTgsmqKq2mDpwsKKfQ7W81Tq3RVjAsrx6fusjKuvZnOTJoD7/i3m5uaW+1jDzn6aPHmyXQtRdnY20dHR9OvXj9q1a7vlGmlZeSzblMHsa0dwyWTmksnM2eBa/F4vmmF39eNvfTsQ45Yr6augoICkpCRuuukm/A0640Lq6PuMXj+ohnU0m7UxRgUFV4IY68NiKbmv2OtKeY63WLTWKGePsl5XrSusljxOcXBsYUEBBw8coGWLFphNJufnA/ttV3+uqvcWe61e06bcdNNNbv09tfa0lIdLQU14eDhms5mMjAy7/RkZGURGRjp8T2RkZKnHW58zMjKIioqyO6Zjx462Y04U6w++dOkSp0+fdnrdwMBAAgMDS+z39/d32/8MYsL9+ee4/kxe3BCLqkX943vF8WqPOKJCg91yDW/izs/OW0kdfZ/R6wfVrI4O/j/uyywFBfy+fDmtBg3CbNB7qF7uLnLX76kr53BpSHtAQACdOnVi9erVtn0Wi4XVq1eTUHwE/2UJCQl2x4PWJGU9Pi4ujsjISLtjsrOz2bJli+2YhIQEzp49y/Yio/zXrFmDxWKhW7durlTB7RK7xLD2372Y0KaQdY/24slBbQwZ0AghhBDezuXup4kTJzJmzBg6d+5M165defPNN8nJybHNhrrrrrto1KgR06dPB+Chhx7i+uuv57XXXmPw4MEsWLCAbdu2MXfuXAAUReHhhx/mhRdeID4+3jalu2HDhgwdOhSA1q1bM2DAAMaPH8+cOXMoKChgwoQJjBw5UteZT1ZRoUHEh6pEhQbpXRQhhBCi2nI5qElMTOTkyZNMnTqV9PR0OnbsyIoVK2wDfVNTUzEVWdOge/fuzJ8/n6effponn3yS+Ph4li5dalujBuDxxx8nJyeHe++9l7Nnz9KzZ09WrFhhW6MG4LPPPmPChAn06dPHtvjerFmzKlN3IYQQQhhIhQYKT5gwgQkTJjh8be3atSX2jRgxghEjRjg9n6IoPP/88zz//PNOj6lbt65XLLQnhBBCCO8ky0QKIYQQwhAkqBFCCCGEIUhQI4QQQghDkKBGCCGEEIYgQY0QQgghDEGCGiGEEEIYggQ1QgghhDAECWqEEEIIYQgS1AghhBDCECq0orAvUi+nR3clhXl5FRQUkJubS3Z2tiEz5xq9fiB1NAKj1w+kjkZg9PqB++to/d62fo+XptoENefOnQMgOjpa55IIIYQQwlXnzp0jNDS01GMUtTyhjwFYLBaOHz9OrVq1UBTFrefOzs4mOjqaY8eOUbt2bbee2xsYvX4gdTQCo9cPpI5GYPT6gfvrqKoq586do2HDhnYJsx2pNi01JpOJxo0be/QatWvXNuwvKRi/fiB1NAKj1w+kjkZg9PqBe+tYVguNlQwUFkIIIYQhSFAjhBBCCEOQoMYNAgMDeeaZZwgMDNS7KB5h9PqB1NEIjF4/kDoagdHrB/rWsdoMFBZCCCGEsUlLjRBCCCEMQYIaIYQQQhiCBDVCCCGEMAQJaoQQQghhCBLUVNLs2bOJjY0lKCiIbt268fPPP+tdJLd59tlnURTF7tGqVSu9i1Up69ev5+abb6Zhw4YoisLSpUvtXldVlalTpxIVFUVwcDB9+/bl0KFD+hS2Asqq3913313ing4YMECfwlbQ9OnT6dKlC7Vq1aJBgwYMHTqUgwcP2h2Tl5fHAw88QL169ahZsybDhw8nIyNDpxK7pjz1u+GGG0rcx3/+8586ldh17777Lu3bt7ctzpaQkMD3339ve92X759VWXX09XtY3IwZM1AUhYcffti2T4/7KEFNJSxcuJCJEyfyzDPPsGPHDjp06ED//v05ceKE3kVzm6uuuoq0tDTbY+PGjXoXqVJycnLo0KEDs2fPdvj6yy+/zKxZs5gzZw5btmyhRo0a9O/fn7y8vCouacWUVT+AAQMG2N3Tzz//vApLWHnr1q3jgQceYPPmzSQlJVFQUEC/fv3IycmxHfPII4/w7bffsmjRItatW8fx48cZNmyYjqUuv/LUD2D8+PF29/Hll1/WqcSua9y4MTNmzGD79u1s27aNG2+8kVtuuYVff/0V8O37Z1VWHcG372FRW7du5b///S/t27e326/LfVRFhXXt2lV94IEHbD8XFhaqDRs2VKdPn65jqdznmWeeUTt06KB3MTwGUJcsWWL72WKxqJGRkeorr7xi23f27Fk1MDBQ/fzzz3UoYeUUr5+qquqYMWPUW265RZfyeMqJEydUQF23bp2qqto98/f3VxctWmQ7Zv/+/SqgJicn61XMCiteP1VV1euvv1596KGH9CuUB9SpU0d97733DHf/irLWUVWNcw/PnTunxsfHq0lJSXZ10us+SktNBeXn57N9+3b69u1r22cymejbty/Jyck6lsy9Dh06RMOGDWnatCl33HEHqampehfJY1JSUkhPT7e7p6GhoXTr1s1Q93Tt2rU0aNCAli1bct9993Hq1Cm9i1QpWVlZANStWxeA7du3U1BQYHcfW7VqRUxMjE/ex+L1s/rss88IDw+nbdu2TJ48mdzcXD2KV2mFhYUsWLCAnJwcEhISDHf/oGQdrYxwDx944AEGDx5sd79Av3+H1SahpbtlZmZSWFhIRESE3f6IiAgOHDigU6ncq1u3bnz00Ue0bNmStLQ0nnvuOa677jr27t1LrVq19C6e26WnpwM4vKfW13zdgAEDGDZsGHFxcRw5coQnn3ySgQMHkpycjNls1rt4LrNYLDz88MP06NGDtm3bAtp9DAgIICwszO5YX7yPjuoHMHr0aJo0aULDhg3ZvXs3TzzxBAcPHmTx4sU6ltY1e/bsISEhgby8PGrWrMmSJUto06YNu3btMsz9c1ZHMMY9XLBgATt27GDr1q0lXtPr36EENcKpgQMH2rbbt29Pt27daNKkCV988QXjxo3TsWSiokaOHGnbbteuHe3bt6dZs2asXbuWPn366FiyinnggQfYu3evz4/1csZZ/e69917bdrt27YiKiqJPnz4cOXKEZs2aVXUxK6Rly5bs2rWLrKwsvvzyS8aMGcO6dev0LpZbOatjmzZtfP4eHjt2jIceeoikpCSCgoL0Lo6NdD9VUHh4OGazucRI7oyMDCIjI3UqlWeFhYXRokULDh8+rHdRPMJ636rTPW3atCnh4eE+eU8nTJjAd999x48//kjjxo1t+yMjI8nPz+fs2bN2x/vafXRWP0e6desG4FP3MSAggObNm9OpUyemT59Ohw4dmDlzpmHuHzivoyO+dg+3b9/OiRMnuOaaa/Dz88PPz49169Yxa9Ys/Pz8iIiI0OU+SlBTQQEBAXTq1InVq1fb9lksFlavXm3XZ2ok58+f58iRI0RFReldFI+Ii4sjMjLS7p5mZ2ezZcsWw97TP//8k1OnTvnUPVVVlQkTJrBkyRLWrFlDXFyc3eudOnXC39/f7j4ePHiQ1NRUn7iPZdXPkV27dgH41H0szmKxcPHiRZ+/f6Wx1tERX7uHffr0Yc+ePezatcv26Ny5M3fccYdtW5f76LEhyNXAggUL1MDAQPWjjz5S9+3bp957771qWFiYmp6ernfR3OLf//63unbtWjUlJUX96aef1L59+6rh4eHqiRMn9C5ahZ07d07duXOnunPnThVQX3/9dXXnzp3qH3/8oaqqqs6YMUMNCwtTv/76a3X37t3qLbfcosbFxakXLlzQueTlU1r9zp07pz766KNqcnKympKSoq5atUq95ppr1Pj4eDUvL0/vopfbfffdp4aGhqpr165V09LSbI/c3FzbMf/85z/VmJgYdc2aNeq2bdvUhIQENSEhQcdSl19Z9Tt8+LD6/PPPq9u2bVNTUlLUr7/+Wm3atKnaq1cvnUtefpMmTVLXrVunpqSkqLt371YnTZqkKoqirly5UlVV375/VqXV0Qj30JHiM7r0uI8S1FTSW2+9pcbExKgBAQFq165d1c2bN+tdJLdJTExUo6Ki1ICAALVRo0ZqYmKievjwYb2LVSk//vijCpR4jBkzRlVVbVr3lClT1IiICDUwMFDt06ePevDgQX0L7YLS6pebm6v269dPrV+/vurv7682adJEHT9+vM8F4Y7qB6gffvih7ZgLFy6o999/v1qnTh01JCREvfXWW9W0tDT9Cu2CsuqXmpqq9urVS61bt64aGBioNm/eXH3sscfUrKwsfQvugv/7v/9TmzRpogYEBKj169dX+/TpYwtoVNW3759VaXU0wj10pHhQo8d9VFRVVT3XDiSEEEIIUTVkTI0QQgghDEGCGiGEEEIYggQ1QgghhDAECWqEEEIIYQgS1AghhBDCECSoEUIIIYQhSFAjhBBCCEOQoEYIIYQQhiBBjRBCCCEMQYIaIYQQQhiCBDVCCCGEMAQJaoQQQghhCP8PtSAispRgsOwAAAAASUVORK5CYII=\n"
>>>>>>> 680a1a38307f154d73e7cf571db4c39b1a966f69
          },
          "metadata": {}
        }
      ]
    },
    {
      "cell_type": "code",
      "source": [
        "# The change map for alpha = 0.01.\n",
        "k = 18; alpha = 0.01\n",
        "p_value = ee.Image.constant(1).subtract(chi2cdf(omnibus(vv_list), k-1))\n",
        "c_map = p_value.multiply(0).where(p_value.lt(alpha), 1)\n",
        "# Make the no-change pixels transparent.\n",
        "c_map = c_map.updateMask(c_map.gt(0))\n",
        "# Overlay onto the folium map.\n",
        "location = aoi.centroid().coordinates().getInfo()[::-1]\n",
        "mp = folium.Map(location=location, zoom_start=11)\n",
        "mp.add_ee_layer(c_map, {'min': 0,'max': 1, 'palette': ['black', 'red']}, 'change map')\n",
        "mp.add_child(folium.LayerControl())"
      ],
      "metadata": {
        "colab": {
          "base_uri": "https://localhost:8080/",
          "height": 808
        },
        "id": "pQyk9l5c9Zba",
<<<<<<< HEAD
        "outputId": "3de5c16c-3fd9-497d-b9b2-75c54beaafb5"
=======
        "outputId": "8eb0259b-1fcc-4158-a127-41a0f1f952cb"
>>>>>>> 680a1a38307f154d73e7cf571db4c39b1a966f69
      },
      "execution_count": null,
      "outputs": [
        {
          "output_type": "execute_result",
          "data": {
            "text/plain": [
<<<<<<< HEAD
              "<folium.folium.Map at 0x7ee64044f6d0>"
=======
              "<folium.folium.Map at 0x7ee64044e4d0>"
>>>>>>> 680a1a38307f154d73e7cf571db4c39b1a966f69
            ],
            "text/html": [
              "<div style=\"width:100%;\"><div style=\"position:relative;width:100%;height:0;padding-bottom:60%;\"><span style=\"color:#565656\">Make this Notebook Trusted to load map: File -> Trust Notebook</span><iframe srcdoc=\"&lt;!DOCTYPE html&gt;\n",
              "&lt;html&gt;\n",
              "&lt;head&gt;\n",
              "    \n",
              "    &lt;meta http-equiv=&quot;content-type&quot; content=&quot;text/html; charset=UTF-8&quot; /&gt;\n",
              "    \n",
              "        &lt;script&gt;\n",
              "            L_NO_TOUCH = false;\n",
              "            L_DISABLE_3D = false;\n",
              "        &lt;/script&gt;\n",
              "    \n",
              "    &lt;style&gt;html, body {width: 100%;height: 100%;margin: 0;padding: 0;}&lt;/style&gt;\n",
              "    &lt;style&gt;#map {position:absolute;top:0;bottom:0;right:0;left:0;}&lt;/style&gt;\n",
              "    &lt;script src=&quot;https://cdn.jsdelivr.net/npm/leaflet@1.9.3/dist/leaflet.js&quot;&gt;&lt;/script&gt;\n",
              "    &lt;script src=&quot;https://code.jquery.com/jquery-1.12.4.min.js&quot;&gt;&lt;/script&gt;\n",
              "    &lt;script src=&quot;https://cdn.jsdelivr.net/npm/bootstrap@5.2.2/dist/js/bootstrap.bundle.min.js&quot;&gt;&lt;/script&gt;\n",
              "    &lt;script src=&quot;https://cdnjs.cloudflare.com/ajax/libs/Leaflet.awesome-markers/2.0.2/leaflet.awesome-markers.js&quot;&gt;&lt;/script&gt;\n",
              "    &lt;link rel=&quot;stylesheet&quot; href=&quot;https://cdn.jsdelivr.net/npm/leaflet@1.9.3/dist/leaflet.css&quot;/&gt;\n",
              "    &lt;link rel=&quot;stylesheet&quot; href=&quot;https://cdn.jsdelivr.net/npm/bootstrap@5.2.2/dist/css/bootstrap.min.css&quot;/&gt;\n",
              "    &lt;link rel=&quot;stylesheet&quot; href=&quot;https://netdna.bootstrapcdn.com/bootstrap/3.0.0/css/bootstrap.min.css&quot;/&gt;\n",
              "    &lt;link rel=&quot;stylesheet&quot; href=&quot;https://cdn.jsdelivr.net/npm/@fortawesome/fontawesome-free@6.2.0/css/all.min.css&quot;/&gt;\n",
              "    &lt;link rel=&quot;stylesheet&quot; href=&quot;https://cdnjs.cloudflare.com/ajax/libs/Leaflet.awesome-markers/2.0.2/leaflet.awesome-markers.css&quot;/&gt;\n",
              "    &lt;link rel=&quot;stylesheet&quot; href=&quot;https://cdn.jsdelivr.net/gh/python-visualization/folium/folium/templates/leaflet.awesome.rotate.min.css&quot;/&gt;\n",
              "    \n",
              "            &lt;meta name=&quot;viewport&quot; content=&quot;width=device-width,\n",
              "                initial-scale=1.0, maximum-scale=1.0, user-scalable=no&quot; /&gt;\n",
              "            &lt;style&gt;\n",
<<<<<<< HEAD
              "                #map_24b8272cef69cad064ff1f9967543b1e {\n",
=======
              "                #map_1cfcea568bfbfd122be9ae311525e19a {\n",
>>>>>>> 680a1a38307f154d73e7cf571db4c39b1a966f69
              "                    position: relative;\n",
              "                    width: 100.0%;\n",
              "                    height: 100.0%;\n",
              "                    left: 0.0%;\n",
              "                    top: 0.0%;\n",
              "                }\n",
              "                .leaflet-container { font-size: 1rem; }\n",
              "            &lt;/style&gt;\n",
              "        \n",
              "&lt;/head&gt;\n",
              "&lt;body&gt;\n",
              "    \n",
              "    \n",
<<<<<<< HEAD
              "            &lt;div class=&quot;folium-map&quot; id=&quot;map_24b8272cef69cad064ff1f9967543b1e&quot; &gt;&lt;/div&gt;\n",
=======
              "            &lt;div class=&quot;folium-map&quot; id=&quot;map_1cfcea568bfbfd122be9ae311525e19a&quot; &gt;&lt;/div&gt;\n",
>>>>>>> 680a1a38307f154d73e7cf571db4c39b1a966f69
              "        \n",
              "&lt;/body&gt;\n",
              "&lt;script&gt;\n",
              "    \n",
              "    \n",
<<<<<<< HEAD
              "            var map_24b8272cef69cad064ff1f9967543b1e = L.map(\n",
              "                &quot;map_24b8272cef69cad064ff1f9967543b1e&quot;,\n",
              "                {\n",
              "                    center: [36.84898993114767, 126.22203999999549],\n",
=======
              "            var map_1cfcea568bfbfd122be9ae311525e19a = L.map(\n",
              "                &quot;map_1cfcea568bfbfd122be9ae311525e19a&quot;,\n",
              "                {\n",
              "                    center: [36.848989931147514, 126.1995399999959],\n",
>>>>>>> 680a1a38307f154d73e7cf571db4c39b1a966f69
              "                    crs: L.CRS.EPSG3857,\n",
              "                    zoom: 11,\n",
              "                    zoomControl: true,\n",
              "                    preferCanvas: false,\n",
              "                }\n",
              "            );\n",
              "\n",
              "            \n",
              "\n",
              "        \n",
              "    \n",
<<<<<<< HEAD
              "            var tile_layer_6ff8addb17ac41d616f647bd201dafa7 = L.tileLayer(\n",
              "                &quot;https://{s}.tile.openstreetmap.org/{z}/{x}/{y}.png&quot;,\n",
              "                {&quot;attribution&quot;: &quot;Data by \\u0026copy; \\u003ca target=\\&quot;_blank\\&quot; href=\\&quot;http://openstreetmap.org\\&quot;\\u003eOpenStreetMap\\u003c/a\\u003e, under \\u003ca target=\\&quot;_blank\\&quot; href=\\&quot;http://www.openstreetmap.org/copyright\\&quot;\\u003eODbL\\u003c/a\\u003e.&quot;, &quot;detectRetina&quot;: false, &quot;maxNativeZoom&quot;: 18, &quot;maxZoom&quot;: 18, &quot;minZoom&quot;: 0, &quot;noWrap&quot;: false, &quot;opacity&quot;: 1, &quot;subdomains&quot;: &quot;abc&quot;, &quot;tms&quot;: false}\n",
              "            ).addTo(map_24b8272cef69cad064ff1f9967543b1e);\n",
              "        \n",
              "    \n",
              "            var tile_layer_2b1db0de99a86e0f12dd61b56a7dc9f4 = L.tileLayer(\n",
              "                &quot;https://earthengine.googleapis.com/v1/projects/earthengine-legacy/maps/1e4577129c15120250f8181e1362963c-1451c97be7b86caafdf89bf5f90356d3/tiles/{z}/{x}/{y}&quot;,\n",
              "                {&quot;attribution&quot;: &quot;Map Data \\u0026copy; \\u003ca href=\\&quot;https://earthengine.google.com/\\&quot;\\u003eGoogle Earth Engine\\u003c/a\\u003e&quot;, &quot;detectRetina&quot;: false, &quot;maxNativeZoom&quot;: 18, &quot;maxZoom&quot;: 18, &quot;minZoom&quot;: 0, &quot;noWrap&quot;: false, &quot;opacity&quot;: 1, &quot;subdomains&quot;: &quot;abc&quot;, &quot;tms&quot;: false}\n",
              "            ).addTo(map_24b8272cef69cad064ff1f9967543b1e);\n",
              "        \n",
              "    \n",
              "            var layer_control_064abc5a21d9724f2a4c0f7283b2779e = {\n",
              "                base_layers : {\n",
              "                    &quot;openstreetmap&quot; : tile_layer_6ff8addb17ac41d616f647bd201dafa7,\n",
              "                },\n",
              "                overlays :  {\n",
              "                    &quot;change map&quot; : tile_layer_2b1db0de99a86e0f12dd61b56a7dc9f4,\n",
              "                },\n",
              "            };\n",
              "            L.control.layers(\n",
              "                layer_control_064abc5a21d9724f2a4c0f7283b2779e.base_layers,\n",
              "                layer_control_064abc5a21d9724f2a4c0f7283b2779e.overlays,\n",
              "                {&quot;autoZIndex&quot;: true, &quot;collapsed&quot;: true, &quot;position&quot;: &quot;topright&quot;}\n",
              "            ).addTo(map_24b8272cef69cad064ff1f9967543b1e);\n",
=======
              "            var tile_layer_7b3890faec96e320d548dcfa99929c6f = L.tileLayer(\n",
              "                &quot;https://{s}.tile.openstreetmap.org/{z}/{x}/{y}.png&quot;,\n",
              "                {&quot;attribution&quot;: &quot;Data by \\u0026copy; \\u003ca target=\\&quot;_blank\\&quot; href=\\&quot;http://openstreetmap.org\\&quot;\\u003eOpenStreetMap\\u003c/a\\u003e, under \\u003ca target=\\&quot;_blank\\&quot; href=\\&quot;http://www.openstreetmap.org/copyright\\&quot;\\u003eODbL\\u003c/a\\u003e.&quot;, &quot;detectRetina&quot;: false, &quot;maxNativeZoom&quot;: 18, &quot;maxZoom&quot;: 18, &quot;minZoom&quot;: 0, &quot;noWrap&quot;: false, &quot;opacity&quot;: 1, &quot;subdomains&quot;: &quot;abc&quot;, &quot;tms&quot;: false}\n",
              "            ).addTo(map_1cfcea568bfbfd122be9ae311525e19a);\n",
              "        \n",
              "    \n",
              "            var tile_layer_6685eaf36a238924a01023318bc1ed64 = L.tileLayer(\n",
              "                &quot;https://earthengine.googleapis.com/v1/projects/earthengine-legacy/maps/a5abfdd54e49ce880932194ee730a280-f1571b903032545625cbd6cbd83a0c2c/tiles/{z}/{x}/{y}&quot;,\n",
              "                {&quot;attribution&quot;: &quot;Map Data \\u0026copy; \\u003ca href=\\&quot;https://earthengine.google.com/\\&quot;\\u003eGoogle Earth Engine\\u003c/a\\u003e&quot;, &quot;detectRetina&quot;: false, &quot;maxNativeZoom&quot;: 18, &quot;maxZoom&quot;: 18, &quot;minZoom&quot;: 0, &quot;noWrap&quot;: false, &quot;opacity&quot;: 1, &quot;subdomains&quot;: &quot;abc&quot;, &quot;tms&quot;: false}\n",
              "            ).addTo(map_1cfcea568bfbfd122be9ae311525e19a);\n",
              "        \n",
              "    \n",
              "            var layer_control_90d9ba3fb0422185a8b1a11004dbcb89 = {\n",
              "                base_layers : {\n",
              "                    &quot;openstreetmap&quot; : tile_layer_7b3890faec96e320d548dcfa99929c6f,\n",
              "                },\n",
              "                overlays :  {\n",
              "                    &quot;change map&quot; : tile_layer_6685eaf36a238924a01023318bc1ed64,\n",
              "                },\n",
              "            };\n",
              "            L.control.layers(\n",
              "                layer_control_90d9ba3fb0422185a8b1a11004dbcb89.base_layers,\n",
              "                layer_control_90d9ba3fb0422185a8b1a11004dbcb89.overlays,\n",
              "                {&quot;autoZIndex&quot;: true, &quot;collapsed&quot;: true, &quot;position&quot;: &quot;topright&quot;}\n",
              "            ).addTo(map_1cfcea568bfbfd122be9ae311525e19a);\n",
>>>>>>> 680a1a38307f154d73e7cf571db4c39b1a966f69
              "        \n",
              "&lt;/script&gt;\n",
              "&lt;/html&gt;\" style=\"position:absolute;width:100%;height:100%;left:0;top:0;border:none !important;\" allowfullscreen webkitallowfullscreen mozallowfullscreen></iframe></div></div>"
            ]
          },
          "metadata": {},
<<<<<<< HEAD
          "execution_count": 137
=======
          "execution_count": 107
>>>>>>> 680a1a38307f154d73e7cf571db4c39b1a966f69
        }
      ]
    },
    {
      "cell_type": "code",
      "source": [
        "c_map_10m = c_map.reproject(c_map.projection().crs(), scale=10)\n",
        "mp = folium.Map(location=location, zoom_start=11)\n",
        "mp.add_ee_layer(c_map, {'min': 0, 'max': 1, 'palette': ['black', 'red']}, 'Change map')\n",
        "mp.add_ee_layer(c_map_10m, {'min': 0, 'max': 1, 'palette': ['black', 'blue']}, 'Change map (10m)')\n",
        "\n",
        "mp.add_child(folium.LayerControl())"
      ],
      "metadata": {
        "colab": {
          "base_uri": "https://localhost:8080/",
          "height": 808
        },
        "id": "-qLusH979iL0",
<<<<<<< HEAD
        "outputId": "938da9b9-1d19-4421-ab1b-a68d249c367a"
=======
        "outputId": "42f3b087-bce1-4219-c8d2-c9fb787f5531"
>>>>>>> 680a1a38307f154d73e7cf571db4c39b1a966f69
      },
      "execution_count": null,
      "outputs": [
        {
          "output_type": "execute_result",
          "data": {
            "text/plain": [
<<<<<<< HEAD
              "<folium.folium.Map at 0x7ee64030b4f0>"
=======
              "<folium.folium.Map at 0x7ee64031f670>"
>>>>>>> 680a1a38307f154d73e7cf571db4c39b1a966f69
            ],
            "text/html": [
              "<div style=\"width:100%;\"><div style=\"position:relative;width:100%;height:0;padding-bottom:60%;\"><span style=\"color:#565656\">Make this Notebook Trusted to load map: File -> Trust Notebook</span><iframe srcdoc=\"&lt;!DOCTYPE html&gt;\n",
              "&lt;html&gt;\n",
              "&lt;head&gt;\n",
              "    \n",
              "    &lt;meta http-equiv=&quot;content-type&quot; content=&quot;text/html; charset=UTF-8&quot; /&gt;\n",
              "    \n",
              "        &lt;script&gt;\n",
              "            L_NO_TOUCH = false;\n",
              "            L_DISABLE_3D = false;\n",
              "        &lt;/script&gt;\n",
              "    \n",
              "    &lt;style&gt;html, body {width: 100%;height: 100%;margin: 0;padding: 0;}&lt;/style&gt;\n",
              "    &lt;style&gt;#map {position:absolute;top:0;bottom:0;right:0;left:0;}&lt;/style&gt;\n",
              "    &lt;script src=&quot;https://cdn.jsdelivr.net/npm/leaflet@1.9.3/dist/leaflet.js&quot;&gt;&lt;/script&gt;\n",
              "    &lt;script src=&quot;https://code.jquery.com/jquery-1.12.4.min.js&quot;&gt;&lt;/script&gt;\n",
              "    &lt;script src=&quot;https://cdn.jsdelivr.net/npm/bootstrap@5.2.2/dist/js/bootstrap.bundle.min.js&quot;&gt;&lt;/script&gt;\n",
              "    &lt;script src=&quot;https://cdnjs.cloudflare.com/ajax/libs/Leaflet.awesome-markers/2.0.2/leaflet.awesome-markers.js&quot;&gt;&lt;/script&gt;\n",
              "    &lt;link rel=&quot;stylesheet&quot; href=&quot;https://cdn.jsdelivr.net/npm/leaflet@1.9.3/dist/leaflet.css&quot;/&gt;\n",
              "    &lt;link rel=&quot;stylesheet&quot; href=&quot;https://cdn.jsdelivr.net/npm/bootstrap@5.2.2/dist/css/bootstrap.min.css&quot;/&gt;\n",
              "    &lt;link rel=&quot;stylesheet&quot; href=&quot;https://netdna.bootstrapcdn.com/bootstrap/3.0.0/css/bootstrap.min.css&quot;/&gt;\n",
              "    &lt;link rel=&quot;stylesheet&quot; href=&quot;https://cdn.jsdelivr.net/npm/@fortawesome/fontawesome-free@6.2.0/css/all.min.css&quot;/&gt;\n",
              "    &lt;link rel=&quot;stylesheet&quot; href=&quot;https://cdnjs.cloudflare.com/ajax/libs/Leaflet.awesome-markers/2.0.2/leaflet.awesome-markers.css&quot;/&gt;\n",
              "    &lt;link rel=&quot;stylesheet&quot; href=&quot;https://cdn.jsdelivr.net/gh/python-visualization/folium/folium/templates/leaflet.awesome.rotate.min.css&quot;/&gt;\n",
              "    \n",
              "            &lt;meta name=&quot;viewport&quot; content=&quot;width=device-width,\n",
              "                initial-scale=1.0, maximum-scale=1.0, user-scalable=no&quot; /&gt;\n",
              "            &lt;style&gt;\n",
<<<<<<< HEAD
              "                #map_2ddfa190146f2d6e9dd50807f14b422f {\n",
=======
              "                #map_ee1f679d9ed28cedc5073a7ceb55ccdc {\n",
>>>>>>> 680a1a38307f154d73e7cf571db4c39b1a966f69
              "                    position: relative;\n",
              "                    width: 100.0%;\n",
              "                    height: 100.0%;\n",
              "                    left: 0.0%;\n",
              "                    top: 0.0%;\n",
              "                }\n",
              "                .leaflet-container { font-size: 1rem; }\n",
              "            &lt;/style&gt;\n",
              "        \n",
              "&lt;/head&gt;\n",
              "&lt;body&gt;\n",
              "    \n",
              "    \n",
<<<<<<< HEAD
              "            &lt;div class=&quot;folium-map&quot; id=&quot;map_2ddfa190146f2d6e9dd50807f14b422f&quot; &gt;&lt;/div&gt;\n",
=======
              "            &lt;div class=&quot;folium-map&quot; id=&quot;map_ee1f679d9ed28cedc5073a7ceb55ccdc&quot; &gt;&lt;/div&gt;\n",
>>>>>>> 680a1a38307f154d73e7cf571db4c39b1a966f69
              "        \n",
              "&lt;/body&gt;\n",
              "&lt;script&gt;\n",
              "    \n",
              "    \n",
<<<<<<< HEAD
              "            var map_2ddfa190146f2d6e9dd50807f14b422f = L.map(\n",
              "                &quot;map_2ddfa190146f2d6e9dd50807f14b422f&quot;,\n",
              "                {\n",
              "                    center: [36.84898993114767, 126.22203999999549],\n",
=======
              "            var map_ee1f679d9ed28cedc5073a7ceb55ccdc = L.map(\n",
              "                &quot;map_ee1f679d9ed28cedc5073a7ceb55ccdc&quot;,\n",
              "                {\n",
              "                    center: [36.848989931147514, 126.1995399999959],\n",
>>>>>>> 680a1a38307f154d73e7cf571db4c39b1a966f69
              "                    crs: L.CRS.EPSG3857,\n",
              "                    zoom: 11,\n",
              "                    zoomControl: true,\n",
              "                    preferCanvas: false,\n",
              "                }\n",
              "            );\n",
              "\n",
              "            \n",
              "\n",
              "        \n",
              "    \n",
<<<<<<< HEAD
              "            var tile_layer_972b2b15b6866e577a6bd51fd5cfb49c = L.tileLayer(\n",
              "                &quot;https://{s}.tile.openstreetmap.org/{z}/{x}/{y}.png&quot;,\n",
              "                {&quot;attribution&quot;: &quot;Data by \\u0026copy; \\u003ca target=\\&quot;_blank\\&quot; href=\\&quot;http://openstreetmap.org\\&quot;\\u003eOpenStreetMap\\u003c/a\\u003e, under \\u003ca target=\\&quot;_blank\\&quot; href=\\&quot;http://www.openstreetmap.org/copyright\\&quot;\\u003eODbL\\u003c/a\\u003e.&quot;, &quot;detectRetina&quot;: false, &quot;maxNativeZoom&quot;: 18, &quot;maxZoom&quot;: 18, &quot;minZoom&quot;: 0, &quot;noWrap&quot;: false, &quot;opacity&quot;: 1, &quot;subdomains&quot;: &quot;abc&quot;, &quot;tms&quot;: false}\n",
              "            ).addTo(map_2ddfa190146f2d6e9dd50807f14b422f);\n",
              "        \n",
              "    \n",
              "            var tile_layer_95e1e1d7125f280a5fdc9bf568b9aaad = L.tileLayer(\n",
              "                &quot;https://earthengine.googleapis.com/v1/projects/earthengine-legacy/maps/1e4577129c15120250f8181e1362963c-9640d94bdd697037ebaa64f1554e4e2a/tiles/{z}/{x}/{y}&quot;,\n",
              "                {&quot;attribution&quot;: &quot;Map Data \\u0026copy; \\u003ca href=\\&quot;https://earthengine.google.com/\\&quot;\\u003eGoogle Earth Engine\\u003c/a\\u003e&quot;, &quot;detectRetina&quot;: false, &quot;maxNativeZoom&quot;: 18, &quot;maxZoom&quot;: 18, &quot;minZoom&quot;: 0, &quot;noWrap&quot;: false, &quot;opacity&quot;: 1, &quot;subdomains&quot;: &quot;abc&quot;, &quot;tms&quot;: false}\n",
              "            ).addTo(map_2ddfa190146f2d6e9dd50807f14b422f);\n",
              "        \n",
              "    \n",
              "            var tile_layer_217dc226c5541b687011f3e446cb64f5 = L.tileLayer(\n",
              "                &quot;https://earthengine.googleapis.com/v1/projects/earthengine-legacy/maps/7f7be8c1b9af396dd72bb6fdf7daecee-c59583d1de637c4e71f43f3069ba74d9/tiles/{z}/{x}/{y}&quot;,\n",
              "                {&quot;attribution&quot;: &quot;Map Data \\u0026copy; \\u003ca href=\\&quot;https://earthengine.google.com/\\&quot;\\u003eGoogle Earth Engine\\u003c/a\\u003e&quot;, &quot;detectRetina&quot;: false, &quot;maxNativeZoom&quot;: 18, &quot;maxZoom&quot;: 18, &quot;minZoom&quot;: 0, &quot;noWrap&quot;: false, &quot;opacity&quot;: 1, &quot;subdomains&quot;: &quot;abc&quot;, &quot;tms&quot;: false}\n",
              "            ).addTo(map_2ddfa190146f2d6e9dd50807f14b422f);\n",
              "        \n",
              "    \n",
              "            var layer_control_8eeec1924dcaf54c6a8855123c2e610e = {\n",
              "                base_layers : {\n",
              "                    &quot;openstreetmap&quot; : tile_layer_972b2b15b6866e577a6bd51fd5cfb49c,\n",
              "                },\n",
              "                overlays :  {\n",
              "                    &quot;Change map&quot; : tile_layer_95e1e1d7125f280a5fdc9bf568b9aaad,\n",
              "                    &quot;Change map (10m)&quot; : tile_layer_217dc226c5541b687011f3e446cb64f5,\n",
              "                },\n",
              "            };\n",
              "            L.control.layers(\n",
              "                layer_control_8eeec1924dcaf54c6a8855123c2e610e.base_layers,\n",
              "                layer_control_8eeec1924dcaf54c6a8855123c2e610e.overlays,\n",
              "                {&quot;autoZIndex&quot;: true, &quot;collapsed&quot;: true, &quot;position&quot;: &quot;topright&quot;}\n",
              "            ).addTo(map_2ddfa190146f2d6e9dd50807f14b422f);\n",
=======
              "            var tile_layer_d38a7cc1e1cc67960e071a628970340a = L.tileLayer(\n",
              "                &quot;https://{s}.tile.openstreetmap.org/{z}/{x}/{y}.png&quot;,\n",
              "                {&quot;attribution&quot;: &quot;Data by \\u0026copy; \\u003ca target=\\&quot;_blank\\&quot; href=\\&quot;http://openstreetmap.org\\&quot;\\u003eOpenStreetMap\\u003c/a\\u003e, under \\u003ca target=\\&quot;_blank\\&quot; href=\\&quot;http://www.openstreetmap.org/copyright\\&quot;\\u003eODbL\\u003c/a\\u003e.&quot;, &quot;detectRetina&quot;: false, &quot;maxNativeZoom&quot;: 18, &quot;maxZoom&quot;: 18, &quot;minZoom&quot;: 0, &quot;noWrap&quot;: false, &quot;opacity&quot;: 1, &quot;subdomains&quot;: &quot;abc&quot;, &quot;tms&quot;: false}\n",
              "            ).addTo(map_ee1f679d9ed28cedc5073a7ceb55ccdc);\n",
              "        \n",
              "    \n",
              "            var tile_layer_cd755353e556abe4f44e96e2ded512ca = L.tileLayer(\n",
              "                &quot;https://earthengine.googleapis.com/v1/projects/earthengine-legacy/maps/a5abfdd54e49ce880932194ee730a280-53a0609daddd712b95f5da9de63ed7f2/tiles/{z}/{x}/{y}&quot;,\n",
              "                {&quot;attribution&quot;: &quot;Map Data \\u0026copy; \\u003ca href=\\&quot;https://earthengine.google.com/\\&quot;\\u003eGoogle Earth Engine\\u003c/a\\u003e&quot;, &quot;detectRetina&quot;: false, &quot;maxNativeZoom&quot;: 18, &quot;maxZoom&quot;: 18, &quot;minZoom&quot;: 0, &quot;noWrap&quot;: false, &quot;opacity&quot;: 1, &quot;subdomains&quot;: &quot;abc&quot;, &quot;tms&quot;: false}\n",
              "            ).addTo(map_ee1f679d9ed28cedc5073a7ceb55ccdc);\n",
              "        \n",
              "    \n",
              "            var tile_layer_b490dd454a7f23682caf8132b85ea0fc = L.tileLayer(\n",
              "                &quot;https://earthengine.googleapis.com/v1/projects/earthengine-legacy/maps/2f49d5b07c9477374a9ea21799129bcb-7a715ab22d9c2221922eda4941dfad89/tiles/{z}/{x}/{y}&quot;,\n",
              "                {&quot;attribution&quot;: &quot;Map Data \\u0026copy; \\u003ca href=\\&quot;https://earthengine.google.com/\\&quot;\\u003eGoogle Earth Engine\\u003c/a\\u003e&quot;, &quot;detectRetina&quot;: false, &quot;maxNativeZoom&quot;: 18, &quot;maxZoom&quot;: 18, &quot;minZoom&quot;: 0, &quot;noWrap&quot;: false, &quot;opacity&quot;: 1, &quot;subdomains&quot;: &quot;abc&quot;, &quot;tms&quot;: false}\n",
              "            ).addTo(map_ee1f679d9ed28cedc5073a7ceb55ccdc);\n",
              "        \n",
              "    \n",
              "            var layer_control_b5cafc8213a6bd2d863856b28841815f = {\n",
              "                base_layers : {\n",
              "                    &quot;openstreetmap&quot; : tile_layer_d38a7cc1e1cc67960e071a628970340a,\n",
              "                },\n",
              "                overlays :  {\n",
              "                    &quot;Change map&quot; : tile_layer_cd755353e556abe4f44e96e2ded512ca,\n",
              "                    &quot;Change map (10m)&quot; : tile_layer_b490dd454a7f23682caf8132b85ea0fc,\n",
              "                },\n",
              "            };\n",
              "            L.control.layers(\n",
              "                layer_control_b5cafc8213a6bd2d863856b28841815f.base_layers,\n",
              "                layer_control_b5cafc8213a6bd2d863856b28841815f.overlays,\n",
              "                {&quot;autoZIndex&quot;: true, &quot;collapsed&quot;: true, &quot;position&quot;: &quot;topright&quot;}\n",
              "            ).addTo(map_ee1f679d9ed28cedc5073a7ceb55ccdc);\n",
>>>>>>> 680a1a38307f154d73e7cf571db4c39b1a966f69
              "        \n",
              "&lt;/script&gt;\n",
              "&lt;/html&gt;\" style=\"position:absolute;width:100%;height:100%;left:0;top:0;border:none !important;\" allowfullscreen webkitallowfullscreen mozallowfullscreen></iframe></div></div>"
            ]
          },
          "metadata": {},
<<<<<<< HEAD
          "execution_count": 138
=======
          "execution_count": 108
>>>>>>> 680a1a38307f154d73e7cf571db4c39b1a966f69
        }
      ]
    },
    {
      "cell_type": "code",
      "source": [
        "def sample_vv_imgs(j):\n",
        "    \"\"\"Samples the test statistics Rj in the region aoi_sub.\"\"\"\n",
        "    j = ee.Number(j)\n",
        "    # Get the factors in the expression for Rj.\n",
        "    sj = vv_list.get(j.subtract(1))\n",
        "    jfact = j.pow(j).divide(j.subtract(1).pow(j.subtract(1)))\n",
        "    sumj = ee.ImageCollection(vv_list.slice(0, j)).reduce(ee.Reducer.sum())\n",
        "    sumjm1 = ee.ImageCollection(vv_list.slice(0, j.subtract(1))).reduce(ee.Reducer.sum())\n",
        "    # Put them together.\n",
        "    Rj = sumjm1.pow(j.subtract(1)).multiply(sj).multiply(jfact).divide(sumj.pow(j)).pow(5)\n",
        "    # Sample Rj.\n",
        "    sample = (Rj.sample(region=aoi_sub, scale=10, numPixels=1000, seed=123)\n",
        "              .aggregate_array('VV_sum'))\n",
        "    return sample\n",
        "\n",
        "# Sample the first few list indices.\n",
        "samples = ee.List.sequence(2, 8).map(sample_vv_imgs)\n",
        "\n",
        "# Calculate and display the correlation matrix.\n",
        "np.set_printoptions(precision=2, suppress=True)\n",
        "print(np.corrcoef(samples.getInfo()))"
      ],
      "metadata": {
        "colab": {
          "base_uri": "https://localhost:8080/"
        },
        "id": "BAsvqc009rT6",
<<<<<<< HEAD
        "outputId": "4588fe7a-1fe0-4563-9016-69ce6b9bca97"
=======
        "outputId": "2eba1a89-4ec9-416e-febd-39ad0491e6c4"
>>>>>>> 680a1a38307f154d73e7cf571db4c39b1a966f69
      },
      "execution_count": null,
      "outputs": [
        {
          "output_type": "stream",
          "name": "stdout",
          "text": [
<<<<<<< HEAD
            "[[1.   0.02 0.06 0.12 0.12 0.1  0.06]\n",
            " [0.02 1.   0.07 0.12 0.02 0.08 0.09]\n",
            " [0.06 0.07 1.   0.23 0.09 0.13 0.11]\n",
            " [0.12 0.12 0.23 1.   0.12 0.12 0.09]\n",
            " [0.12 0.02 0.09 0.12 1.   0.26 0.21]\n",
            " [0.1  0.08 0.13 0.12 0.26 1.   0.39]\n",
            " [0.06 0.09 0.11 0.09 0.21 0.39 1.  ]]\n"
=======
            "[[ 1.    0.5   0.55  0.2   0.17  0.14  0.17]\n",
            " [ 0.5   1.    0.53  0.41 -0.   -0.03  0.08]\n",
            " [ 0.55  0.53  1.    0.22  0.08  0.03  0.04]\n",
            " [ 0.2   0.41  0.22  1.    0.01  0.01  0.1 ]\n",
            " [ 0.17 -0.    0.08  0.01  1.    0.99  0.83]\n",
            " [ 0.14 -0.03  0.03  0.01  0.99  1.    0.86]\n",
            " [ 0.17  0.08  0.04  0.1   0.83  0.86  1.  ]]\n"
>>>>>>> 680a1a38307f154d73e7cf571db4c39b1a966f69
          ]
        }
      ]
    },
    {
      "cell_type": "code",
      "source": [
        "def log_det_sum(im_list, j):\n",
        "    \"\"\"Returns log of determinant of the sum of the first j images in im_list.\"\"\"\n",
        "    im_ist = ee.List(im_list)\n",
        "    sumj = ee.ImageCollection(im_list.slice(0, j)).reduce(ee.Reducer.sum())\n",
        "    return ee.Image(det(sumj)).log()\n",
        "\n",
        "def log_det(im_list, j):\n",
        "    \"\"\"Returns log of the determinant of the jth image in im_list.\"\"\"\n",
        "    im = ee.Image(ee.List(im_list).get(j.subtract(1)))\n",
        "    return ee.Image(det(im)).log()\n",
        "\n",
        "def pval(im_list, j, m=4.4):\n",
        "    \"\"\"Calculates -2logRj for im_list and returns P value and -2logRj.\"\"\"\n",
        "    im_list = ee.List(im_list)\n",
        "    j = ee.Number(j)\n",
        "    m2logRj = (log_det_sum(im_list, j.subtract(1))\n",
        "               .multiply(j.subtract(1))\n",
        "               .add(log_det(im_list, j))\n",
        "               .add(ee.Number(2).multiply(j).multiply(j.log()))\n",
        "               .subtract(ee.Number(2).multiply(j.subtract(1))\n",
        "               .multiply(j.subtract(1).log()))\n",
        "               .subtract(log_det_sum(im_list,j).multiply(j))\n",
        "               .multiply(-2).multiply(m))\n",
        "    pv = ee.Image.constant(1).subtract(chi2cdf(m2logRj, 2))\n",
        "    return (pv, m2logRj)\n",
        "\n",
        "def p_values(im_list):\n",
        "    \"\"\"Pre-calculates the P-value array for a list of images.\"\"\"\n",
        "    im_list = ee.List(im_list)\n",
        "    k = im_list.length()\n",
        "\n",
        "    def ells_map(ell):\n",
        "        \"\"\"Arranges calculation of pval for combinations of k and j.\"\"\"\n",
        "        ell = ee.Number(ell)\n",
        "        # Slice the series from k-l+1 to k (image indices start from 0).\n",
        "        im_list_ell = im_list.slice(k.subtract(ell), k)\n",
        "\n",
        "        def js_map(j):\n",
        "            \"\"\"Applies pval calculation for combinations of k and j.\"\"\"\n",
        "            j = ee.Number(j)\n",
        "            pv1, m2logRj1 = pval(im_list_ell, j)\n",
        "            return ee.Feature(None, {'pv': pv1, 'm2logRj': m2logRj1})\n",
        "\n",
        "        # Map over j=2,3,...,l.\n",
        "        js = ee.List.sequence(2, ell)\n",
        "        pv_m2logRj = ee.FeatureCollection(js.map(js_map))\n",
        "\n",
        "        # Calculate m2logQl from collection of m2logRj images.\n",
        "        m2logQl = ee.ImageCollection(pv_m2logRj.aggregate_array('m2logRj')).sum()\n",
        "        pvQl = ee.Image.constant(1).subtract(chi2cdf(m2logQl, ell.subtract(1).multiply(2)))\n",
        "        pvs = ee.List(pv_m2logRj.aggregate_array('pv')).add(pvQl)\n",
        "        return pvs\n",
        "\n",
        "    # Map over l = k to 2.\n",
        "    ells = ee.List.sequence(k, 2, -1)\n",
        "    pv_arr = ells.map(ells_map)\n",
        "\n",
        "    # Return the P value array ell = k,...,2, j = 2,...,l.\n",
        "    return pv_arr"
      ],
      "metadata": {
        "id": "1hPDecuz94QR"
      },
      "execution_count": null,
      "outputs": []
    },
    {
      "cell_type": "code",
      "source": [
        "def filter_j(current, prev):\n",
        "    \"\"\"Calculates change maps; iterates over j indices of pv_arr.\"\"\"\n",
        "    pv = ee.Image(current)\n",
        "    prev = ee.Dictionary(prev)\n",
        "    pvQ = ee.Image(prev.get('pvQ'))\n",
        "    i = ee.Number(prev.get('i'))\n",
        "    cmap = ee.Image(prev.get('cmap'))\n",
        "    smap = ee.Image(prev.get('smap'))\n",
        "    fmap = ee.Image(prev.get('fmap'))\n",
        "    bmap = ee.Image(prev.get('bmap'))\n",
        "    alpha = ee.Image(prev.get('alpha'))\n",
        "    j = ee.Number(prev.get('j'))\n",
        "    cmapj = cmap.multiply(0).add(i.add(j).subtract(1))\n",
        "    # Check      Rj?            Ql?                  Row i?\n",
        "    tst = pv.lt(alpha).And(pvQ.lt(alpha)).And(cmap.eq(i.subtract(1)))\n",
        "    # Then update cmap...\n",
        "    cmap = cmap.where(tst, cmapj)\n",
        "    # ...and fmap...\n",
        "    fmap = fmap.where(tst, fmap.add(1))\n",
        "    # ...and smap only if in first row.\n",
        "    smap = ee.Algorithms.If(i.eq(1), smap.where(tst, cmapj), smap)\n",
        "    # Create bmap band and add it to bmap image.\n",
        "    idx = i.add(j).subtract(2)\n",
        "    tmp = bmap.select(idx)\n",
        "    bname = bmap.bandNames().get(idx)\n",
        "    tmp = tmp.where(tst, 1)\n",
        "    tmp = tmp.rename([bname])\n",
        "    bmap = bmap.addBands(tmp, [bname], True)\n",
        "    return ee.Dictionary({'i': i, 'j': j.add(1), 'alpha': alpha, 'pvQ': pvQ,\n",
        "                          'cmap': cmap, 'smap': smap, 'fmap': fmap, 'bmap':bmap})\n",
        "\n",
        "def filter_i(current, prev):\n",
        "    \"\"\"Arranges calculation of change maps; iterates over row-indices of pv_arr.\"\"\"\n",
        "    current = ee.List(current)\n",
        "    pvs = current.slice(0, -1 )\n",
        "    pvQ = ee.Image(current.get(-1))\n",
        "    prev = ee.Dictionary(prev)\n",
        "    i = ee.Number(prev.get('i'))\n",
        "    alpha = ee.Image(prev.get('alpha'))\n",
        "    median = prev.get('median')\n",
        "    # Filter Ql p value if desired.\n",
        "    pvQ = ee.Algorithms.If(median, pvQ.focalMedian(2.5), pvQ)\n",
        "    cmap = prev.get('cmap')\n",
        "    smap = prev.get('smap')\n",
        "    fmap = prev.get('fmap')\n",
        "    bmap = prev.get('bmap')\n",
        "    first = ee.Dictionary({'i': i, 'j': 1, 'alpha': alpha ,'pvQ': pvQ,\n",
        "                           'cmap': cmap, 'smap': smap, 'fmap': fmap, 'bmap': bmap})\n",
        "    result = ee.Dictionary(ee.List(pvs).iterate(filter_j, first))\n",
        "    return ee.Dictionary({'i': i.add(1), 'alpha': alpha, 'median': median,\n",
        "                          'cmap': result.get('cmap'), 'smap': result.get('smap'),\n",
        "                          'fmap': result.get('fmap'), 'bmap': result.get('bmap')})"
      ],
      "metadata": {
        "id": "SFno66OT97v6"
      },
      "execution_count": null,
      "outputs": []
    },
    {
      "cell_type": "code",
      "source": [
        "def change_maps(im_list, median=False, alpha=0.01):\n",
        "    \"\"\"Calculates thematic change maps.\"\"\"\n",
        "    k = im_list.length()\n",
        "    # Pre-calculate the P value array.\n",
        "    pv_arr = ee.List(p_values(im_list))\n",
        "    # Filter P values for change maps.\n",
        "    cmap = ee.Image(im_list.get(0)).select(0).multiply(0)\n",
        "    bmap = ee.Image.constant(ee.List.repeat(0, k.subtract(1))).add(cmap)\n",
        "    alpha = ee.Image.constant(alpha)\n",
        "    first = ee.Dictionary({'i': 1, 'alpha': alpha, 'median': median,\n",
        "                           'cmap': cmap, 'smap': cmap, 'fmap': cmap, 'bmap': bmap})\n",
        "    return ee.Dictionary(pv_arr.iterate(filter_i, first))"
      ],
      "metadata": {
        "id": "WaYD3HRY-E26"
      },
      "execution_count": null,
      "outputs": []
    },
    {
      "cell_type": "code",
      "source": [
        "result = change_maps(im_list, median=True, alpha=0.05)\n",
        "\n",
        "# Extract the change maps and display.\n",
        "cmap = ee.Image(result.get('cmap'))\n",
        "smap = ee.Image(result.get('smap'))\n",
        "fmap = ee.Image(result.get('fmap'))\n",
        "location = aoi.centroid().coordinates().getInfo()[::-1]\n",
        "palette = ['black', 'blue', 'cyan', 'yellow', 'red']\n",
        "mp = folium.Map(location=location, zoom_start=11)\n",
        "mp.add_ee_layer(cmap, {'min': 0, 'max': 25, 'palette': palette}, 'cmap')\n",
        "mp.add_ee_layer(smap, {'min': 0, 'max': 25, 'palette': palette}, 'smap')\n",
        "mp.add_ee_layer(fmap, {'min': 0, 'max': 25, 'palette': palette}, 'fmap')\n",
        "mp.add_child(folium.LayerControl())"
      ],
      "metadata": {
        "colab": {
          "base_uri": "https://localhost:8080/",
          "height": 808
        },
        "id": "ic6t8XRW99fz",
<<<<<<< HEAD
        "outputId": "72000362-77ce-4d88-a4a4-65cfe88fd360"
=======
        "outputId": "fdfd5e22-9045-4795-a342-7953b7ad79ad"
>>>>>>> 680a1a38307f154d73e7cf571db4c39b1a966f69
      },
      "execution_count": null,
      "outputs": [
        {
          "output_type": "execute_result",
          "data": {
            "text/plain": [
<<<<<<< HEAD
              "<folium.folium.Map at 0x7ee6402bc490>"
=======
              "<folium.folium.Map at 0x7ee64031d630>"
>>>>>>> 680a1a38307f154d73e7cf571db4c39b1a966f69
            ],
            "text/html": [
              "<div style=\"width:100%;\"><div style=\"position:relative;width:100%;height:0;padding-bottom:60%;\"><span style=\"color:#565656\">Make this Notebook Trusted to load map: File -> Trust Notebook</span><iframe srcdoc=\"&lt;!DOCTYPE html&gt;\n",
              "&lt;html&gt;\n",
              "&lt;head&gt;\n",
              "    \n",
              "    &lt;meta http-equiv=&quot;content-type&quot; content=&quot;text/html; charset=UTF-8&quot; /&gt;\n",
              "    \n",
              "        &lt;script&gt;\n",
              "            L_NO_TOUCH = false;\n",
              "            L_DISABLE_3D = false;\n",
              "        &lt;/script&gt;\n",
              "    \n",
              "    &lt;style&gt;html, body {width: 100%;height: 100%;margin: 0;padding: 0;}&lt;/style&gt;\n",
              "    &lt;style&gt;#map {position:absolute;top:0;bottom:0;right:0;left:0;}&lt;/style&gt;\n",
              "    &lt;script src=&quot;https://cdn.jsdelivr.net/npm/leaflet@1.9.3/dist/leaflet.js&quot;&gt;&lt;/script&gt;\n",
              "    &lt;script src=&quot;https://code.jquery.com/jquery-1.12.4.min.js&quot;&gt;&lt;/script&gt;\n",
              "    &lt;script src=&quot;https://cdn.jsdelivr.net/npm/bootstrap@5.2.2/dist/js/bootstrap.bundle.min.js&quot;&gt;&lt;/script&gt;\n",
              "    &lt;script src=&quot;https://cdnjs.cloudflare.com/ajax/libs/Leaflet.awesome-markers/2.0.2/leaflet.awesome-markers.js&quot;&gt;&lt;/script&gt;\n",
              "    &lt;link rel=&quot;stylesheet&quot; href=&quot;https://cdn.jsdelivr.net/npm/leaflet@1.9.3/dist/leaflet.css&quot;/&gt;\n",
              "    &lt;link rel=&quot;stylesheet&quot; href=&quot;https://cdn.jsdelivr.net/npm/bootstrap@5.2.2/dist/css/bootstrap.min.css&quot;/&gt;\n",
              "    &lt;link rel=&quot;stylesheet&quot; href=&quot;https://netdna.bootstrapcdn.com/bootstrap/3.0.0/css/bootstrap.min.css&quot;/&gt;\n",
              "    &lt;link rel=&quot;stylesheet&quot; href=&quot;https://cdn.jsdelivr.net/npm/@fortawesome/fontawesome-free@6.2.0/css/all.min.css&quot;/&gt;\n",
              "    &lt;link rel=&quot;stylesheet&quot; href=&quot;https://cdnjs.cloudflare.com/ajax/libs/Leaflet.awesome-markers/2.0.2/leaflet.awesome-markers.css&quot;/&gt;\n",
              "    &lt;link rel=&quot;stylesheet&quot; href=&quot;https://cdn.jsdelivr.net/gh/python-visualization/folium/folium/templates/leaflet.awesome.rotate.min.css&quot;/&gt;\n",
              "    \n",
              "            &lt;meta name=&quot;viewport&quot; content=&quot;width=device-width,\n",
              "                initial-scale=1.0, maximum-scale=1.0, user-scalable=no&quot; /&gt;\n",
              "            &lt;style&gt;\n",
<<<<<<< HEAD
              "                #map_69cfed54e4b848a45fcddb84666870bb {\n",
=======
              "                #map_d64b2ee6a54479828717670323af5657 {\n",
>>>>>>> 680a1a38307f154d73e7cf571db4c39b1a966f69
              "                    position: relative;\n",
              "                    width: 100.0%;\n",
              "                    height: 100.0%;\n",
              "                    left: 0.0%;\n",
              "                    top: 0.0%;\n",
              "                }\n",
              "                .leaflet-container { font-size: 1rem; }\n",
              "            &lt;/style&gt;\n",
              "        \n",
              "&lt;/head&gt;\n",
              "&lt;body&gt;\n",
              "    \n",
              "    \n",
<<<<<<< HEAD
              "            &lt;div class=&quot;folium-map&quot; id=&quot;map_69cfed54e4b848a45fcddb84666870bb&quot; &gt;&lt;/div&gt;\n",
=======
              "            &lt;div class=&quot;folium-map&quot; id=&quot;map_d64b2ee6a54479828717670323af5657&quot; &gt;&lt;/div&gt;\n",
>>>>>>> 680a1a38307f154d73e7cf571db4c39b1a966f69
              "        \n",
              "&lt;/body&gt;\n",
              "&lt;script&gt;\n",
              "    \n",
              "    \n",
<<<<<<< HEAD
              "            var map_69cfed54e4b848a45fcddb84666870bb = L.map(\n",
              "                &quot;map_69cfed54e4b848a45fcddb84666870bb&quot;,\n",
              "                {\n",
              "                    center: [36.84898993114767, 126.22203999999549],\n",
=======
              "            var map_d64b2ee6a54479828717670323af5657 = L.map(\n",
              "                &quot;map_d64b2ee6a54479828717670323af5657&quot;,\n",
              "                {\n",
              "                    center: [36.848989931147514, 126.1995399999959],\n",
>>>>>>> 680a1a38307f154d73e7cf571db4c39b1a966f69
              "                    crs: L.CRS.EPSG3857,\n",
              "                    zoom: 11,\n",
              "                    zoomControl: true,\n",
              "                    preferCanvas: false,\n",
              "                }\n",
              "            );\n",
              "\n",
              "            \n",
              "\n",
              "        \n",
              "    \n",
<<<<<<< HEAD
              "            var tile_layer_be7d14f8b5a2f80c7527c56d2d205681 = L.tileLayer(\n",
              "                &quot;https://{s}.tile.openstreetmap.org/{z}/{x}/{y}.png&quot;,\n",
              "                {&quot;attribution&quot;: &quot;Data by \\u0026copy; \\u003ca target=\\&quot;_blank\\&quot; href=\\&quot;http://openstreetmap.org\\&quot;\\u003eOpenStreetMap\\u003c/a\\u003e, under \\u003ca target=\\&quot;_blank\\&quot; href=\\&quot;http://www.openstreetmap.org/copyright\\&quot;\\u003eODbL\\u003c/a\\u003e.&quot;, &quot;detectRetina&quot;: false, &quot;maxNativeZoom&quot;: 18, &quot;maxZoom&quot;: 18, &quot;minZoom&quot;: 0, &quot;noWrap&quot;: false, &quot;opacity&quot;: 1, &quot;subdomains&quot;: &quot;abc&quot;, &quot;tms&quot;: false}\n",
              "            ).addTo(map_69cfed54e4b848a45fcddb84666870bb);\n",
              "        \n",
              "    \n",
              "            var tile_layer_5d73cf3e4cc4dceeb5c1f5f6296244b8 = L.tileLayer(\n",
              "                &quot;https://earthengine.googleapis.com/v1/projects/earthengine-legacy/maps/449b5ccf503c6ccc56c58e6c90cb03e3-4274ddc112ae13512f8d50eae4585e32/tiles/{z}/{x}/{y}&quot;,\n",
              "                {&quot;attribution&quot;: &quot;Map Data \\u0026copy; \\u003ca href=\\&quot;https://earthengine.google.com/\\&quot;\\u003eGoogle Earth Engine\\u003c/a\\u003e&quot;, &quot;detectRetina&quot;: false, &quot;maxNativeZoom&quot;: 18, &quot;maxZoom&quot;: 18, &quot;minZoom&quot;: 0, &quot;noWrap&quot;: false, &quot;opacity&quot;: 1, &quot;subdomains&quot;: &quot;abc&quot;, &quot;tms&quot;: false}\n",
              "            ).addTo(map_69cfed54e4b848a45fcddb84666870bb);\n",
              "        \n",
              "    \n",
              "            var tile_layer_16eddf3af73b8e6ea5e6389b9f97a9a4 = L.tileLayer(\n",
              "                &quot;https://earthengine.googleapis.com/v1/projects/earthengine-legacy/maps/3ca40592e642d797c289a22a581401bf-8e2713b2762af7087704c422beabfaa6/tiles/{z}/{x}/{y}&quot;,\n",
              "                {&quot;attribution&quot;: &quot;Map Data \\u0026copy; \\u003ca href=\\&quot;https://earthengine.google.com/\\&quot;\\u003eGoogle Earth Engine\\u003c/a\\u003e&quot;, &quot;detectRetina&quot;: false, &quot;maxNativeZoom&quot;: 18, &quot;maxZoom&quot;: 18, &quot;minZoom&quot;: 0, &quot;noWrap&quot;: false, &quot;opacity&quot;: 1, &quot;subdomains&quot;: &quot;abc&quot;, &quot;tms&quot;: false}\n",
              "            ).addTo(map_69cfed54e4b848a45fcddb84666870bb);\n",
              "        \n",
              "    \n",
              "            var tile_layer_6074c16f0b892928af4f4bdbedf138e8 = L.tileLayer(\n",
              "                &quot;https://earthengine.googleapis.com/v1/projects/earthengine-legacy/maps/caf8797eef6a33a5c2ecff484cd73aec-9e417239f1b77218f93f7bd2f382e07a/tiles/{z}/{x}/{y}&quot;,\n",
              "                {&quot;attribution&quot;: &quot;Map Data \\u0026copy; \\u003ca href=\\&quot;https://earthengine.google.com/\\&quot;\\u003eGoogle Earth Engine\\u003c/a\\u003e&quot;, &quot;detectRetina&quot;: false, &quot;maxNativeZoom&quot;: 18, &quot;maxZoom&quot;: 18, &quot;minZoom&quot;: 0, &quot;noWrap&quot;: false, &quot;opacity&quot;: 1, &quot;subdomains&quot;: &quot;abc&quot;, &quot;tms&quot;: false}\n",
              "            ).addTo(map_69cfed54e4b848a45fcddb84666870bb);\n",
              "        \n",
              "    \n",
              "            var layer_control_9d5ad06f6dbbce037a93590b732ea0fd = {\n",
              "                base_layers : {\n",
              "                    &quot;openstreetmap&quot; : tile_layer_be7d14f8b5a2f80c7527c56d2d205681,\n",
              "                },\n",
              "                overlays :  {\n",
              "                    &quot;cmap&quot; : tile_layer_5d73cf3e4cc4dceeb5c1f5f6296244b8,\n",
              "                    &quot;smap&quot; : tile_layer_16eddf3af73b8e6ea5e6389b9f97a9a4,\n",
              "                    &quot;fmap&quot; : tile_layer_6074c16f0b892928af4f4bdbedf138e8,\n",
              "                },\n",
              "            };\n",
              "            L.control.layers(\n",
              "                layer_control_9d5ad06f6dbbce037a93590b732ea0fd.base_layers,\n",
              "                layer_control_9d5ad06f6dbbce037a93590b732ea0fd.overlays,\n",
              "                {&quot;autoZIndex&quot;: true, &quot;collapsed&quot;: true, &quot;position&quot;: &quot;topright&quot;}\n",
              "            ).addTo(map_69cfed54e4b848a45fcddb84666870bb);\n",
=======
              "            var tile_layer_0154f76c9cb6e41760799b8f2e34e37b = L.tileLayer(\n",
              "                &quot;https://{s}.tile.openstreetmap.org/{z}/{x}/{y}.png&quot;,\n",
              "                {&quot;attribution&quot;: &quot;Data by \\u0026copy; \\u003ca target=\\&quot;_blank\\&quot; href=\\&quot;http://openstreetmap.org\\&quot;\\u003eOpenStreetMap\\u003c/a\\u003e, under \\u003ca target=\\&quot;_blank\\&quot; href=\\&quot;http://www.openstreetmap.org/copyright\\&quot;\\u003eODbL\\u003c/a\\u003e.&quot;, &quot;detectRetina&quot;: false, &quot;maxNativeZoom&quot;: 18, &quot;maxZoom&quot;: 18, &quot;minZoom&quot;: 0, &quot;noWrap&quot;: false, &quot;opacity&quot;: 1, &quot;subdomains&quot;: &quot;abc&quot;, &quot;tms&quot;: false}\n",
              "            ).addTo(map_d64b2ee6a54479828717670323af5657);\n",
              "        \n",
              "    \n",
              "            var tile_layer_c5ec8713ad352f3f6953ae6824230e0a = L.tileLayer(\n",
              "                &quot;https://earthengine.googleapis.com/v1/projects/earthengine-legacy/maps/76ba4bed069d36f3f31790e451c25b24-01f129008138097268424f0c14bb1fb2/tiles/{z}/{x}/{y}&quot;,\n",
              "                {&quot;attribution&quot;: &quot;Map Data \\u0026copy; \\u003ca href=\\&quot;https://earthengine.google.com/\\&quot;\\u003eGoogle Earth Engine\\u003c/a\\u003e&quot;, &quot;detectRetina&quot;: false, &quot;maxNativeZoom&quot;: 18, &quot;maxZoom&quot;: 18, &quot;minZoom&quot;: 0, &quot;noWrap&quot;: false, &quot;opacity&quot;: 1, &quot;subdomains&quot;: &quot;abc&quot;, &quot;tms&quot;: false}\n",
              "            ).addTo(map_d64b2ee6a54479828717670323af5657);\n",
              "        \n",
              "    \n",
              "            var tile_layer_12c365eb223c9ac4cf57071de5ffb39d = L.tileLayer(\n",
              "                &quot;https://earthengine.googleapis.com/v1/projects/earthengine-legacy/maps/4d21da5537e6c46011ef90a9cff9d437-8eb3fd4ce058012a0344f7fa29d7319b/tiles/{z}/{x}/{y}&quot;,\n",
              "                {&quot;attribution&quot;: &quot;Map Data \\u0026copy; \\u003ca href=\\&quot;https://earthengine.google.com/\\&quot;\\u003eGoogle Earth Engine\\u003c/a\\u003e&quot;, &quot;detectRetina&quot;: false, &quot;maxNativeZoom&quot;: 18, &quot;maxZoom&quot;: 18, &quot;minZoom&quot;: 0, &quot;noWrap&quot;: false, &quot;opacity&quot;: 1, &quot;subdomains&quot;: &quot;abc&quot;, &quot;tms&quot;: false}\n",
              "            ).addTo(map_d64b2ee6a54479828717670323af5657);\n",
              "        \n",
              "    \n",
              "            var tile_layer_bc94862a2cfcd1a9a46b2bd358ab6eef = L.tileLayer(\n",
              "                &quot;https://earthengine.googleapis.com/v1/projects/earthengine-legacy/maps/751f73b8aa4097fe50c6126da4b0388a-2b096b20a2a8d19c49532f37d0b9eff8/tiles/{z}/{x}/{y}&quot;,\n",
              "                {&quot;attribution&quot;: &quot;Map Data \\u0026copy; \\u003ca href=\\&quot;https://earthengine.google.com/\\&quot;\\u003eGoogle Earth Engine\\u003c/a\\u003e&quot;, &quot;detectRetina&quot;: false, &quot;maxNativeZoom&quot;: 18, &quot;maxZoom&quot;: 18, &quot;minZoom&quot;: 0, &quot;noWrap&quot;: false, &quot;opacity&quot;: 1, &quot;subdomains&quot;: &quot;abc&quot;, &quot;tms&quot;: false}\n",
              "            ).addTo(map_d64b2ee6a54479828717670323af5657);\n",
              "        \n",
              "    \n",
              "            var layer_control_face8f3179c00409d8d806c21f3c19a5 = {\n",
              "                base_layers : {\n",
              "                    &quot;openstreetmap&quot; : tile_layer_0154f76c9cb6e41760799b8f2e34e37b,\n",
              "                },\n",
              "                overlays :  {\n",
              "                    &quot;cmap&quot; : tile_layer_c5ec8713ad352f3f6953ae6824230e0a,\n",
              "                    &quot;smap&quot; : tile_layer_12c365eb223c9ac4cf57071de5ffb39d,\n",
              "                    &quot;fmap&quot; : tile_layer_bc94862a2cfcd1a9a46b2bd358ab6eef,\n",
              "                },\n",
              "            };\n",
              "            L.control.layers(\n",
              "                layer_control_face8f3179c00409d8d806c21f3c19a5.base_layers,\n",
              "                layer_control_face8f3179c00409d8d806c21f3c19a5.overlays,\n",
              "                {&quot;autoZIndex&quot;: true, &quot;collapsed&quot;: true, &quot;position&quot;: &quot;topright&quot;}\n",
              "            ).addTo(map_d64b2ee6a54479828717670323af5657);\n",
>>>>>>> 680a1a38307f154d73e7cf571db4c39b1a966f69
              "        \n",
              "&lt;/script&gt;\n",
              "&lt;/html&gt;\" style=\"position:absolute;width:100%;height:100%;left:0;top:0;border:none !important;\" allowfullscreen webkitallowfullscreen mozallowfullscreen></iframe></div></div>"
            ]
          },
          "metadata": {},
<<<<<<< HEAD
          "execution_count": 143
=======
          "execution_count": 113
>>>>>>> 680a1a38307f154d73e7cf571db4c39b1a966f69
        }
      ]
    },
    {
      "cell_type": "code",
      "source": [
        "def dmap_iter(current, prev):\n",
        "    \"\"\"Reclassifies values in directional change maps.\"\"\"\n",
        "    prev = ee.Dictionary(prev)\n",
        "    j = ee.Number(prev.get('j'))\n",
        "    image = ee.Image(current)\n",
        "    avimg = ee.Image(prev.get('avimg'))\n",
        "    diff = image.subtract(avimg)\n",
        "    # Get positive/negative definiteness.\n",
        "    posd = ee.Image(diff.select(0).gt(0).And(det(diff).gt(0)))\n",
        "    negd = ee.Image(diff.select(0).lt(0).And(det(diff).gt(0)))\n",
        "    bmap = ee.Image(prev.get('bmap'))\n",
        "    bmapj = bmap.select(j)\n",
        "    dmap = ee.Image.constant(ee.List.sequence(1, 3))\n",
        "    bmapj = bmapj.where(bmapj, dmap.select(2))\n",
        "    bmapj = bmapj.where(bmapj.And(posd), dmap.select(0))\n",
        "    bmapj = bmapj.where(bmapj.And(negd), dmap.select(1))\n",
        "    bmap = bmap.addBands(bmapj, overwrite=True)\n",
        "    # Update avimg with provisional means.\n",
        "    i = ee.Image(prev.get('i')).add(1)\n",
        "    avimg = avimg.add(image.subtract(avimg).divide(i))\n",
        "    # Reset avimg to current image and set i=1 if change occurred.\n",
        "    avimg = avimg.where(bmapj, image)\n",
        "    i = i.where(bmapj, 1)\n",
        "    return ee.Dictionary({'avimg': avimg, 'bmap': bmap, 'j': j.add(1), 'i': i})"
      ],
      "metadata": {
        "id": "AcltjlS19-7F"
      },
      "execution_count": null,
      "outputs": []
    },
    {
      "cell_type": "code",
      "source": [
        "def change_maps(im_list, median=False, alpha=0.01):\n",
        "    \"\"\"Calculates thematic change maps.\"\"\"\n",
        "    k = im_list.length()\n",
        "    # Pre-calculate the P value array.\n",
        "    pv_arr = ee.List(p_values(im_list))\n",
        "    # Filter P values for change maps.\n",
        "    cmap = ee.Image(im_list.get(0)).select(0).multiply(0)\n",
        "    bmap = ee.Image.constant(ee.List.repeat(0,k.subtract(1))).add(cmap)\n",
        "    alpha = ee.Image.constant(alpha)\n",
        "    first = ee.Dictionary({'i': 1, 'alpha': alpha, 'median': median,\n",
        "                           'cmap': cmap, 'smap': cmap, 'fmap': cmap, 'bmap': bmap})\n",
        "    result = ee.Dictionary(pv_arr.iterate(filter_i, first))\n",
        "    # Post-process bmap for change direction.\n",
        "    bmap =  ee.Image(result.get('bmap'))\n",
        "    avimg = ee.Image(im_list.get(0))\n",
        "    j = ee.Number(0)\n",
        "    i = ee.Image.constant(1)\n",
        "    first = ee.Dictionary({'avimg': avimg, 'bmap': bmap, 'j': j, 'i': i})\n",
        "    dmap = ee.Dictionary(im_list.slice(1).iterate(dmap_iter, first)).get('bmap')\n",
        "    return ee.Dictionary(result.set('bmap', dmap))"
      ],
      "metadata": {
        "id": "mUhMU1_5-V8E"
      },
      "execution_count": null,
      "outputs": []
    },
    {
      "cell_type": "code",
      "source": [
        "# Run the algorithm with median filter and at 1% significance.\n",
        "result = ee.Dictionary(change_maps(im_list, median=True, alpha=0.01))\n",
        "# Extract the change maps and export to assets.\n",
        "cmap = ee.Image(result.get('cmap'))\n",
        "smap = ee.Image(result.get('smap'))\n",
        "fmap = ee.Image(result.get('fmap'))\n",
        "bmap = ee.Image(result.get('bmap'))\n",
        "cmaps = ee.Image.cat(cmap, smap, fmap, bmap).rename(['cmap', 'smap', 'fmap']+timestamplist[1:])\n",
        "\n",
        "# EDIT THE ASSET PATH TO POINT TO YOUR ACCOUNT.\n",
        "assetId = 'users/YOUR_USER_NAME/cmaps'\n",
        "\n",
        "assexport = ee.batch.Export.image.toAsset(cmaps,\n",
        "                                          description='assetExportTask',\n",
        "                                          assetId=assetId, scale=10, maxPixels=1e9)\n",
        "\n",
        "# UNCOMMENT THIS TO EXPORT THE MAP TO YOUR ACCOUNT.\n",
        "#assexport.start()"
      ],
      "metadata": {
        "id": "ZYFNIfG3-XWm"
      },
      "execution_count": null,
      "outputs": []
    },
    {
      "cell_type": "code",
      "source": [
        "cmaps = cmaps.updateMask(cmaps.gt(0))\n",
        "\n",
        "location = aoi.centroid().coordinates().getInfo()[::-1]\n",
        "palette = ['black', 'red', 'cyan', 'yellow']\n",
        "mp = folium.Map(location=location, zoom_start=13)\n",
        "\n",
        "\n",
        "mp.add_ee_layer(cmaps.select('T20220622'), {'min': 0,'max': 3, 'palette': palette}, 'T20220622')\n",
        "\n",
        "mp.add_ee_layer(cmaps.select('T20220821'), {'min': 0,'max': 3, 'palette': palette}, 'T20220821')\n",
        "\n",
        "\n",
        "mp.add_child(folium.LayerControl())"
      ],
      "metadata": {
        "colab": {
          "base_uri": "https://localhost:8080/",
          "height": 808
        },
        "id": "Be6-be4m-ZRF",
<<<<<<< HEAD
        "outputId": "4238c8de-8c2b-48a4-f032-f4796c0aea69"
=======
        "outputId": "cd368f24-891c-4332-d899-dd844ad1b41a"
>>>>>>> 680a1a38307f154d73e7cf571db4c39b1a966f69
      },
      "execution_count": null,
      "outputs": [
        {
          "output_type": "execute_result",
          "data": {
            "text/plain": [
<<<<<<< HEAD
              "<folium.folium.Map at 0x7ee64036c700>"
=======
              "<folium.folium.Map at 0x7ee640296020>"
>>>>>>> 680a1a38307f154d73e7cf571db4c39b1a966f69
            ],
            "text/html": [
              "<div style=\"width:100%;\"><div style=\"position:relative;width:100%;height:0;padding-bottom:60%;\"><span style=\"color:#565656\">Make this Notebook Trusted to load map: File -> Trust Notebook</span><iframe srcdoc=\"&lt;!DOCTYPE html&gt;\n",
              "&lt;html&gt;\n",
              "&lt;head&gt;\n",
              "    \n",
              "    &lt;meta http-equiv=&quot;content-type&quot; content=&quot;text/html; charset=UTF-8&quot; /&gt;\n",
              "    \n",
              "        &lt;script&gt;\n",
              "            L_NO_TOUCH = false;\n",
              "            L_DISABLE_3D = false;\n",
              "        &lt;/script&gt;\n",
              "    \n",
              "    &lt;style&gt;html, body {width: 100%;height: 100%;margin: 0;padding: 0;}&lt;/style&gt;\n",
              "    &lt;style&gt;#map {position:absolute;top:0;bottom:0;right:0;left:0;}&lt;/style&gt;\n",
              "    &lt;script src=&quot;https://cdn.jsdelivr.net/npm/leaflet@1.9.3/dist/leaflet.js&quot;&gt;&lt;/script&gt;\n",
              "    &lt;script src=&quot;https://code.jquery.com/jquery-1.12.4.min.js&quot;&gt;&lt;/script&gt;\n",
              "    &lt;script src=&quot;https://cdn.jsdelivr.net/npm/bootstrap@5.2.2/dist/js/bootstrap.bundle.min.js&quot;&gt;&lt;/script&gt;\n",
              "    &lt;script src=&quot;https://cdnjs.cloudflare.com/ajax/libs/Leaflet.awesome-markers/2.0.2/leaflet.awesome-markers.js&quot;&gt;&lt;/script&gt;\n",
              "    &lt;link rel=&quot;stylesheet&quot; href=&quot;https://cdn.jsdelivr.net/npm/leaflet@1.9.3/dist/leaflet.css&quot;/&gt;\n",
              "    &lt;link rel=&quot;stylesheet&quot; href=&quot;https://cdn.jsdelivr.net/npm/bootstrap@5.2.2/dist/css/bootstrap.min.css&quot;/&gt;\n",
              "    &lt;link rel=&quot;stylesheet&quot; href=&quot;https://netdna.bootstrapcdn.com/bootstrap/3.0.0/css/bootstrap.min.css&quot;/&gt;\n",
              "    &lt;link rel=&quot;stylesheet&quot; href=&quot;https://cdn.jsdelivr.net/npm/@fortawesome/fontawesome-free@6.2.0/css/all.min.css&quot;/&gt;\n",
              "    &lt;link rel=&quot;stylesheet&quot; href=&quot;https://cdnjs.cloudflare.com/ajax/libs/Leaflet.awesome-markers/2.0.2/leaflet.awesome-markers.css&quot;/&gt;\n",
              "    &lt;link rel=&quot;stylesheet&quot; href=&quot;https://cdn.jsdelivr.net/gh/python-visualization/folium/folium/templates/leaflet.awesome.rotate.min.css&quot;/&gt;\n",
              "    \n",
              "            &lt;meta name=&quot;viewport&quot; content=&quot;width=device-width,\n",
              "                initial-scale=1.0, maximum-scale=1.0, user-scalable=no&quot; /&gt;\n",
              "            &lt;style&gt;\n",
<<<<<<< HEAD
              "                #map_bf8338aa4b5e45beafd02ec25cf1b7f4 {\n",
=======
              "                #map_8dc1347fa21aed779e79e9f9120299f0 {\n",
>>>>>>> 680a1a38307f154d73e7cf571db4c39b1a966f69
              "                    position: relative;\n",
              "                    width: 100.0%;\n",
              "                    height: 100.0%;\n",
              "                    left: 0.0%;\n",
              "                    top: 0.0%;\n",
              "                }\n",
              "                .leaflet-container { font-size: 1rem; }\n",
              "            &lt;/style&gt;\n",
              "        \n",
              "&lt;/head&gt;\n",
              "&lt;body&gt;\n",
              "    \n",
              "    \n",
<<<<<<< HEAD
              "            &lt;div class=&quot;folium-map&quot; id=&quot;map_bf8338aa4b5e45beafd02ec25cf1b7f4&quot; &gt;&lt;/div&gt;\n",
=======
              "            &lt;div class=&quot;folium-map&quot; id=&quot;map_8dc1347fa21aed779e79e9f9120299f0&quot; &gt;&lt;/div&gt;\n",
>>>>>>> 680a1a38307f154d73e7cf571db4c39b1a966f69
              "        \n",
              "&lt;/body&gt;\n",
              "&lt;script&gt;\n",
              "    \n",
              "    \n",
<<<<<<< HEAD
              "            var map_bf8338aa4b5e45beafd02ec25cf1b7f4 = L.map(\n",
              "                &quot;map_bf8338aa4b5e45beafd02ec25cf1b7f4&quot;,\n",
              "                {\n",
              "                    center: [36.84898993114767, 126.22203999999549],\n",
=======
              "            var map_8dc1347fa21aed779e79e9f9120299f0 = L.map(\n",
              "                &quot;map_8dc1347fa21aed779e79e9f9120299f0&quot;,\n",
              "                {\n",
              "                    center: [36.848989931147514, 126.1995399999959],\n",
>>>>>>> 680a1a38307f154d73e7cf571db4c39b1a966f69
              "                    crs: L.CRS.EPSG3857,\n",
              "                    zoom: 13,\n",
              "                    zoomControl: true,\n",
              "                    preferCanvas: false,\n",
              "                }\n",
              "            );\n",
              "\n",
              "            \n",
              "\n",
              "        \n",
              "    \n",
<<<<<<< HEAD
              "            var tile_layer_3d6b813d979a66bfbcb3c6f37986cba3 = L.tileLayer(\n",
              "                &quot;https://{s}.tile.openstreetmap.org/{z}/{x}/{y}.png&quot;,\n",
              "                {&quot;attribution&quot;: &quot;Data by \\u0026copy; \\u003ca target=\\&quot;_blank\\&quot; href=\\&quot;http://openstreetmap.org\\&quot;\\u003eOpenStreetMap\\u003c/a\\u003e, under \\u003ca target=\\&quot;_blank\\&quot; href=\\&quot;http://www.openstreetmap.org/copyright\\&quot;\\u003eODbL\\u003c/a\\u003e.&quot;, &quot;detectRetina&quot;: false, &quot;maxNativeZoom&quot;: 18, &quot;maxZoom&quot;: 18, &quot;minZoom&quot;: 0, &quot;noWrap&quot;: false, &quot;opacity&quot;: 1, &quot;subdomains&quot;: &quot;abc&quot;, &quot;tms&quot;: false}\n",
              "            ).addTo(map_bf8338aa4b5e45beafd02ec25cf1b7f4);\n",
              "        \n",
              "    \n",
              "            var tile_layer_675d14433d8041e811ac5b3379838de9 = L.tileLayer(\n",
              "                &quot;https://earthengine.googleapis.com/v1/projects/earthengine-legacy/maps/15c04549080ddaa26eb88aacf3832ae7-879e2cb3901c1b49dbf7fc233b1ff972/tiles/{z}/{x}/{y}&quot;,\n",
              "                {&quot;attribution&quot;: &quot;Map Data \\u0026copy; \\u003ca href=\\&quot;https://earthengine.google.com/\\&quot;\\u003eGoogle Earth Engine\\u003c/a\\u003e&quot;, &quot;detectRetina&quot;: false, &quot;maxNativeZoom&quot;: 18, &quot;maxZoom&quot;: 18, &quot;minZoom&quot;: 0, &quot;noWrap&quot;: false, &quot;opacity&quot;: 1, &quot;subdomains&quot;: &quot;abc&quot;, &quot;tms&quot;: false}\n",
              "            ).addTo(map_bf8338aa4b5e45beafd02ec25cf1b7f4);\n",
              "        \n",
              "    \n",
              "            var tile_layer_094419bbfc73418c5a67b30dff9ee1a1 = L.tileLayer(\n",
              "                &quot;https://earthengine.googleapis.com/v1/projects/earthengine-legacy/maps/21bcca34223132f5b4d98f37e49aadff-01e693c143fdcd2a3345996c19d047e5/tiles/{z}/{x}/{y}&quot;,\n",
              "                {&quot;attribution&quot;: &quot;Map Data \\u0026copy; \\u003ca href=\\&quot;https://earthengine.google.com/\\&quot;\\u003eGoogle Earth Engine\\u003c/a\\u003e&quot;, &quot;detectRetina&quot;: false, &quot;maxNativeZoom&quot;: 18, &quot;maxZoom&quot;: 18, &quot;minZoom&quot;: 0, &quot;noWrap&quot;: false, &quot;opacity&quot;: 1, &quot;subdomains&quot;: &quot;abc&quot;, &quot;tms&quot;: false}\n",
              "            ).addTo(map_bf8338aa4b5e45beafd02ec25cf1b7f4);\n",
              "        \n",
              "    \n",
              "            var layer_control_b2a07c270f0cb2eb36a446fc7023cfc2 = {\n",
              "                base_layers : {\n",
              "                    &quot;openstreetmap&quot; : tile_layer_3d6b813d979a66bfbcb3c6f37986cba3,\n",
              "                },\n",
              "                overlays :  {\n",
              "                    &quot;T20220622&quot; : tile_layer_675d14433d8041e811ac5b3379838de9,\n",
              "                    &quot;T20220821&quot; : tile_layer_094419bbfc73418c5a67b30dff9ee1a1,\n",
              "                },\n",
              "            };\n",
              "            L.control.layers(\n",
              "                layer_control_b2a07c270f0cb2eb36a446fc7023cfc2.base_layers,\n",
              "                layer_control_b2a07c270f0cb2eb36a446fc7023cfc2.overlays,\n",
              "                {&quot;autoZIndex&quot;: true, &quot;collapsed&quot;: true, &quot;position&quot;: &quot;topright&quot;}\n",
              "            ).addTo(map_bf8338aa4b5e45beafd02ec25cf1b7f4);\n",
=======
              "            var tile_layer_15436e1149efa5759863777cf66dad6a = L.tileLayer(\n",
              "                &quot;https://{s}.tile.openstreetmap.org/{z}/{x}/{y}.png&quot;,\n",
              "                {&quot;attribution&quot;: &quot;Data by \\u0026copy; \\u003ca target=\\&quot;_blank\\&quot; href=\\&quot;http://openstreetmap.org\\&quot;\\u003eOpenStreetMap\\u003c/a\\u003e, under \\u003ca target=\\&quot;_blank\\&quot; href=\\&quot;http://www.openstreetmap.org/copyright\\&quot;\\u003eODbL\\u003c/a\\u003e.&quot;, &quot;detectRetina&quot;: false, &quot;maxNativeZoom&quot;: 18, &quot;maxZoom&quot;: 18, &quot;minZoom&quot;: 0, &quot;noWrap&quot;: false, &quot;opacity&quot;: 1, &quot;subdomains&quot;: &quot;abc&quot;, &quot;tms&quot;: false}\n",
              "            ).addTo(map_8dc1347fa21aed779e79e9f9120299f0);\n",
              "        \n",
              "    \n",
              "            var tile_layer_49e97538cd2d3e33a0da1d5526ff7da6 = L.tileLayer(\n",
              "                &quot;https://earthengine.googleapis.com/v1/projects/earthengine-legacy/maps/de1bad432b1d55978a9fbd0442dce8dc-a195a4902f6d226fa4462df4d62c87ca/tiles/{z}/{x}/{y}&quot;,\n",
              "                {&quot;attribution&quot;: &quot;Map Data \\u0026copy; \\u003ca href=\\&quot;https://earthengine.google.com/\\&quot;\\u003eGoogle Earth Engine\\u003c/a\\u003e&quot;, &quot;detectRetina&quot;: false, &quot;maxNativeZoom&quot;: 18, &quot;maxZoom&quot;: 18, &quot;minZoom&quot;: 0, &quot;noWrap&quot;: false, &quot;opacity&quot;: 1, &quot;subdomains&quot;: &quot;abc&quot;, &quot;tms&quot;: false}\n",
              "            ).addTo(map_8dc1347fa21aed779e79e9f9120299f0);\n",
              "        \n",
              "    \n",
              "            var tile_layer_0392cb82cee58a7f177f3f0bf9d691be = L.tileLayer(\n",
              "                &quot;https://earthengine.googleapis.com/v1/projects/earthengine-legacy/maps/4355f4aeb8272b6475dc5bf307031ee2-40d837c632002e6a59001c75fe75a910/tiles/{z}/{x}/{y}&quot;,\n",
              "                {&quot;attribution&quot;: &quot;Map Data \\u0026copy; \\u003ca href=\\&quot;https://earthengine.google.com/\\&quot;\\u003eGoogle Earth Engine\\u003c/a\\u003e&quot;, &quot;detectRetina&quot;: false, &quot;maxNativeZoom&quot;: 18, &quot;maxZoom&quot;: 18, &quot;minZoom&quot;: 0, &quot;noWrap&quot;: false, &quot;opacity&quot;: 1, &quot;subdomains&quot;: &quot;abc&quot;, &quot;tms&quot;: false}\n",
              "            ).addTo(map_8dc1347fa21aed779e79e9f9120299f0);\n",
              "        \n",
              "    \n",
              "            var layer_control_e2ac0c3019df5137650073dd74c3634b = {\n",
              "                base_layers : {\n",
              "                    &quot;openstreetmap&quot; : tile_layer_15436e1149efa5759863777cf66dad6a,\n",
              "                },\n",
              "                overlays :  {\n",
              "                    &quot;T20220622&quot; : tile_layer_49e97538cd2d3e33a0da1d5526ff7da6,\n",
              "                    &quot;T20220821&quot; : tile_layer_0392cb82cee58a7f177f3f0bf9d691be,\n",
              "                },\n",
              "            };\n",
              "            L.control.layers(\n",
              "                layer_control_e2ac0c3019df5137650073dd74c3634b.base_layers,\n",
              "                layer_control_e2ac0c3019df5137650073dd74c3634b.overlays,\n",
              "                {&quot;autoZIndex&quot;: true, &quot;collapsed&quot;: true, &quot;position&quot;: &quot;topright&quot;}\n",
              "            ).addTo(map_8dc1347fa21aed779e79e9f9120299f0);\n",
>>>>>>> 680a1a38307f154d73e7cf571db4c39b1a966f69
              "        \n",
              "&lt;/script&gt;\n",
              "&lt;/html&gt;\" style=\"position:absolute;width:100%;height:100%;left:0;top:0;border:none !important;\" allowfullscreen webkitallowfullscreen mozallowfullscreen></iframe></div></div>"
            ]
          },
          "metadata": {},
<<<<<<< HEAD
          "execution_count": 149
=======
          "execution_count": 117
>>>>>>> 680a1a38307f154d73e7cf571db4c39b1a966f69
        }
      ]
    },
    {
      "cell_type": "code",
      "source": [
        "aoi = ee.Geometry.Polygon([\n",
        "          [\n",
        "            [126.17954 + 0.0225, 36.82899],\n",
        "            [126.17954 + 0.0225, 36.86899],\n",
        "            [126.21954 + 0.0225, 36.86899],\n",
        "            [126.21954 + 0.0225, 36.82899],\n",
        "            [126.17954 + 0.0225, 36.82899]\n",
        "          ]\n",
        "        ])\n",
        "\n",
        "# Sentinel-2 이미지 컬렉션을 필터링\n",
        "s2_images = ee.ImageCollection('COPERNICUS/S2') \\\n",
        "    .filterBounds(aoi) \\\n",
        "    .filterDate('2022-08-15', '2022-08-25') \\\n",
        "    .filter(ee.Filter.lt('CLOUDY_PIXEL_PERCENTAGE', 20)) # 구름이 적은 이미지만 선택\n",
        "\n",
        "# 가장 최근의 이미지를 선택\n",
        "image = s2_images.first()\n",
        "\n",
        "# 시각화를 위한 매개변수 설정\n",
        "vis_params = {\n",
        "  'min': 0,\n",
        "  'max': 3000,\n",
        "  'bands': ['B4', 'B3', 'B2']  # True color (RGB)\n",
        "}\n",
        "\n",
        "# Folium 맵 객체 생성 및 시각화 매개변수와 함께 이미지 추가\n",
        "map = folium.Map(location=[36.84899, 126.19954], zoom_start=12)\n",
        "map.add_ee_layer(image, vis_params, 'Sentinel-2 Image')\n",
        "\n",
        "# 맵에 레이어 컨트롤 추가\n",
        "map.add_child(folium.LayerControl())\n",
        "\n",
        "# 맵 표시\n",
        "map"
      ],
      "metadata": {
        "colab": {
          "base_uri": "https://localhost:8080/",
          "height": 808
        },
        "id": "Dz3KuADyBOKJ",
<<<<<<< HEAD
        "outputId": "14b72ea5-6a1c-497e-bd47-2c4554c07993"
=======
        "outputId": "3363220f-a571-45da-f24e-81044c943827"
>>>>>>> 680a1a38307f154d73e7cf571db4c39b1a966f69
      },
      "execution_count": null,
      "outputs": [
        {
          "output_type": "execute_result",
          "data": {
            "text/plain": [
<<<<<<< HEAD
              "<folium.folium.Map at 0x7ee64048ada0>"
=======
              "<folium.folium.Map at 0x7ee64041eaa0>"
>>>>>>> 680a1a38307f154d73e7cf571db4c39b1a966f69
            ],
            "text/html": [
              "<div style=\"width:100%;\"><div style=\"position:relative;width:100%;height:0;padding-bottom:60%;\"><span style=\"color:#565656\">Make this Notebook Trusted to load map: File -> Trust Notebook</span><iframe srcdoc=\"&lt;!DOCTYPE html&gt;\n",
              "&lt;html&gt;\n",
              "&lt;head&gt;\n",
              "    \n",
              "    &lt;meta http-equiv=&quot;content-type&quot; content=&quot;text/html; charset=UTF-8&quot; /&gt;\n",
              "    \n",
              "        &lt;script&gt;\n",
              "            L_NO_TOUCH = false;\n",
              "            L_DISABLE_3D = false;\n",
              "        &lt;/script&gt;\n",
              "    \n",
              "    &lt;style&gt;html, body {width: 100%;height: 100%;margin: 0;padding: 0;}&lt;/style&gt;\n",
              "    &lt;style&gt;#map {position:absolute;top:0;bottom:0;right:0;left:0;}&lt;/style&gt;\n",
              "    &lt;script src=&quot;https://cdn.jsdelivr.net/npm/leaflet@1.9.3/dist/leaflet.js&quot;&gt;&lt;/script&gt;\n",
              "    &lt;script src=&quot;https://code.jquery.com/jquery-1.12.4.min.js&quot;&gt;&lt;/script&gt;\n",
              "    &lt;script src=&quot;https://cdn.jsdelivr.net/npm/bootstrap@5.2.2/dist/js/bootstrap.bundle.min.js&quot;&gt;&lt;/script&gt;\n",
              "    &lt;script src=&quot;https://cdnjs.cloudflare.com/ajax/libs/Leaflet.awesome-markers/2.0.2/leaflet.awesome-markers.js&quot;&gt;&lt;/script&gt;\n",
              "    &lt;link rel=&quot;stylesheet&quot; href=&quot;https://cdn.jsdelivr.net/npm/leaflet@1.9.3/dist/leaflet.css&quot;/&gt;\n",
              "    &lt;link rel=&quot;stylesheet&quot; href=&quot;https://cdn.jsdelivr.net/npm/bootstrap@5.2.2/dist/css/bootstrap.min.css&quot;/&gt;\n",
              "    &lt;link rel=&quot;stylesheet&quot; href=&quot;https://netdna.bootstrapcdn.com/bootstrap/3.0.0/css/bootstrap.min.css&quot;/&gt;\n",
              "    &lt;link rel=&quot;stylesheet&quot; href=&quot;https://cdn.jsdelivr.net/npm/@fortawesome/fontawesome-free@6.2.0/css/all.min.css&quot;/&gt;\n",
              "    &lt;link rel=&quot;stylesheet&quot; href=&quot;https://cdnjs.cloudflare.com/ajax/libs/Leaflet.awesome-markers/2.0.2/leaflet.awesome-markers.css&quot;/&gt;\n",
              "    &lt;link rel=&quot;stylesheet&quot; href=&quot;https://cdn.jsdelivr.net/gh/python-visualization/folium/folium/templates/leaflet.awesome.rotate.min.css&quot;/&gt;\n",
              "    \n",
              "            &lt;meta name=&quot;viewport&quot; content=&quot;width=device-width,\n",
              "                initial-scale=1.0, maximum-scale=1.0, user-scalable=no&quot; /&gt;\n",
              "            &lt;style&gt;\n",
<<<<<<< HEAD
              "                #map_49af9cf2dc1c8f8e23cca640f98c5348 {\n",
=======
              "                #map_4f74bcf233d327c6525aa965cb38a3e7 {\n",
>>>>>>> 680a1a38307f154d73e7cf571db4c39b1a966f69
              "                    position: relative;\n",
              "                    width: 100.0%;\n",
              "                    height: 100.0%;\n",
              "                    left: 0.0%;\n",
              "                    top: 0.0%;\n",
              "                }\n",
              "                .leaflet-container { font-size: 1rem; }\n",
              "            &lt;/style&gt;\n",
              "        \n",
              "&lt;/head&gt;\n",
              "&lt;body&gt;\n",
              "    \n",
              "    \n",
<<<<<<< HEAD
              "            &lt;div class=&quot;folium-map&quot; id=&quot;map_49af9cf2dc1c8f8e23cca640f98c5348&quot; &gt;&lt;/div&gt;\n",
=======
              "            &lt;div class=&quot;folium-map&quot; id=&quot;map_4f74bcf233d327c6525aa965cb38a3e7&quot; &gt;&lt;/div&gt;\n",
>>>>>>> 680a1a38307f154d73e7cf571db4c39b1a966f69
              "        \n",
              "&lt;/body&gt;\n",
              "&lt;script&gt;\n",
              "    \n",
              "    \n",
<<<<<<< HEAD
              "            var map_49af9cf2dc1c8f8e23cca640f98c5348 = L.map(\n",
              "                &quot;map_49af9cf2dc1c8f8e23cca640f98c5348&quot;,\n",
=======
              "            var map_4f74bcf233d327c6525aa965cb38a3e7 = L.map(\n",
              "                &quot;map_4f74bcf233d327c6525aa965cb38a3e7&quot;,\n",
>>>>>>> 680a1a38307f154d73e7cf571db4c39b1a966f69
              "                {\n",
              "                    center: [36.84899, 126.19954],\n",
              "                    crs: L.CRS.EPSG3857,\n",
              "                    zoom: 12,\n",
              "                    zoomControl: true,\n",
              "                    preferCanvas: false,\n",
              "                }\n",
              "            );\n",
              "\n",
              "            \n",
              "\n",
              "        \n",
              "    \n",
<<<<<<< HEAD
              "            var tile_layer_4e103bccb6991d1f547d34791dcf7f67 = L.tileLayer(\n",
              "                &quot;https://{s}.tile.openstreetmap.org/{z}/{x}/{y}.png&quot;,\n",
              "                {&quot;attribution&quot;: &quot;Data by \\u0026copy; \\u003ca target=\\&quot;_blank\\&quot; href=\\&quot;http://openstreetmap.org\\&quot;\\u003eOpenStreetMap\\u003c/a\\u003e, under \\u003ca target=\\&quot;_blank\\&quot; href=\\&quot;http://www.openstreetmap.org/copyright\\&quot;\\u003eODbL\\u003c/a\\u003e.&quot;, &quot;detectRetina&quot;: false, &quot;maxNativeZoom&quot;: 18, &quot;maxZoom&quot;: 18, &quot;minZoom&quot;: 0, &quot;noWrap&quot;: false, &quot;opacity&quot;: 1, &quot;subdomains&quot;: &quot;abc&quot;, &quot;tms&quot;: false}\n",
              "            ).addTo(map_49af9cf2dc1c8f8e23cca640f98c5348);\n",
              "        \n",
              "    \n",
              "            var tile_layer_5a9e13dc884e967b28bbdcd8f05d067a = L.tileLayer(\n",
              "                &quot;https://earthengine.googleapis.com/v1/projects/earthengine-legacy/maps/c5bd3819a7fa59908b91876c1e9a0efa-589b28d53b3518df2d503ad223e1f1cb/tiles/{z}/{x}/{y}&quot;,\n",
              "                {&quot;attribution&quot;: &quot;Map Data \\u0026copy; \\u003ca href=\\&quot;https://earthengine.google.com/\\&quot;\\u003eGoogle Earth Engine\\u003c/a\\u003e&quot;, &quot;detectRetina&quot;: false, &quot;maxNativeZoom&quot;: 18, &quot;maxZoom&quot;: 18, &quot;minZoom&quot;: 0, &quot;noWrap&quot;: false, &quot;opacity&quot;: 1, &quot;subdomains&quot;: &quot;abc&quot;, &quot;tms&quot;: false}\n",
              "            ).addTo(map_49af9cf2dc1c8f8e23cca640f98c5348);\n",
              "        \n",
              "    \n",
              "            var layer_control_2b8497f1bf7b64d9dae1befff6e906ad = {\n",
              "                base_layers : {\n",
              "                    &quot;openstreetmap&quot; : tile_layer_4e103bccb6991d1f547d34791dcf7f67,\n",
              "                },\n",
              "                overlays :  {\n",
              "                    &quot;Sentinel-2 Image&quot; : tile_layer_5a9e13dc884e967b28bbdcd8f05d067a,\n",
              "                },\n",
              "            };\n",
              "            L.control.layers(\n",
              "                layer_control_2b8497f1bf7b64d9dae1befff6e906ad.base_layers,\n",
              "                layer_control_2b8497f1bf7b64d9dae1befff6e906ad.overlays,\n",
              "                {&quot;autoZIndex&quot;: true, &quot;collapsed&quot;: true, &quot;position&quot;: &quot;topright&quot;}\n",
              "            ).addTo(map_49af9cf2dc1c8f8e23cca640f98c5348);\n",
=======
              "            var tile_layer_89079707b5781ed67ff173fcc0615da6 = L.tileLayer(\n",
              "                &quot;https://{s}.tile.openstreetmap.org/{z}/{x}/{y}.png&quot;,\n",
              "                {&quot;attribution&quot;: &quot;Data by \\u0026copy; \\u003ca target=\\&quot;_blank\\&quot; href=\\&quot;http://openstreetmap.org\\&quot;\\u003eOpenStreetMap\\u003c/a\\u003e, under \\u003ca target=\\&quot;_blank\\&quot; href=\\&quot;http://www.openstreetmap.org/copyright\\&quot;\\u003eODbL\\u003c/a\\u003e.&quot;, &quot;detectRetina&quot;: false, &quot;maxNativeZoom&quot;: 18, &quot;maxZoom&quot;: 18, &quot;minZoom&quot;: 0, &quot;noWrap&quot;: false, &quot;opacity&quot;: 1, &quot;subdomains&quot;: &quot;abc&quot;, &quot;tms&quot;: false}\n",
              "            ).addTo(map_4f74bcf233d327c6525aa965cb38a3e7);\n",
              "        \n",
              "    \n",
              "            var tile_layer_b3372745dc00f2aaf7589fcd3c64ff9a = L.tileLayer(\n",
              "                &quot;https://earthengine.googleapis.com/v1/projects/earthengine-legacy/maps/bf9c033cb7da55bf2d6eb5d378aa4377-06c79adc72ac8fd0aba7187ec40af920/tiles/{z}/{x}/{y}&quot;,\n",
              "                {&quot;attribution&quot;: &quot;Map Data \\u0026copy; \\u003ca href=\\&quot;https://earthengine.google.com/\\&quot;\\u003eGoogle Earth Engine\\u003c/a\\u003e&quot;, &quot;detectRetina&quot;: false, &quot;maxNativeZoom&quot;: 18, &quot;maxZoom&quot;: 18, &quot;minZoom&quot;: 0, &quot;noWrap&quot;: false, &quot;opacity&quot;: 1, &quot;subdomains&quot;: &quot;abc&quot;, &quot;tms&quot;: false}\n",
              "            ).addTo(map_4f74bcf233d327c6525aa965cb38a3e7);\n",
              "        \n",
              "    \n",
              "            var layer_control_7ecf1fe44edb02b919618c520696ec04 = {\n",
              "                base_layers : {\n",
              "                    &quot;openstreetmap&quot; : tile_layer_89079707b5781ed67ff173fcc0615da6,\n",
              "                },\n",
              "                overlays :  {\n",
              "                    &quot;Sentinel-2 Image&quot; : tile_layer_b3372745dc00f2aaf7589fcd3c64ff9a,\n",
              "                },\n",
              "            };\n",
              "            L.control.layers(\n",
              "                layer_control_7ecf1fe44edb02b919618c520696ec04.base_layers,\n",
              "                layer_control_7ecf1fe44edb02b919618c520696ec04.overlays,\n",
              "                {&quot;autoZIndex&quot;: true, &quot;collapsed&quot;: true, &quot;position&quot;: &quot;topright&quot;}\n",
              "            ).addTo(map_4f74bcf233d327c6525aa965cb38a3e7);\n",
>>>>>>> 680a1a38307f154d73e7cf571db4c39b1a966f69
              "        \n",
              "&lt;/script&gt;\n",
              "&lt;/html&gt;\" style=\"position:absolute;width:100%;height:100%;left:0;top:0;border:none !important;\" allowfullscreen webkitallowfullscreen mozallowfullscreen></iframe></div></div>"
            ]
          },
          "metadata": {},
<<<<<<< HEAD
          "execution_count": 148
=======
          "execution_count": 118
>>>>>>> 680a1a38307f154d73e7cf571db4c39b1a966f69
        }
      ]
    },
    {
      "cell_type": "code",
      "source": [],
      "metadata": {
        "id": "sc9iLgY1GobM"
      },
      "execution_count": null,
      "outputs": []
    }
  ]
}