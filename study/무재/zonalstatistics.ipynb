{
 "cells": [
  {
   "cell_type": "code",
   "execution_count": 3,
   "metadata": {},
   "outputs": [
    {
     "name": "stdout",
     "output_type": "stream",
     "text": [
      "Requirement already satisfied: earthengine-api in /Users/mujae/Desktop/anaconda3/envs/nationalPark/lib/python3.8/site-packages (0.1.377)\n",
      "Requirement already satisfied: google-cloud-storage in /Users/mujae/Desktop/anaconda3/envs/nationalPark/lib/python3.8/site-packages (from earthengine-api) (2.13.0)\n",
      "Requirement already satisfied: google-api-python-client>=1.12.1 in /Users/mujae/Desktop/anaconda3/envs/nationalPark/lib/python3.8/site-packages (from earthengine-api) (2.107.0)\n",
      "Requirement already satisfied: google-auth>=1.4.1 in /Users/mujae/Desktop/anaconda3/envs/nationalPark/lib/python3.8/site-packages (from earthengine-api) (2.23.4)\n",
      "Requirement already satisfied: google-auth-httplib2>=0.0.3 in /Users/mujae/Desktop/anaconda3/envs/nationalPark/lib/python3.8/site-packages (from earthengine-api) (0.1.1)\n",
      "Requirement already satisfied: httplib2<1dev,>=0.9.2 in /Users/mujae/Desktop/anaconda3/envs/nationalPark/lib/python3.8/site-packages (from earthengine-api) (0.22.0)\n",
      "Requirement already satisfied: requests in /Users/mujae/Desktop/anaconda3/envs/nationalPark/lib/python3.8/site-packages (from earthengine-api) (2.31.0)\n",
      "Requirement already satisfied: google-api-core!=2.0.*,!=2.1.*,!=2.2.*,!=2.3.0,<3.0.0.dev0,>=1.31.5 in /Users/mujae/Desktop/anaconda3/envs/nationalPark/lib/python3.8/site-packages (from google-api-python-client>=1.12.1->earthengine-api) (2.13.0)\n",
      "Requirement already satisfied: uritemplate<5,>=3.0.1 in /Users/mujae/Desktop/anaconda3/envs/nationalPark/lib/python3.8/site-packages (from google-api-python-client>=1.12.1->earthengine-api) (4.1.1)\n",
      "Requirement already satisfied: cachetools<6.0,>=2.0.0 in /Users/mujae/Desktop/anaconda3/envs/nationalPark/lib/python3.8/site-packages (from google-auth>=1.4.1->earthengine-api) (5.3.2)\n",
      "Requirement already satisfied: pyasn1-modules>=0.2.1 in /Users/mujae/Desktop/anaconda3/envs/nationalPark/lib/python3.8/site-packages (from google-auth>=1.4.1->earthengine-api) (0.3.0)\n",
      "Requirement already satisfied: rsa<5,>=3.1.4 in /Users/mujae/Desktop/anaconda3/envs/nationalPark/lib/python3.8/site-packages (from google-auth>=1.4.1->earthengine-api) (4.9)\n",
      "Requirement already satisfied: pyparsing!=3.0.0,!=3.0.1,!=3.0.2,!=3.0.3,<4,>=2.4.2 in /Users/mujae/Desktop/anaconda3/envs/nationalPark/lib/python3.8/site-packages (from httplib2<1dev,>=0.9.2->earthengine-api) (3.1.1)\n",
      "Requirement already satisfied: google-cloud-core<3.0dev,>=2.3.0 in /Users/mujae/Desktop/anaconda3/envs/nationalPark/lib/python3.8/site-packages (from google-cloud-storage->earthengine-api) (2.3.3)\n",
      "Requirement already satisfied: google-resumable-media>=2.6.0 in /Users/mujae/Desktop/anaconda3/envs/nationalPark/lib/python3.8/site-packages (from google-cloud-storage->earthengine-api) (2.6.0)\n",
      "Requirement already satisfied: google-crc32c<2.0dev,>=1.0 in /Users/mujae/Desktop/anaconda3/envs/nationalPark/lib/python3.8/site-packages (from google-cloud-storage->earthengine-api) (1.1.2)\n",
      "Requirement already satisfied: charset-normalizer<4,>=2 in /Users/mujae/Desktop/anaconda3/envs/nationalPark/lib/python3.8/site-packages (from requests->earthengine-api) (3.3.2)\n",
      "Requirement already satisfied: idna<4,>=2.5 in /Users/mujae/Desktop/anaconda3/envs/nationalPark/lib/python3.8/site-packages (from requests->earthengine-api) (3.4)\n",
      "Requirement already satisfied: urllib3<3,>=1.21.1 in /Users/mujae/Desktop/anaconda3/envs/nationalPark/lib/python3.8/site-packages (from requests->earthengine-api) (2.0.7)\n",
      "Requirement already satisfied: certifi>=2017.4.17 in /Users/mujae/Desktop/anaconda3/envs/nationalPark/lib/python3.8/site-packages (from requests->earthengine-api) (2023.7.22)\n",
      "Requirement already satisfied: googleapis-common-protos<2.0.dev0,>=1.56.2 in /Users/mujae/Desktop/anaconda3/envs/nationalPark/lib/python3.8/site-packages (from google-api-core!=2.0.*,!=2.1.*,!=2.2.*,!=2.3.0,<3.0.0.dev0,>=1.31.5->google-api-python-client>=1.12.1->earthengine-api) (1.61.0)\n",
      "Requirement already satisfied: protobuf!=3.20.0,!=3.20.1,!=4.21.0,!=4.21.1,!=4.21.2,!=4.21.3,!=4.21.4,!=4.21.5,<5.0.0.dev0,>=3.19.5 in /Users/mujae/Desktop/anaconda3/envs/nationalPark/lib/python3.8/site-packages (from google-api-core!=2.0.*,!=2.1.*,!=2.2.*,!=2.3.0,<3.0.0.dev0,>=1.31.5->google-api-python-client>=1.12.1->earthengine-api) (4.24.4)\n",
      "Requirement already satisfied: cffi>=1.0.0 in /Users/mujae/Desktop/anaconda3/envs/nationalPark/lib/python3.8/site-packages (from google-crc32c<2.0dev,>=1.0->google-cloud-storage->earthengine-api) (1.16.0)\n",
      "Requirement already satisfied: pyasn1<0.6.0,>=0.4.6 in /Users/mujae/Desktop/anaconda3/envs/nationalPark/lib/python3.8/site-packages (from pyasn1-modules>=0.2.1->google-auth>=1.4.1->earthengine-api) (0.5.0)\n",
      "Requirement already satisfied: pycparser in /Users/mujae/Desktop/anaconda3/envs/nationalPark/lib/python3.8/site-packages (from cffi>=1.0.0->google-crc32c<2.0dev,>=1.0->google-cloud-storage->earthengine-api) (2.21)\n",
      "Note: you may need to restart the kernel to use updated packages.\n"
     ]
    }
   ],
   "source": [
    "pip install earthengine-api"
   ]
  },
  {
   "cell_type": "code",
   "execution_count": 4,
   "metadata": {},
   "outputs": [
    {
     "name": "stdout",
     "output_type": "stream",
     "text": [
      "Collecting folium\n",
      "  Downloading folium-0.15.0-py2.py3-none-any.whl.metadata (3.4 kB)\n",
      "Collecting branca>=0.6.0 (from folium)\n",
      "  Downloading branca-0.7.0-py3-none-any.whl.metadata (1.5 kB)\n",
      "Requirement already satisfied: jinja2>=2.9 in /Users/mujae/Desktop/anaconda3/envs/nationalPark/lib/python3.8/site-packages (from folium) (3.1.2)\n",
      "Requirement already satisfied: numpy in /Users/mujae/Desktop/anaconda3/envs/nationalPark/lib/python3.8/site-packages (from folium) (1.24.4)\n",
      "Requirement already satisfied: requests in /Users/mujae/Desktop/anaconda3/envs/nationalPark/lib/python3.8/site-packages (from folium) (2.31.0)\n",
      "Requirement already satisfied: MarkupSafe>=2.0 in /Users/mujae/Desktop/anaconda3/envs/nationalPark/lib/python3.8/site-packages (from jinja2>=2.9->folium) (2.1.3)\n",
      "Requirement already satisfied: charset-normalizer<4,>=2 in /Users/mujae/Desktop/anaconda3/envs/nationalPark/lib/python3.8/site-packages (from requests->folium) (3.3.2)\n",
      "Requirement already satisfied: idna<4,>=2.5 in /Users/mujae/Desktop/anaconda3/envs/nationalPark/lib/python3.8/site-packages (from requests->folium) (3.4)\n",
      "Requirement already satisfied: urllib3<3,>=1.21.1 in /Users/mujae/Desktop/anaconda3/envs/nationalPark/lib/python3.8/site-packages (from requests->folium) (2.0.7)\n",
      "Requirement already satisfied: certifi>=2017.4.17 in /Users/mujae/Desktop/anaconda3/envs/nationalPark/lib/python3.8/site-packages (from requests->folium) (2023.7.22)\n",
      "Downloading folium-0.15.0-py2.py3-none-any.whl (100 kB)\n",
      "\u001b[2K   \u001b[90m━━━━━━━━━━━━━━━━━━━━━━━━━━━━━━━━━━━━━━━━\u001b[0m \u001b[32m100.3/100.3 kB\u001b[0m \u001b[31m4.0 MB/s\u001b[0m eta \u001b[36m0:00:00\u001b[0m\n",
      "\u001b[?25hDownloading branca-0.7.0-py3-none-any.whl (25 kB)\n",
      "Installing collected packages: branca, folium\n",
      "Successfully installed branca-0.7.0 folium-0.15.0\n",
      "Note: you may need to restart the kernel to use updated packages.\n"
     ]
    }
   ],
   "source": [
    "pip install folium"
   ]
  },
  {
   "cell_type": "code",
   "execution_count": 2,
   "metadata": {},
   "outputs": [
    {
     "ename": "ModuleNotFoundError",
     "evalue": "No module named 'folium'",
     "output_type": "error",
     "traceback": [
      "\u001b[0;31m---------------------------------------------------------------------------\u001b[0m",
      "\u001b[0;31mModuleNotFoundError\u001b[0m                       Traceback (most recent call last)",
      "\u001b[1;32m/Users/mujae/Desktop/SAR/Sar-Bluecarbon-Service/study/무재/zonalstatistics.ipynb 셀 1\u001b[0m line \u001b[0;36m2\n\u001b[1;32m      <a href='vscode-notebook-cell:/Users/mujae/Desktop/SAR/Sar-Bluecarbon-Service/study/%EB%AC%B4%EC%9E%AC/zonalstatistics.ipynb#W0sZmlsZQ%3D%3D?line=0'>1</a>\u001b[0m \u001b[39mimport\u001b[39;00m \u001b[39mee\u001b[39;00m\n\u001b[0;32m----> <a href='vscode-notebook-cell:/Users/mujae/Desktop/SAR/Sar-Bluecarbon-Service/study/%EB%AC%B4%EC%9E%AC/zonalstatistics.ipynb#W0sZmlsZQ%3D%3D?line=1'>2</a>\u001b[0m \u001b[39mimport\u001b[39;00m \u001b[39mfolium\u001b[39;00m\n\u001b[1;32m      <a href='vscode-notebook-cell:/Users/mujae/Desktop/SAR/Sar-Bluecarbon-Service/study/%EB%AC%B4%EC%9E%AC/zonalstatistics.ipynb#W0sZmlsZQ%3D%3D?line=2'>3</a>\u001b[0m \u001b[39mfrom\u001b[39;00m \u001b[39mfolium\u001b[39;00m \u001b[39mimport\u001b[39;00m plugins\n\u001b[1;32m      <a href='vscode-notebook-cell:/Users/mujae/Desktop/SAR/Sar-Bluecarbon-Service/study/%EB%AC%B4%EC%9E%AC/zonalstatistics.ipynb#W0sZmlsZQ%3D%3D?line=4'>5</a>\u001b[0m \u001b[39m# GEE 초기화\u001b[39;00m\n",
      "\u001b[0;31mModuleNotFoundError\u001b[0m: No module named 'folium'"
     ]
    }
   ],
   "source": [
    "import ee\n",
    "import folium\n",
    "from folium import plugins\n",
    "\n",
    "# GEE 초기화\n",
    "ee.Initialize()\n",
    "\n",
    "# 지정된 영역 정의\n",
    "coordinates = [\n",
    "    [126.43355001359191, 35.84994374524949],\n",
    "    [126.43355001359191, 35.80914407218876],\n",
    "    [126.50708939726752, 35.80914407218876],\n",
    "    [126.50708939726752, 35.84994374524949]\n",
    "]\n",
    "\n",
    "# ee.Geometry 객체로 변환\n",
    "geometry = ee.Geometry.Polygon([coordinates])\n",
    "\n",
    "# Sentinel-2 이미지 컬렉션 필터링\n",
    "sentinel2 = ee.ImageCollection('COPERNICUS/S2') \\\n",
    "    .filterDate('2020-01-01', '2020-12-31') \\\n",
    "    .filterBounds(geometry) \\\n",
    "    .filter(ee.Filter.lt('CLOUDY_PIXEL_PERCENTAGE', 20))  # 구름이 적은 이미지 선택\n",
    "\n",
    "# NDVI 계산 함수 정의\n",
    "def calcNDVI(image):\n",
    "    ndvi = image.normalizedDifference(['B8', 'B4']).rename('NDVI')\n",
    "    return image.addBands(ndvi)\n",
    "\n",
    "# NDVI 적용\n",
    "withNDVI = sentinel2.map(calcNDVI)\n",
    "\n",
    "# NDVI의 평균값 계산\n",
    "meanNDVI = withNDVI.mean().select('NDVI')\n",
    "\n",
    "# Zonal Statistics\n",
    "stats = meanNDVI.reduceRegion(\n",
    "    reducer=ee.Reducer.mean(),\n",
    "    geometry=geometry,\n",
    "    scale=10\n",
    ")\n",
    "\n",
    "# 결과 출력\n",
    "print('Mean NDVI:', stats.getInfo()['NDVI'])\n",
    "\n",
    "# 맵 생성\n",
    "map = folium.Map(location=[35.8295439, 126.4704967], zoom_start=12)\n",
    "\n",
    "# NDVI 레이어 추가\n",
    "map.addLayer(meanNDVI, {'min': 0, 'max': 1, 'palette': ['blue', 'white', 'green']}, 'Mean NDVI')\n",
    "# 영역 레이어 추가\n",
    "folium.GeoJson(geometry.getInfo(), name='geojson').add_to(map)\n",
    "\n",
    "# 맵 출력\n",
    "map.add_child(folium.LayerControl())\n",
    "map"
   ]
  },
  {
   "cell_type": "code",
   "execution_count": null,
   "metadata": {},
   "outputs": [],
   "source": []
  }
 ],
 "metadata": {
  "kernelspec": {
   "display_name": "nationalPark",
   "language": "python",
   "name": "python3"
  },
  "language_info": {
   "codemirror_mode": {
    "name": "ipython",
    "version": 3
   },
   "file_extension": ".py",
   "mimetype": "text/x-python",
   "name": "python",
   "nbconvert_exporter": "python",
   "pygments_lexer": "ipython3",
   "version": "3.8.18"
  },
  "orig_nbformat": 4
 },
 "nbformat": 4,
 "nbformat_minor": 2
}
