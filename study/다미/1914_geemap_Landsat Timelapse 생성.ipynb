{
 "cells": [
  {
   "cell_type": "code",
   "execution_count": 1,
   "id": "5c7fae93-f86f-4a8e-abc7-5e78019e29c9",
   "metadata": {},
   "outputs": [],
   "source": [
    "import ee\n",
    "import geemap"
   ]
  },
  {
   "cell_type": "code",
   "execution_count": 2,
   "id": "41e331be-0669-4df5-83d2-4d6b993dbb98",
   "metadata": {},
   "outputs": [],
   "source": [
    "# Earth Engine 초기화\n",
    "ee.Initialize()"
   ]
  },
  {
   "cell_type": "code",
   "execution_count": 3,
   "id": "4601605a-622d-437e-82ab-0559976a3db1",
   "metadata": {},
   "outputs": [],
   "source": [
    "Map = geemap.Map()"
   ]
  },
  {
   "cell_type": "code",
   "execution_count": 4,
   "id": "d40998ed-0abd-461a-8d21-722e2fc22fb9",
   "metadata": {},
   "outputs": [
    {
     "data": {
      "application/vnd.jupyter.widget-view+json": {
       "model_id": "d922d6230cdd4646b3f89153bcdc9945",
       "version_major": 2,
       "version_minor": 0
      },
      "text/plain": [
       "Map(center=[35.64426512520496, 126.56350573090842], controls=(WidgetControl(options=['position', 'transparent_…"
      ]
     },
     "execution_count": 4,
     "metadata": {},
     "output_type": "execute_result"
    }
   ],
   "source": [
    "roi = Map.user_roi\n",
    "if roi is None:\n",
    "    roi = ee.FeatureCollection(\"WCMC/WDPA/current/polygons\") \\\n",
    "        .filter(ee.Filter.eq(\"NAME\", \"Byeonsanbando\")) \\\n",
    "        .geometry().bounds()\n",
    "\n",
    "Map.addLayer(roi)\n",
    "Map.centerObject(roi, 12)\n",
    "Map"
   ]
  },
  {
   "cell_type": "code",
   "execution_count": 5,
   "id": "3cb4a365-4765-40d9-9bec-383e602a4c19",
   "metadata": {},
   "outputs": [],
   "source": [
    "!pip install ffmpeg-python -q"
   ]
  },
  {
   "cell_type": "code",
   "execution_count": 6,
   "id": "036de3f4-4b77-4e04-a3a9-fa4e4e7a4d60",
   "metadata": {},
   "outputs": [
    {
     "name": "stdout",
     "output_type": "stream",
     "text": [
      "Generating URL...\n",
      "Downloading GIF image from https://earthengine.googleapis.com/v1/projects/earthengine-legacy/videoThumbnails/bd109651c319c8d5999532a83119d0a1-819409f344d5a8845978597b025875df:getPixels\n",
      "Please wait ...\n",
      "The GIF image has been saved to: D:\\GEODATA\\landsat.gif\n",
      "ffmpeg is not installed on your computer.\n",
      "ffmpeg is not installed on your computer.\n"
     ]
    },
    {
     "data": {
      "application/vnd.jupyter.widget-view+json": {
       "model_id": "6bc6187ec89040c09d69ab9f033e1cff",
       "version_major": 2,
       "version_minor": 0
      },
      "text/plain": [
       "Output()"
      ]
     },
     "metadata": {},
     "output_type": "display_data"
    }
   ],
   "source": [
    "timelapse = geemap.landsat_timelapse(\n",
    "    roi,\n",
    "    out_gif='landsat.gif',\n",
    "    start_year=1984,\n",
    "    end_year=2022,\n",
    "    start_date='01-01',\n",
    "    end_date='12-31',\n",
    "    bands=['SWIR1', 'NIR', 'Red'],\n",
    "    frames_per_second=5,\n",
    "    title='Landsat Timelapse',\n",
    "    progress_bar_color='blue',\n",
    "    mp4=True,\n",
    ")\n",
    "geemap.show_image(timelapse)"
   ]
  },
  {
   "cell_type": "code",
   "execution_count": null,
   "id": "5f4bd45b-3077-4d6f-ac38-e622c4efef32",
   "metadata": {},
   "outputs": [],
   "source": []
  }
 ],
 "metadata": {
  "kernelspec": {
   "display_name": "Python 3 (ipykernel)",
   "language": "python",
   "name": "python3"
  },
  "language_info": {
   "codemirror_mode": {
    "name": "ipython",
    "version": 3
   },
   "file_extension": ".py",
   "mimetype": "text/x-python",
   "name": "python",
   "nbconvert_exporter": "python",
   "pygments_lexer": "ipython3",
   "version": "3.9.18"
  }
 },
 "nbformat": 4,
 "nbformat_minor": 5
}
