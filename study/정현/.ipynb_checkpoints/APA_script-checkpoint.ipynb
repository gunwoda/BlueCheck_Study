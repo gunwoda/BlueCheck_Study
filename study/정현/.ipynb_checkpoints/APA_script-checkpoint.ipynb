{
 "cells": [
  {
   "cell_type": "code",
   "execution_count": 1,
   "id": "b1c760d2-8a36-4a39-8cda-276dc3090796",
   "metadata": {
    "tags": []
   },
   "outputs": [],
   "source": [
    "import ee\n",
    "import geemap\n",
    "\n",
    "ee.Initialize()\n"
   ]
  },
  {
   "cell_type": "code",
   "execution_count": 9,
   "id": "dc863493-a980-4f7b-86b3-d47930804e7f",
   "metadata": {
    "tags": []
   },
   "outputs": [
    {
     "data": {
      "text/html": [
       "\n",
       "            <style>\n",
       "                .geemap-dark {\n",
       "                    --jp-widgets-color: white;\n",
       "                    --jp-widgets-label-color: white;\n",
       "                    --jp-ui-font-color1: white;\n",
       "                    --jp-layout-color2: #454545;\n",
       "                    background-color: #383838;\n",
       "                }\n",
       "                    \n",
       "                .geemap-dark .jupyter-button {\n",
       "                    --jp-layout-color3: #383838;\n",
       "                }\n",
       "                \n",
       "                .geemap-colab {\n",
       "                    background-color: var(--colab-primary-surface-color, white);\n",
       "                }\n",
       "                    \n",
       "                .geemap-colab .jupyter-button {\n",
       "                    --jp-layout-color3: var(--colab-primary-surface-color, white);\n",
       "                }\n",
       "            </style>\n",
       "            "
      ],
      "text/plain": [
       "<IPython.core.display.HTML object>"
      ]
     },
     "metadata": {},
     "output_type": "display_data"
    },
    {
     "data": {
      "application/vnd.jupyter.widget-view+json": {
       "model_id": "8cd04f468dc845269c93cc7fcc111672",
       "version_major": 2,
       "version_minor": 0
      },
      "text/plain": [
       "Map(center=[36.75349996375475, 126.52550000000431], controls=(WidgetControl(options=['position', 'transparent_…"
      ]
     },
     "execution_count": 9,
     "metadata": {},
     "output_type": "execute_result"
    }
   ],
   "source": [
    "import ee\n",
    "import geemap\n",
    "\n",
    "# Earth Engine 초기화\n",
    "ee.Initialize()\n",
    "\n",
    "def calculate_moisture(img):\n",
    "    moisture = img.normalizedDifference(['B8A', 'B11'])\n",
    "    return img.addBands(moisture.rename('moisture'))\n",
    "\n",
    "def calculate_NDWI(img):\n",
    "    NDWI = img.normalizedDifference(['B3', 'B8'])\n",
    "    return img.addBands(NDWI.rename('NDWI'))\n",
    "\n",
    "def water_bodies_index(img):\n",
    "    moisture = img.select('moisture')\n",
    "    NDWI = img.select('NDWI')\n",
    "    water_bodies = NDWI.subtract(moisture).divide(NDWI.add(moisture))\n",
    "    return img.addBands(water_bodies.rename('water_bodies'))\n",
    "\n",
    "def calculate_water_plants(img):\n",
    "    water_plants = img.normalizedDifference(['B5', 'B4'])\n",
    "    NIR2 = img.expression(\n",
    "        'B4 + (B11 - B4) * ((832.8 - 664.6) / (1613.7 - 664.6))',\n",
    "        {\n",
    "            'B4': img.select('B4'),\n",
    "            'B11': img.select('B11')\n",
    "        }\n",
    "    )\n",
    "    FAI = img.select('B8').subtract(NIR2)\n",
    "    return img.addBands(water_plants.rename('water_plants')).addBands(FAI.rename('FAI'))\n",
    "\n",
    "def cloud_mask(img):\n",
    "    bRatio = img.normalizedDifference(['B3', 'B4'])\n",
    "    NDGR = img.normalizedDifference(['B3', 'B4'])\n",
    "    mask = bRatio.gt(1).Or(bRatio.gt(0).And(NDGR.gt(0)))\n",
    "    return img.updateMask(mask.Not())\n",
    "\n",
    "def process_image(img):\n",
    "    img = calculate_moisture(img)\n",
    "    img = calculate_NDWI(img)\n",
    "    img = water_bodies_index(img)\n",
    "    img = calculate_water_plants(img)\n",
    "    img = cloud_mask(img)\n",
    "    return img\n",
    "\n",
    "# 신두리사구의 좌표를 사용하여 영역을 정의\n",
    "sinduri_location = ee.Geometry.Rectangle([126.5105, 36.7385, 126.5405, 36.7685])\n",
    "\n",
    "# 예제 이미지에 함수 적용 (이미지 ID는 적절하게 변경해야 함)\n",
    "example_image_collection = ee.ImageCollection('COPERNICUS/S2_SR_HARMONIZED')\\\n",
    "    .filterDate('2020-01-01', '2020-03-30')\\\n",
    "    .filter(ee.Filter.lt('CLOUDY_PIXEL_PERCENTAGE', 10))\\\n",
    "    .filterBounds(sinduri_location)\n",
    "\n",
    "# ImageCollection에서 첫 번째 이미지 선택\n",
    "example_image = example_image_collection.first()  # 첫 번째 이미지를 선택\n",
    "\n",
    "processed_image = process_image(example_image)\n",
    "\n",
    "# 지도 생성 및 시각화\n",
    "Map = geemap.Map()\n",
    "Map.centerObject(sinduri_location, 14)  # 신두리사구를 중심으로 설정\n",
    "\n",
    "# 처리된 이미지를 지도에 추가\n",
    "# NDWI를 사용하여 물과 육지 구분\n",
    "Map.addLayer(processed_image.select('NDWI'), {'palette': ['white', 'blue']}, 'NDWI (Water Bodies)')\n",
    "\n",
    "# FAI를 사용하여 수생식물 탐지\n",
    "Map.addLayer(processed_image.select('FAI'), {'min': 0, 'max': 0.1, 'palette': ['green', 'yellow']}, 'FAI (Floating Algae)')\n",
    "\n",
    "# 지도 보여주기\n",
    "Map"
   ]
  },
  {
   "cell_type": "code",
   "execution_count": 10,
   "id": "4c2a39c0-386a-4276-b695-7d414b35603d",
   "metadata": {},
   "outputs": [
    {
     "data": {
      "text/html": [
       "\n",
       "            <style>\n",
       "                .geemap-dark {\n",
       "                    --jp-widgets-color: white;\n",
       "                    --jp-widgets-label-color: white;\n",
       "                    --jp-ui-font-color1: white;\n",
       "                    --jp-layout-color2: #454545;\n",
       "                    background-color: #383838;\n",
       "                }\n",
       "                    \n",
       "                .geemap-dark .jupyter-button {\n",
       "                    --jp-layout-color3: #383838;\n",
       "                }\n",
       "                \n",
       "                .geemap-colab {\n",
       "                    background-color: var(--colab-primary-surface-color, white);\n",
       "                }\n",
       "                    \n",
       "                .geemap-colab .jupyter-button {\n",
       "                    --jp-layout-color3: var(--colab-primary-surface-color, white);\n",
       "                }\n",
       "            </style>\n",
       "            "
      ],
      "text/plain": [
       "<IPython.core.display.HTML object>"
      ]
     },
     "metadata": {},
     "output_type": "display_data"
    },
    {
     "data": {
      "application/vnd.jupyter.widget-view+json": {
       "model_id": "295efc782f65473cbc8fc73c3808b470",
       "version_major": 2,
       "version_minor": 0
      },
      "text/plain": [
       "Map(center=[36.75349996375475, 126.52550000000431], controls=(WidgetControl(options=['position', 'transparent_…"
      ]
     },
     "execution_count": 10,
     "metadata": {},
     "output_type": "execute_result"
    }
   ],
   "source": [
    "import ee\n",
    "import geemap\n",
    "\n",
    "# Earth Engine 초기화\n",
    "ee.Initialize()\n",
    "\n",
    "# [이전에 정의한 이미지 처리 함수들을 여기에 포함]\n",
    "\n"
   ]
  },
  {
   "cell_type": "code",
   "execution_count": null,
   "id": "d288f64c-6ffa-4080-b619-ed2940da3733",
   "metadata": {},
   "outputs": [],
   "source": []
  }
 ],
 "metadata": {
  "kernelspec": {
   "display_name": "ee",
   "language": "python",
   "name": "ee"
  },
  "language_info": {
   "codemirror_mode": {
    "name": "ipython",
    "version": 3
   },
   "file_extension": ".py",
   "mimetype": "text/x-python",
   "name": "python",
   "nbconvert_exporter": "python",
   "pygments_lexer": "ipython3",
   "version": "3.9.18"
  }
 },
 "nbformat": 4,
 "nbformat_minor": 5
}
