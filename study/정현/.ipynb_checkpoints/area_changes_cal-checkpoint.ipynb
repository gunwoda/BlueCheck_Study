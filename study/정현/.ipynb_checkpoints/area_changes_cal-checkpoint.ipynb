{
 "cells": [
  {
   "cell_type": "code",
   "execution_count": 1,
   "metadata": {},
   "outputs": [],
   "source": [
    "import ee\n",
    "import pandas as pd\n",
    "from prophet import Prophet\n",
    "import streamlit as st\n",
    "import plotly.express as px\n",
    "import plotly.graph_objs as go\n",
    "from plotly.subplots import make_subplots\n",
    "import folium\n",
    "import geemap"
   ]
  },
  {
   "cell_type": "code",
   "execution_count": 2,
   "metadata": {},
   "outputs": [
    {
     "data": {
      "text/html": [
       "\n",
       "            <style>\n",
       "                .geemap-dark {\n",
       "                    --jp-widgets-color: white;\n",
       "                    --jp-widgets-label-color: white;\n",
       "                    --jp-ui-font-color1: white;\n",
       "                    --jp-layout-color2: #454545;\n",
       "                    background-color: #383838;\n",
       "                }\n",
       "                    \n",
       "                .geemap-dark .jupyter-button {\n",
       "                    --jp-layout-color3: #383838;\n",
       "                }\n",
       "                \n",
       "                .geemap-colab {\n",
       "                    background-color: var(--colab-primary-surface-color, white);\n",
       "                }\n",
       "                    \n",
       "                .geemap-colab .jupyter-button {\n",
       "                    --jp-layout-color3: var(--colab-primary-surface-color, white);\n",
       "                }\n",
       "            </style>\n",
       "            "
      ],
      "text/plain": [
       "<IPython.core.display.HTML object>"
      ]
     },
     "metadata": {},
     "output_type": "display_data"
    }
   ],
   "source": [
    "ee.Initialize()\n",
    "start_date = '2021-01-01'\n",
    "end_date = '2021-01-31'"
   ]
  },
  {
   "cell_type": "code",
   "execution_count": 3,
   "metadata": {},
   "outputs": [
    {
     "data": {
      "text/html": [
       "\n",
       "            <style>\n",
       "                .geemap-dark {\n",
       "                    --jp-widgets-color: white;\n",
       "                    --jp-widgets-label-color: white;\n",
       "                    --jp-ui-font-color1: white;\n",
       "                    --jp-layout-color2: #454545;\n",
       "                    background-color: #383838;\n",
       "                }\n",
       "                    \n",
       "                .geemap-dark .jupyter-button {\n",
       "                    --jp-layout-color3: #383838;\n",
       "                }\n",
       "                \n",
       "                .geemap-colab {\n",
       "                    background-color: var(--colab-primary-surface-color, white);\n",
       "                }\n",
       "                    \n",
       "                .geemap-colab .jupyter-button {\n",
       "                    --jp-layout-color3: var(--colab-primary-surface-color, white);\n",
       "                }\n",
       "            </style>\n",
       "            "
      ],
      "text/plain": [
       "<IPython.core.display.HTML object>"
      ]
     },
     "metadata": {},
     "output_type": "display_data"
    }
   ],
   "source": [
    "\n",
    "def calculateFAI(aoi, start_date, end_date):\n",
    "    # Applying filtering and cloud masking to Sentinel-2 Image Collection\n",
    "    sentinel2 = ee.ImageCollection('COPERNICUS/S2_SR_HARMONIZED') \\\n",
    "            .filterBounds(aoi) \\\n",
    "            .filterDate(start_date, end_date)\\\n",
    "            .filter(ee.Filter.lt('CLOUDY_PIXEL_PERCENTAGE', 30))\n",
    "    # NDVI calculation and time series data frame generation functions\n",
    "    def calculate_fai(image):\n",
    "        date = ee.Date(image.get('system:time_start')).format('YYYY-MM-dd')\n",
    "        lambda_nir = 832.8\n",
    "        lambda_red = 664.6\n",
    "        lambda_swir1 = 1613.7\n",
    "\n",
    "        # Selecting vand.\n",
    "        red = image.select('B4')   # Red vand\n",
    "        nir = image.select('B8')   # NIR vand\n",
    "        swir1 = image.select('B11') # SWIR1 vand\n",
    "        # Calculate FAI\n",
    "        fai = nir.subtract(red).add(\n",
    "            swir1.subtract(red).multiply(\n",
    "                (lambda_nir - lambda_red) / (lambda_swir1 - lambda_red)\n",
    "            )\n",
    "        ).rename('FAI')\n",
    "        mean_fai = fai.reduceRegion(\n",
    "            reducer=ee.Reducer.mean(),\n",
    "            geometry=aoi,\n",
    "            scale=10  \n",
    "        ).get('FAI')\n",
    "        return ee.Feature(None, {'ds': date, 'y': mean_fai})\n",
    "    \n",
    "    \n",
    "def process_image(img):\n",
    "    img = calculateFAI(img, start_date, end_date)\n",
    "\n",
    "    # img = cloud_mask(img)  # 구름 마스킹은 현재 주석 처리되어 있습니다.\n",
    "    return img"
   ]
  },
  {
   "cell_type": "code",
   "execution_count": 4,
   "metadata": {},
   "outputs": [
    {
     "data": {
      "text/html": [
       "\n",
       "            <style>\n",
       "                .geemap-dark {\n",
       "                    --jp-widgets-color: white;\n",
       "                    --jp-widgets-label-color: white;\n",
       "                    --jp-ui-font-color1: white;\n",
       "                    --jp-layout-color2: #454545;\n",
       "                    background-color: #383838;\n",
       "                }\n",
       "                    \n",
       "                .geemap-dark .jupyter-button {\n",
       "                    --jp-layout-color3: #383838;\n",
       "                }\n",
       "                \n",
       "                .geemap-colab {\n",
       "                    background-color: var(--colab-primary-surface-color, white);\n",
       "                }\n",
       "                    \n",
       "                .geemap-colab .jupyter-button {\n",
       "                    --jp-layout-color3: var(--colab-primary-surface-color, white);\n",
       "                }\n",
       "            </style>\n",
       "            "
      ],
      "text/plain": [
       "<IPython.core.display.HTML object>"
      ]
     },
     "metadata": {},
     "output_type": "display_data"
    },
    {
     "data": {
      "application/vnd.jupyter.widget-view+json": {
       "model_id": "e5d08efade134cb6950ae91f28201ef1",
       "version_major": 2,
       "version_minor": 0
      },
      "text/plain": [
       "Map(center=[35.05795764611553, 128.9470480000001], controls=(WidgetControl(options=['position', 'transparent_b…"
      ]
     },
     "execution_count": 4,
     "metadata": {},
     "output_type": "execute_result"
    }
   ],
   "source": [
    "aoi = ee.Geometry.Polygon([\n",
    "    [128.913574, 35.024936],\n",
    "    [128.913574, 35.090979],\n",
    "    [128.980522, 35.090979],\n",
    "    [128.980522, 35.024936],\n",
    "    [128.913574, 35.024936]\n",
    "])\n",
    "# 예제 이미지에 함수 적용 (이미지 ID는 적절하게 변경해야 함)\n",
    "example_image_collection = ee.ImageCollection('COPERNICUS/S2_SR_HARMONIZED')\\\n",
    "    .filterDate('2020-01-01', '2020-03-30')\\\n",
    "    .filter(ee.Filter.lt('CLOUDY_PIXEL_PERCENTAGE', 10))\\\n",
    "    .filterBounds(aoi)\n",
    "\n",
    "# ImageCollection에서 첫 번째 이미지 선택\n",
    "example_image = example_image_collection.first()  # 첫 번째 이미지를 선택\n",
    "\n",
    "\n",
    "\n",
    "processed_image = process_image(example_image)\n",
    "# 지도 생성 및 시각화\n",
    "# # 처리된 이미지에 수역 마스킹 적용\n",
    "# processed_image = cloud_mask(processed_image)\n",
    "\n",
    "Map = geemap.Map()\n",
    "Map.centerObject(aoi, 14)  # 신두리사구를 중심으로 설정\n",
    "\n",
    "\n",
    "# 처리된 이미지를 지도에 추가 (수중식물 지수 사용) - 수상만 표시\n",
    "uvi_params = {\n",
    "    'bands': ['FAI'],  # UVI 밴드만 사용\n",
    "    'min': -0.4, # 수중식물 지수의 최소값\n",
    "    'max': 1,   # 수중식물 지수의 최대값\n",
    "    # 'palette': ['purple', 'blue', 'green', 'yellow', 'red']  # 색상 팔레트 설정\n",
    "    'palette': ['red','yellow','green','blue','purple']  # 색상 팔레트 설정\n",
    "}\n",
    "Map.addLayer(processed_image, uvi_params, 'Processed Image (FAI)')\n",
    "\n",
    "Map"
   ]
  },
  {
   "cell_type": "code",
   "execution_count": null,
   "metadata": {},
   "outputs": [],
   "source": []
  },
  {
   "cell_type": "code",
   "execution_count": null,
   "metadata": {},
   "outputs": [],
   "source": []
  }
 ],
 "metadata": {
  "kernelspec": {
   "display_name": "llama2",
   "language": "python",
   "name": "llama2"
  },
  "language_info": {
   "codemirror_mode": {
    "name": "ipython",
    "version": 3
   },
   "file_extension": ".py",
   "mimetype": "text/x-python",
   "name": "python",
   "nbconvert_exporter": "python",
   "pygments_lexer": "ipython3",
   "version": "3.9.18"
  },
  "orig_nbformat": 4
 },
 "nbformat": 4,
 "nbformat_minor": 2
}
