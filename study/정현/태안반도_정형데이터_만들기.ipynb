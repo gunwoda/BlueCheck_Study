{
 "cells": [
  {
   "cell_type": "code",
   "execution_count": 2,
   "id": "465dbacf-c46f-491b-b433-34633acfe5b9",
   "metadata": {},
   "outputs": [
    {
     "data": {
      "text/html": [
       "\n",
       "            <style>\n",
       "                .geemap-dark {\n",
       "                    --jp-widgets-color: white;\n",
       "                    --jp-widgets-label-color: white;\n",
       "                    --jp-ui-font-color1: white;\n",
       "                    --jp-layout-color2: #454545;\n",
       "                    background-color: #383838;\n",
       "                }\n",
       "                    \n",
       "                .geemap-dark .jupyter-button {\n",
       "                    --jp-layout-color3: #383838;\n",
       "                }\n",
       "                \n",
       "                .geemap-colab {\n",
       "                    background-color: var(--colab-primary-surface-color, white);\n",
       "                }\n",
       "                    \n",
       "                .geemap-colab .jupyter-button {\n",
       "                    --jp-layout-color3: var(--colab-primary-surface-color, white);\n",
       "                }\n",
       "            </style>\n",
       "            "
      ],
      "text/plain": [
       "<IPython.core.display.HTML object>"
      ]
     },
     "metadata": {},
     "output_type": "display_data"
    }
   ],
   "source": [
    "import ee\n",
    "import geemap\n"
   ]
  },
  {
   "cell_type": "code",
   "execution_count": 3,
   "id": "491f7e59-fe18-4b64-aaa5-fb75e97630fb",
   "metadata": {},
   "outputs": [
    {
     "data": {
      "text/html": [
       "\n",
       "            <style>\n",
       "                .geemap-dark {\n",
       "                    --jp-widgets-color: white;\n",
       "                    --jp-widgets-label-color: white;\n",
       "                    --jp-ui-font-color1: white;\n",
       "                    --jp-layout-color2: #454545;\n",
       "                    background-color: #383838;\n",
       "                }\n",
       "                    \n",
       "                .geemap-dark .jupyter-button {\n",
       "                    --jp-layout-color3: #383838;\n",
       "                }\n",
       "                \n",
       "                .geemap-colab {\n",
       "                    background-color: var(--colab-primary-surface-color, white);\n",
       "                }\n",
       "                    \n",
       "                .geemap-colab .jupyter-button {\n",
       "                    --jp-layout-color3: var(--colab-primary-surface-color, white);\n",
       "                }\n",
       "            </style>\n",
       "            "
      ],
      "text/plain": [
       "<IPython.core.display.HTML object>"
      ]
     },
     "metadata": {},
     "output_type": "display_data"
    },
    {
     "data": {
      "text/html": [
       "<p>To authorize access needed by Earth Engine, open the following\n",
       "        URL in a web browser and follow the instructions:</p>\n",
       "        <p><a href=https://code.earthengine.google.com/client-auth?scopes=https%3A//www.googleapis.com/auth/earthengine%20https%3A//www.googleapis.com/auth/devstorage.full_control&request_id=5cVyF30YjzuS7TmrMvQ-_B1rtQ0lWX34H0Wkdionq84&tc=ihQTI1xLPrI7ibEOjiE6vn-HYEDsQSY5TQugeXgG6iQ&cc=z0gwrjJjOxXWTgHebWQa6w5ZjlSRCmpDek2ENSh_2uo>https://code.earthengine.google.com/client-auth?scopes=https%3A//www.googleapis.com/auth/earthengine%20https%3A//www.googleapis.com/auth/devstorage.full_control&request_id=5cVyF30YjzuS7TmrMvQ-_B1rtQ0lWX34H0Wkdionq84&tc=ihQTI1xLPrI7ibEOjiE6vn-HYEDsQSY5TQugeXgG6iQ&cc=z0gwrjJjOxXWTgHebWQa6w5ZjlSRCmpDek2ENSh_2uo</a></p>\n",
       "        <p>The authorization workflow will generate a code, which you should paste in the box below.</p>\n",
       "        "
      ],
      "text/plain": [
       "<IPython.core.display.HTML object>"
      ]
     },
     "metadata": {},
     "output_type": "display_data"
    }
   ],
   "source": [
    "ee.Authenticate()\n",
    "\n"
   ]
  },
  {
   "cell_type": "code",
   "execution_count": null,
   "id": "6e69ba1b-8c4b-48ae-841f-4b389a359344",
   "metadata": {},
   "outputs": [],
   "source": [
    "# 초기화\n",
    "ee.Initialize()\n",
    "\n",
    "def get_sentinel1_data(start_date, end_date, geometry):\n",
    "    collection = (ee.ImageCollection('COPERNICUS/S1_GRD')\n",
    "                  .filterBounds(geometry)\n",
    "                  .filterDate(ee.Date(start_date), ee.Date(end_date))\n",
    "                  .filter(ee.Filter.listContains('transmitterReceiverPolarisation', 'VV'))\n",
    "                  .filter(ee.Filter.listContains('transmitterReceiverPolarisation', 'VH'))\n",
    "                  .filter(ee.Filter.eq('instrumentMode', 'IW'))\n",
    "                  .select(['VV', 'VH']))\n",
    "\n",
    "    def add_vv_vh_diff(image):\n",
    "        vv_vh_diff = image.select('VV').subtract(image.select('VH')).rename('VV-VH')\n",
    "        return image.addBands(vv_vh_diff)\n",
    "\n",
    "    collection_with_diff = collection.map(add_vv_vh_diff)\n",
    "    return collection_with_diff\n",
    "\n",
    "def get_wdpa_aoi(region_name):\n",
    "    wdpa = ee.FeatureCollection(\"WCMC/WDPA/current/polygons\")\n",
    "    region = wdpa.filter(ee.Filter.eq('NAME', region_name))\n",
    "    if region.size().getInfo() == 0:\n",
    "        raise ValueError(f\"No regions found with the name {region_name}\")\n",
    "    return region.geometry()\n",
    "\n",
    "def export_to_csv(image, aoi, filename):\n",
    "    task = ee.batch.Export.table.toDrive(\n",
    "        collection=ee.FeatureCollection(image.reduceRegion(\n",
    "            reducer=ee.Reducer.toList(),\n",
    "            geometry=aoi,\n",
    "            scale=100\n",
    "        ).map(lambda key, value: ee.Feature(None, {key: value}))),\n",
    "        description=filename,\n",
    "        fileFormat='CSV'\n",
    "    )\n",
    "    task.start()\n",
    "    print(f\"Exporting {filename} to Google Drive...\")\n",
    "\n",
    "def main(region_name='태안해안', start_date='2020-01-01', end_date='2020-01-31'):\n",
    "    try:\n",
    "        aoi = get_wdpa_aoi(region_name)\n",
    "    except ValueError as e:\n",
    "        print(e)\n",
    "        return\n",
    "\n",
    "    sentinel_data = get_sentinel1_data(start_date, end_date, aoi)\n",
    "    resampled_image = sentinel_data.first().resample('bilinear').reproject(\n",
    "        crs=sentinel_data.first().projection(), scale=100\n",
    "    )\n",
    "    export_to_csv(resampled_image, aoi, 'sentinel1_data.csv')\n",
    "\n",
    "if __name__ == '__main__':\n",
    "    main('태안해안', '2020-01-01', '2020-01-31')\n"
   ]
  }
 ],
 "metadata": {
  "kernelspec": {
   "display_name": "ee",
   "language": "python",
   "name": "python3"
  },
  "language_info": {
   "codemirror_mode": {
    "name": "ipython",
    "version": 3
   },
   "file_extension": ".py",
   "mimetype": "text/x-python",
   "name": "python",
   "nbconvert_exporter": "python",
   "pygments_lexer": "ipython3",
   "version": "3.9.18"
  }
 },
 "nbformat": 4,
 "nbformat_minor": 5
}
