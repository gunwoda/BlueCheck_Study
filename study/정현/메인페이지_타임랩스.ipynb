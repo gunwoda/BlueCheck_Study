{
 "cells": [
  {
   "cell_type": "code",
   "execution_count": null,
   "id": "465dbacf-c46f-491b-b433-34633acfe5b9",
   "metadata": {},
   "outputs": [],
   "source": [
    "import ee\n",
    "import geemap\n"
   ]
  },
  {
   "cell_type": "code",
   "execution_count": null,
   "id": "491f7e59-fe18-4b64-aaa5-fb75e97630fb",
   "metadata": {},
   "outputs": [],
   "source": [
    "ee.Authenticate()\n",
    "\n"
   ]
  },
  {
   "cell_type": "code",
   "execution_count": 13,
   "id": "6e69ba1b-8c4b-48ae-841f-4b389a359344",
   "metadata": {},
   "outputs": [
    {
     "data": {
      "text/html": [
       "\n",
       "            <style>\n",
       "                .geemap-dark {\n",
       "                    --jp-widgets-color: white;\n",
       "                    --jp-widgets-label-color: white;\n",
       "                    --jp-ui-font-color1: white;\n",
       "                    --jp-layout-color2: #454545;\n",
       "                    background-color: #383838;\n",
       "                }\n",
       "                    \n",
       "                .geemap-dark .jupyter-button {\n",
       "                    --jp-layout-color3: #383838;\n",
       "                }\n",
       "                \n",
       "                .geemap-colab {\n",
       "                    background-color: var(--colab-primary-surface-color, white);\n",
       "                }\n",
       "                    \n",
       "                .geemap-colab .jupyter-button {\n",
       "                    --jp-layout-color3: var(--colab-primary-surface-color, white);\n",
       "                }\n",
       "            </style>\n",
       "            "
      ],
      "text/plain": [
       "<IPython.core.display.HTML object>"
      ]
     },
     "metadata": {},
     "output_type": "display_data"
    },
    {
     "name": "stdout",
     "output_type": "stream",
     "text": [
      "Generating URL...\n",
      "Downloading GIF image from https://earthengine.googleapis.com/v1/projects/earthengine-legacy/videoThumbnails/3ddd8ca269a7fe749122f290c5d4b002-f1c6896a5ba3405405b527ed2cf469a7:getPixels\n",
      "Please wait ...\n",
      "The GIF image has been saved to: /Users/o_jungii/Desktop/pythonws/bigleader/project/Sar-Bluecarbon-Service/study/정현/south_korea_sentinel1_timelapse.gif\n"
     ]
    }
   ],
   "source": [
    "import geemap\n",
    "import ee\n",
    "import time\n",
    "\n",
    "# Initialize the Earth Engine module.\n",
    "ee.Initialize()\n",
    "\n",
    "# Define the area of interest with South Korea's approximate bounding box.\n",
    "roi = ee.Geometry.Rectangle([124.608, 33.110, 130.924, 38.613])\n",
    "\n",
    "# Set the output gif file name.\n",
    "output_gif = 'south_korea_sentinel1_timelapse.gif'\n",
    "\n",
    "# Define the start and end dates for the timelapse.\n",
    "start_date = '20140101'  # Sentinel-1 데이터가 시작되는 2014년 1월 1일\n",
    "end_date = datetime.now().strftime('%Y%m%d')  # 오늘 날짜\n",
    "\n",
    "# Set the frequency for the timelapse.\n",
    "frequency = 'quarter'\n",
    "\n",
    "# Visualization parameters for RGB display.\n",
    "vis_params = {\n",
    "    'bands': ['VV'],  # 이 예에서는 'VV'와 'VH'를 RGB로 매핑합니다.\n",
    "    'min': -20,  # 최소 dB 값\n",
    "    'max': 0,  # 최대 dB 값\n",
    "}\n",
    "\n",
    "\n",
    "# Generate a timelapse.\n",
    "timelapse = geemap.sentinel1_timelapse(\n",
    "    roi=roi,\n",
    "    out_gif=output_gif,\n",
    "    start_year=int(start_date[:4]),\n",
    "    end_year=int(end_date[:4]),\n",
    "    start_date=f\"{start_date[4:6]}-{start_date[6:]}\",\n",
    "    end_date=f\"{end_date[4:6]}-{end_date[6:]}\",\n",
    "    frequency=frequency,\n",
    "    vis_params=vis_params,\n",
    "    dimensions=768,\n",
    "    frames_per_second=1,\n",
    "    crs='EPSG:3857',\n",
    "    overlay_data=None,\n",
    "    overlay_color='blue',\n",
    "    overlay_width=1,\n",
    "    overlay_opacity=1.0,\n",
    "    title=None,\n",
    "    title_xy=('2%', '90%'),\n",
    "    add_text=True,\n",
    "    text_xy=('2%', '2%'),\n",
    "    text_sequence=None,\n",
    "    font_type='arial.ttf',\n",
    "    font_size=20,\n",
    "    font_color='white',\n",
    "    add_progress_bar=True,\n",
    "    progress_bar_color='blue',\n",
    "    progress_bar_height=5,\n",
    "    add_colorbar=False,\n",
    "    colorbar_width=6.0,\n",
    "    colorbar_height=0.4,\n",
    "    colorbar_label=None,\n",
    "    colorbar_label_size=12,\n",
    "    colorbar_label_weight='normal',\n",
    "    colorbar_tick_size=10,\n",
    "    colorbar_bg_color=None,\n",
    "    colorbar_orientation='horizontal',\n",
    "    colorbar_dpi='figure',\n",
    "    colorbar_xy=None,\n",
    "    colorbar_size=(300, 300),\n",
    "    loop=0, mp4=False,\n",
    "    fading=False,\n",
    "    orbitProperties_pass='DESCENDING'\n",
    ")\n"
   ]
  },
  {
   "cell_type": "code",
   "execution_count": null,
   "id": "117f5649",
   "metadata": {},
   "outputs": [],
   "source": []
  }
 ],
 "metadata": {
  "kernelspec": {
   "display_name": "ee",
   "language": "python",
   "name": "python3"
  },
  "language_info": {
   "codemirror_mode": {
    "name": "ipython",
    "version": 3
   },
   "file_extension": ".py",
   "mimetype": "text/x-python",
   "name": "python",
   "nbconvert_exporter": "python",
   "pygments_lexer": "ipython3",
   "version": "3.9.18"
  }
 },
 "nbformat": 4,
 "nbformat_minor": 5
}
