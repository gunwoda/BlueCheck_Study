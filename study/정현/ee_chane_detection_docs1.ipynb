{
 "cells": [
  {
   "cell_type": "code",
   "execution_count": 1,
   "id": "28f10a47-7adb-46bd-b1b2-d1d60f57d246",
   "metadata": {},
   "outputs": [
    {
     "data": {
      "text/html": [
       "<p>To authorize access needed by Earth Engine, open the following\n",
       "        URL in a web browser and follow the instructions:</p>\n",
       "        <p><a href=https://code.earthengine.google.com/client-auth?scopes=https%3A//www.googleapis.com/auth/earthengine%20https%3A//www.googleapis.com/auth/devstorage.full_control&request_id=uFUTb-9DnXNIymIPuqVt7F9sswrtco6MU4ZKeobJO20&tc=Mt_qWTRTsxVeklBZqFU6dIWbvj_XSQvCpToyD7Wzedg&cc=ww7IMi355ZmxWNvzeSKvIXQSenWSlF2QAUnDVocWDT4>https://code.earthengine.google.com/client-auth?scopes=https%3A//www.googleapis.com/auth/earthengine%20https%3A//www.googleapis.com/auth/devstorage.full_control&request_id=uFUTb-9DnXNIymIPuqVt7F9sswrtco6MU4ZKeobJO20&tc=Mt_qWTRTsxVeklBZqFU6dIWbvj_XSQvCpToyD7Wzedg&cc=ww7IMi355ZmxWNvzeSKvIXQSenWSlF2QAUnDVocWDT4</a></p>\n",
       "        <p>The authorization workflow will generate a code, which you should paste in the box below.</p>\n",
       "        "
      ],
      "text/plain": [
       "<IPython.core.display.HTML object>"
      ]
     },
     "metadata": {},
     "output_type": "display_data"
    },
    {
     "name": "stdin",
     "output_type": "stream",
     "text": [
      "Enter verification code:  4/1AfJohXnaANNe4eSjro8oIXKeuo45U8E3hPzAxRLDsOLZ3UfzcPZnwE9ldzw\n"
     ]
    },
    {
     "name": "stdout",
     "output_type": "stream",
     "text": [
      "\n",
      "Successfully saved authorization token.\n"
     ]
    }
   ],
   "source": [
    "import ee\n",
    " \n",
    "# Trigger the authentication flow.\n",
    "ee.Authenticate()\n",
    " \n",
    "# Initialize the library.\n",
    "ee.Initialize()"
   ]
  },
  {
   "cell_type": "code",
   "execution_count": 2,
   "id": "9d82a05e-1676-4851-8a29-ab5ec6c904a3",
   "metadata": {},
   "outputs": [],
   "source": [
    "import matplotlib.pyplot as plt\n",
    "import numpy as np\n",
    "from scipy.stats import norm, gamma, f, chi2\n",
    "import IPython.display as disp\n",
    "%matplotlib inline"
   ]
  },
  {
   "cell_type": "code",
   "execution_count": 24,
   "id": "9603020d-f625-4c6c-aa33-7c7b518a74c4",
   "metadata": {},
   "outputs": [],
   "source": [
    "# Import the Folium library.\n",
    "import folium\n",
    "\n",
    "# Define a method for displaying Earth Engine image tiles to folium map.\n",
    "def add_ee_layer(self, ee_image_object, vis_params, name):\n",
    "  map_id_dict = ee.Image(ee_image_object).getMapId(vis_params)\n",
    "  folium.raster_layers.TileLayer(\n",
    "    tiles = map_id_dict['tile_fetcher'].url_format,\n",
    "    attr = 'Map Data &copy; <a href=\"https://earthengine.google.com/\">Google Earth Engine</a>',\n",
    "    name = name,\n",
    "    overlay = True,\n",
    "    control = True\n",
    "  ).add_to(self)\n",
    "\n",
    "# Add EE drawing method to folium.\n",
    "folium.Map.add_ee_layer = add_ee_layer"
   ]
  },
  {
   "cell_type": "code",
   "execution_count": 25,
   "id": "72243fb3-7357-4eae-aa3a-5801eeac28b6",
   "metadata": {},
   "outputs": [],
   "source": [
    "geoJSON = {\n",
    "  \"type\": \"FeatureCollection\",\n",
    "  \"features\": [\n",
    "    {\n",
    "      \"type\": \"Feature\",\n",
    "      \"properties\": {},\n",
    "      \"geometry\": {\n",
    "        \"coordinates\": [\n",
    "          [\n",
    "            [\n",
    "              126.08666136066807,\n",
    "              36.99228276922011\n",
    "            ],\n",
    "            [\n",
    "              126.08666136066807,\n",
    "              36.34841437714208\n",
    "            ],\n",
    "            [\n",
    "              126.48029398359762,\n",
    "              36.34841437714208\n",
    "            ],\n",
    "            [\n",
    "              126.48029398359762,\n",
    "              36.99228276922011\n",
    "            ],\n",
    "            [\n",
    "              126.08666136066807,\n",
    "              36.99228276922011\n",
    "            ]\n",
    "          ]\n",
    "        ],\n",
    "        \"type\": \"Polygon\"\n",
    "      }\n",
    "    }\n",
    "  ]\n",
    "}"
   ]
  },
  {
   "cell_type": "code",
   "execution_count": 26,
   "id": "db32923b-8af8-4060-a543-7855e61a4a69",
   "metadata": {},
   "outputs": [],
   "source": [
    "coords = geoJSON['features'][0]['geometry']['coordinates']\n",
    "aoi = ee.Geometry.Polygon(coords)"
   ]
  },
  {
   "cell_type": "code",
   "execution_count": 27,
   "id": "a83275a2-c0b7-47e8-9809-4bb8ef4d0736",
   "metadata": {},
   "outputs": [],
   "source": [
    "# # Create the map object.\n",
    "# m = folium.Map(location=location, zoom_start=12)\n",
    "\n",
    "# # AOI 정의\n",
    "# AOI = m.user_roi\n",
    "# if AOI is None:\n",
    "#     AOI = ee.FeatureCollection(\"WCMC/WDPA/current/polygons\") \\\n",
    "#         .filter(ee.Filter.eq(\"NAME\", \"Sinduri Sand Dune Water\")) \\\n",
    "#         .geometry().bounds()"
   ]
  },
  {
   "cell_type": "code",
   "execution_count": 28,
   "id": "ae16d9ff-c01b-44e8-b053-3c2f782e9bb0",
   "metadata": {},
   "outputs": [],
   "source": [
    "ffa_db = ee.Image(ee.ImageCollection('COPERNICUS/S1_GRD') \n",
    "                       .filterBounds(aoi) \n",
    "                       .filterDate(ee.Date('2020-08-01'), ee.Date('2020-08-31')) \n",
    "                       .first() \n",
    "                       .clip(aoi))\n",
    "ffa_fl = ee.Image(ee.ImageCollection('COPERNICUS/S1_GRD_FLOAT') \n",
    "                       .filterBounds(aoi) \n",
    "                       .filterDate(ee.Date('2020-08-01'), ee.Date('2020-08-31')) \n",
    "                       .first() \n",
    "                       .clip(aoi))"
   ]
  },
  {
   "cell_type": "code",
   "execution_count": 29,
   "id": "31df9436-87e6-4896-b57b-d21c70af4e84",
   "metadata": {},
   "outputs": [
    {
     "data": {
      "text/plain": [
       "['VV', 'VH', 'angle']"
      ]
     },
     "execution_count": 29,
     "metadata": {},
     "output_type": "execute_result"
    }
   ],
   "source": [
    "ffa_db.bandNames().getInfo()"
   ]
  },
  {
   "cell_type": "code",
   "execution_count": 32,
   "id": "37416112-da94-4fab-afad-01c84706b9ea",
   "metadata": {},
   "outputs": [
    {
     "data": {
      "text/html": [
       "<img src=\"https://earthengine.googleapis.com/v1/projects/earthengine-legacy/thumbnails/6d0607c3e960da3710d2268fdd0c6082-f8aeecf801a4b5e9ab0dc4aba633e628:getPixels\" width=\"800\"/>"
      ],
      "text/plain": [
       "<IPython.core.display.Image object>"
      ]
     },
     "execution_count": 32,
     "metadata": {},
     "output_type": "execute_result"
    }
   ],
   "source": [
    "# 관심 영역 정의 (예: 포인트 또는 다각형)\n",
    "geometry = ee.Geometry.Point(-122.082, 37.42)\n",
    "\n",
    "# 이미지 썸네일 생성\n",
    "url = ffa_db.select('VV').getThumbURL({\n",
    "    'min': -20,\n",
    "    'max': 0,\n",
    "    'region': geometry,  # 관심 영역 설정\n",
    "    'scale': 10  # 이미지 해상도 조절\n",
    "})\n",
    "\n",
    "# 이미지를 표시\n",
    "from IPython.display import Image\n",
    "Image(url=url, width=800)"
   ]
  },
  {
   "cell_type": "code",
   "execution_count": 33,
   "id": "8099f43d-0de8-4d3f-a0fc-50406d70a32e",
   "metadata": {},
   "outputs": [
    {
     "data": {
      "text/html": [
       "<div style=\"width:100%;\"><div style=\"position:relative;width:100%;height:0;padding-bottom:60%;\"><span style=\"color:#565656\">Make this Notebook Trusted to load map: File -> Trust Notebook</span><iframe srcdoc=\"&lt;!DOCTYPE html&gt;\n",
       "&lt;html&gt;\n",
       "&lt;head&gt;\n",
       "    \n",
       "    &lt;meta http-equiv=&quot;content-type&quot; content=&quot;text/html; charset=UTF-8&quot; /&gt;\n",
       "    \n",
       "        &lt;script&gt;\n",
       "            L_NO_TOUCH = false;\n",
       "            L_DISABLE_3D = false;\n",
       "        &lt;/script&gt;\n",
       "    \n",
       "    &lt;style&gt;html, body {width: 100%;height: 100%;margin: 0;padding: 0;}&lt;/style&gt;\n",
       "    &lt;style&gt;#map {position:absolute;top:0;bottom:0;right:0;left:0;}&lt;/style&gt;\n",
       "    &lt;script src=&quot;https://cdn.jsdelivr.net/npm/leaflet@1.9.3/dist/leaflet.js&quot;&gt;&lt;/script&gt;\n",
       "    &lt;script src=&quot;https://code.jquery.com/jquery-1.12.4.min.js&quot;&gt;&lt;/script&gt;\n",
       "    &lt;script src=&quot;https://cdn.jsdelivr.net/npm/bootstrap@5.2.2/dist/js/bootstrap.bundle.min.js&quot;&gt;&lt;/script&gt;\n",
       "    &lt;script src=&quot;https://cdnjs.cloudflare.com/ajax/libs/Leaflet.awesome-markers/2.0.2/leaflet.awesome-markers.js&quot;&gt;&lt;/script&gt;\n",
       "    &lt;link rel=&quot;stylesheet&quot; href=&quot;https://cdn.jsdelivr.net/npm/leaflet@1.9.3/dist/leaflet.css&quot;/&gt;\n",
       "    &lt;link rel=&quot;stylesheet&quot; href=&quot;https://cdn.jsdelivr.net/npm/bootstrap@5.2.2/dist/css/bootstrap.min.css&quot;/&gt;\n",
       "    &lt;link rel=&quot;stylesheet&quot; href=&quot;https://netdna.bootstrapcdn.com/bootstrap/3.0.0/css/bootstrap.min.css&quot;/&gt;\n",
       "    &lt;link rel=&quot;stylesheet&quot; href=&quot;https://cdn.jsdelivr.net/npm/@fortawesome/fontawesome-free@6.2.0/css/all.min.css&quot;/&gt;\n",
       "    &lt;link rel=&quot;stylesheet&quot; href=&quot;https://cdnjs.cloudflare.com/ajax/libs/Leaflet.awesome-markers/2.0.2/leaflet.awesome-markers.css&quot;/&gt;\n",
       "    &lt;link rel=&quot;stylesheet&quot; href=&quot;https://cdn.jsdelivr.net/gh/python-visualization/folium/folium/templates/leaflet.awesome.rotate.min.css&quot;/&gt;\n",
       "    \n",
       "            &lt;meta name=&quot;viewport&quot; content=&quot;width=device-width,\n",
       "                initial-scale=1.0, maximum-scale=1.0, user-scalable=no&quot; /&gt;\n",
       "            &lt;style&gt;\n",
       "                #map_ff9242d60af005126f084039cd3bc793 {\n",
       "                    position: relative;\n",
       "                    width: 100.0%;\n",
       "                    height: 100.0%;\n",
       "                    left: 0.0%;\n",
       "                    top: 0.0%;\n",
       "                }\n",
       "                .leaflet-container { font-size: 1rem; }\n",
       "            &lt;/style&gt;\n",
       "        \n",
       "&lt;/head&gt;\n",
       "&lt;body&gt;\n",
       "    \n",
       "    \n",
       "            &lt;div class=&quot;folium-map&quot; id=&quot;map_ff9242d60af005126f084039cd3bc793&quot; &gt;&lt;/div&gt;\n",
       "        \n",
       "&lt;/body&gt;\n",
       "&lt;script&gt;\n",
       "    \n",
       "    \n",
       "            var map_ff9242d60af005126f084039cd3bc793 = L.map(\n",
       "                &quot;map_ff9242d60af005126f084039cd3bc793&quot;,\n",
       "                {\n",
       "                    center: [36.67006153885272, 126.28347767213234],\n",
       "                    crs: L.CRS.EPSG3857,\n",
       "                    zoom: 12,\n",
       "                    zoomControl: true,\n",
       "                    preferCanvas: false,\n",
       "                }\n",
       "            );\n",
       "\n",
       "            \n",
       "\n",
       "        \n",
       "    \n",
       "            var tile_layer_2eeba713a271e7b65e129e4212a80ecb = L.tileLayer(\n",
       "                &quot;https://{s}.tile.openstreetmap.org/{z}/{x}/{y}.png&quot;,\n",
       "                {&quot;attribution&quot;: &quot;Data by \\u0026copy; \\u003ca target=\\&quot;_blank\\&quot; href=\\&quot;http://openstreetmap.org\\&quot;\\u003eOpenStreetMap\\u003c/a\\u003e, under \\u003ca target=\\&quot;_blank\\&quot; href=\\&quot;http://www.openstreetmap.org/copyright\\&quot;\\u003eODbL\\u003c/a\\u003e.&quot;, &quot;detectRetina&quot;: false, &quot;maxNativeZoom&quot;: 18, &quot;maxZoom&quot;: 18, &quot;minZoom&quot;: 0, &quot;noWrap&quot;: false, &quot;opacity&quot;: 1, &quot;subdomains&quot;: &quot;abc&quot;, &quot;tms&quot;: false}\n",
       "            ).addTo(map_ff9242d60af005126f084039cd3bc793);\n",
       "        \n",
       "    \n",
       "            var tile_layer_6b5b303bc8bb87376831f5433db4b1fa = L.tileLayer(\n",
       "                &quot;https://earthengine.googleapis.com/v1/projects/earthengine-legacy/maps/599adc01b323a9bcd3d6a6937b8dbc23-315fea7a68da81911a4c80d4518db3d9/tiles/{z}/{x}/{y}&quot;,\n",
       "                {&quot;attribution&quot;: &quot;Map Data \\u0026copy; \\u003ca href=\\&quot;https://earthengine.google.com/\\&quot;\\u003eGoogle Earth Engine\\u003c/a\\u003e&quot;, &quot;detectRetina&quot;: false, &quot;maxNativeZoom&quot;: 18, &quot;maxZoom&quot;: 18, &quot;minZoom&quot;: 0, &quot;noWrap&quot;: false, &quot;opacity&quot;: 1, &quot;subdomains&quot;: &quot;abc&quot;, &quot;tms&quot;: false}\n",
       "            ).addTo(map_ff9242d60af005126f084039cd3bc793);\n",
       "        \n",
       "    \n",
       "            var layer_control_3d3ead47c8f5175d8b312b229e130b11 = {\n",
       "                base_layers : {\n",
       "                    &quot;openstreetmap&quot; : tile_layer_2eeba713a271e7b65e129e4212a80ecb,\n",
       "                },\n",
       "                overlays :  {\n",
       "                    &quot;FFA&quot; : tile_layer_6b5b303bc8bb87376831f5433db4b1fa,\n",
       "                },\n",
       "            };\n",
       "            L.control.layers(\n",
       "                layer_control_3d3ead47c8f5175d8b312b229e130b11.base_layers,\n",
       "                layer_control_3d3ead47c8f5175d8b312b229e130b11.overlays,\n",
       "                {&quot;autoZIndex&quot;: true, &quot;collapsed&quot;: true, &quot;position&quot;: &quot;topright&quot;}\n",
       "            ).addTo(map_ff9242d60af005126f084039cd3bc793);\n",
       "        \n",
       "&lt;/script&gt;\n",
       "&lt;/html&gt;\" style=\"position:absolute;width:100%;height:100%;left:0;top:0;border:none !important;\" allowfullscreen webkitallowfullscreen mozallowfullscreen></iframe></div></div>"
      ],
      "text/plain": [
       "<folium.folium.Map at 0x177b6af10>"
      ]
     },
     "metadata": {},
     "output_type": "display_data"
    }
   ],
   "source": [
    "location = aoi.centroid().coordinates().getInfo()[::-1]\n",
    "\n",
    "# Make an RGB color composite image (VV,VH,VV/VH).\n",
    "rgb = ee.Image.rgb(ffa_db.select('VV'),\n",
    "                   ffa_db.select('VH'),\n",
    "                   ffa_db.select('VV').divide(ffa_db.select('VH')))\n",
    "\n",
    "# Create the map object.\n",
    "m = folium.Map(location=location, zoom_start=12)\n",
    "\n",
    "# Add the S1 rgb composite to the map object.\n",
    "m.add_ee_layer(rgb, {'min': [-20, -20, 0], 'max': [0, 0, 2]}, 'FFA')\n",
    "\n",
    "# Add a layer control panel to the map.\n",
    "m.add_child(folium.LayerControl())\n",
    "\n",
    "# Display the map.\n",
    "display(m)"
   ]
  },
  {
   "cell_type": "code",
   "execution_count": 34,
   "id": "6b7154cc-1037-4df3-a280-a8c44ee9fb1d",
   "metadata": {},
   "outputs": [],
   "source": [
    "geoJSON = {\n",
    "  \"type\": \"FeatureCollection\",\n",
    "  \"features\": [\n",
    "    {\n",
    "      \"type\": \"Feature\",\n",
    "      \"properties\": {},\n",
    "      \"geometry\": {\n",
    "        \"coordinates\": [\n",
    "          [\n",
    "            [\n",
    "              126.08666136066807,\n",
    "              36.99228276922011\n",
    "            ],\n",
    "            [\n",
    "              126.08666136066807,\n",
    "              36.34841437714208\n",
    "            ],\n",
    "            [\n",
    "              126.48029398359762,\n",
    "              36.34841437714208\n",
    "            ],\n",
    "            [\n",
    "              126.48029398359762,\n",
    "              36.99228276922011\n",
    "            ],\n",
    "            [\n",
    "              126.08666136066807,\n",
    "              36.99228276922011\n",
    "            ]\n",
    "          ]\n",
    "        ],\n",
    "        \"type\": \"Polygon\"\n",
    "      }\n",
    "    }\n",
    "  ]\n",
    "}\n",
    "coords = geoJSON['features'][0]['geometry']['coordinates']\n",
    "aoi_sub = ee.Geometry.Polygon(coords)"
   ]
  },
  {
   "cell_type": "code",
   "execution_count": 38,
   "id": "35e0ba7b-a1bc-472f-8864-b0e634469028",
   "metadata": {},
   "outputs": [],
   "source": [
    "# 옵션 1: maxPixels 한도 증가\n",
    "hist = ffa_fl.select('VV').reduceRegion(\n",
    "    ee.Reducer.fixedHistogram(0, 0.5, 500),\n",
    "    aoi_sub,\n",
    "    maxPixels=30e6  # 또는 25158660보다 큰 다른 숫자\n",
    ").get('VV').getInfo()\n",
    "\n",
    "mean = ffa_fl.select('VV').reduceRegion(\n",
    "    ee.Reducer.mean(), aoi_sub, maxPixels=30e6 # 또는 25158660보다 큰 다른 숫자\n",
    ").get('VV').getInfo()\n",
    "variance = ffa_fl.select('VV').reduceRegion(\n",
    "    ee.Reducer.variance(), aoi_sub, maxPixels=30e6  # 또는 25158660보다 큰 다른 숫자\n",
    ").get('VV').getInfo()"
   ]
  },
  {
   "cell_type": "code",
   "execution_count": 39,
   "id": "a6e0897f-5906-4644-8c28-a72611e3328a",
   "metadata": {},
   "outputs": [
    {
     "data": {
      "image/png": "[encoded data removed]",
      "text/plain": [
       "<Figure size 640x480 with 1 Axes>"
      ]
     },
     "metadata": {},
     "output_type": "display_data"
    }
   ],
   "source": [
    "a = np.array(hist)\n",
    "x = a[:, 0]                 # array of bucket edge positions\n",
    "y = a[:, 1]/np.sum(a[:, 1]) # normalized array of bucket contents\n",
    "plt.grid()\n",
    "plt.plot(x, y, '.')\n",
    "plt.show()"
   ]
  },
  {
   "cell_type": "code",
   "execution_count": 40,
   "id": "7c690a96-0a4e-4bca-95ac-e6a6e1ae3629",
   "metadata": {},
   "outputs": [
    {
     "data": {
      "image/png": "[encoded data removed]",
      "text/plain": [
       "<Figure size 640x480 with 1 Axes>"
      ]
     },
     "metadata": {},
     "output_type": "display_data"
    }
   ],
   "source": [
    "alpha = 5\n",
    "beta = mean/alpha\n",
    "plt.grid()\n",
    "plt.plot(x, y, '.', label='data')\n",
    "plt.plot(x, gamma.pdf(x, alpha, 0, beta)/1000, '-r', label='gamma')\n",
    "plt.legend()\n",
    "plt.show()"
   ]
  },
  {
   "cell_type": "code",
   "execution_count": 41,
   "id": "54b3a5ea-7e96-499c-a43a-2f68e1efb2f4",
   "metadata": {},
   "outputs": [
    {
     "data": {
      "image/png": "[encoded data removed]",
      "text/plain": [
       "<Figure size 640x480 with 1 Axes>"
      ]
     },
     "metadata": {},
     "output_type": "display_data"
    }
   ],
   "source": [
    "def X(n):\n",
    "    return np.sum(np.cos(4*np.pi*(np.random.rand(n)-0.5)))/np.sqrt(n/2)\n",
    "\n",
    "n= 10000\n",
    "Xs = [X(n) for i in range(10000)]\n",
    "y, x = np.histogram(Xs, 100, range=[-5,5])\n",
    "plt.plot(x[:-1], y/1000, 'b.', label='simulated data')\n",
    "plt.plot(x, norm.pdf(x), '-r', label='normal distribution')\n",
    "plt.grid()\n",
    "plt.legend()\n",
    "plt.show()"
   ]
  },
  {
   "cell_type": "markdown",
   "id": "bfb00c50-1ff4-4131-aa8c-e8d3f02b0805",
   "metadata": {},
   "source": [
    "## 2부\n",
    "https://developers.google.com/earth-engine/tutorials/community/detecting-changes-in-sentinel-1-imagery-pt-2"
   ]
  },
  {
   "cell_type": "code",
   "execution_count": 42,
   "id": "4a1e2192-4005-4c30-b06f-da7c47eeda35",
   "metadata": {},
   "outputs": [],
   "source": [
    "# Initialize the library.\n",
    "ee.Initialize()"
   ]
  },
  {
   "cell_type": "code",
   "execution_count": 43,
   "id": "310a30e6-fcc0-4872-8bf1-df4382c3e3d4",
   "metadata": {},
   "outputs": [],
   "source": [
    "import matplotlib.pyplot as plt\n",
    "import numpy as np\n",
    "from scipy.stats import norm, gamma, f, chi2\n",
    "import IPython.display as disp\n",
    "%matplotlib inline"
   ]
  },
  {
   "cell_type": "code",
   "execution_count": 44,
   "id": "4529d721-82ef-460c-8212-5e00a87203d5",
   "metadata": {},
   "outputs": [],
   "source": [
    "# Import the Folium library.\n",
    "import folium\n",
    "\n",
    "# Define a method for displaying Earth Engine image tiles to folium map.\n",
    "def add_ee_layer(self, ee_image_object, vis_params, name):\n",
    "  map_id_dict = ee.Image(ee_image_object).getMapId(vis_params)\n",
    "  folium.raster_layers.TileLayer(\n",
    "    tiles = map_id_dict['tile_fetcher'].url_format,\n",
    "    attr = 'Map Data &copy; <a href=\"https://earthengine.google.com/\">Google Earth Engine</a>',\n",
    "    name = name,\n",
    "    overlay = True,\n",
    "    control = True\n",
    "  ).add_to(self)\n",
    "\n",
    "# Add EE drawing method to folium.\n",
    "folium.Map.add_ee_layer = add_ee_layer"
   ]
  },
  {
   "cell_type": "code",
   "execution_count": 45,
   "id": "153ccbcd-413e-4937-9208-7ab76169882c",
   "metadata": {},
   "outputs": [],
   "source": [
    "geoJSON = {\n",
    "  \"type\": \"FeatureCollection\",\n",
    "  \"features\": [\n",
    "    {\n",
    "      \"type\": \"Feature\",\n",
    "      \"properties\": {},\n",
    "      \"geometry\": {\n",
    "        \"type\": \"Polygon\",\n",
    "        \"coordinates\": [\n",
    "          [\n",
    "            [\n",
    "              8.473892211914062,\n",
    "              49.98081240937428\n",
    "            ],\n",
    "            [\n",
    "              8.658599853515625,\n",
    "              49.98081240937428\n",
    "            ],\n",
    "            [\n",
    "              8.658599853515625,\n",
    "              50.06066538593667\n",
    "            ],\n",
    "            [\n",
    "              8.473892211914062,\n",
    "              50.06066538593667\n",
    "            ],\n",
    "            [\n",
    "              8.473892211914062,\n",
    "              49.98081240937428\n",
    "            ]\n",
    "          ]\n",
    "        ]\n",
    "      }\n",
    "    }\n",
    "  ]\n",
    "}\n",
    "coords = geoJSON['features'][0]['geometry']['coordinates']\n",
    "aoi = ee.Geometry.Polygon(coords)\n",
    "geoJSON = {\n",
    "  \"type\": \"FeatureCollection\",\n",
    "  \"features\": [\n",
    "    {\n",
    "      \"type\": \"Feature\",\n",
    "      \"properties\": {},\n",
    "      \"geometry\": {\n",
    "        \"type\": \"Polygon\",\n",
    "        \"coordinates\": [\n",
    "          [\n",
    "            [\n",
    "              8.534317016601562,\n",
    "              50.021637833966786\n",
    "            ],\n",
    "            [\n",
    "              8.530540466308594,\n",
    "              49.99780882512238\n",
    "            ],\n",
    "            [\n",
    "              8.564186096191406,\n",
    "              50.00663576154257\n",
    "            ],\n",
    "            [\n",
    "              8.578605651855469,\n",
    "              50.019431940583104\n",
    "            ],\n",
    "            [\n",
    "              8.534317016601562,\n",
    "              50.021637833966786\n",
    "            ]\n",
    "          ]\n",
    "        ]\n",
    "      }\n",
    "    }\n",
    "  ]\n",
    "}\n",
    "coords = geoJSON['features'][0]['geometry']['coordinates']\n",
    "aoi_sub = ee.Geometry.Polygon(coords)"
   ]
  },
  {
   "cell_type": "code",
   "execution_count": 46,
   "id": "52f7b37f-9546-4d24-80d3-7b90762c4fb4",
   "metadata": {},
   "outputs": [],
   "source": [
    "im_coll = (ee.ImageCollection('COPERNICUS/S1_GRD_FLOAT')\n",
    "                .filterBounds(aoi)\n",
    "                .filterDate(ee.Date('2020-08-01'),ee.Date('2020-08-31'))\n",
    "                .filter(ee.Filter.eq('orbitProperties_pass', 'ASCENDING'))\n",
    "                .filter(ee.Filter.eq('relativeOrbitNumber_start', 15))\n",
    "                .sort('system:time_start'))"
   ]
  },
  {
   "cell_type": "code",
   "execution_count": 47,
   "id": "9ad7f670-fd31-4e01-9752-9bb56ee0e462",
   "metadata": {},
   "outputs": [
    {
     "data": {
      "text/plain": [
       "['08/05/20', '08/11/20', '08/17/20', '08/23/20', '08/29/20']"
      ]
     },
     "execution_count": 47,
     "metadata": {},
     "output_type": "execute_result"
    }
   ],
   "source": [
    "import time\n",
    "acq_times = im_coll.aggregate_array('system:time_start').getInfo()\n",
    "[time.strftime('%x', time.gmtime(acq_time/1000)) for acq_time in acq_times]"
   ]
  },
  {
   "cell_type": "code",
   "execution_count": 48,
   "id": "7692e03a-07c4-4245-9c26-9245679357c0",
   "metadata": {},
   "outputs": [],
   "source": [
    "im_list = im_coll.toList(im_coll.size())\n",
    "im1 = ee.Image(im_list.get(0)).select('VV').clip(aoi_sub)\n",
    "im2 = ee.Image(im_list.get(1)).select('VV').clip(aoi_sub)"
   ]
  },
  {
   "cell_type": "code",
   "execution_count": 49,
   "id": "025bcf2c-f74d-4c2b-8b71-963ee6739066",
   "metadata": {},
   "outputs": [
    {
     "data": {
      "text/html": [
       "<img src=\"https://earthengine.googleapis.com/v1/projects/earthengine-legacy/thumbnails/1c8b72c605131d7031c14ed9617170ed-bc0c9d69521510ba71c0586831e60075:getPixels\" width=\"800\"/>"
      ],
      "text/plain": [
       "<IPython.core.display.Image object>"
      ]
     },
     "execution_count": 49,
     "metadata": {},
     "output_type": "execute_result"
    }
   ],
   "source": [
    "ratio = im1.divide(im2)\n",
    "url = ratio.getThumbURL({'min': 0, 'max': 10})\n",
    "disp.Image(url=url, width=800)"
   ]
  },
  {
   "cell_type": "code",
   "execution_count": null,
   "id": "740bbdd4-84e1-489a-bec5-d17c7c970182",
   "metadata": {},
   "outputs": [],
   "source": []
  }
 ],
 "metadata": {
  "kernelspec": {
   "display_name": "ee",
   "language": "python",
   "name": "ee"
  },
  "language_info": {
   "codemirror_mode": {
    "name": "ipython",
    "version": 3
   },
   "file_extension": ".py",
   "mimetype": "text/x-python",
   "name": "python",
   "nbconvert_exporter": "python",
   "pygments_lexer": "ipython3",
   "version": "3.9.18"
  }
 },
 "nbformat": 4,
 "nbformat_minor": 5
}
